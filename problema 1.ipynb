{
 "cells": [
  {
   "cell_type": "markdown",
   "metadata": {},
   "source": [
    "# *infinite-range-hopping Bose-Hubbard model*"
   ]
  },
  {
   "cell_type": "markdown",
   "metadata": {},
   "source": [
    "$$\n",
    "\\rho = \\rho(\\beta,\\mu) = \\frac{\\sum_{n=1}^\\infty = ne^{\\beta[(\\mu+\\lambda-1)n-\\lambda n^{2}]}}{\\sum_{n=0}^\\infty = e^{\\beta[(\\mu+\\lambda-1)n-\\lambda n^{2}]}}\n",
    "$$"
   ]
  },
  {
   "cell_type": "markdown",
   "metadata": {},
   "source": [
    "## *Desarrollo*"
   ]
  },
  {
   "cell_type": "markdown",
   "metadata": {},
   "source": [
    "### Dependencias"
   ]
  },
  {
   "cell_type": "code",
   "execution_count": 1,
   "metadata": {
    "collapsed": true
   },
   "outputs": [],
   "source": [
    "import math\n",
    "import matplotlib.pyplot as plt\n",
    "import time"
   ]
  },
  {
   "cell_type": "markdown",
   "metadata": {},
   "source": [
    "### Valores de *µ*"
   ]
  },
  {
   "cell_type": "markdown",
   "metadata": {},
   "source": [
    "$$\n",
    " \\rho(\\beta,\\mu) = \\left\\{\n",
    "       \\begin{array}{ll}\n",
    "     0      & \\mathrm{si\\ \\quad} \\mu < 1 \\\\\n",
    "     K & \\mathrm{si\\ \\quad} 2(K - 1) \\Lambda +1 < \\mu < 2K \\Lambda +1 \\\\\n",
    "       \\end{array}\n",
    "     \\right.\n",
    "$$"
   ]
  },
  {
   "cell_type": "code",
   "execution_count": 2,
   "metadata": {
    "collapsed": true
   },
   "outputs": [],
   "source": [
    "def rangoK(k, lam):\n",
    "    limInf = 2*(k-1)*lam+1\n",
    "    limSup = 2*k*lam+1\n",
    "    return (limInf, limSup)"
   ]
  },
  {
   "cell_type": "markdown",
   "metadata": {},
   "source": [
    "\\begin{equation}\n",
    "\\sum_{n=1}^\\infty = ne^{\\beta[(\\mu+\\Lambda-1)n-\\Lambda n^{2}]}\n",
    "\\end{equation}"
   ]
  },
  {
   "cell_type": "code",
   "execution_count": 3,
   "metadata": {
    "collapsed": true
   },
   "outputs": [],
   "source": [
    "def f1(b , u , lam, N):\n",
    "    sumatoria = 0\n",
    "    for n in range(1, N):\n",
    "        sumatoria+=n*math.exp(b*((u+lam-1)*n-lam*math.pow(n, 2)))\n",
    "    return sumatoria"
   ]
  },
  {
   "cell_type": "markdown",
   "metadata": {},
   "source": [
    "\\begin{equation}\n",
    "\\sum_{n=0}^\\infty = e^{\\beta[(\\mu+\\Lambda-1)n-\\Lambda n^{2}]}\n",
    "\\end{equation}"
   ]
  },
  {
   "cell_type": "code",
   "execution_count": 4,
   "metadata": {
    "collapsed": false
   },
   "outputs": [],
   "source": [
    "def f2(b , u , lam, N):\n",
    "    sumatoria = 0.0\n",
    "    for n in range(N):\n",
    "        resul = math.exp(b*((u+lam-1)*n-lam*math.pow(n, 2)))\n",
    "        sumatoria+= resul\n",
    "    return sumatoria"
   ]
  },
  {
   "cell_type": "markdown",
   "metadata": {},
   "source": [
    "### Parámetros formula"
   ]
  },
  {
   "cell_type": "code",
   "execution_count": 5,
   "metadata": {
    "collapsed": false,
    "scrolled": true
   },
   "outputs": [],
   "source": [
    "B = 2  #Temperatura inversa\n",
    "U = 0.5\n",
    "lam =  3\n",
    "N = 10\n",
    "K = 0.3 # Entero positivo"
   ]
  },
  {
   "cell_type": "markdown",
   "metadata": {},
   "source": [
    "### Obtención de *ρ* y *µ*"
   ]
  },
  {
   "cell_type": "code",
   "execution_count": 6,
   "metadata": {
    "collapsed": false
   },
   "outputs": [
    {
     "name": "stdout",
     "output_type": "stream",
     "text": [
      "Magnitud vector x:  14\n",
      "Magnitud vector y:  14\n",
      "Tiempo ejecución:  0.007000446319580078 ms\n"
     ]
    }
   ],
   "source": [
    "start_time = time.time() #Para medir el tiempo de ejecución\n",
    "\n",
    "numero_segmentaciones = 14.0\n",
    "u = -2\n",
    "x = []\n",
    "y = []\n",
    "\n",
    "for i in range(int(numero_segmentaciones)):\n",
    "    u += 14/numero_segmentaciones\n",
    "    try:\n",
    "        ro =  f1(B, u, lam, N)/f2(B, u, lam, N)\n",
    "        x.append(u)\n",
    "        y.append(ro)\n",
    "    except ZeroDivisionError:\n",
    "        print('Division por cero')\n",
    "        break\n",
    "    except OverflowError:\n",
    "        print('overflow')\n",
    "        break\n",
    "        \n",
    "print(\"Magnitud vector x: \",str(len(x)))\n",
    "print(\"Magnitud vector y: \",str(len(y)))\n",
    "\n",
    "print (\"Tiempo ejecución: \",time.time() - start_time,\"ms\")"
   ]
  },
  {
   "cell_type": "markdown",
   "metadata": {},
   "source": [
    "### Graficador"
   ]
  },
  {
   "cell_type": "code",
   "execution_count": 7,
   "metadata": {
    "collapsed": false
   },
   "outputs": [],
   "source": [
    "def grafica(x, y, foto = False): \n",
    "    if (len(x)!=0 or len(y)!=0):\n",
    "        plt.plot(x, y, 'b.')\n",
    "        limInfx=min(x)-1\n",
    "        limSupx=max(x)+1\n",
    "        limInfy=min(y)-1\n",
    "        limSupy=max(y)+1\n",
    "        plt.axis([limInfx, limSupx, limInfy, limSupy]) #Longitud ejes x,y\n",
    "        plt.title('ρ vs μ')\n",
    "        plt.ylabel('ρ')\n",
    "        plt.xlabel('μ')\n",
    "\n",
    "        #define plot size in inches (width, height) & resolution(DPI)\n",
    "        #plt.figure(figsize=(20, 10), dpi=100)\n",
    "        #plt.figure(figsize=(2,2))\n",
    "        if foto ==True:\n",
    "            fig = plt.gcf()\n",
    "            fig.set_size_inches(18.5, 10.5)\n",
    "            fig.savefig('test2png.png', dpi=100)\n",
    "        plt.show()\n",
    "    else:\n",
    "        print(\"Vector vacío\")\n",
    "    "
   ]
  },
  {
   "cell_type": "code",
   "execution_count": 8,
   "metadata": {
    "collapsed": false
   },
   "outputs": [
    {
     "data": {
      "image/png": "[encoded data removed]",
      "text/plain": [
       "<matplotlib.figure.Figure at 0x783ecb0>"
      ]
     },
     "metadata": {},
     "output_type": "display_data"
    }
   ],
   "source": [
    "grafica(x, y)"
   ]
  },
  {
   "cell_type": "code",
   "execution_count": 9,
   "metadata": {
    "collapsed": true
   },
   "outputs": [],
   "source": [
    "def arreglos_B_XY(B, u, lam, N):\n",
    "    numero_segmentaciones = 50.0\n",
    "    u = -10\n",
    "    x = []\n",
    "    y = []\n",
    "\n",
    "    for i in range(int(numero_segmentaciones)):\n",
    "        u += 30/numero_segmentaciones\n",
    "        try:\n",
    "            ro =  f1(B, u, lam, N)/f2(B, u, lam, N)\n",
    "            x.append(u)\n",
    "            y.append(ro)\n",
    "        except ZeroDivisionError:\n",
    "            print('Division por cero')\n",
    "            break\n",
    "        except OverflowError:\n",
    "            print('overflow')\n",
    "            break\n",
    "    return x,y"
   ]
  },
  {
   "cell_type": "code",
   "execution_count": 10,
   "metadata": {
    "collapsed": false
   },
   "outputs": [
    {
     "data": {
      "image/png": "[encoded data removed]",
      "text/plain": [
       "<matplotlib.figure.Figure at 0x783edf0>"
      ]
     },
     "metadata": {},
     "output_type": "display_data"
    }
   ],
   "source": [
    "B = 2  #Temperatura inversa\n",
    "U = 0.5\n",
    "lam =  3\n",
    "N = 10\n",
    "K = 0.3 # Entero positivo\n",
    "\n",
    "x1, y1 = arreglos_B_XY(2, U, lam, N)\n",
    "grafica(x1, y1, True)"
   ]
  },
  {
   "cell_type": "code",
   "execution_count": 11,
   "metadata": {
    "collapsed": false
   },
   "outputs": [
    {
     "data": {
      "image/png": "[encoded data removed]",
      "text/plain": [
       "<matplotlib.figure.Figure at 0x7a59050>"
      ]
     },
     "metadata": {},
     "output_type": "display_data"
    }
   ],
   "source": [
    "x1, y1 = arreglos_B_XY(15, U, lam, N)\n",
    "grafica(x1, y1, True)"
   ]
  },
  {
   "cell_type": "code",
   "execution_count": null,
   "metadata": {
    "collapsed": true
   },
   "outputs": [],
   "source": []
  },
  {
   "cell_type": "markdown",
   "metadata": {},
   "source": [
    "# Verificador "
   ]
  },
  {
   "cell_type": "markdown",
   "metadata": {},
   "source": [
    "$$\n",
    "\\frac{\\mu + \\lambda - 1}{2 \\lambda} \n",
    "$$"
   ]
  },
  {
   "cell_type": "code",
   "execution_count": 12,
   "metadata": {
    "collapsed": true
   },
   "outputs": [],
   "source": [
    "from tempfile import NamedTemporaryFile\n",
    "\n",
    "VIDEO_TAG = \"\"\"<video controls>\n",
    " <source src=\"data:video/x-m4v;base64,{0}\" type=\"video/mp4\">\n",
    " Your browser does not support the video tag.\n",
    "</video>\"\"\"\n",
    "\n",
    "def anim_to_html(anim):\n",
    "    if not hasattr(anim, '_encoded_video'):\n",
    "        with NamedTemporaryFile(suffix='.mp4') as f:\n",
    "            anim.save(f.name, fps=20, extra_args=['-vcodec', 'libx264'])\n",
    "            video = open(f.name, \"rb\").read()\n",
    "        anim._encoded_video = video.encode(\"base64\")\n",
    "    \n",
    "    return VIDEO_TAG.format(anim._encoded_video)"
   ]
  },
  {
   "cell_type": "code",
   "execution_count": 13,
   "metadata": {
    "collapsed": false
   },
   "outputs": [
    {
     "data": {
      "image/png": "[encoded data removed]",
      "text/plain": [
       "<matplotlib.figure.Figure at 0x7b0b730>"
      ]
     },
     "metadata": {},
     "output_type": "display_data"
    },
    {
     "name": "stderr",
     "output_type": "stream",
     "text": [
      "C:\\ProgramData\\Anaconda3\\lib\\site-packages\\matplotlib\\animation.py:971: UserWarning: MovieWriter ffmpeg unavailable\n",
      "  warnings.warn(\"MovieWriter %s unavailable\" % writer)\n"
     ]
    },
    {
     "ename": "ValueError",
     "evalue": "Cannot save animation: no writers are available. Please install ffmpeg to save animations.",
     "output_type": "error",
     "traceback": [
      "\u001b[0;31m---------------------------------------------------------------------------\u001b[0m",
      "\u001b[0;31mIndexError\u001b[0m                                Traceback (most recent call last)",
      "\u001b[0;32mC:\\ProgramData\\Anaconda3\\lib\\site-packages\\matplotlib\\animation.py\u001b[0m in \u001b[0;36msave\u001b[0;34m(self, filename, writer, fps, dpi, codec, bitrate, extra_args, metadata, extra_anim, savefig_kwargs)\u001b[0m\n\u001b[1;32m    973\u001b[0m                 \u001b[1;32mtry\u001b[0m\u001b[1;33m:\u001b[0m\u001b[1;33m\u001b[0m\u001b[0m\n\u001b[0;32m--> 974\u001b[0;31m                     writer = writers[writers.list()[0]](fps, codec, bitrate,\n\u001b[0m\u001b[1;32m    975\u001b[0m                                                         \u001b[0mextra_args\u001b[0m\u001b[1;33m=\u001b[0m\u001b[0mextra_args\u001b[0m\u001b[1;33m,\u001b[0m\u001b[1;33m\u001b[0m\u001b[0m\n",
      "\u001b[0;31mIndexError\u001b[0m: list index out of range",
      "\nDuring handling of the above exception, another exception occurred:\n",
      "\u001b[0;31mValueError\u001b[0m                                Traceback (most recent call last)",
      "\u001b[0;32m<ipython-input-13-02b5a3e36c1f>\u001b[0m in \u001b[0;36m<module>\u001b[0;34m()\u001b[0m\n\u001b[1;32m      6\u001b[0m \u001b[1;33m\u001b[0m\u001b[0m\n\u001b[1;32m      7\u001b[0m \u001b[1;32mimport\u001b[0m \u001b[0mProblema1\u001b[0m\u001b[1;33m\u001b[0m\u001b[0m\n\u001b[0;32m----> 8\u001b[0;31m \u001b[0mdisplay_animation\u001b[0m\u001b[1;33m(\u001b[0m\u001b[0mProblema1\u001b[0m\u001b[1;33m.\u001b[0m\u001b[0manim\u001b[0m\u001b[1;33m)\u001b[0m\u001b[1;33m\u001b[0m\u001b[0m\n\u001b[0m",
      "\u001b[0;32m<ipython-input-13-02b5a3e36c1f>\u001b[0m in \u001b[0;36mdisplay_animation\u001b[0;34m(anim)\u001b[0m\n\u001b[1;32m      3\u001b[0m \u001b[1;32mdef\u001b[0m \u001b[0mdisplay_animation\u001b[0m\u001b[1;33m(\u001b[0m\u001b[0manim\u001b[0m\u001b[1;33m)\u001b[0m\u001b[1;33m:\u001b[0m\u001b[1;33m\u001b[0m\u001b[0m\n\u001b[1;32m      4\u001b[0m     \u001b[0mplt\u001b[0m\u001b[1;33m.\u001b[0m\u001b[0mclose\u001b[0m\u001b[1;33m(\u001b[0m\u001b[0manim\u001b[0m\u001b[1;33m.\u001b[0m\u001b[0m_fig\u001b[0m\u001b[1;33m)\u001b[0m\u001b[1;33m\u001b[0m\u001b[0m\n\u001b[0;32m----> 5\u001b[0;31m     \u001b[1;32mreturn\u001b[0m \u001b[0mHTML\u001b[0m\u001b[1;33m(\u001b[0m\u001b[0manim_to_html\u001b[0m\u001b[1;33m(\u001b[0m\u001b[0manim\u001b[0m\u001b[1;33m)\u001b[0m\u001b[1;33m)\u001b[0m\u001b[1;33m\u001b[0m\u001b[0m\n\u001b[0m\u001b[1;32m      6\u001b[0m \u001b[1;33m\u001b[0m\u001b[0m\n\u001b[1;32m      7\u001b[0m \u001b[1;32mimport\u001b[0m \u001b[0mProblema1\u001b[0m\u001b[1;33m\u001b[0m\u001b[0m\n",
      "\u001b[0;32m<ipython-input-12-e4c246e992b2>\u001b[0m in \u001b[0;36manim_to_html\u001b[0;34m(anim)\u001b[0m\n\u001b[1;32m      9\u001b[0m     \u001b[1;32mif\u001b[0m \u001b[1;32mnot\u001b[0m \u001b[0mhasattr\u001b[0m\u001b[1;33m(\u001b[0m\u001b[0manim\u001b[0m\u001b[1;33m,\u001b[0m \u001b[1;34m'_encoded_video'\u001b[0m\u001b[1;33m)\u001b[0m\u001b[1;33m:\u001b[0m\u001b[1;33m\u001b[0m\u001b[0m\n\u001b[1;32m     10\u001b[0m         \u001b[1;32mwith\u001b[0m \u001b[0mNamedTemporaryFile\u001b[0m\u001b[1;33m(\u001b[0m\u001b[0msuffix\u001b[0m\u001b[1;33m=\u001b[0m\u001b[1;34m'.mp4'\u001b[0m\u001b[1;33m)\u001b[0m \u001b[1;32mas\u001b[0m \u001b[0mf\u001b[0m\u001b[1;33m:\u001b[0m\u001b[1;33m\u001b[0m\u001b[0m\n\u001b[0;32m---> 11\u001b[0;31m             \u001b[0manim\u001b[0m\u001b[1;33m.\u001b[0m\u001b[0msave\u001b[0m\u001b[1;33m(\u001b[0m\u001b[0mf\u001b[0m\u001b[1;33m.\u001b[0m\u001b[0mname\u001b[0m\u001b[1;33m,\u001b[0m \u001b[0mfps\u001b[0m\u001b[1;33m=\u001b[0m\u001b[1;36m20\u001b[0m\u001b[1;33m,\u001b[0m \u001b[0mextra_args\u001b[0m\u001b[1;33m=\u001b[0m\u001b[1;33m[\u001b[0m\u001b[1;34m'-vcodec'\u001b[0m\u001b[1;33m,\u001b[0m \u001b[1;34m'libx264'\u001b[0m\u001b[1;33m]\u001b[0m\u001b[1;33m)\u001b[0m\u001b[1;33m\u001b[0m\u001b[0m\n\u001b[0m\u001b[1;32m     12\u001b[0m             \u001b[0mvideo\u001b[0m \u001b[1;33m=\u001b[0m \u001b[0mopen\u001b[0m\u001b[1;33m(\u001b[0m\u001b[0mf\u001b[0m\u001b[1;33m.\u001b[0m\u001b[0mname\u001b[0m\u001b[1;33m,\u001b[0m \u001b[1;34m\"rb\"\u001b[0m\u001b[1;33m)\u001b[0m\u001b[1;33m.\u001b[0m\u001b[0mread\u001b[0m\u001b[1;33m(\u001b[0m\u001b[1;33m)\u001b[0m\u001b[1;33m\u001b[0m\u001b[0m\n\u001b[1;32m     13\u001b[0m         \u001b[0manim\u001b[0m\u001b[1;33m.\u001b[0m\u001b[0m_encoded_video\u001b[0m \u001b[1;33m=\u001b[0m \u001b[0mvideo\u001b[0m\u001b[1;33m.\u001b[0m\u001b[0mencode\u001b[0m\u001b[1;33m(\u001b[0m\u001b[1;34m\"base64\"\u001b[0m\u001b[1;33m)\u001b[0m\u001b[1;33m\u001b[0m\u001b[0m\n",
      "\u001b[0;32mC:\\ProgramData\\Anaconda3\\lib\\site-packages\\matplotlib\\animation.py\u001b[0m in \u001b[0;36msave\u001b[0;34m(self, filename, writer, fps, dpi, codec, bitrate, extra_args, metadata, extra_anim, savefig_kwargs)\u001b[0m\n\u001b[1;32m    976\u001b[0m                                                         metadata=metadata)\n\u001b[1;32m    977\u001b[0m                 \u001b[1;32mexcept\u001b[0m \u001b[0mIndexError\u001b[0m\u001b[1;33m:\u001b[0m\u001b[1;33m\u001b[0m\u001b[0m\n\u001b[0;32m--> 978\u001b[0;31m                     raise ValueError(\"Cannot save animation: no writers are \"\n\u001b[0m\u001b[1;32m    979\u001b[0m                                      \u001b[1;34m\"available. Please install \"\u001b[0m\u001b[1;33m\u001b[0m\u001b[0m\n\u001b[1;32m    980\u001b[0m                                      \"ffmpeg to save animations.\")\n",
      "\u001b[0;31mValueError\u001b[0m: Cannot save animation: no writers are available. Please install ffmpeg to save animations."
     ]
    }
   ],
   "source": [
    "from IPython.display import HTML\n",
    "\n",
    "def display_animation(anim):\n",
    "    plt.close(anim._fig)\n",
    "    return HTML(anim_to_html(anim))\n",
    "\n",
    "import Problema1\n",
    "display_animation(Problema1.anim)"
   ]
  },
  {
   "cell_type": "code",
   "execution_count": null,
   "metadata": {
    "collapsed": true
   },
   "outputs": [],
   "source": [
    "def verificador (U, lam):\n",
    "    resultado = (U + lam -1)/2*lam\n",
    "    return resultado"
   ]
  },
  {
   "cell_type": "code",
   "execution_count": null,
   "metadata": {
    "collapsed": true
   },
   "outputs": [],
   "source": []
  }
 ],
 "metadata": {
  "kernelspec": {
   "display_name": "Python 3",
   "language": "python",
   "name": "python3"
  },
  "language_info": {
   "codemirror_mode": {
    "name": "ipython",
    "version": 3
   },
   "file_extension": ".py",
   "mimetype": "text/x-python",
   "name": "python",
   "nbconvert_exporter": "python",
   "pygments_lexer": "ipython3",
   "version": "3.6.0"
  }
 },
 "nbformat": 4,
 "nbformat_minor": 2
}
