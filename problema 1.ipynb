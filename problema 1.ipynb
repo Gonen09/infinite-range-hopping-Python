{
 "cells": [
  {
   "cell_type": "markdown",
   "metadata": {},
   "source": [
    "# *Modelo de Bose-Hubbard con interacción de rango infinito*"
   ]
  },
  {
   "cell_type": "markdown",
   "metadata": {},
   "source": [
    "$$\n",
    "\\rho = \\rho(\\beta,\\mu) = \\frac{\\sum_{n=1}^\\infty = ne^{\\beta[(\\mu+\\lambda-1)n-\\lambda n^{2}]}}{\\sum_{n=0}^\\infty = e^{\\beta[(\\mu+\\lambda-1)n-\\lambda n^{2}]}}\n",
    "$$"
   ]
  },
  {
   "cell_type": "markdown",
   "metadata": {},
   "source": [
    "### Parametros"
   ]
  },
  {
   "cell_type": "markdown",
   "metadata": {},
   "source": [
    "__β__ : Temeperatura inversa.\n",
    "\n",
    "__λ__ : Constante asociada al término no lineal $\\hat{n}^2$ del operador de energía positiva.\n",
    "\n",
    "__µ__ : Potencial químico.\n",
    "\n",
    "__N__ : Número de partículas en el sistema. "
   ]
  },
  {
   "cell_type": "markdown",
   "metadata": {},
   "source": [
    "### Condiciones"
   ]
  },
  {
   "cell_type": "markdown",
   "metadata": {},
   "source": [
    "$0 < β,λ$\n",
    "\n",
    "µ : Sin restricciones."
   ]
  },
  {
   "cell_type": "markdown",
   "metadata": {},
   "source": [
    "## *Desarrollo*"
   ]
  },
  {
   "cell_type": "markdown",
   "metadata": {},
   "source": [
    "### Dependencias"
   ]
  },
  {
   "cell_type": "code",
   "execution_count": 18,
   "metadata": {
    "collapsed": true
   },
   "outputs": [],
   "source": [
    "import math\n",
    "import matplotlib.pyplot as plt\n",
    "import time"
   ]
  },
  {
   "cell_type": "markdown",
   "metadata": {},
   "source": [
    "### Valores de *µ*"
   ]
  },
  {
   "cell_type": "markdown",
   "metadata": {},
   "source": [
    "$$\n",
    " \\rho(\\beta,\\mu) = \\left\\{\n",
    "       \\begin{array}{ll}\n",
    "     0      & \\mathrm{si\\ \\quad} \\mu < 1 \\\\\n",
    "     K & \\mathrm{si\\ \\quad} 2(K - 1) \\Lambda +1 < \\mu < 2K \\Lambda +1 \\\\\n",
    "       \\end{array}\n",
    "     \\right.\n",
    "$$"
   ]
  },
  {
   "cell_type": "code",
   "execution_count": 19,
   "metadata": {
    "collapsed": true
   },
   "outputs": [],
   "source": [
    "def rangoK(k, lam):\n",
    "    \"\"\"Funcion del pimpa\"\"\"\n",
    "    limInf = 2*(k-1)*lam+1\n",
    "    limSup = 2*k*lam+1\n",
    "    return (limInf, limSup)"
   ]
  },
  {
   "cell_type": "markdown",
   "metadata": {},
   "source": [
    "\\begin{equation}\n",
    "f_{1} = \\sum_{n=1}^\\infty = ne^{\\beta[(\\mu+\\Lambda-1)n-\\Lambda n^{2}]}\n",
    "\\end{equation}"
   ]
  },
  {
   "cell_type": "code",
   "execution_count": 20,
   "metadata": {
    "collapsed": true
   },
   "outputs": [],
   "source": [
    "def f1(b, u, lam, N):\n",
    "    sumatoria = 0\n",
    "    for n in range(1, N):\n",
    "        sumatoria += n*math.exp(b*((u+lam-1)*n-lam*math.pow(n, 2)))\n",
    "    return sumatoria"
   ]
  },
  {
   "cell_type": "markdown",
   "metadata": {},
   "source": [
    "\\begin{equation}\n",
    "f_{2} = \\sum_{n=0}^\\infty = e^{\\beta[(\\mu+\\Lambda-1)n-\\Lambda n^{2}]}\n",
    "\\end{equation}"
   ]
  },
  {
   "cell_type": "code",
   "execution_count": 21,
   "metadata": {
    "collapsed": false
   },
   "outputs": [],
   "source": [
    "def f2(b, u, lam, N):\n",
    "    sumatoria = 0.0\n",
    "    for n in range(N):\n",
    "        resul = math.exp(b*((u+lam-1)*n-lam*math.pow(n, 2)))\n",
    "        sumatoria += resul\n",
    "    return sumatoria"
   ]
  },
  {
   "cell_type": "markdown",
   "metadata": {},
   "source": [
    "### Parámetros formula"
   ]
  },
  {
   "cell_type": "code",
   "execution_count": 22,
   "metadata": {
    "collapsed": false,
    "scrolled": true
   },
   "outputs": [],
   "source": [
    "B = 2  # Temperatura inversa\n",
    "U = 0.5\n",
    "lam = 3\n",
    "N = 10\n",
    "K = 0.3  # Entero positivo"
   ]
  },
  {
   "cell_type": "markdown",
   "metadata": {},
   "source": [
    "### Obtención de *ρ* y *µ*"
   ]
  },
  {
   "cell_type": "markdown",
   "metadata": {},
   "source": [
    "$$\n",
    "\\rho_{0} = \\frac{f_{1}}{f_{2}}\n",
    "$$"
   ]
  },
  {
   "cell_type": "code",
   "execution_count": 23,
   "metadata": {
    "collapsed": false,
    "scrolled": true
   },
   "outputs": [
    {
     "name": "stdout",
     "output_type": "stream",
     "text": [
      "Magnitud vector x:  14\n",
      "Magnitud vector y:  14\n",
      "Tiempo ejecución:  0.015600204467773438 ms\n"
     ]
    }
   ],
   "source": [
    "start_time = time.time() #Para medir el tiempo de ejecución\n",
    "\n",
    "numero_segmentaciones = 14.0\n",
    "u = -2\n",
    "x = []\n",
    "y = []\n",
    "\n",
    "for i in range(int(numero_segmentaciones)):\n",
    "    u += 14/numero_segmentaciones\n",
    "    try:\n",
    "        ro =  f1(B, u, lam, N)/f2(B, u, lam, N)\n",
    "        x.append(u)\n",
    "        y.append(ro)\n",
    "    except ZeroDivisionError:\n",
    "        print('Division por cero')\n",
    "        break\n",
    "    except OverflowError:\n",
    "        print('overflow')\n",
    "        break\n",
    "        \n",
    "print(\"Magnitud vector x: \",str(len(x)))\n",
    "print(\"Magnitud vector y: \",str(len(y)))\n",
    "\n",
    "print (\"Tiempo ejecución: \",time.time() - start_time,\"ms\")"
   ]
  },
  {
   "cell_type": "markdown",
   "metadata": {},
   "source": [
    "### Obtención verificador "
   ]
  },
  {
   "cell_type": "markdown",
   "metadata": {},
   "source": [
    "$$\n",
    "\\frac{\\mu + \\lambda - 1}{2 \\lambda} \n",
    "$$"
   ]
  },
  {
   "cell_type": "code",
   "execution_count": 24,
   "metadata": {
    "collapsed": true
   },
   "outputs": [],
   "source": [
    "def verificador (U, lam):\n",
    "    resultado = (U + lam -1)/2*lam\n",
    "    return resultado"
   ]
  },
  {
   "cell_type": "markdown",
   "metadata": {},
   "source": [
    "### Graficador"
   ]
  },
  {
   "cell_type": "code",
   "execution_count": 25,
   "metadata": {
    "collapsed": false
   },
   "outputs": [],
   "source": [
    "def grafica(x, y, foto=False): \n",
    "    if len(x) != 0 or len(y) != 0:\n",
    "        plt.plot(x, y, 'bo')\n",
    "        limInfx = min(x)-1\n",
    "        limSupx = max(x)+1\n",
    "        limInfy = min(y)-1\n",
    "        limSupy = max(y)+1\n",
    "        plt.axis([limInfx, limSupx, limInfy, limSupy])  # Longitud ejes x,y\n",
    "        plt.title('ρ vs μ')\n",
    "        plt.ylabel('ρ')\n",
    "        plt.xlabel('μ')\n",
    "\n",
    "        # define plot size in inches (width, height) & resolution(DPI)\n",
    "        # plt.figure(figsize=(20, 10), dpi=100)\n",
    "        # plt.figure(figsize=(2,2))\n",
    "        if foto == True:\n",
    "            fig = plt.gcf()\n",
    "            fig.set_size_inches(18.5, 10.5)\n",
    "            fig.savefig('test2png.png', dpi=100)\n",
    "        plt.show()\n",
    "    else:\n",
    "        print(\"Vector vacío\")\n",
    "    "
   ]
  },
  {
   "cell_type": "markdown",
   "metadata": {},
   "source": [
    "# Experimentacion"
   ]
  },
  {
   "cell_type": "code",
   "execution_count": 26,
   "metadata": {
    "collapsed": false
   },
   "outputs": [
    {
     "data": {
      "image/png": "[encoded data removed]",
      "text/plain": [
       "<matplotlib.figure.Figure at 0x7268ff0>"
      ]
     },
     "metadata": {},
     "output_type": "display_data"
    }
   ],
   "source": [
    "grafica(x, y)"
   ]
  },
  {
   "cell_type": "code",
   "execution_count": 27,
   "metadata": {
    "collapsed": true
   },
   "outputs": [],
   "source": [
    "def arreglos_B_XY(B, u, lam, N):\n",
    "    numero_segmentaciones = 50.0\n",
    "    u = -10\n",
    "    x = []\n",
    "    y = []\n",
    "\n",
    "    for i in range(int(numero_segmentaciones)):\n",
    "        u += 30/numero_segmentaciones\n",
    "        try:\n",
    "            ro = f1(B, u, lam, N)/f2(B, u, lam, N)\n",
    "            x.append(u)\n",
    "            y.append(ro)\n",
    "        except ZeroDivisionError:\n",
    "            print('Division por cero')\n",
    "            break\n",
    "        except OverflowError:\n",
    "            print('overflow')\n",
    "            break\n",
    "    return x,y"
   ]
  },
  {
   "cell_type": "code",
   "execution_count": 28,
   "metadata": {
    "collapsed": false
   },
   "outputs": [
    {
     "data": {
      "image/png": "[encoded data removed]",
      "text/plain": [
       "<matplotlib.figure.Figure at 0x736b490>"
      ]
     },
     "metadata": {},
     "output_type": "display_data"
    }
   ],
   "source": [
    "B = 2  # Temperatura inversa\n",
    "U = 0.5\n",
    "lam = 3\n",
    "N = 10\n",
    "K = 0.3  # Entero positivo\n",
    "\n",
    "x1, y1 = arreglos_B_XY(2, U, lam, N)\n",
    "grafica(x1, y1, True)"
   ]
  },
  {
   "cell_type": "code",
   "execution_count": 29,
   "metadata": {
    "collapsed": false
   },
   "outputs": [
    {
     "data": {
      "image/png": "[encoded data removed]",
      "text/plain": [
       "<matplotlib.figure.Figure at 0x73b8a50>"
      ]
     },
     "metadata": {},
     "output_type": "display_data"
    }
   ],
   "source": [
    "x1, y1 = arreglos_B_XY(15, U, lam, N)\n",
    "grafica(x1, y1, True)"
   ]
  },
  {
   "cell_type": "code",
   "execution_count": 30,
   "metadata": {
    "collapsed": false
   },
   "outputs": [
    {
     "name": "stdout",
     "output_type": "stream",
     "text": [
      "overflow\n"
     ]
    },
    {
     "data": {
      "image/png": "[encoded data removed]",
      "text/plain": [
       "<matplotlib.figure.Figure at 0x73a2d30>"
      ]
     },
     "metadata": {},
     "output_type": "display_data"
    }
   ],
   "source": [
    "\n",
    "x1, y1 = arreglos_B_XY(50, U, lam, N)\n",
    "grafica(x1, y1)"
   ]
  },
  {
   "cell_type": "code",
   "execution_count": 31,
   "metadata": {
    "collapsed": false
   },
   "outputs": [
    {
     "name": "stdout",
     "output_type": "stream",
     "text": [
      "overflow\n"
     ]
    },
    {
     "data": {
      "image/png": "[encoded data removed]",
      "text/plain": [
       "<matplotlib.figure.Figure at 0x7311f30>"
      ]
     },
     "metadata": {},
     "output_type": "display_data"
    }
   ],
   "source": [
    "x1, y1 = arreglos_B_XY(100, U, lam, N)\n",
    "grafica(x1, y1)"
   ]
  },
  {
   "cell_type": "code",
   "execution_count": 32,
   "metadata": {
    "collapsed": false,
    "scrolled": true
   },
   "outputs": [
    {
     "name": "stdout",
     "output_type": "stream",
     "text": [
      "overflow\n"
     ]
    },
    {
     "data": {
      "image/png": "[encoded data removed]",
      "text/plain": [
       "<matplotlib.figure.Figure at 0x71d0910>"
      ]
     },
     "metadata": {},
     "output_type": "display_data"
    }
   ],
   "source": [
    "x1, y1 = arreglos_B_XY(200, U, lam, N)\n",
    "grafica(x1, y1)"
   ]
  },
  {
   "cell_type": "code",
   "execution_count": 33,
   "metadata": {
    "collapsed": false
   },
   "outputs": [],
   "source": [
    "from tempfile import NamedTemporaryFile\n",
    "\n",
    "VIDEO_TAG = \"\"\"<video controls>\n",
    " <source src=\"data:video/x-m4v;base64,{0}\" type=\"video/mp4\">\n",
    " Your browser does not support the video tag.\n",
    "</video>\"\"\"\n",
    "\n",
    "def anim_to_html(anim):\n",
    "    if not hasattr(anim, '_encoded_video'):\n",
    "        with NamedTemporaryFile(suffix='.mp4') as f:\n",
    "            anim.save(f.name, fps=20, extra_args=['-vcodec', 'libx264'])\n",
    "            video = open(f.name, \"rb\").read()\n",
    "        anim._encoded_video = video.encode(\"base64\")\n",
    "    \n",
    "    return VIDEO_TAG.format(anim._encoded_video)"
   ]
  },
  {
   "cell_type": "code",
   "execution_count": 34,
   "metadata": {
    "collapsed": false
   },
   "outputs": [
    {
     "data": {
      "text/html": [
       "<video width=\"432\" height=\"288\" controls autoplay loop>\n",
       "  <source type=\"video/mp4\" src=\"data:video/mp4;base64,AAAAHGZ0eXBNNFYgAAACAGlzb21pc28yYXZjMQAAAAhmcmVlAAA7P21kYXQAAAKuBgX//6rcRem9\n",
       "5tlIt5Ys2CDZI+7veDI2NCAtIGNvcmUgMTUyIHIyODUxIGJhMjQ4OTkgLSBILjI2NC9NUEVHLTQg\n",
       "QVZDIGNvZGVjIC0gQ29weWxlZnQgMjAwMy0yMDE3IC0gaHR0cDovL3d3dy52aWRlb2xhbi5vcmcv\n",
       "eDI2NC5odG1sIC0gb3B0aW9uczogY2FiYWM9MSByZWY9MyBkZWJsb2NrPTE6MDowIGFuYWx5c2U9\n",
       "MHgzOjB4MTEzIG1lPWhleCBzdWJtZT03IHBzeT0xIHBzeV9yZD0xLjAwOjAuMDAgbWl4ZWRfcmVm\n",
       "PTEgbWVfcmFuZ2U9MTYgY2hyb21hX21lPTEgdHJlbGxpcz0xIDh4OGRjdD0xIGNxbT0wIGRlYWR6\n",
       "b25lPTIxLDExIGZhc3RfcHNraXA9MSBjaHJvbWFfcXBfb2Zmc2V0PS0yIHRocmVhZHM9NCBsb29r\n",
       "YWhlYWRfdGhyZWFkcz0xIHNsaWNlZF90aHJlYWRzPTAgbnI9MCBkZWNpbWF0ZT0xIGludGVybGFj\n",
       "ZWQ9MCBibHVyYXlfY29tcGF0PTAgY29uc3RyYWluZWRfaW50cmE9MCBiZnJhbWVzPTMgYl9weXJh\n",
       "bWlkPTIgYl9hZGFwdD0xIGJfYmlhcz0wIGRpcmVjdD0xIHdlaWdodGI9MSBvcGVuX2dvcD0wIHdl\n",
       "aWdodHA9MiBrZXlpbnQ9MjUwIGtleWludF9taW49MjUgc2NlbmVjdXQ9NDAgaW50cmFfcmVmcmVz\n",
       "aD0wIHJjX2xvb2thaGVhZD00MCByYz1jcmYgbWJ0cmVlPTEgY3JmPTIzLjAgcWNvbXA9MC42MCBx\n",
       "cG1pbj0wIHFwbWF4PTY5IHFwc3RlcD00IGlwX3JhdGlvPTEuNDAgYXE9MToxLjAwAIAAAAnTZYiE\n",
       "AC///vau/MsrRwuVLh1Ze7NR8uhJcv2IMH1oAAADAADVayF8DJ/UCn8RqlO1AL6iLK+zNUbXjde6\n",
       "wcE1Q8EAAAMC5fj/Tka/LZrKUosfzQqd68NwRr17shsmOIBLr73eoh5lrk56MDFM7ntjUd0ZDRJx\n",
       "JPWJOaFQ6cAWxxX0fPC2EFTrGJ9HIR+IB7vjEeDetNXP4AwCTRFIjJAva9AfhfxPp2v1//DsjIFF\n",
       "EKCytA8UV/aDGrcXWCppgqH6ywBswiDwdxig0hLlGV4UX5wCZD3A6ONpyBF95jEhhqrUPMdQc6uA\n",
       "rEUE9QG4QlW8jLl00d4AAA1lS4pxjPV7uBFVb12q1p49Z+dzfQPBoNmVUavKlc2j6+TKzU2JdZ0O\n",
       "uJ/E0VjpSv1VagfSSCbzsxbRe5vRpY4BZEqQ9Tod8HPZIA+Qi3EHR4ie/1CpWTerCmKf2bygRJok\n",
       "CxvxcMX9xPdcB8bXXthaAVSOJz7gXbxgs8mbppqMWWA0a7RxncvlASZAAI9v+xKlDCuTBT+SIw60\n",
       "eWMCd35nUCjOOAtDOBcA63HVkwoahxnSVXd5/z3l/1BK/3bBbAUa0j+kpuP54ID9+j77+7wddxMt\n",
       "crda3LLCxoS+RP9B9TAibGLFaXCNo1Ptyh96Ux5bctx/+Gd28eijlqIK6D4iAT5kGDrnSbgT1YNU\n",
       "XzkBU8slGy2FWapiX/398RkRMSqyvFaGiCApQmRg3eZ1oY9xd4MK34d4B6NVS6oupkviPn85jeae\n",
       "S1Q1FCU8foA4VVOjOKJwNxFzr6mW9kNwo8COg66UnBkYiZHTa9fMX4ji2huRzKbfQax+cQm6BAY3\n",
       "evpOs35MBq7JqpA386XgAJU2VRNPnn63eFHfJ0wgvLml+S18lDJkGrNH3wVxJB67l0D89krVCE4k\n",
       "lW4YswenqPgYMnwVfvgW5KA1cIbzRUMZAEbwJIAG7sjsbp2Acr6FABnUH88oNuNfgA+An/Z3Fzs3\n",
       "fXNebktjC+5/p5jLLRWIDckMHR+vUu2MEXJNYBaWK/tmN59J9uVEsYC178SiCtQo0KtRlRYaVBSm\n",
       "IcyOEBzUTsB0H3wmtck7LN6qI+Xw/DsTwI44xn3knwhtgnKNGgloJGSSGCmZI3yknWka0bxRfbR4\n",
       "36lbhW4GnxpL/wOZ0yD4YSlECCV+j0n8ecu9s+7McAeTNI13I5rM13E3hWXjTEKj83ipcnt23u95\n",
       "jmLihoN3uuTtDGf4M7rrvcc33O0cLnwHJtpuD9xHyhmjv0Vn2hMmWd9oHIMdUxOmxRTBQLEWZGLQ\n",
       "ENGDYWpIbO42xteiTHdtj/tyPxLsn25Irqk0s8ceznWqDELqdkF/CGX9rcwsjk9I4dAkRd2OfBa5\n",
       "ZvwtDHMtNTqmUqi7GHrjQOpqxS0k4TNsXa8znGIL8jwUK5zBbMtr/IWPmnJig/7Ph1sdEytc/i21\n",
       "sqZw+W7MXiR8Ma6/XHZ9shroMMy6rKtIkZdViO6WO6BSFQf0Dw963KPjUCy2Th4EkCpsAsqFwsk6\n",
       "Pb7Xyzn4SV5yw0DnQA+1XvNX8Ybva+x7zaGbHDA+9IRHuGGQ3ChPpOmssVgWO/AArm5HdI1wnQDD\n",
       "SMS7U/RSWbxCmVRdr6bRGMNZqEMkR2dvoluaXMkdEXLDwoQRU0WF/HYuhtr3q40x42f5C+X+ui70\n",
       "QPfyPX6wE8J9aQG3ncIuJQCBTJt5MgkOrvJEYX4KfoblofS5SSBHEEtsposHawUwBnbQk1inmk0V\n",
       "31kVzMi5j1Ht1XHveiBuanGEp+BkHg2Vu6uD2KNrRhur05/JY3NSmrEEuPAGFlduCrT3O6G9PnLz\n",
       "olue4deIeqxV7jckDhi6h1Pi8SfvMuxcwqiR8KDnoK0ou84ZO8EIHNiWYrzTWzB0zItyIy7utdx9\n",
       "XMaoU1tZvxk0JPzSdB2LZ9GlNCZOsI3zuWpQMOkndpcT/0yjEhvINzZg3GqETwABKe7Ed6PPQ/bo\n",
       "yPHN4/LHnhKQN7DfrlDr+BIO1UuBWN9T3GnbdyTZZkEdZcCH4+aDAZCPj97mmgQzQJandrtRXVF7\n",
       "8D1ZKyV+vR+NMryp04/DqNc2Mrg6/18WcjaCE75saTr9+2KRC346bvofxrLh8UM4bi96xju97bxb\n",
       "HpEOSWzXd1Oaqr2Ub8j409HTQLL8PsKlRvcSFXgBXfnwT42zcBo1rmS+LLLiyqN+iFhxxDr0QrQg\n",
       "u9gekSlm1DgJluFigShrL3wU8f+ZGpJ4gvaAq+SLxnCFiyicIuxlfy7u8B2oV24dIVUt+flq7HR8\n",
       "qgR59xqaUqQvTdIfEf+YbO/1/U7iuSwA7MUp1VXD1EOZga7BEGqT4FtHYsQi1LxcYSPxcjG+HBN9\n",
       "K2F+PTthk3LC6mw0A+6vI7+k1iBX4xXlBXK4SzMLr6QCgwCyCAD/icHBWCmGW1hm8aYvy4n+m1ci\n",
       "Qsbw1w0uEAEuATTcoRE6LrksrEEat4IEKFjh62ixuk0cjifn+K6xtoM1qfOFa4IjJKx72KOF4AxP\n",
       "ieOq4YuIIGuxZkvc6nWThqJkGsBGgLgGxRNRWA3Rj6+KN9zZ+BRlOjPHp8KDZH0IXTePo7++fgXL\n",
       "y3mFbMDoKI1FwFnVqP3MRoACjGdnI3ye3/99QIys/lgdH+0UxniVfS7Rc6lkb/eWh9BP3xFQEtOu\n",
       "drPdd2n0DRN1PHbR4GvlIt2ctV4t2zn+xBasWISeluC62MgDRNaY3076oT4hp2PB67mfwu0nZChv\n",
       "SCfp4go74/4LM3+VO059QweYfjweNUpCUeNpfvHSNyeq3FRXjrWsT/OToyLIDB66b1BNW802G34S\n",
       "uyu3wGy1aS5L1/TOte5jSMH7XOo66BkyI5coqu0PgPAsr6PF47NKJ4OFBRr0pVV6Mc8TpxIr9CPc\n",
       "+NL2AnLNOj2cURt4S5bqmzdS4v7HMvDkuW5pqScJ3pha2clGlyBYCtWhwDqER7slAPcLKjkyxtwU\n",
       "GsdLxH8feMGgUfKgzzfivcONL+aFvBjEr6FyOuI7LO4qzyJjN8gz7FS+5XQh66NTkU9u7j8YjOLd\n",
       "D2kmaOF+pCqctjm84jTJFqYc3s33H/4hxo1NC6rke+8MdPCPwxtRaXmguzG/Rt9CmR8B4XQT8oIH\n",
       "OiBaOOILt4FoFn/twTc3/B0I5oKGb5eCfeWxLuJMKrbBPP+vhZaXf1ikf2sYHoj6KeRhAaKmywcw\n",
       "7324s4SFTK7XKvTy6IgEz34mqC6dY9XT50vfIvgEXMu64xTrUIECcwkHv6BxAS0yaHncsR+UUnaF\n",
       "p5e5ShhcmM9bNPB4a4QhU2c4vkNxwx2urpH+panyShJCZhwKd5fnwPnFB2a80inFJrqFGjVA1GAA\n",
       "HWAwYQAAAyVBmiNsQz/+nhB/4sTBociKVrqoYK2n5yYAAAMAte7bVMxpMfOdAJhwYleUZPDabDPa\n",
       "1V2Fjaz/Qvnbqp2udQcXAmtDhDTPaeUG9H8Nre6nPh2Kcc+wCNhdjnsIUXVaesVJeN2XrxfZ9Fwt\n",
       "utUDbl6MK6ruSQ71e6hHQm4PTKZH5ag3I7NfQAolD0quDY+xudi/uCyN2/x2Q4q7EFQZBoj0DKpQ\n",
       "/Jpxhz9zMxGs/M7DG4IR7kL0AKvWT7h0Yjy+e/eu0p18yz7A1va6RLvdpIMK3bXdT7EYhmxScor8\n",
       "JxRTnd5vzxnYqNRhaR8KO3OTJxWZev02jfve2wCat16U8URYTojEXYvEvs8ZLTc0Wlh/NHZ6j4hY\n",
       "+1n9kDIJ4tClkF83PNh1lvZ63ZIIF4s9zhToeC4IfCbkMpO8vDw37Jmly1KG/BPpadrh06ThzBJn\n",
       "vtUkmo//UsnUa8sV3MM4HuhgE90/TuHsE/ONyYeM4dnfUPQI21DX/2umstWAns2v3YS5QLsALEKp\n",
       "1FhP9Uk9XhffL+FdV0zBI230e7xdWWwU+VaONc/tGaYx7GU3x4iMr919YaRPTk4Mde4HkVo2pQwz\n",
       "R4rY5rWAS8DWEGBJp6HEj3yhibwxu+Q0YFMK8rZ3E63qv6CvmSPsQBRYifB03YY0oBvK6dBoMw/M\n",
       "/8wKaLsBFFofpBimrNUr/EAOUDfDLBrWrVy14Su79fVlV1/bM0qpN76es9U93akU/K6lhcswcBeB\n",
       "4cZJjV/87SdKxhjmFvagaDO7uKXw6Gxb9Tk6m1axxJtgAsjISf6Q80Pi5P+KZ/5HTzkWGSbVC6AW\n",
       "Mg+qp9cP3+TxYU3UmZfINN9INcNxSwob9jatEv2n4EChgx2pI2f9F0LNR6gYgqfXfWU60VuaJg1F\n",
       "ulbjH+mVbOD4MiKTwYIfBie/z488vZamsAIeAX9tG3eqih4F5oRt7JzWg2kcbaW/ht+jPLWyohS4\n",
       "HhJO5ZuLQ6/tZGobSzJ77Fbfgkr8c+kywvjbOZL9o4bEb+zfmaN8FfTdPn5P5OyrA9li4x17+qNA\n",
       "hfltXuCV3zB/MOAlYYuYAAABHEGeQXiEfwVVNWKKNWWzQAAA96tSqd58s5uRygBMsZ608a7h9ZkC\n",
       "SwW1gBtsuXhEtJjrDUil+pm6QbYREQ4VukgvRpmCpxs9vAoZauqeJUaOGfleB9pT8y7FiYthi2Z3\n",
       "Ld+1BFoHG4FndmGzSyCSJ8yUZe0nr/ulvbvWlPmL2XYY9GXZEaIdBvFRClCVFICumgFY3hBWp9iO\n",
       "E11QUXBxhLc2lqYcmWvP8pfX67BQS8te6l8hxKQOY/WohjSasyziXbCnoPq2toIna04rV8jkrViX\n",
       "/oeZusSr9zOSA9W5XaZ70gvbU+5DW0MnqK6/rsqlltPM/Sb8TPes+7mpbsqOMieU1ODq53EbQG0z\n",
       "yTswuPGhxIV6pjFt9c0dFOeBAAAAtwGeYmpH/wBBG3fQXZdQQ4sTxGF0GcAAQphUiUyz8z3XYtTF\n",
       "t/forf5ruEV+tXa9XBI4h2g/s7Vr3wmRJlj42+5PRze2lbK/zobWVjqTnuSvT5fajI2wqUbP8EOu\n",
       "jCv+YLJiAa7gUPqhJlwXxJzSWenmC+qn/IO5bHjNWE0eGMn2v+088z3y7cxoo5Luv29ikGkZra7y\n",
       "WJN3m59NkYEqQhMSeSOQNJlPZNuDnh4RbJhawD3CM3QcZAAAAl5BmmdJqEFomUwIZ//+nhAA+HR4\n",
       "TUROMi1gAsPQx6lGk6AwsDu8kftBkA86n+hHNLkOnYbLEJau88BPCBFdlI320/hy5QamkrVdgNJ+\n",
       "5fHuKqQ5BiPSnEgIDESi0jM+KFzxJiPZlMHDffdeC6hTh7ZQHF5d7TVvRWp40DY+IeLv7AZTeyIF\n",
       "Z7X//4xU7wyki8iTy7NeIXrFxIpvwFKoXsbrhksSjxr42WZ1qbKv88flUDOGuQHmbOQr/yHmBUV6\n",
       "d5TywgXv4VaHgNjnAp5RWqZ0rVlWMuuL8iA3TRdKadpWn2rf0oU4UWqLvO2rSigTIL4Kmf+gIvZI\n",
       "XgLCK4GQGHXwHF46O2zzma3raK7dNdcWtBT0KNqL27hhqdG7UDmnAu4+IWxOdtMaTNLvo130MNiA\n",
       "b3jcB7+rr+vIIIpHnY5ODu/nDFf4aywMTTzVPJkxyxjUZO/XMKotq/dipWent8Tva0MVu0QzLfy1\n",
       "WGLPsaDaC1tuwTDoN4ydF/2zrPQe+AvJ3s+z5yjNf21oNmhpS5GsQ8NkwBBfmwBTwJivWj8nSQ1k\n",
       "fRBAltlKwBbQZSr79BCYJks4Fh8ttZHoPR515gIflAT33X4RxG55mlsI3Js6ppwdZyeGpAfcQIdI\n",
       "2ja2eKVPxxa4if9vBmPrZXKpg2/pxX+H+5iTx50/1aNATV+U9W2DmqK0lvkxPqzU8HLRstNmqloP\n",
       "VI+NvBd5Zu2MX1wtzn15tHwRJgp4uwd8t18cd0Zd/1K0KREIZjv2acmxMdBPLsJxVJ4DrHJb9ZhI\n",
       "H7CkZHppf5h7Od0XXYi4v4EAAAEvQZ6FRREsI/8AKxqgvwZ7ED7F1/ABB9eT3RR5kRPPbtpguD67\n",
       "Vu2iWwaCNql7PlVCSH8n5Dy4qP5lc7Cecf3gMh5DHHMX8eTSZgSSQtoxMF1ql+LjXV14lbfrzR12\n",
       "ukrdCViu5bpO8X6nEnitNNb7L1BvCDP5dGSG+P5cQQtQF9XA14yNAjdAb/gO0FMiolo+YxaWIrk+\n",
       "5tRx5/XC9qqgNt3OAdNvv695FEdaT14PgrOXxASBpgppS2XBiDoZHT6NUi2aG6JtqeK5pkq/S0As\n",
       "3d4eWds42ehYzyt7fKQzBq3CXRRew2hpRw6cIVlPJ9qqEVksWGwTMnn6azVa8vPM910//yDZM3cL\n",
       "8Sym211rqzj3jooIROtClCn3+9iylL/DAqpsMpR8sCgYBJ0RSTLhAAAA4AGepHRH/wCDDTkmvHMH\n",
       "hXKABBuciTYPqMUuVOJnR28rortKv56jffk04qPAuE6CGgJ1as8f260qUYQgLB1P/WQHtQ+R4g6l\n",
       "c5oJThBpxcajUdM4ZuQ8BTJh0t7Knxpigv+Mf3rDV+fzUciURTX4vz9P7pIDOFrJH224/SgG2Zf2\n",
       "Qp64G9HAWCDZAgMhFQzSFJfAL5NuL3AYEtJuxdeYG/r7nESMZmlolK5dcAwLtNOoC07Za5BzChOn\n",
       "rW1k1aM2OKnk82RHXSMtH+uye8iCLxbipwNsfEN4vT+VsieIzx6hAAAA2wGepmpH/wCCySX2+ur9\n",
       "CABfMECLppnLJUaF5nUBZK161GbXhdxB93W7DuHaDzgXo46MtGWa1x3qZ5LJ9iu1pzOnbFFsNIF1\n",
       "gKprqKkTmNCoDj2/+XtXCzeRPdP+iT9N2cBXQqhc+CDBwGyb0FuamjZskSaKwApKjUEUymsbHSh6\n",
       "skOSBYE3/BaPi1PzbAPa5dzKB2ZEZIJiKVXvg/1q9DX+/I3BlmFexs5UrdTUwbjjpnovQI5Wyqir\n",
       "GEnaI0gfxXkfEWrKd6w08PH05yO0m00AR96i8zX9DuVqYQAAAvNBmqtJqEFsmUwIX//+jLAEBWZg\n",
       "bAFb9Sjj+u1mJ2b35AvLRVmvNqnoYBRLfxGqfHeOT0AhP0LTNA75iITQJnE5xmCxq0l3tYhfiyeC\n",
       "JA+k7Dx8tQBx1Mv10v/RABF5gt6bZsW3z/bxQMCfmeFUA3UbnudYxHcX5/r+4iNb37pX6s9JQwxY\n",
       "tNOf4uHUlB8rOu6m09e3FMKbXccubX7u3pYPTncN0XJunD9DB5YesNxnEtL7M8CSLSdXqII9Dzb7\n",
       "m85Cu94Brr+mkmKRRw8FHx6POWYYY8+YbLfHsLxvQ8LgkgMuPd1oFWA4bcyohHDW57ekDCIQcRoL\n",
       "Cjas+wkw7DLkkH56QkNXnSzPlOWnIGSJoYuNRaZSQco3ukPNO9o+Iuy55w8U5+K7Zsd1o553NZlM\n",
       "PB9voVMcerNrewos1NnAfOpwhZGU3wrUEv2ckLBd29LnGd5Ceac2zhYWIPEK9SathkvwMbiE4OBP\n",
       "EfbAIB02xY+X65X4wgFFCnlPgBM7AopnjL6IQZkzIHsfhOLN/jK6q2XjpxFbpGxMeQxy4QORVzhs\n",
       "uG2Vu7Z2WMTWCptBxjMru30GEbOV6WY61s6G08EfLKk+I8sAflq1McPdQWZN7bzEd0aPVSSh1M8n\n",
       "7lhTQl6nzu+zCi4nXrjCTBhPPulGRVBmLvmkKRhYldNysLVwQAnYzoXXS/5kMci20RGHlZnCDAdT\n",
       "mGQbdC05RsN/L5/Ip451jzSpYi6KvyaP0B6+P5wi7zBhPPzQOB6SNCDYXFd5iROMx/DFqf7MIsn/\n",
       "dI+lQdfR1+HZh6bgiENo62cuK5O8GkjN4J8XSCxG3vXZFjRny7jXXwoHLiwgiR8PgHKUQS8+iTJq\n",
       "2nq1smsGZ+qvCd1Gv1t+Gx+G4kytuwT88vSFp9NT2Pw38KcueFzQ53VaIEELvvpiPowebykQmOWf\n",
       "3HsS8KRbJqNrtfVn6oPojkt4P4NoAVAp8A1HvXn4+DzszM+RdtR03AdJHOA0OstVWvYooAAAARhB\n",
       "nslFFSwj/wFQVarxeyB2Q4B5ACqj24apSTd8VLhcybX8sh3UkiT3c0NmPfD0/ONbSOqnfYYhblpC\n",
       "57RCzBxo3DS5sme0oTGXx/EB23fHTDOA8Gf1PvCG0BI7hxLcwE2hGVckGpRg57GwZm2yNVwkht97\n",
       "VRvEktHkOgxojZ2/VfzTPkmit4qtpuNe4uXcsBeZjLIsTRSrseCky01GDtXBNAGZNDkCbB388tEX\n",
       "LSarF2FEvkGEvq+XszSSeY4mNyM4DCwylfODdxmgV/dnojcA7PhDmqMHd3OC+HmpQzH8fllhQiEV\n",
       "3R+mTqpwzbBVGAJlaQuOzIVCif9q6rKa9DoviQhP4xbrjyImleEyzw94l8qrF/lRYIe+AAAAugGe\n",
       "6HRH/wIMNCPVt5MshojGz5W2dqgdL14AC+YNvGWVPn5KVUHNlo4at/bCNHk0PumdpCGpSPucOwkJ\n",
       "UtCoOQP8aPEPahOFeb2Z5GhFWdXUwX7C6am+kcoUnO9TffOHitGpuFVokYQGE/pzz4QLWIlNX/pv\n",
       "U6PBepBCzF79qTMYb33RklBJPZOY2e+FV2dqD5rGgqc9WYQe0qLamYbUHtrxhxYDljA8xFU2Wz5L\n",
       "0e8DR9SeQMlss2X9swAAALYBnupqR/8Agx7+Jv0PeCWsY8IAB04iardQS74OTcZjhan8rkK3GL8h\n",
       "uEdiAAQ0o/RX38vQvmoGAiPd8meU0YdxI8MUYviMjp/zFSB/MxxSf+ee5xRBvGswCBCBmbvSJqQq\n",
       "btYsTTWqu+PFX4EeVhudCdsRih2Zx+ZBUHALuzFMRByLQARhuX/krBMpi5HohFSnTE/dw90M9sy4\n",
       "Bs+DXom72bQDFnENPVHlY8DDPVh4ia6F4ELPgAAAAmlBmu9JqEFsmUwIX//+jLAB/6zAc1iB33ue\n",
       "EAmlFwNR5VvJIoaiZEPGX/1/ChSRAMX1PIXMgVkaSWMHnboVqifdrIbicPRUz5pfBgPjbt5NJxWB\n",
       "LQZIoEsmgJN/s+fn83bfPFrklwnkIrMUkqwcIpxPioha9dm3T37JLtnc/UFG9oJ5DEhFHHUOm8WF\n",
       "uAVw9U1vPYWDPPQLyuMIDfNylRO8y+iSRzH8+sllpYVuVCT1aZOt8Sdo4FoFAOwh7Gjttp6raMbc\n",
       "KEFSoqgIgUNUcwr8sp2Ou83e56Iw2biYVrD1QdgTdE0xfifxnXFoXR3PPZIH/7q5tH8QQmVD3wI5\n",
       "xuxmjL13FbjmFWsucosqOTKFOw6hxza6xtcsVmnwbUs1H/ZNVayBvkcFMA53ABlt/yM1gwdw41eg\n",
       "oXv9h2HoeENYWomCtfP8Xv9L9YZhn5alt+YSipkdu004d16inhOcZRr03BO5W9e11lHYMTfeT5ek\n",
       "eQQWMQ8eyO+cYPiOsN7Lrlq+Thx6Q1+hPiijg7RJhWQEnGdhVNlA1J/DxwBSl9tHsPiXpO9xg/Tb\n",
       "R3+G++3j86gW+1Li01g1JzeeSP5KOvsJgzOrvE52HjaNitdASRFJaA2XcxTKHZ8a6I+lLNK9fVHU\n",
       "GmfiB7mN9ri3lF36Y5j2qYFMdAgqoRVpTQn4sahIJYnSgPrOM4khZG8c7LkOjoOFzyOXtoxSWf3z\n",
       "GlmAhxi0hPkpjKk9ncPfhxF0y8v2NbvTRlwPkn4KH/EHQL/yjI0ofDdH/hGI8NgwKoUKqvAeBMkQ\n",
       "Z8ad/jN0zVhDGjPUreNITi9KP6H16AAAALxBnw1FFSwj/wBUJOOyqQATrH9AlEggcDjYUq2xDhPp\n",
       "hvb7Th4/kgtp1IbojRjVSI1wYoWlhZ+wx2eKeh95TWA/v3sQmf5TbIDL0rQGxXTx5xAfHIYJi2Fz\n",
       "UOjRb2mtgg9O6j1oHNrRmZA+I+FTTbpCIlcSDyZxv4ctgq/BfjN0vVuTE3MuFr4oIz/72DCKgoOr\n",
       "45smp4l8+z2NRn1lclvWpsfYKAgIgt8DhXFuRvBtvbXleoPQ8CJ1OVdSkQAAALUBnyx0R/8AgrA0\n",
       "2clZ3+uTeNsVAA7AjTzgDzMPtUfV9D04cLF6zCsJac7oPuWzstglofrxB3K52qYKqhhJ7sykFeqS\n",
       "3s0oCd0P2F5dISVUB5cbtME9+SD0QSPAdO63M3Kqi+VlJwXlV8tjVLET59oUmSuFh+HLTqzQPM76\n",
       "snWHBRhS7MoFhMd8iBFjGSQdG4P2545qro6s7PfdBlxHdo9MQKwsHGXBu1tGGTt3x7vC/kFCQrJh\n",
       "AAAArAGfLmpH/wCCxzFJHl02BvmrvT8252z6ZmPOOXgANiaL1rtmA3ZFaG86bnDiHjoo6hQl8FnK\n",
       "jdooPExOT44f83D5fr790JStMvIQWzd9iNTQRftQkqdHz2GBJfI60ABpX7kSWcWMc8+CO3pQyq8w\n",
       "LnPlvItvE6WrSbzzuaN+qVHNVx5acCTaIX0m6YzIJplk3G3TdXUCa/3mj64p55kaAVdxVYbcqJvV\n",
       "rXic6cEAAAIGQZszSahBbJlMCF///oywBAS1n2kAEdobJe8y8y2Yq5WACEwIK220vfOnOPTe3+LW\n",
       "BmMzTYEle5hT1z47wjUdrpNk13ku5k1nNJODVmchtR1lILrZWlO8WWo8YtUgzFz0ex4I/34bGqZL\n",
       "KXtxK+GOaHYHa7KOBltxR90XSFCVElquePxfjhzdZwyYL5RgdjEjbj2PLPRBxuGMYYNoTTnHFw3m\n",
       "CjqAlgK7Xw6PMsN++M9ZoZ9qGMTS9JwJcTjbnYxe+XOkq4fjNA44nA6f8BDrVS+0fXyhQes+2oEJ\n",
       "NuHQ0IMXWQW8sGG0Er+IjKDga1yvfJt9CoeNstb9TIPQ4ycfIPBXogEHuL+mDCZbUA162SO35Ltz\n",
       "OLIuMV+T0r5sISK2GEobqQsXic9l0rh1R9N5cm3Edp1phF/W/WkwdpwDrnQLn1L8t4AWzEE3eM8P\n",
       "96+R2vtl8I0tWbUTP8o5ZYEzGhXw6cdTVpZ5Fhc4l3DFSKE5SCVrlPkcwjuE96HvMYt7UhI5FQIT\n",
       "wNUxnuD1RsCD8CU0uab5GLeLkVnflwzewhtbVEgKkCsMQlIdBt87OplXlqWaHYaAoDdwuUW4aKBb\n",
       "QOkA8VPjDujKJE2AKp88CWI0PzCL++EpX5WoQCP0M3GZslCe+Kb7vqKX7S7MEubDpN4I28iadS9/\n",
       "USX656OI6yVf8kTLt4AAAADXQZ9RRRUsI/8Cn4nr8zyv8dBsALZnrHqIU3bwAl5nqEFMw8m79yA3\n",
       "O5rl0pYoBESZyS12IiTXuHtml/67obQjAT5r+8/s1+QyldKJjNbvV4dlkKUbgTusbOqtmfsEC51Y\n",
       "N7VkvuziWQ1BUQ+QqRrohkxuoTXehn/BLFQK0b/oVtbXg1fTzpFYMP6tK/WSZDwRwjX8NcyTr546\n",
       "Sk+K/gRQVp5Px/NH0wy3BGnAj8j7QrUg9nIYYy2p++nR2CU4QrDvpzX0pVXuE+C3qo9rGlnN6VFW\n",
       "uqGI2PoAAADKAZ9wdEf/AIKv4dlpV/fAAL1CJDHP/35+ZORbu6iYMKQhAEhqcRxg6nt5E2Iz+0rE\n",
       "2wbYYAY2AtiHJ6IiNem99qfPQm0WjdnNWZmkQZVtKdlxUUzroSjH1W1rliVg26+9Op5FLhBA6zeV\n",
       "wYUzGrbtMwET4BT4sC18NLRmm6bV67E82jtpXHtYe+ZJQA+P8mXazbh7VHeM6fxaGEsbZvwiBo0r\n",
       "HVSOIINQoUFDP73NV5TBZMpyAJfkQ+z0td/Tf+KD8BhwgchCfaoOoQAAAKYBn3JqR/8EE+N1YbVs\n",
       "MwOgpH89wAOnLQFVAtemnbocFVTSz34u05mbac1Gi95go8rjg5wt9y5UctCqwgBiSwqE1LtazFxZ\n",
       "ugy/vj06j6C41nB6f5vbY8khBzY151u7idKDtE7YmgnGjQTPLMSgRxo5JUQho2juj7L+aHo9GB52\n",
       "xoUXmSFwvYDf7TBas35PEv2RYCgjazfERJQt5Hfd+i91p3VeWJYsAAABdkGbdEmoQWyZTAhn//6e\n",
       "EAu3Rq4zT6tqD974IaAATiUTkWFvb/UEvCd7/2ed9Xg31kPp3EaOp8HPgkULhrBhuwHrt6v6B8ya\n",
       "6qnWskEdEZka2zD6SxtuL2sNrSelR1KFPN7Cl7dR/kvjMMOYHvYCHqbajQ302IONMTx0hXzrIh58\n",
       "Du64kMr5umt8JXENIQevCKMwQgkdqNX7Hf6sYrDSK3hNV2tCYrBRRnw7g0BO0+FBjwr+CMpO1V2S\n",
       "yFsWEQp2T085Kemi2hEYzhmTGpYnxde7/2z2yUO4axAGGLVFBkWk+3RYY+bxiqOSw0TRbj0goEQC\n",
       "pXhyjEqUSAN9p/7nbR5JmawLRUvimZrrrL1Cp+JQUbZGNy/bbHhE83CgSKxqTIypQFd/zCqB2LGr\n",
       "6IgC8q42lj5F9fpqsO8ScYffnoaO/OtuuNQwZS69BQiNMkZR+QbHCAI3y8+yeMyhbIzhTJ8M2xRR\n",
       "pylr+SiikATwp32svHM2f+OAAAAB/UGbmEnhClJlMCF//oywAQCQjo/LgDj7SzUN4yKhF5vyUyR6\n",
       "EVQ/Pxhq7h3ihjIXDD52mzZ937dtDxEiQv0KZjoFKcJNuZ5p21iw7/8JR6dXIjS+k0gN76nKu57c\n",
       "xgMYY1pM2shKNyKQV0uCBp2MNY/y640lHjWdbl1Y9N7vrUWWlC94H3mZYw4INSxvY4oP1pygc8az\n",
       "azI6wWxUooG71vDiNEbfzgciA5ark0eRBvqTNFDDMlomMnCq+Z3kFW0fbRmMzuvVCTuO3OGb08da\n",
       "mH613VEqYZx7P8ETf6xL/dDOOWqse/ndJ1tI0e6KCd1zORUy+Xp9kc8XAOVLdJxpO8+Ig/e+xgX/\n",
       "lvR+RERCd/JiXdqlNubHHpTqEfaBiiarkxgsWgUTPTTejkEIO1pRYBRyjC5lPOwBPH32PFW7HB/n\n",
       "uaR8wSHDDsbzAuDMxYii62Rvxq7s0oTp3FkO8acIAQrAOAKOuambvcBozQL+iEuLP3eMk/PHtK0E\n",
       "fj2bB5JnmpINyqKT/zz5abgffrWyy6hUJpIC5qIV2ZBt/y61nf0wjwTw2jcpf5ylRpPN0EKZNi5L\n",
       "W0PG3fZpLlOiYgOS5bXNuzOgH1WvJqm/AF7ogcILNx39ZJUAQ7WxeLNlNLMcOeqeYZM5NG6BJ6eI\n",
       "h9BruLCNCRugA/KU4mnSY35xAAAAsUGftkU0TCP/AFMOiRZKk/OaOhwAIbHBwKzpvXtzm86mGOMa\n",
       "OFvK3O6N0RL6odz31NxRJZBdvZHrKO4Pseom1D9LleZJj74E3XxZkrv7LjD4fkuE8gQgcpl4kzjE\n",
       "ywFs3ulRsd30xW+BX72vxDfNkaLGwPJxnKvc4zuiNr+Jwq3zU+cZ5PsCliLwLAhe+ml4JEAbxz61\n",
       "m37BBX3N3F8V2PECl7ZlFTrSTfI7hcW/LuuxbwAAAFwBn9V0R/8AgwxeJEPUlHYOBplE85mTbRwo\n",
       "DKjWX3o29Py0JxYSDz7v4AQUDGoQeqZebI0oNaBHDosZYg51j16qlc0rc74DYJ/ig6iJDCgGb7k+\n",
       "i3NtyfVGGzHlVwAAAIIBn9dqR/8Agskl7OHUrOkACH3iMWXpoQX1wWqz+vvfHFsuz/D4/ay5v23W\n",
       "DCXdHeW/VWms/HTiTlCT12onl7vqfo+4UiFvPUl724QeZiQk3OSvrcQ8qOTK1fNyyYluTJNwIihs\n",
       "vtt7tL07iU2sJApGaG6LJ3gMe2gCLz6xGZDl6nTTAAABf0Gb20moQWiZTAhn//6eEAD+NP0XQCYA\n",
       "Ivp+vVTx9HsUPo64paegJMYz60NGyZ6Xv01D+644wbN0ZBe3e+rycEJZ8DtjTFoFkJn+dBxfrZeu\n",
       "ts2Wuybxs6qoEQ/pjInyIzzo+XQflpCmH4x9Tze1EHzoZbnzJrn+jUINxjuKHQHQcG8FEUD//0aN\n",
       "wVa9Ch85ilVnVaBMYtDPbaIzCbV+vFrg5Kc7lkukOJZc+USV7QbmiAzPbuNdqdROketeLjA0it47\n",
       "KAbut4WzJ8KL+d548mxxYZMSmDJSvF4N4B30vfoIrQXYL2jCGu3GzRU8/bIaXZIyKLlzNO6bgWOJ\n",
       "y45lOgtAwPE4cH5mykDnR/TOH7kztq1KDJtfC4V2CLPs6gUGESvIxrE49PQM2OFVzR6xGLRdgi2x\n",
       "4MReDZattsW5oyCcQONfZB8x2VXdiaGgpkNBBzE9ZGynP4sx1QXrRUvoXDQ2iVsBxylcZWXwEi1+\n",
       "J5QH6VSdPAovHUuMqhzVa2igAAAAkUGf+UURLCP/AFQydeAEKd40kTXMYPYGubIJuQQnU872pu7f\n",
       "0C08I7hxlP6WVzcA1Z2HfhFEOYIvOkwt0pjeOJcO79XmGwqt7ghsWZix4MPqn2EEtzXNJSDISPqG\n",
       "1nxk3vsvcrnvn6f4hjK2BQyafrJkjOcQ7AnYAuue9rpXhcGeynxKxIagkLrXZKq1WiZCQqsAAABp\n",
       "AZ4aakf/AIJo37D8zZSzVpAAht7OvKBJuWPxrpKchd/WrTCAg6cEu1SZ0ATdeXh7CJBKGMw4vxXH\n",
       "sEn9BbKpsRqSNmSkC7U7DjrtiAPBNNRSgp5L/3FZbCc0WzA9yrI8ESwz3NvmHBxwAAABSEGaH0mo\n",
       "QWyZTAhn//6eEAPyI2QAiXZ/3f91MuiinJzOhQszJBaSxR+u+xw90ZDR2/2XeBp4YUe96gOeWL4O\n",
       "KDHUk+q3nc/ry7KSP66Avq21PVywW5yZeBG3ZeM0SwPVyYWb6KsS7ZmWkgfY9zKUQ9zE4iX7vgDS\n",
       "wnwyK+mVlJNpIM2AIgDUcG5rveSs7yCDVCmpreXErwpOPSR2Y2wCz8CWYGhC8eeLe2YAc+XpUx6L\n",
       "mbKeyS1qvgjL+Hi67RKsEAQDZsuj07alAZ5DYac4A23oy8qGmW8jKYf1vQn2x5hizq3TaPTgx7qQ\n",
       "v0tTAx4XSoqIYXW/UAV9QrvcPnzLTTZjoeTf6HC7KmmXbWs15SmFBxBc6gL3owrFV6rkPSgjxsUB\n",
       "QsiYsDQRpjg2bPNihQjeruCtafaJ6esfPzMfq66DG4G2cDtA9eEAAACMQZ49RRUsI/8BUFWC+cP1\n",
       "0cANwkGmKTC7XX1pXK9K/vU/WZBxAw/dSVstRiQs4wLyd7NXwubrcFSOrUS7kagCMKgZIIAPQ6Lb\n",
       "+w3ice44wG6oz2N23OT/dYDRTcH5fpgLrHDIIOS2Q9u6el5YQoO7cG0GU7odYN6DTgUzFf+6FcnA\n",
       "ATgdYhctKzXY20EAAABbAZ5cdEf/AgrDum6q4SFLJwfDPHvZgAg+jYrRHEwGZo8R8ttsT39XVUPb\n",
       "3oJm7WPLOm5CNkfK7io+jz7Rl6LqaNHDJwdJYUIXINZjkCBq/sRodySA2xG+n0wXEAAAAEIBnl5q\n",
       "R/8AhvwQxrc8arJSxmLCvwNFUgANiiuUxGLYv394XXTybwq9w+7qyvE4DBT+dRJh16q1H7//Y5ER\n",
       "gJLEhX4AAAErQZpDSahBbJlMCGf//p4QAQb4ravp04AHFotChmQOuJmd5qEnG0hdfoHLUQ4pBft0\n",
       "LbKxaCOZFZh5LPYkcHagT4YNdMU3dqx7poQwJPVlB3M4mVHQ+P8wJ/7RHASPNxD8tngSKG6tU26s\n",
       "2fegRrUleAArXzqrYOrv8cj/azp1UWYJtbEjaal9ZaC33PAhk1Ti75p0c9ZHlpVOBpBtNckkp+e+\n",
       "mN0ETwBgYOCE61dEWe4qOmF8NCVv+lxZPtavpTFOHsF5VTycw9JWWPa0CEnKLzs9WacYsrEAJ/3F\n",
       "mN1iwra32PTSze2YtuVJ/Uo8spQ27n4Oea+u+C+Qa4GvpuEa6Olyt9X1qlL4uGJqeXa8qYVtutYy\n",
       "ccmOVkgwkaX4U3jKJDgbfwzl0fo2JjcAAABnQZ5hRRUsI/8AU9Pv3RA8EVSz7oh95cd0PcgAm+Ua\n",
       "AQHYvO4rhXV0VarJJob67xvl1BH62wvAcPO7+WVZ5KWfdcqwwDTsO9Vta/222511cMxA3M2ChNph\n",
       "36qE0kne2kVDTFYiT29ewAAAAEQBnoB0R/8AhuLNUkYzgAfh+C+Ma3oPohDSe1jqZ4gfxOhtr7gw\n",
       "LpFTevSoquTWC7S0N7abUV9y3Y5oJVABCL4VWvGugQAAAEMBnoJqR/8AgsjC01cX3G3ml+jgAa5e\n",
       "wYr+AWT61PNL8fFqEmKRl5PWhIm1N34theWU6T7O9em1rXkeroOOkRFpwCRgAAABQ0Gah0moQWyZ\n",
       "TAhn//6eEAP3hf/h8TfAARkfcLR5JzHtSHVSzZsCEP2KREI6bo2THyUBcinAf2Ol9B6awvZUE2LT\n",
       "xfcpKYE6NAhHyyxIW+7KSjXcHKr/Sn5W3bGjMz2tc1Nah3x05vAGUCelQ4KvH8PmCtlDu3p0sqK2\n",
       "3KcCxd9cWpZ3QEMRvmkVlV66KPEtEo7kzZNAne66t4+B2cgXAR6YGgbwTsYVcVU8EEo/JG/tkYon\n",
       "vSFkNhRR18F0UWkWrhe+HekqFC4FxrhVW90CVgmQzVYuioul4w9/+0WZxVT4Y7TFGP0QffDKAWJ5\n",
       "B7ry9OoQNjgqyI0oTD9mDn3rpxRQCU6cieVMHl6DrBsy+Wt5EMsSzM26lDDbEiM+I7l36eJrztCD\n",
       "Iu2+rMzet6teUJh+/M/rKQdSYs1NTwrZpmPMjlZhAAAAgUGepUUVLCP/Ap+J6/M7eO76WPAAcGxu\n",
       "n2/WLBYNg8i23z+HUwB6hJOIRcfPTtP1EhGwLJGdHqbyeRO7KBytUh/Y/sVKsjnPor6uhv9sTToj\n",
       "f2hFy7t0rleB6bACPpqL9CV2kzHStHluWS5YNaKrh4TrQS8S4hLrHz+g/8PJzWxKmQAAACoBnsR0\n",
       "R/8Agw04yjgolHoRiNlGnJ0HcH2kSy7IVHm6umRno+R0qOf8CzkAAAAqAZ7Gakf/BBPjdWGde7kS\n",
       "3woT0/ftuXJ42pI7CAG3EvbAUF6kk8gJ+9thAAAA30Gay0moQWyZTAhf//6MsAvPP6xt00vdkAHF\n",
       "MIzKfX091sqvjPg06btJC+UcE4EZwhF9ZSCXKV2iAYsMU/qRXCmeSU4fQIgJ1I+cIKYJB/yCpatW\n",
       "w0Vd7tXKNEu+fPselHTYtvqADCzLnKNYaSNjXf4lFeCZax5KMLsoNRUBnYqgrLfw63QWul+Xdjua\n",
       "w6zT6ESFLH0cRwt6wOZMVK8OnMRvAS2mbV/D9Oz8JK42b92ibn/qv/rc5Z/RRXNIVeiE8YBUrFVX\n",
       "0I8B+ILPe1Py1mOmaPeOHX82UaumFYOMlYAAAABTQZ7pRRUsI/8CnqvhwRZDOusewWgBa1gWUwF8\n",
       "Zxf2tQpxUfO5f96e31/7qnveWrisou0QjlHdN/+6zrUzV8T9go+/HDa9uYUz0Z22p7b1Wc4Ax4AA\n",
       "AABHAZ8IdEf/BBGIRhDVXHOHQAlZiQ0m6+n18x/q+Y1wVIh7C4eZHKW2fbACD5IKwCCo6iZQghfV\n",
       "LIb+7RDRoflspjM83NuNIYEAAABWAZ8Kakf/AIL8cxTMrs4qb9Uks6Qy6kAEKvLYiEp3rX9WvPxw\n",
       "9V7T8q742/R6dM6q45f43WXqZFlo3K1k/mpg09xbogvzWYyeTM/l20biVF54tpcvTUgAAADTQZsP\n",
       "SahBbJlMCF///oywAP/soRADcT1hFZsWswNLsXzDHAFIzPubb/gSEO94dmSBPV8O5AlrmaecHB7U\n",
       "z5Vg+Jjj6A2zork0RPMG5a7kc7ZcAdJJzY2gv2uMSRfvuRECfy8JQF4JNxPqBEkPy7D5Zp/6U9Ea\n",
       "EQml/pUeW9sOFkKi9aHvf1pOBiyf4vcS4oVuc3M5nDplcs/1plDlXZa4DLpm4EydLHKcJiyZZaZS\n",
       "5ipdtJAy3KBdJ6aBy/eGjzoGHutBr5EqKUggcs3EeCjxlUlJFAAAAE9Bny1FFSwj/wBUMUm0I7EA\n",
       "IJssmtsiHrAZy+Afx2uYkhFmw3diG/sIZgtX8220Sealk3s9vN/6ysI04z4PmJWWD1OPngXaMSYW\n",
       "nfmCUA2HAAAALwGfTHRH/wBDhi8Jnf12o41ZACAUIS+U9KM/TdioATcyVvOWt0YyEMVcYf00JGEf\n",
       "AAAANwGfTmpH/wCC/IxFfAMk2lMCh6uc8Rt6BPw2d8p9pO/trN/+wAATvVNoEbnqu5uTKEpwL2rF\n",
       "90EAAAD7QZtTSahBbJlMCF///oywBAddv8Pid/ABxt8B/nAc9sXYOYLLbCVfF4G2jGjz4zGXadPR\n",
       "+1soJN0J+/Zhe1BTZp/AVnQVRQV+WsP4nV3T0lp6VttwE1BLnmyYRO3HvGWoOQrU2LyDzcqSY/Hl\n",
       "zPFlFva6g+Zf2ot8XiMRUZYi3BrmJZVbaQwHts6HKi7O9VDWPQbF8+m9l8/O0FGY8oBf0N+XT/Vt\n",
       "i6osDGMmgHt3UjU1cdYwwUNQTCtOz9nbXzel3Xzs1nzOFCgAyjOjWlijCTCOcCCC95BIVnVZrh4i\n",
       "Q7kRiZ7fY3+fd9JyHxA8O+TqOJavA5D3ARUvh7AAAAA1QZ9xRRUsI/8Cn4nf4llWJ+ccNdNz8c5t\n",
       "dIvMgzHGNwIbM2X9G7xAobM/zHZLpMWno7LI6XUAAAAgAZ+QdEf/Agw0JBQFgUhJrL8N5hMNnzwA\n",
       "OwQ8jfZ9m1MAAAAhAZ+Sakf/BBPj7B4cHSjUQRtL1PH/FpBfBuItT9UFpw2YAAAAsUGbl0moQWyZ\n",
       "TAhX//44QCv8zW6URWc4XdO4mMwcwEwAkiTJcLd27h8T01Bhp4Dki31INeBN9QD5LheZnCNtDb6R\n",
       "7UW70BWdS+8xo/ObdHssvCUMy0TdzSM1wOCI5bhxgaikAweO8l7oK6dUDf4YVMfseVtKq/faoVNj\n",
       "umxkeBZwO/sI7W5R1uyxkaFzK6uQs6/tqnvYjjGJNfvpY++d4z7bGFxq9ujyOnxSGUcjpZr2tAAA\n",
       "AF9Bn7VFFSwj/wKeq+NdR2kAATrCpZlcCblGQA/gBs1DJfoAvbahSqpMiKL4wXUBqw0kFIRh9L/9\n",
       "VknqvJ2zEqm/+35Qe+ixYxRwqFslvNNC4Rodt02eLHXXsTCMnyDMgQAAADQBn9R0R/8EEYhHWggO\n",
       "IoGpTeMVdhgkgBCbcufST6Y21MdSt/OalWbKfxJ1VyKtCNRBXmfAAAAAJQGf1mpH/wCGxzD3UZME\n",
       "6UUqv3MFrIm0UGYO8ayzRv9hI0tUvZUAAABnQZvbSahBbJlMCP/8hADrrneACai63qtBhQ8l1R9F\n",
       "jMuxE53sRzH/ljLJKgl/94Hnyc9RsYhG+XevBW1zPiXtYil3TEQ7tudcOBhRww1Y80NNcVtDFHbH\n",
       "wzkOIJCEpOYblIMt3UctMQAAADdBn/lFFSwj/wFQxPX+SX7pZAZtqIAA0u++9XkUEng/lpUpfzjT\n",
       "V9kaHKXoDOA2Rba5yO5aZWjAAAAAGgGeGHRH/wBDWJBEMM+Lm/fvIq1kfiWdnIuBAAAALgGeGmpH\n",
       "/wIL8cxKDqYPRDFvnEetlAvkAjojXeyiNnNNABtAnk+iQcJsx+w+64AAAAXubW9vdgAAAGxtdmhk\n",
       "AAAAAAAAAAAAAAAAAAAD6AAABLAAAQAAAQAAAAAAAAAAAAAAAAEAAAAAAAAAAAAAAAAAAAABAAAA\n",
       "AAAAAAAAAAAAAABAAAAAAAAAAAAAAAAAAAAAAAAAAAAAAAAAAAAAAAAAAgAABRh0cmFrAAAAXHRr\n",
       "aGQAAAADAAAAAAAAAAAAAAABAAAAAAAABLAAAAAAAAAAAAAAAAAAAAAAAAEAAAAAAAAAAAAAAAAA\n",
       "AAABAAAAAAAAAAAAAAAAAABAAAAAAbAAAAEgAAAAAAAkZWR0cwAAABxlbHN0AAAAAAAAAAEAAASw\n",
       "AAACAAABAAAAAASQbWRpYQAAACBtZGhkAAAAAAAAAAAAAAAAAAAyAAAAPABVxAAAAAAALWhkbHIA\n",
       "AAAAAAAAAHZpZGUAAAAAAAAAAAAAAABWaWRlb0hhbmRsZXIAAAAEO21pbmYAAAAUdm1oZAAAAAEA\n",
       "AAAAAAAAAAAAACRkaW5mAAAAHGRyZWYAAAAAAAAAAQAAAAx1cmwgAAAAAQAAA/tzdGJsAAAAs3N0\n",
       "c2QAAAAAAAAAAQAAAKNhdmMxAAAAAAAAAAEAAAAAAAAAAAAAAAAAAAAAAbABIABIAAAASAAAAAAA\n",
       "AAABAAAAAAAAAAAAAAAAAAAAAAAAAAAAAAAAAAAAAAAAAAAAGP//AAAAMWF2Y0MBZAAe/+EAGGdk\n",
       "AB6s2UGwloQAAAMABAAAAwGQPFi2WAEABmjr48siwAAAABx1dWlka2hA8l8kT8W6OaUbzwMj8wAA\n",
       "AAAAAAAYc3R0cwAAAAAAAAABAAAAPAAAAQAAAAAUc3RzcwAAAAAAAAABAAAAAQAAAeBjdHRzAAAA\n",
       "AAAAADoAAAABAAACAAAAAAEAAAQAAAAAAgAAAQAAAAABAAAFAAAAAAEAAAIAAAAAAQAAAAAAAAAB\n",
       "AAABAAAAAAEAAAUAAAAAAQAAAgAAAAABAAAAAAAAAAEAAAEAAAAAAQAABQAAAAABAAACAAAAAAEA\n",
       "AAAAAAAAAQAAAQAAAAABAAAFAAAAAAEAAAIAAAAAAQAAAAAAAAABAAABAAAAAAEAAAIAAAAAAQAA\n",
       "BQAAAAABAAACAAAAAAEAAAAAAAAAAQAAAQAAAAABAAAEAAAAAAIAAAEAAAAAAQAABQAAAAABAAAC\n",
       "AAAAAAEAAAAAAAAAAQAAAQAAAAABAAAFAAAAAAEAAAIAAAAAAQAAAAAAAAABAAABAAAAAAEAAAUA\n",
       "AAAAAQAAAgAAAAABAAAAAAAAAAEAAAEAAAAAAQAABQAAAAABAAACAAAAAAEAAAAAAAAAAQAAAQAA\n",
       "AAABAAAFAAAAAAEAAAIAAAAAAQAAAAAAAAABAAABAAAAAAEAAAUAAAAAAQAAAgAAAAABAAAAAAAA\n",
       "AAEAAAEAAAAAAQAABQAAAAABAAACAAAAAAEAAAAAAAAAAQAAAQAAAAABAAAFAAAAAAEAAAIAAAAA\n",
       "AQAAAAAAAAABAAABAAAAABxzdHNjAAAAAAAAAAEAAAABAAAAPAAAAAEAAAEEc3RzegAAAAAAAAAA\n",
       "AAAAPAAADIkAAAMpAAABIAAAALsAAAJiAAABMwAAAOQAAADfAAAC9wAAARwAAAC+AAAAugAAAm0A\n",
       "AADAAAAAuQAAALAAAAIKAAAA2wAAAM4AAACqAAABegAAAgEAAAC1AAAAYAAAAIYAAAGDAAAAlQAA\n",
       "AG0AAAFMAAAAkAAAAF8AAABGAAABLwAAAGsAAABIAAAARwAAAUcAAACFAAAALgAAAC4AAADjAAAA\n",
       "VwAAAEsAAABaAAAA1wAAAFMAAAAzAAAAOwAAAP8AAAA5AAAAJAAAACUAAAC1AAAAYwAAADgAAAAp\n",
       "AAAAawAAADsAAAAeAAAAMgAAABRzdGNvAAAAAAAAAAEAAAAsAAAAYnVkdGEAAABabWV0YQAAAAAA\n",
       "AAAhaGRscgAAAAAAAAAAbWRpcmFwcGwAAAAAAAAAAAAAAAAtaWxzdAAAACWpdG9vAAAAHWRhdGEA\n",
       "AAABAAAAAExhdmY1Ny43NS4xMDA=\n",
       "\">\n",
       "  Your browser does not support the video tag.\n",
       "</video>"
      ],
      "text/plain": [
       "<IPython.core.display.HTML object>"
      ]
     },
     "execution_count": 34,
     "metadata": {},
     "output_type": "execute_result"
    }
   ],
   "source": [
    "from IPython.display import HTML\n",
    "\n",
    "import Problema1\n",
    "\n",
    "HTML(Problema1.anim.to_html5_video())\n",
    "#display_animation(Problema1.anim)"
   ]
  },
  {
   "cell_type": "code",
   "execution_count": null,
   "metadata": {
    "collapsed": true
   },
   "outputs": [],
   "source": []
  }
 ],
 "metadata": {
  "kernelspec": {
   "display_name": "Python 3",
   "language": "python",
   "name": "python3"
  },
  "language_info": {
   "codemirror_mode": {
    "name": "ipython",
    "version": 3
   },
   "file_extension": ".py",
   "mimetype": "text/x-python",
   "name": "python",
   "nbconvert_exporter": "python",
   "pygments_lexer": "ipython3",
   "version": "3.6.0"
  }
 },
 "nbformat": 4,
 "nbformat_minor": 2
}
