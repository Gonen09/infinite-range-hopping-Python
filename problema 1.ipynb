{
 "cells": [
  {
   "cell_type": "markdown",
   "metadata": {},
   "source": [
    "# *Modelo de Bose-Hubbard con interacción de rango infinito*"
   ]
  },
  {
   "cell_type": "markdown",
   "metadata": {},
   "source": [
    "$$\n",
    "\\rho = \\rho(\\beta,\\mu) = \\frac{\\sum_{n=1}^\\infty = ne^{\\beta[(\\mu+\\lambda-1)n-\\lambda n^{2}]}}{\\sum_{n=0}^\\infty = e^{\\beta[(\\mu+\\lambda-1)n-\\lambda n^{2}]}}\n",
    "$$"
   ]
  },
  {
   "cell_type": "markdown",
   "metadata": {},
   "source": [
    "### Parametros"
   ]
  },
  {
   "cell_type": "markdown",
   "metadata": {},
   "source": [
    "__β__ : Temeperatura inversa.\n",
    "\n",
    "__λ__ : Constante asociada al término no lineal $\\hat{n}^2$ del operador de energía positiva.\n",
    "\n",
    "__µ__ : Potencial químico.\n",
    "\n",
    "__N__ : Número de partículas en el sistema. "
   ]
  },
  {
   "cell_type": "markdown",
   "metadata": {},
   "source": [
    "### Condiciones"
   ]
  },
  {
   "cell_type": "markdown",
   "metadata": {},
   "source": [
    "$0 < β,λ$\n",
    "\n",
    "µ : Sin restricciones."
   ]
  },
  {
   "cell_type": "markdown",
   "metadata": {},
   "source": [
    "## *Desarrollo*"
   ]
  },
  {
   "cell_type": "markdown",
   "metadata": {},
   "source": [
    "### Dependencias"
   ]
  },
  {
   "cell_type": "code",
   "execution_count": 45,
   "metadata": {
    "collapsed": true
   },
   "outputs": [],
   "source": [
    "import math\n",
    "import matplotlib.pyplot as plt\n",
    "import time"
   ]
  },
  {
   "cell_type": "markdown",
   "metadata": {},
   "source": [
    "### Valores de *µ*"
   ]
  },
  {
   "cell_type": "markdown",
   "metadata": {},
   "source": [
    "$$\n",
    " \\rho(\\beta,\\mu) = \\left\\{\n",
    "       \\begin{array}{ll}\n",
    "     0      & \\mathrm{si\\ \\quad} \\mu < 1 \\\\\n",
    "     K & \\mathrm{si\\ \\quad} 2(K - 1) \\Lambda +1 < \\mu < 2K \\Lambda +1 \\\\\n",
    "       \\end{array}\n",
    "     \\right.\n",
    "$$"
   ]
  },
  {
   "cell_type": "code",
   "execution_count": 46,
   "metadata": {
    "collapsed": true
   },
   "outputs": [],
   "source": [
    "def rangoK(k, lam):\n",
    "    \"\"\"Funcion del pimpa\"\"\"\n",
    "    limInf = 2*(k-1)*lam+1\n",
    "    limSup = 2*k*lam+1\n",
    "    return (limInf, limSup)"
   ]
  },
  {
   "cell_type": "markdown",
   "metadata": {},
   "source": [
    "\\begin{equation}\n",
    "f_{1} = \\sum_{n=1}^\\infty = ne^{\\beta[(\\mu+\\Lambda-1)n-\\Lambda n^{2}]}\n",
    "\\end{equation}"
   ]
  },
  {
   "cell_type": "code",
   "execution_count": 47,
   "metadata": {
    "collapsed": true
   },
   "outputs": [],
   "source": [
    "def f1(b, u, lam, N):\n",
    "    sumatoria = 0\n",
    "    for n in range(1, N):\n",
    "        sumatoria += n*math.exp(b*((u+lam-1)*n-lam*math.pow(n, 2)))\n",
    "    return sumatoria"
   ]
  },
  {
   "cell_type": "markdown",
   "metadata": {},
   "source": [
    "\\begin{equation}\n",
    "f_{2} = \\sum_{n=0}^\\infty = e^{\\beta[(\\mu+\\Lambda-1)n-\\Lambda n^{2}]}\n",
    "\\end{equation}"
   ]
  },
  {
   "cell_type": "code",
   "execution_count": 48,
   "metadata": {
    "collapsed": false
   },
   "outputs": [],
   "source": [
    "def f2(b, u, lam, N):\n",
    "    sumatoria = 0.0\n",
    "    for n in range(N):\n",
    "        resul = math.exp(b*((u+lam-1)*n-lam*math.pow(n, 2)))\n",
    "        sumatoria += resul\n",
    "    return sumatoria"
   ]
  },
  {
   "cell_type": "markdown",
   "metadata": {},
   "source": [
    "### Parámetros formula"
   ]
  },
  {
   "cell_type": "code",
   "execution_count": 49,
   "metadata": {
    "collapsed": false,
    "scrolled": true
   },
   "outputs": [],
   "source": [
    "B = 2  # Temperatura inversa\n",
    "U = 0.5\n",
    "lam = 3\n",
    "N = 10\n",
    "K = 0.3  # Entero positivo"
   ]
  },
  {
   "cell_type": "markdown",
   "metadata": {},
   "source": [
    "### Obtención de *ρ* y *µ*"
   ]
  },
  {
   "cell_type": "markdown",
   "metadata": {},
   "source": [
    "$$\n",
    "\\rho_{0} = \\frac{f_{1}}{f_{2}}\n",
    "$$"
   ]
  },
  {
   "cell_type": "code",
   "execution_count": 50,
   "metadata": {
    "collapsed": false,
    "scrolled": true
   },
   "outputs": [],
   "source": [
    "class FuncionRo(object):\n",
    "    def __init__(self):\n",
    "        self.densidad_punto = 100.0\n",
    "        self.rango_eje_x = [-10, 15]\n",
    "        self.u = []  #ejex\n",
    "        self.ro = [] #ejey\n",
    "        self.b = B # inversa de la temperatura\n",
    "        self.n = N\n",
    "        self.lam = lam\n",
    "\n",
    "    def funcionRo(self):\n",
    "        densidad_puntos = self.densidad_punto\n",
    "        rango_de_U = self.rango_eje_x\n",
    "        x = self.u = []\n",
    "        y = self.ro = []\n",
    "        u = rango_de_U[0]\n",
    "\n",
    "        for i in range(int(densidad_puntos)):\n",
    "            u += (rango_de_U[1] - rango_de_U[0]) / densidad_puntos\n",
    "            try:\n",
    "                ro = f1(self.b, u, self.lam, self.n) / f2(self.b, u, self.lam, self.n)\n",
    "                x.append(u)\n",
    "                y.append(ro)\n",
    "            except ZeroDivisionError:\n",
    "                print('Division por cero')\n",
    "                break\n",
    "            except OverflowError:\n",
    "                print('overflow')\n",
    "                break\n",
    "        return x, y\n",
    "x, y = FuncionRo().funcionRo()        "
   ]
  },
  {
   "cell_type": "markdown",
   "metadata": {},
   "source": [
    "### Obtención verificador "
   ]
  },
  {
   "cell_type": "markdown",
   "metadata": {},
   "source": [
    "$$\n",
    "\\frac{\\mu + \\lambda - 1}{2 \\lambda} \n",
    "$$"
   ]
  },
  {
   "cell_type": "code",
   "execution_count": 51,
   "metadata": {
    "collapsed": true
   },
   "outputs": [],
   "source": [
    "def verificador (U, lam):\n",
    "    resultado = (U + lam -1)/2*lam\n",
    "    return resultado"
   ]
  },
  {
   "cell_type": "markdown",
   "metadata": {},
   "source": [
    "### Graficador"
   ]
  },
  {
   "cell_type": "code",
   "execution_count": 52,
   "metadata": {
    "collapsed": false
   },
   "outputs": [],
   "source": [
    "class Grafica():\n",
    "    def __init__(self):\n",
    "        self.x = []\n",
    "        self.listaY=[]\n",
    "\n",
    "        self.limInfx = 0\n",
    "        self.limSupx = 0\n",
    "        self.limInfy = 0\n",
    "        self.limSupy = 0\n",
    "\n",
    "        self.fig, self.ax = plt.subplots()\n",
    "\n",
    "    def funcionX(self, func):\n",
    "        self.x = func\n",
    "\n",
    "    def agregarFuncionY(self, funcion, color, figura, label):\n",
    "        funcion.funcionRo()\n",
    "        y = funcion.ro\n",
    "        self.listaY.append([funcion, color, figura, label])\n",
    "        if len(self.listaY) == 1:\n",
    "            self.limInfx = min(self.x) - 1\n",
    "            self.limSupx = max(self.x) + 1\n",
    "            self.limInfy = min(y) - 1\n",
    "            self.limSupy = max(y) + 1\n",
    "        else:\n",
    "            if min(y) -1 < self.limInfy:\n",
    "                self.limInfy = min(y) -1\n",
    "\n",
    "            if max(y) +1 > self.limSupx:\n",
    "                self.limInfy = max(y) +1\n",
    "                \n",
    "    def mostrarGrafico(self):\n",
    "        for y in self.listaY:\n",
    "            x_, y_ = y[0].funcionRo()\n",
    "            label = 'B: '+str(y[0].b)\n",
    "            label+= ' lam: '+str(y[0].lam)\n",
    "            self.ax.plot(self.x, y_, y[1]+y[2],linewidth = 2, label = label)\n",
    "        plt.title('ρ vs μ')\n",
    "        plt.ylabel('ρ')\n",
    "        plt.xlabel('μ')\n",
    "        legend = self.ax.legend(shadow=True)\n",
    "        plt.show()\n",
    "    "
   ]
  },
  {
   "cell_type": "markdown",
   "metadata": {},
   "source": [
    "# Experimentacion"
   ]
  },
  {
   "cell_type": "code",
   "execution_count": 53,
   "metadata": {
    "collapsed": false
   },
   "outputs": [],
   "source": [
    "#Obtener la funcion con los siguientes parametros\n",
    "funcionExperimental1 = FuncionRo()\n",
    "#la dencidad de puntos tiene que ser decimal\n",
    "funcionExperimental1.densidad_punto = 30.0\n",
    "funcionExperimental1.rango_eje_x = [-10, 15]\n",
    "funcionExperimental1.b = B # inversa de la temperatura\n",
    "funcionExperimental1.n = N\n",
    "funcionExperimental1.lam = 3\n",
    "#funcionExperimental1.funcionRo()"
   ]
  },
  {
   "cell_type": "code",
   "execution_count": 54,
   "metadata": {
    "collapsed": false
   },
   "outputs": [
    {
     "data": {
      "image/png": "[encoded data removed]",
      "text/plain": [
       "<matplotlib.figure.Figure at 0x76f32f0>"
      ]
     },
     "metadata": {},
     "output_type": "display_data"
    }
   ],
   "source": [
    "B = 2  # Temperatura inversa\n",
    "U = 0.5\n",
    "lam = 3\n",
    "N = 10\n",
    "K = 0.3  # Entero positivo\n",
    "\n",
    "x1, y1 = funcionExperimental1.funcionRo()#arreglos_B_XY(2, U, lam, N)\n",
    "grafico = Grafica()\n",
    "grafico.funcionX(x1)\n",
    "grafico.agregarFuncionY(funcionExperimental1, 'r', '.', 2)\n",
    "grafico.mostrarGrafico()"
   ]
  },
  {
   "cell_type": "code",
   "execution_count": 55,
   "metadata": {
    "collapsed": false
   },
   "outputs": [
    {
     "data": {
      "image/png": "[encoded data removed]",
      "text/plain": [
       "<matplotlib.figure.Figure at 0x77e1e10>"
      ]
     },
     "metadata": {},
     "output_type": "display_data"
    }
   ],
   "source": [
    "#cambiando la experimentacion con un B = 4\n",
    "funcionExperimental1 = FuncionRo()\n",
    "funcionExperimental1.b = 2\n",
    "funcionExperimental2 = FuncionRo()\n",
    "funcionExperimental1.b = 5\n",
    "\n",
    "x1, y1 = funcionExperimental1.funcionRo()\n",
    "grafico = Grafica()\n",
    "grafico.funcionX(x1)\n",
    "grafico.agregarFuncionY(funcionExperimental1, 'r', '.', 2)\n",
    "grafico.agregarFuncionY(funcionExperimental2, 'k', '-', 2)\n",
    "grafico.mostrarGrafico()"
   ]
  },
  {
   "cell_type": "code",
   "execution_count": 56,
   "metadata": {
    "collapsed": false
   },
   "outputs": [],
   "source": [
    "\n",
    "#x1, y1 = arreglos_B_XY(50, U, lam, N)\n",
    "#grafica(x1, y1)"
   ]
  },
  {
   "cell_type": "code",
   "execution_count": 57,
   "metadata": {
    "collapsed": false
   },
   "outputs": [],
   "source": [
    "#x1, y1 = arreglos_B_XY(100, U, lam, N)\n",
    "#grafica(x1, y1)"
   ]
  },
  {
   "cell_type": "code",
   "execution_count": 58,
   "metadata": {
    "collapsed": false,
    "scrolled": true
   },
   "outputs": [],
   "source": [
    "#x1, y1 = arreglos_B_XY(200, U, lam, N)\n",
    "#grafica(x1, y1)"
   ]
  },
  {
   "cell_type": "code",
   "execution_count": 59,
   "metadata": {
    "collapsed": false
   },
   "outputs": [
    {
     "data": {
      "text/html": [
       "<video width=\"432\" height=\"288\" controls autoplay loop>\n",
       "  <source type=\"video/mp4\" src=\"data:video/mp4;base64,AAAAHGZ0eXBNNFYgAAACAGlzb21pc28yYXZjMQAAAAhmcmVlAAA7Ym1kYXQAAAKuBgX//6rcRem9\n",
       "5tlIt5Ys2CDZI+7veDI2NCAtIGNvcmUgMTUyIHIyODUxIGJhMjQ4OTkgLSBILjI2NC9NUEVHLTQg\n",
       "QVZDIGNvZGVjIC0gQ29weWxlZnQgMjAwMy0yMDE3IC0gaHR0cDovL3d3dy52aWRlb2xhbi5vcmcv\n",
       "eDI2NC5odG1sIC0gb3B0aW9uczogY2FiYWM9MSByZWY9MyBkZWJsb2NrPTE6MDowIGFuYWx5c2U9\n",
       "MHgzOjB4MTEzIG1lPWhleCBzdWJtZT03IHBzeT0xIHBzeV9yZD0xLjAwOjAuMDAgbWl4ZWRfcmVm\n",
       "PTEgbWVfcmFuZ2U9MTYgY2hyb21hX21lPTEgdHJlbGxpcz0xIDh4OGRjdD0xIGNxbT0wIGRlYWR6\n",
       "b25lPTIxLDExIGZhc3RfcHNraXA9MSBjaHJvbWFfcXBfb2Zmc2V0PS0yIHRocmVhZHM9NCBsb29r\n",
       "YWhlYWRfdGhyZWFkcz0xIHNsaWNlZF90aHJlYWRzPTAgbnI9MCBkZWNpbWF0ZT0xIGludGVybGFj\n",
       "ZWQ9MCBibHVyYXlfY29tcGF0PTAgY29uc3RyYWluZWRfaW50cmE9MCBiZnJhbWVzPTMgYl9weXJh\n",
       "bWlkPTIgYl9hZGFwdD0xIGJfYmlhcz0wIGRpcmVjdD0xIHdlaWdodGI9MSBvcGVuX2dvcD0wIHdl\n",
       "aWdodHA9MiBrZXlpbnQ9MjUwIGtleWludF9taW49MjUgc2NlbmVjdXQ9NDAgaW50cmFfcmVmcmVz\n",
       "aD0wIHJjX2xvb2thaGVhZD00MCByYz1jcmYgbWJ0cmVlPTEgY3JmPTIzLjAgcWNvbXA9MC42MCBx\n",
       "cG1pbj0wIHFwbWF4PTY5IHFwc3RlcD00IGlwX3JhdGlvPTEuNDAgYXE9MToxLjAwAIAAAAlGZYiE\n",
       "ADP//vbsvgU1/Z/QlxEsxdpKcD4qpICAdzTAAAADAAB4He8+Bk/qAywbkADu4y+oiyvszYn6is8y\n",
       "L+BTbpzAAAAMo7r9ORsNVss9Oix/NCp3rw7/uvXuyGyY74FREt94aUYxLA/ZefbCE5HOxirl9s1c\n",
       "k9Yk5oWo55P7HFfR9Cs1dRWJpGDlnb8QD3fGI8G9aaufwBgEmiKRGSC367BqlNgO3JfvAWHh6cPL\n",
       "6phlaB4osA16NW4usFTTBUP/fBvZhEHg7jFBpHjpIq0kNCE0THKB0cbTxTp7zGJDDVWoeXat6OOW\n",
       "/qW3Z56PTKQ89J4mKz4AAAMALMAb3xPX7h0QgBfedaePWzlU5/sMLFtzKrDltZoi3PmyNVNiXWdD\n",
       "rijxdlckdLNp6SpdWzEsjhVqOlWI3r0IIRPch16ioAesgPCh94neUcn0uDfDtd+qzZTyJ/n+TTg3\n",
       "Rq8ouQxOBpY+UJgFeXuKW1FLPMuo/547Cw0i9USn2/CmlHZd9G0ugAJiL1jRTnhs+HHH17vF1ODr\n",
       "WnIvzvy3iVzvNhbYBlx8y6JNSTLYV/f//m6n2qm8XvHnNOWKjijfurPp8Ukl+OC4fN3Fj7/MfxFP\n",
       "cjCXLPb7mlmKC48/cBkigZhSb7FlpIhIg7+HEwrS1pA8YT0HzShcBTIlKHRMN3ttCP4Y2goMtjYD\n",
       "Zq8ATKA9swTsEXALsfdx10djD9HVx8lTRm66I79eeWxSbyOb/2Aqi2HCNloESKOSEaIzdPqeBvBJ\n",
       "DMEOU8BUNL45B1DGL4PLSuUWRx3Oo/kAvBTUvdLkz91dflWUcFleddD8AS4JpUMBsb9hFe6VXvCR\n",
       "TqF6szW0aul4GRTuk1c7mWYilmhObTTlZaIFTjYwmwtHyJLy4AYJQp/Ny/lEVpWC1w2RglCTHzn4\n",
       "YOvMsRub6k0pqLC03ToAsYWMrnh9NQqTIziMOKze3Z/nqPgYINBTS+Nc5KA1cOGF4kSqCXcgSQAD\n",
       "FVPCjmeTuuDRAHNnrtUHrVOGBB3N0QvYPTIUkBt1q2Vgx8nyYMJJYHuPiwz6eV0jL6i05xwS+qUz\n",
       "Dd+lo2dM4hoe5a8wO81B1Y5Cyb/Witaugv2dFvVQprl4qE0AO7tOiUeV/XXNTA2I2nGbani+nhTu\n",
       "9jREMY0PtCf4gtDInvXcr6q/zdS5ayGipDHfgQZz4IiEmRm1Zpm82JdwlFKbwOPcjaXStoVA9dyD\n",
       "AADWbP4e+PIfcBklXiAGuJJ3NCzcGrQBy80ykPAduuQJ7eOcmlvCrmOi74FZq2HPGNE/lkwJeKJt\n",
       "oj4Mqh219yVKZUBXtqVltLa9oW7/tmWkhEa+a0j1FlDs7XAacxIdfmURuWx/oc6NI2Uv/72DztXy\n",
       "f9cqGUEXkQ01zcAzurX0ldsz9n+MVeP3ruzWLfmvuY/o3FBwnfztP/EePCRmJH/3Ico1Q/dfB4R4\n",
       "Q89wjEIu8/7znYUfT9cWNeZeWLzkvKUeU/ESy6l0BxT3yHr8Bp1gKFDG3sLfu7bN26CXy9v81MHz\n",
       "f1PgPIeussPiM0JEoRsPIX2wYggHbVNEcJAgDplGj9wqYLmy0D28SGCBUX5egkM9w0RxG5zOV4we\n",
       "MI388mnQrhe19j3or3e+SEeQyBF2ohREUo/flYFlVMwWG8DYYEIk7Kr5mp9eKOZoX2Ho4svggXkq\n",
       "g/k4tgseCabRQg055a9Cw2joBuDSoEzZYZ50/PNuEwfrmj5JKMEQCJRacuX2g1nznJldJi5IBFvg\n",
       "5pIcCpV3Wc6xb48nsJzfcTILSoywkyBe4OA0fXFpuC2s2zwG4WNeatEpn6Q/Vd8dZ+UAAznwVEWu\n",
       "BwPFwvcbrGf9kP7KOt1lVhNu3vUoKMtt+AuHlAuh0+2tLmTEIVgc/7SgS3AwE9hoFzVFECUqRsyy\n",
       "kmWvHBZsO9AjKWC/hp64Sg3PNz7OJgPjyyGndynkafkwiWdObB0QwRqbwGDfbylnSf2G3PJn7M96\n",
       "XksSvv+az9nzAKOLsDRHOhXbxhB+srIoxZASsAbFT1xOYPe9BHIpQ3s3jjv3gq6IFYD55nwUKmc+\n",
       "sVJESpM8HCg3zspsj5+3GqbYb/A0PCVPBUFXds305ftSeYz/VKYkv5Wq2SR+czGtO3Ka1aTC44O0\n",
       "vBqMqiBaPas1l72msEULylWJxQmRVaSV/AFH4wbS9P4tEIBY3i6OtCdORTQOdpt7Ihdhs698DplA\n",
       "4EmmS8IfMckgvn9iyziSvmLeLsTj5BFAklIBJNCVB4AIYkQABPSukd6Pr4nBohHClBHahVLRofMj\n",
       "uzSIfOD7V+zmOvHqMxxCz4lwAdtJetmHf+5VFRH8qL2WfPUqL1SlmEcuqKIdtXmZaaSlFHIaLE8I\n",
       "Cg9xHx6oYZRBgB7YwTfl+6w22sQS/kMPD95yt7L3YPOaKYEhceYlKtjEcBU4NFq+8CodoalTsz/+\n",
       "wLwGhHKaYvuEEIx2vj4spYL3vnqbuGlDHoc/n2BEtOudrOLJc9QmxRODl+aGfkvHs5asK+LJ/+Z5\n",
       "V6ntoQY6hBx9oA0TS4Fn0BYyu2+erzXCZyMf9LhMdMIi++bIey52GIQcwZj82nCF3qehzb/vscP/\n",
       "eAyKyKIjR8m7tEvUcr1A8rrNY5RBnrAXHjyaCCBUGnGAnKBdVNUHTM717XoEDsgg6jqyPmvwyO+3\n",
       "dSOXKKrsg3WaX9buOTH3662z/HlGpDM4LqNY5h/7YUxUatmoDfIsX0BsUcQeHGdrSQfwobUCL7aR\n",
       "5x5WIVx+iElMnkaDSkRMjI+yn/Y0Edc0MaeXGxfAepU7Wgaca4T2Fb1NNm/Fe58gG/mhbwYxK9n0\n",
       "z33do7YggYwrRyGF5GLY32GhU0qguURev9+KyCslC8YRlo3p/UhVNuyMN26BlFIMz5470MyV61nn\n",
       "qsPdyPbIHofvr8MbUWl3HeSUzuQ+05KJtr5URgR5T+wraOOILtnFKRz/24Jub/g6Ai56cxaC8nGD\n",
       "qsiJMKraibL4HnbSISIv0/7WMD0R9FPIuXz+DZYOYd77bSmuI3AaNs/2ENkhvLb3DwF06x6zKE6e\n",
       "R1h38zni4NMZmjlp9OYSD3yuEmW3o2msFPI/WCT/MU8uoSV0njum1ye7Y64QhU1+1fkNxwx2uroq\n",
       "2ganyShJCZhwHy4XNVnzig4c+aRTik11CjIABHAALaB/gQAABAdBmiRsQz/+nhB/4sTBociKVrqo\n",
       "YK2n5yYAAAMAte7bVMxpMfOdAJhwYleUZPDabrorDZw9hZyZZl2T6tmi+B04/uhZT46V6fmbw47i\n",
       "6gsDBZhKAndu5W9azLkw1FmELXJcyqNn2JLU1DhrsN4UmjyK6LKsZOpBYR1zydcVx884st2JXDHa\n",
       "sO5LFB6Y3/KF6VIdcG7P2Ky9YGbl1QN2zRNGP6ciFAW8XhRHwZyLm3OAg9T3ISR4fwtowTeyQ4xa\n",
       "O5FYGcopHqfr8VHuECN81vFwazzwlclbkz6ypfAILzyKdVjKbG0cLPrAhy1cW9kN4IQQESw9OMhN\n",
       "gNbLCPoRrTVD+5DegvkvUnlLXkz9RkOH608lizqaVdTgPvJiQrdjqUAvpNnoR4Y/Qgwd3ji612KC\n",
       "XgV7QP5/Gr9U8TFal3SRNP3nScO3B5/vMg5kfWXkH4+t0ZjTxlKHvno5DTXFpVN+U25Foll1Mt9q\n",
       "+5iVNpTiz4HbVWEU3/bOxR1IKHUm6cO7J6CHfA/mMUJOfhN1EE0RZcgAccvq3k9dkCSTHfu41FGA\n",
       "xyRMziDMTjSj7ogzzyAGpyXKZEUvoBN+0NrYpqGO3j/lvKbAb9xEpgW8ytqVa+GkKIoKs3xX+uhJ\n",
       "GgJIFq4jrRD0sVVzycYovrGsswJ60ag+E/HfQ9Vh144ONNXTxxSQqjbK+i6pKMo5HjDPGFj22MkS\n",
       "oHyHpE2M9r1NEVrZ10/sqZNzDBKDyMOoDlJX7+zD9ZjK12Eo9ok8/HK7gR64o5Y2Xlv8UB0cgw/e\n",
       "/siCWU/3xhEqX4SOoO9PuUopCMNFo115kBce8MA6TE8gTwo9LMdDJ4V6fP7A4EgtFrYrTQtn+mix\n",
       "dZoQ6MrdXFylK9PiYhZ5FtZ5gzY4JmOgnx5DFowFB58YUofoPBgx9jW//5k1sV9jgoC9hy3o2rP1\n",
       "PkvR0bOqWJNWPEsny8bV0xIEFouQTTpZEAhFwkWqvw1340yCCEN70Do6kXTx/BJ7ixR1EHoOUPPy\n",
       "PW9vGOe/0JB4V80kAbnFQpJerSw9Pq/RjkVj1WKjqKMiOaPdmEqDUq+qnkNpa/aflKDH3BeTuJSU\n",
       "63UQs4jVetFmsApc00zz7HX0zFQ3CzzUQB16omUPSferuKPYO0vBHFPuDnufbBxZ5X+i4gmcUcUQ\n",
       "V5YjJZ2MiCT6mdUH8jJDRBzV3CogBT3cwEramjfvSm2qjOizzXyT74DwIJqOuvvvj0aJ3IVULZdM\n",
       "wiSZeRTXgHWUr/KebxUTPVThR/qeiXXab9jFOLPVX31TLiCbV5VNj+HZ1AEPcltjZIUv0e2B8Ngl\n",
       "Zk/+iS9X8D0guztpbCBIRYetojVMPUPo0WZEuxcBW/eKmQzizqgrdKqCXgAAAX9BnkJ4hH8FVTVi\n",
       "ijVls0AAAPerUqneiKI+5JD5wATjF85+GjxCngPbdpRl0Rul8wYAuSOxALSP2IjTfvcM7wDqf4Hc\n",
       "mJC4RCA4XW/QVCuVDtsvazPHW71vGtGdSXGQ1WBYU4hwEZHW1Z16u3/XBryZI0vuRjbGmqsz+Zrv\n",
       "vWN/Ur7NN6YZVgNxq7uY6FJt+pp5dbqQp6OHYZ26p5UDMMNEMr4Mt2ySER2EYEh0AFOSP8ytgAIz\n",
       "ZPKALdYvZethGdjn5Bmhr9THKseDUGcgDDKAJ8gW/k/hWV1aVcCTRZnY8btJWVCm42Y418gor0PU\n",
       "mP4nWg5e+pre/RE1abJc76prRxpGv3TPAVo3D7NmhosP7893LVkQvKWtwRUhNSA0BfHyDwOTUXV0\n",
       "FEObIpSoOdf2dC6eUv3EWlwAwM4hGUNthhG3SVwIQvB8+p9LtFJqtnFlEvfhVCxs5tFBedhQpmJd\n",
       "n3Sqt8FNsJLXEamV7s8fxauL/XlNF0Svv2QiSbMvYQAAASoBnmF0R/8H4n6wpmZ07cQAAAMAlzVT\n",
       "Ld5EzAsyfXVuE13JCPTYAQlzNBRZd9ByWxpz1jajszG7MnZV+xidmgKrLr681Csh8TYxg96sw0F6\n",
       "M3ez/PcLA4tev+OXACkXfvG/nMjlp+iZx15OpMr6ANzn7h3Nh+K7Ng+2FwZwaakZqZzjqhiIe79R\n",
       "f1VuLCnM0e5XizD0UDI2Fiq9WUA1ckBipoD5Il4lE4FdWKmwlFy5bLcUc8CfIPznxv3SsekNepUn\n",
       "UGO6rbk3YpbHX8bmAEir08MvgJhEUpS0IS0vtAnePZ6uu9ApHDId8wiIXb7OnjJY+oMi7ORL/9om\n",
       "Ybb5pEmRHwZIieRED+0hGjJ6BHHqm02XE0as3CpBvpjefz0rAlMzjXzk6rhP0QGtAAAAsAGeY2pH\n",
       "/wBBLCtiRVBTY6iLCKlJrpasp9DXxXyt7zLgA5wvsRA/lkgJuuqB+ClmeoNBiCBGv788wT3wHunt\n",
       "rP46dloLx621dS4qJ9b5Q3KwlkgFAaNEFP6RWTmRdCxh+/O65pKFA5JDLf20elrZOyOsoZ6Civs2\n",
       "McqTKwTM4WUtM4kqUidYzgKX/fh3Ji0fbMNL+ciSf+wEoapDO8iSReNwUD5xhdO3+aFlyb86xC6h\n",
       "AAACakGaaEmoQWiZTAhf//6MsAD56Ysy+m8vkjwOACWrTHku/R9qHq3vIyAUM1COK1m1lhpZgekB\n",
       "hgI1MZWiJzvmGqKwKGGq+Y87XRzhQM10S36n7/j49bAqrxVSMOM2/t3x5lKck567lX2Z2QPKDUSv\n",
       "8aaEWEnVKNq9leWaZ4ICS6deir9OuBC99BynVrL+Uuq6/GUsn6+9FuNQ6XTRx0LgklakQo+WS27W\n",
       "B2EllJtSMaavD2R7v3WaPSCv5rnB67abEz4bmIbcDQZM9K6axpSY1A2R4k68rmj0ImLi8eQQ30xE\n",
       "4d3Ob2Qvd0NZOPEb4A5TdAS7W/mYTj14bDnr2PYFw60uhbzEKKQkWGxiu8u67Xz6Cy0yKSOmxxyS\n",
       "t4a6o/F8iK/DAOqFEcEBNo/7V4f3GFyb/hYaFO4Bh7ainw8uPUtO8MlY50C8382Cz+4LsZVCwQbu\n",
       "PYMBzrJgs5iifr/LpdqZ+1K5FjkSzVId7Azdavar7zWWTL7oDWU3OetXHYglLRccU4NNRbZ9vdkD\n",
       "7e+AqBDev+GLyHq0HiJFSbNK6vMNy0dodrUjTzw2WHNHsEgEfnDY13r7+ur7JIlXZn1SLn/yvRIs\n",
       "EAHZuX/yXQawAA9DvueCexN2HN8xz1vRfWcxgGPT+WiEDp9rcmQ1J4O8+HLM3d1VvjBlpnoqksA2\n",
       "xcPWql35NPtlVqLzKtGSxwM1tWZvMQCvbgUAimpTd557ZmYtEZ/upAcrgwCK7LUiXrzoNqHuvgUi\n",
       "0eYsKMaHltV5e5/i0NSqQGApuAzCX6khejUM9d5AIYEVpsOmL+NnLFnVAsLpxHBQjjMKCwAAAQ1B\n",
       "noZFESwj/wArOIuxkgAnVZzuUhRT2xChJ/sSqZJTL0Nt7GRUvs2mc1l8d77VoXN0HMvMFPJ6LSWU\n",
       "N0fnDQ433bntklunokTGvi8WNAoXX7CJekFPTdJEhfYfPHSLQn2/WaMxPeVpFFbZ4vnBJvqrbn/8\n",
       "sZVmkmT7/FBYiM4nxSfwwqukPhgF31gZyXl/I724RgPVoiRBo2NvC1yGElEYIH01PWswB1XqAmXL\n",
       "E6kc1eLMqnEXUR46BL0l5DvQOk9YkTKdMgZP+l3FcOWx4MLziH2AkwPx2JXNGqZOjpzuLwHQUNFH\n",
       "oOlOmksbASgUyIN3XWzEooNonlaYLpk+DV+DVjVB4lKO47UrUPd/QQAAAPABnqV0R/8AQGb1ulAo\n",
       "ZwAhNsJqnicJb8F2Axk+pfLpXxBuBqHquI9aQ36C/+R3zN0GxuRa9R13lm+pKekSRyJGgav8gdLv\n",
       "bIJ6p+5MQX529FjiUlfVtEj3ZGn3vGp+NOI4igYHu7T2mFnKK1tGtuPwfqMmrd9uDyeMlvNL5Pm4\n",
       "WJeBy6DLCSPsSOK6rTOgq5FdmFI4jwKNfxLB7NBTwobc3W9ErBFCIWL2PJ4OV3jdq75ZPyW82U0I\n",
       "6zdxq7sCUMq/9QsM2+NYbjUKEhZSQDFzrv9SAE2b0PVvegBwL4vgDDXMnt74SQ3fCI9nhGl6cWEA\n",
       "AACcAZ6nakf/AEN1Bni+jLTfCXUMbAAvlvDXSmeLwksgo7hcNaC2O51EiAqlOwKHQfHkgvAvLAxP\n",
       "MGU8bCvj2LUIlOeTl7YWIiEJ4ZueWox0WWwsksdTXvWlo18qkTIVExbo2TF0hcqTDQFI5iFXAw+o\n",
       "JHHYuEFM/M7F9pEIJWSi9OaxtOwMkaWdiRLsA5RjCqtqh1sDlRDZj8XDrEtoAAACt0GarEmoQWyZ\n",
       "TAhf//6MsAQFZmBsAVv1KOP67WYnZvfkC8tFWa82qehgFEt/Eap8d45PQCE/QtM0DvmIhNAmcTnG\n",
       "YLGrSXe1iF+LJ4IkD6U+ArmK+cPfjOiq1qJhEWqtK7OyZS93+WDf4A+WYVVeHVOhT0d2BN1qJhg7\n",
       "XSqsd3x67ALQjLeWhyKw5ku0VtaLstbtP/pVIS3/eVWhspNoQNTo1S/iET1geUgQStaZho/PnMtf\n",
       "pf2LjpDg0xGgxM1ar+nX9Hzv4qB4v0r5RwjE1Oi3HDSi8We4F6Or82s7z/UMQXPKh3GvSZSt0d7p\n",
       "cq2XyoL3Rxmg4qAsnz/mKYwrRJHHD7iNeuldgd/P5LOVy7/O+9NjHAw8+SyESB0o3z6WrjJcXEFj\n",
       "IyH3T1YjajiNTOzsoqRYikjePavC/KdvCkpk/5VyFfMZV0v4H98exgNAVb/n4XWhtjyMGzyHYdB6\n",
       "s/Uojevxx5Xng/PU0wiW/TD9ArglUzeXu5+SPA4PeexSntFJ7LGx5vfYweQQE6E3JwNGvFqqU4OC\n",
       "lfMkePbQWyP1jqsSz/d9F7FqaenVmiWszJw/0vUuorfoiObEScOGr3gkjPfG4ciQOLV1Rx77sJ+G\n",
       "MKTagDLaqEGqoVbcn/LZc2qMfgSky1P1aLUhBX8lr77a40MNm9ilW0pm3udX/xLdzikUM6d/k/d1\n",
       "cHEF9f3in3MmDsGPO6XaVO5+fCREy7l2QQaoArrvrnddCP65csS/wVf3IjtHQmIGJDN+ZGh9KKPo\n",
       "UDlmIIL8Cci9XfSSdQb5szDpMnsD/OQq6JLzRa0mUGG4AREwWEvFjwFVsOY3ma09nKP2yF9qT0SV\n",
       "y/s5R3XjF+DmFTSRlx/xxtK5VQR7Or321R8RgBll9nu7IK+EDopt4ehHjk5C5gjaCXhJikvKHnsU\n",
       "thfAAAABI0GeykUVLCP/AVDE9gESgz/IQwDVzvqad8cUgAA1iXoVqoqjOt0KzwZjn1gFsddiGVkL\n",
       "I86OQp+CjQ2Afsj/l0gSsjYat9HC0rHEYEZu9HL0yJYmGHZQ3sZfXhnF2Xm/l8KuV0WJ5woby2Dz\n",
       "8Kq4DHtqZA9Bzrn1z5aM0hzi3dMlej6nyV5EZzO57CfPAoJ+1g2isEKXQyEvDeizQxPS41kYq+n1\n",
       "/nDhQ/1DX58hetpM6VQAVFKLUTFiT8np/oE1WUbEpI/vLyjPkOuF671q0aqVZM9AiLcPWf8brelg\n",
       "fwxOcHa21bsqp0o6UOUBao5/aXQopPbCrqRX885p16THWppLMAXFGKyn9T4N+a88aTSS5h54iciJ\n",
       "y0Be01dyYCQUTOZtjQAAAOMBnul0R/8AgwzLWcnxeMgAdmnpiK4G3lc1ODMto7tv1TEYStO0xRbi\n",
       "y5WwakMj/MXKTQzuI4TOy+WX3QZwOxbjBlsNAdqnhGrMRUyIeKiEinMHoTvsDK27hRl3PF+Ll1lL\n",
       "KQeHOOIt8ZKOPCtScOMZioD7ZmlUSzCssY1w2PjwSI4Xa1z4cAWOsQdVOA9OYLZagUUwPJ7QE4dj\n",
       "meb0anCYR4Ja2jtz9KkvoFgAzlC79RYn8/x59k9QVUGDzehdniFjVCe1tzzIE2RDUgT6DIUUZ57z\n",
       "enE1JP8hz9GZwUgjFJM9zAAAALkBnutqR/8CCyMKnsASGbXOvR8H2luioUBx+bgAdZFvhp2nvF+r\n",
       "Uv/ZDbyhqSHtET4zAhGKujiGuctSzW0Fc10RDqzbnS4+HZA6unuQiFSd5lMYxcaz+uyKnWJNrpxB\n",
       "6nq9fgDldJnlBVoK2XQIu7rtrCXwp0CNRAKrDQ/A+EfFGfARx+xIpkUrlYfwY1QvqYluUZGdDt2+\n",
       "UK6qXJmKfZej931tYna6UL+d6Os9QozMWc+j4ZyK1b2uUAAAAdhBmu5JqEFsmUwUTDP//p4QAf2w\n",
       "dNkAHDXLI3VgCqBHVgq2KPjNRtYYbbKjbhtr0MtnnaOq45p+iOuRb/Ysa30aal4gJ+InBtDCtk4O\n",
       "/JJxMD2Y2vkAUWoYMWcotFvgYHAQIRRtNF/h1RhwHG0zWYHu87FlhTanfIEEjjCiF6fyng2K9+Eg\n",
       "b6GDwtN1TyUJMsFGvBvEoBm9m3NJuBrMmGfKHRDI9my/mFbGZEJ07xbsl9ORmRm8lyWpPchoQ0q/\n",
       "Wucgmt+idtv972gViEYKbtd3thjtpxaBevLnreYcGPbS9F33zdkC9CjeLbKhhC78mXudtrd3CV7l\n",
       "M2ZHlEjf/GKsGRezAr13hrWB4HzsB9QJcqPQ7VQyLsTWVGrcTqCTCMK6fNwT821pecwDJd53vw8Y\n",
       "J+KPt++xU97o2CH0HxxO0opeBJ1un5toP79JkR8OE5ziKK3ilyQSBsz3xpBzJJX8YG/tecjZ/4xK\n",
       "ImxVSwEZqDgwa/bwckxn7fudtGmTqsNNk45fVZ9RUD6K2j/u1l40s8s8WhVHSK0A0sex6suZQt2t\n",
       "yDnTvRdi29OU8R901g/RCcBvViWGQAlsq0gY7qRTNxAH+y1Aw9qRXDxbr74RwwN0ESftNc2PAAAA\n",
       "mQGfDWpH/wEFkPXEZVmKLoLJvK13FVGN1xIBsrGlu/ACaPD96ynFKxATgX9h8xGIz2nM9JvOETiW\n",
       "c67GKI4g0S99zknz9ymdRMv1ULKb6NmImeRk/FlgTzN11lc+YQSjkfFjZaDx4TxjpBMHxNsceh5A\n",
       "4DzyexqsQfw8QbxTZK1dFg54qagEpkvkxFkzBA6CpjHdWY8IkBbVgQAAAgdBmxJJ4QpSZTAhn/6e\n",
       "EAD9qfGb1kANMaXB5a85YPcjMPlY9GNhXZUZE9a/S8dz5g1QLlG9cPt0RL3knGU3DK3M2fBBF4iM\n",
       "nWCuhG8VO7C1k8/ubIwi5qRacMG1t+rUcVsumsNRrqi0UzBoAjkOnpFegN3U5a5RYh8Bq3Mq3iq0\n",
       "riC7x6ctAAUVF3KmsSFLryIucMflrVnhmHnpFhnU+xtTCPLrpz3J5PxIiLu8xDJTeOVaBeY7V16g\n",
       "nT2z1LL8zvi7b5RCRk6BD7jqZtzQGooUQ7jvSKxQglKtmwGR9kZfCYaTeJvUoahcGORAGDAMbGci\n",
       "9++SwAYJMFNSkkoixv6xVNEfT/8Lx294iNMmsNBsk/4nq46bO1YpuaErenwekA5P6VDBf7Gv+lgD\n",
       "vZ3MsgBZyY3YE/fGTivdJw/ed9I47dnx0/dXeKXEJft43gpcmQ/NxORdWGCLRhvORJmHM3ayJ4GN\n",
       "NlV6treMtkwYAnxCwwn7i1Tvg0RZxDaXcsFjOvI7Lzscbmn2Cm05S9BYX4QN3KtBAzEhLfC/kq6g\n",
       "RBjJNp2ucKsrmSMnsn7GB7G1hb5lE/Vo59+Qsl0DVL/uhWXuSwMaNZYIBHDKB+vyI2hjdO/CET36\n",
       "Zqb762keh/8XZABGdr/8SpDnUZZxWrVqjKwBPt/REvLXoHgoPzyquMKLh2PlOMH4O6cAAACVQZ8w\n",
       "RTRMI/8AVAqxQ6GomszMODXSb1FpKCIoKQATQDoW/vP31hEgWIK0wiFzXvQ5n9zb6/qmnoz6+Oop\n",
       "H/3XGvKsW93F0D2+cC+baR5VOHg9M06ulTLUAfFNEbg6+p7wx9tETkHg6N8niQzmLbR14QpMiFon\n",
       "HRSAo6j9GVrtmIXv59OPr/BnfsI3EtEaGVTaf59WGzgAAACTAZ9PdEf/AIMMGNkvRXokAHLj/1dI\n",
       "fqS5ifREh6zHKhCt72LbzMH8AB8+n6C/KfminR9kQsGvR2W+r/bGCtn5z4/mBU0hERxi4TYk8tV0\n",
       "UYqK4d1yLpNtfJuY9DFAK1LtelPnczt469hUHAY72ApXDEsLcsN5XoY2WRvYOkOPqxPqZNpu/r2s\n",
       "x6ujRcIq2SqxaxXQAAAA0AGfUWpH/wCC/BDNLpwALaxHT5F4v+gW56I8qgq9Jqm6DM6Ii4bjh1SJ\n",
       "oqPCOiyLHNCM4q20h6GC+u9M0/c8LjSxY9rZP+kVrCxWHnN2f1KiyCR/+1ImBDFQX+3FVs3WsgCo\n",
       "PxV1T/ZlvMC1J1YRtU2F9TwV8xMO7EgcQLQ+Oe9POxJN7JgQ9q66OgSWcobOU1udPQ4z1faJMj1M\n",
       "nJG4Z1qucWA0KQgUFHXlBG12XbcyfVPjNShidTxNICcvimD3nruP2RSNs31QuSp3Hqh4N4EAAAHq\n",
       "QZtWSahBaJlMCGf//p4QA/VaIZOABxZf+7Aie2O4LiPS5eVSIinBvXB7/S6ytwOUDgbV8oXxRr4a\n",
       "FwflaSSMTtNjMLmB68/hRTLpBOAoUX2LtT5WwyF41mlnwMPCZpYT2j0MtnA6gPFVOPQaqqYREswj\n",
       "UE+v8+6Sk/INVDUgJ1gg/POYUEJf0f10Tnsk8psnCG/aVL8W2XGn5ZnAZ6JYvDWa/taj484Qdfav\n",
       "Kb8K2eqPApp6sA0MIXJVQwvd+HPzWpzbtSsUwMlAX/q6DQwJ6BJIlmtk24vitQPxrTgg8QPsKp5z\n",
       "1sniLI2939YfkFDaCA+sjX5WzVsG+5eKQQpTINhSmD070WlXSzMMkS3YSHOtUt43EABZmMkagwul\n",
       "k0DY+jrk5UeZ5BoGqRNw70qEJpB4GjYh5G5iiX0r+QMsuBbGfdTJTiT1SzA/89CvGQMV9h5f+6la\n",
       "oecvyyHOZbYbZVGq21Hp/77li1DcW/Zbsms76l1FUoYsn0H+lQi19jMr7rr/n9ICLBeFB11ib3IF\n",
       "09af0ikDCYEMph6Q5TVJAnP+F1I+8wQSt37qvOE4/l9lM72q42PprTPYgWsEYF6vl3F0evPf/4Ol\n",
       "vpoIgi/D8sa3YjUVUqz8tJt2L4kD52eUHNtJ6Xl5dF/w0AAAAKFBn3RFESwj/wKfid/iQ6DH5/rA\n",
       "AlfceKz7GmnSvBoEAxiuDsv7jOSnsBRXByJ699qCjqR1CxgGqkyiUGMDUWMuLAmWI81qBsipurKg\n",
       "+cFV/glqUg1bdBPKpu9mN6R/Hh+mCy+EG7BOr6rPR9rd3Msiy+sk/5oPs0UIbj8KC5wJWwc73T7C\n",
       "ctLrXTMw67THJS8mgzUuV+37uWXrRs3qUe6JwAAAAIwBn5N0R/8CDDQj1beTLI2k+OlVs+0mCADa\n",
       "BXlrj1AGmeDSj6fpwGW2/lXpnhB+hNa2n8hZP+/Ama6gfLDz1RWxahz9xmUZTKUJexqrzGji8WY3\n",
       "TfAW5U20Id5saH+2J0E+pk5ACidYPV98D1vxRTD+LAyI27brKM/GT6+Mg9NhW9OKXHymCF4oQHrW\n",
       "xQAAAJ0Bn5VqR/8EE+PrDumACWkwyRyEs16FuxF9tQfLhF5gsXcdUsiHjOJ9KxmuqkIr/XPpWdTZ\n",
       "fUUUsyuK2ePWdq85MLUWtinDP/EHb0RP8WPwy0Jc0fuLELmNsZCao8swZvtt0VJpTJX77rGSeLh/\n",
       "g6YSi9yPSZFByh8RwgCwMCEpB9ZgtAnfNVjVgXifyk4ULl3Ji3SaLFngNC0KNKbMAAAB/kGbmkmo\n",
       "QWyZTAhf//6MsAvPP6xt3D+DRNgCO1msNkEDYV9C93kpX6mgPAv//VhThWfWP1ojSIPQZj8og92b\n",
       "g3NsXYXZnVf2wLqnncL/ne2lLHm6OKgxt5nm3fwxKz3vKs8YOuY8M8OUmv1xh1YTUlbapEng6IwS\n",
       "W5FF2aXN3PunwKcrxODo3vDjfqjcGmVA8SOYCLmRm+szaAYo3UZK90eS7ZPJ3QH+IgCJ+19fdEJJ\n",
       "NlX6dYXm7J7GGpEQfi55ESxyNHvvvy1mggFE4svFtprSeYeJvriOOLYPN5ddVsUd1A6hy8Ats1oS\n",
       "SDCqYsFXfOFSmUweZRy+xDjUDGIhiRnAh8aFm97Zlp/nJaKZLlmnd8KvYuqdy4kQ7PA5y3r8HSBx\n",
       "MyIg+/qrUgrZx9hePwexgALzcMev34jNlzTJaGWfElUonYk3AXP4Nj/xYlmuXfilpOygY0GRnc/0\n",
       "GFz2r6nzkEw/xVyu43mgB513FgAPHsL1L/AzAQe/jyR8hBdaY7GmYVZWkkWtdgOzStbLeSC8YqYc\n",
       "3lRvaSYnXaerva9hS/gFXRzryJnFvffSPWcC3qHCvH4yHyD6asxtr2icf8GZfdc8LtXmBnc4oBRS\n",
       "H4qwBUeqaLkmwKf5M84umOwL7SxfsN8H6+BXsU5S38Zix1vrWuG0NnT0NisFwVNNyQAAAJ5Bn7hF\n",
       "FSwj/wKeq+EmVv/gAmmUcYZNBUZ0nVMMUco34FHbP0kyeZDfY9uEJBIdWLNEfNUOt2kwDABwNu4O\n",
       "24QwNgvhryKADzITngX7xb9CmOyq2M7jQ+mX5iExRkjy7Rafr6apynl1p4YKvDPagAdh2iy+DxQY\n",
       "HUEcxdlSdWGsiZtwcpun4KktgKVxJcc+w8LLDDB/ApaOno/qcdn8uQAAAFIBn9d0R/8EEYhIRxCg\n",
       "ZJgpi5dgDwmWppyn6XJcBRTgKTjFthIEADGujTPyIAP3zSyqAp0DZ2hpGnE84aUgm6y3xgF5mGuE\n",
       "+QIp5sgkKyNgI3hAAAAAegGf2WpH/wCHHt6XgjVB0HQAhN3/MVXrj/9ohhCNDghMXf/q5J8bVIxF\n",
       "AZDLqYipd4qOuU5T3XsGM38mAVv/HgrdUza9Fdoxx49+ambV3PcIzP+fXlL9QeIZ2Ep6xTxEHpef\n",
       "vZHQCPC3CAYnFQXI/7mgGdAfn1yJpfpTAAABYEGb3UmoQWyZTAhn//6eEAD+NP0XQCYAIsAVqE9D\n",
       "ZU0h5rilqTtpjqZFt5Mxd079NQ+V6kb5+CbD+UU0F432+4WHUXxaUJ5/LdvchG5sKdLwK20MXMbN\n",
       "65sbO7RBTgGwzyTLK9SiOJnxNj2iLT1SrdsDSM+TolHs4ahIAm33OHG4j7GZWFtMbuoA6mALS5Oh\n",
       "UY54+t33uU+6yB9ixM4SNCTJRWS1iu8Kgd0QAZQ9CqfzdOtdMvh3xcFh1oKZcAjfFmqNI2T93svV\n",
       "VWKF5D7d0haWs3vRlEZQbBThZQVgJuv2STgdUW4TSyDWHl8WRdiMAW8UiiOSc8lLT/3XmJRzerM1\n",
       "V0MDm9mhvaCPBPRnU3j94ftsebhEm3fmN450EEoZrqfw9r0cBBQw8KgPFib0bJsi+GE835czGQrX\n",
       "q79JGULJMr9FT9NXI1c4VJv6qDxcrJ7aa8Yuiu6SwiAA1HeEt0AAAACRQZ/7RRUsI/8AVDJ14AQp\n",
       "1EJdnvTwCq1dVRQu1+1kobQkDTRItO++2uZT+llGds+hJgVnbz/CG/SQR8BXW8iQ1E7YncCgaF8R\n",
       "Q1OsrpmTlHytiTktCd07k5IwJ96Gpq950tbmCqoUOPdA/0j1Mw5Z5afIct/psiEZXt7G8iider67\n",
       "XnuQvoxqpVECybJeLl0s4QAAAGoBnhxqR/8AhvudZ9KAdXby2LmABD8EKn7Q7f1jVPKHuU6UjYv0\n",
       "HNiZ27gPy5dIhUXEK7WUMSFW8RmPRpulaOuwggAVgukLiijSvkDHTXqtZtJiBg9/Y3XkD7LhfZZM\n",
       "D6i2qsIZTVIvs0adAAABSEGaAUmoQWyZTAhn//6eEAPyI2QAiXZ/3f91MZFFOTm1zqRsctmcf/fE\n",
       "LeZLsRx7yY5MOZUczmHjUWBbk7tozNsCXWBHQQ4DSNlK73jAgVZzqwT8yZGNE45mWX8F1MLVGYrh\n",
       "3hP37nhPMnvhRqCnv+Ev/uYGZaMQTDXf1NO9sIUWYQ+axOfVYUCkUp/29ziyWO5f1tDugzPgJizQ\n",
       "4F5DsvVoNkYmzL30tfHZWPjJMBwnLSSsdEh7OS2UHQYtag4O+Ee1HE0DEKBcG3fS8IDRV7QFsBJp\n",
       "L45CE1ampGSsPNlN2mze6PzcH+3+HTFbhWCI7G8U4ukY3yLFIUB7/h5Pk9ABRLBbqqhI5X/kV5a8\n",
       "IQIUwEW5fjb0XIbqC93SpbWGCJyam8DVtCFrA5PFXtE3jrtCVwLzu2VIbWcUTwkYS79/oQ14AZVR\n",
       "IIAAAACNQZ4/RRUsI/8BUFWq26XzgBuYUy09BJBVCiGyPO6GFGBSn24B5PU9jxs5ZWJGHTosgbDN\n",
       "l0KBBH43jyfw5/9Uyz/temGIp/bMe2n0yBEa+JTLG0WHgerPsvO0Pv9ghQFjJ+pm+ReP5MPyb43L\n",
       "Gjj/SLaK2e5+QG+JYB4qvsliMhqTJ1uY9WCqhvVTLe2AAAAAXQGeXnRH/wIKw7puqrl37WVdCLsI\n",
       "mq8AIPo2IxvchWQabWHykjBpTrh1G3r+vKjtiJWxmaRwz4HcZTcbf90zL/eucKib059oBGN0Vlqv\n",
       "Z6zaoYVvnACjwPf9Pj5D/wAAAE4BnkBqR/8AgvxUN68ABDcRzBA4JwNd2a6VnBikh0M1mS91KWrm\n",
       "FeiOY4MOQ0yxWasITYWKcUTvj3KVi2rzZrcbUvxocf9hfkEd3a46QfgAAAEwQZpFSahBbJlMCGf/\n",
       "/p4QAP3n1boADi0VaPh175Sz33hrJs9qvTc4AgBFsRcxONRzds9uQ30p4IsKZEwKIXUhcqdN+VmO\n",
       "KuXGux4ChfZrTqZzk9U+w67lCJqisGOg0DNJFydzhzeJUB4iImoTXFi9eZftq9fSLUzWTwCGydne\n",
       "j/XDgbG9r6Snxkxec679egMs0Gxb12tqbmJXIGRwUc+udkZCMrv07YYHnqrjI1l0ZBW9SqqXBLO3\n",
       "s9jFkCTartjY+b699a9Q3QK9JS6bmHQxUZj6ZziYQ/eapon1G2A5rwvvOyupD6Jw3DvurMfgGYOE\n",
       "5ERMyKSMCzLniBnQneine2qQPMbAQ237UMW1gFABJlUmRws+w1jLR2E92Dy3pz7HEelD86OtRzBS\n",
       "vkbrsBts4QAAAF5BnmNFFSwj/wBT0+/dEDwRVL5P3uUSKUAJpgSrJRJtjnh+L+n7Pl9KT58G4x9B\n",
       "zQTMhIdz6q/Ve3xLtCp+obr5Bko06eDEGuUKZ9UfJuWBT+OnUgdteCDSkqbo7y0KAAAARwGegnRH\n",
       "/wCCsSKTNyAAnGhJ4xraIHKTmJ4OMAdMBvUSMc9jyAoJftSgXKcnBRVReQOaPrTQ+hdo477iwfFZ\n",
       "zKAQKMuGMHJBAAAAOAGehGpH/wCCyMLQb2qZTM22hgAiB5RsLEjlKiZmn4h726BmnGHNsfMa0kcC\n",
       "poHXeH602WCPDEinAAABLkGaiUmoQWyZTAhn//6eEAPyI2QAiUnNUmz9hMqz05z8vi2lAq8kANgs\n",
       "12Q7WbEACZcmoHuBzH6cmMBQdbeAEnGdxRrCTsYlWarX0JHgbP+TFcUsU4PmlPn6OVcr3k97Dirx\n",
       "6p1I3e9ayFZusFWLmG6GdAB2hnTOdDbb0Zp8gTlExx2UK/4nZ/9ArC8E5xudkHy0uBdS1wHLAEOm\n",
       "wMMASJuiXq3jNMjiI+r4FitBbJFQPAoISzGoo6qRySXJ3a/Wyznc9gEhq+nPz76LnvpdkAwwHfnX\n",
       "SrG3TNatBC4AZb8a/14x4G27B09l43W7MEI38l2SkQmTbub++NwQEeipJZ12XgW6kAJA52+/uD6d\n",
       "rswhALon7nj5PMqeqHKZB7Bxj23s/nYZE2cjl4Zrqf7xAAAAgEGep0UVLCP/AVDE9fZXJaTtLADb\n",
       "RvXPv1i1HL2GDR6M4W8trN3l7UoEnRpz4t+368OY5iV3kRjmif0QKvLiuzWaPc/3QhHvd2b8ML9k\n",
       "SLbztvP131MEQN7AD2lKHfZvkVuvZqI8DiscWSehmJ+NgWtNf6p1t7CUQSGOdk5NKNdBAAAAKQGe\n",
       "xnRH/wCDDTjKOAdDzDvlV1mAAeteNJwj3Kv/Vd5i3u5ezCtFiBuAAAAAJwGeyGpH/wILIwpuQXt0\n",
       "4xbzRyGesrjh4DS1a8fRCKW0pCpqARcGcAAAANRBms1JqEFsmUwIX//+jLABAEMdwQAWpzqhM/8f\n",
       "27WJhfDgUl9ZPYpmA16b6AhDWrigmlsRHC/ZzsxLcArAtj6upx7VcVMweZQEVKNXmL7zYu1+Iv/7\n",
       "iw2lfA5ZX4p1aKtBN/0GCVG2EjTkw8k71WBv8IAFd4wXy16QRhzTTGv97/6U6JQ8jmFCSzPKNPRX\n",
       "6PYec5J11psHyNlNwtuz/wYKzxR5p/R4z6QMree3dahYSFCYweXWYsdRgw960vgrFYUDpcmGTwfZ\n",
       "Fz4HBsn8Xezu4GdJgQAAAFNBnutFFSwj/wBT7GUFj6I2QC4AWtX71ZFNFI/es9t9KoU/iDt71vhG\n",
       "5z8yX1MGI9Yn3QEQddIrNsqwDywqlLZ8dHZQM/OJ/tVgFZS6xRE60iH6rAAAAEgBnwp0R/8Agb6f\n",
       "mV8Ofh0gAS8xqP2udoIRNg3H0joqwi77y0OVw0Ykpw+vZyeYC7IErTXll0nZHVPXkJSdp2d9om9+\n",
       "Q+Dm6NgAAABTAZ8Makf/AIL8cxTNKgxaoR1Rz8FvYbPSyoAGsz0qvIPmEguPl/eWOn4p/O/jN0VS\n",
       "vuHx5begcRAcUfyPgRZgVQUILwlwZVni0GgActlx3KHodnEAAADIQZsRSahBbJlMCF///oywAP/s\n",
       "oRAC2hbPnBHDNayJf4pCrnhuFAT7fXrXztb66I/tldYmbnzkRLyx67VKlmLqdlpd1Q7mETi+8X2S\n",
       "ZqjE0O77gkBwccSyRBx6d/94U/evIrth3gSOrnoTvyHpJM6zeCzQlrs30ITDV2NzrWqJD1aCff9U\n",
       "HFl6ga5jFeZd+hLN36Grvjo2a9gZctR8CUL6YAFQSKd8sAAaOeKZZax7yTVGTpG+K9aUeQ8voWB+\n",
       "KLqsNijQHp7uJ7EAAABHQZ8vRRUsI/8AVDFJtCOxACCbLJnUdR6AksUCtyXgJCLNhu73+W9Hf6ot\n",
       "r/MnNAXBv/hGTs6IFe1a6jnu+Um7SchFoLHZl+kAAAArAZ9OdEf/AEOGLwmqn4rd+d0Ep6lgAJxB\n",
       "0boNQG/+SvKYnXjjj1sSZjPFQAAAADMBn1BqR/8AgvyMRXwDJSBcueuNoDskYT33a4mG/9BABLP6\n",
       "e37Cp/GKbmoN383i12EP5IAAAAD+QZtVSahBbJlMCF///oywBAddv8Pid/ABxt8B/nAc9sXYOYLL\n",
       "bCVfF4G2jGj5mcQMYxvSlZEURuMJNIhbNlMZSXm7FFRFVwkNI2bxe0BuX/elqUTPc5sRWGJjS36q\n",
       "JGBfjY8aGAaY6lXKye4v4X10Lwwrm9d1MifNSfOd57OUMArHnjPKMbkadao7QpQS3XEh4yTp84qk\n",
       "KzLEtsHwj6Y6xtEdyYq+sZIKOIOFL9td2abnKWD8CAYQZ5oct40+7rkmmRpU8Sw57Hf49/Jws6NT\n",
       "TO5CPFaeW5BxNx8EBO366aofYb+aFjgZoeGL5NMuhMZE5XPiyjBiDvM6/RvsrnUAAAAuQZ9zRRUs\n",
       "I/8Cn4nf4llWJ+ccNdNz8c5tSf0W+D9/0nlD5sWQBszyXSRNlnwidgAAACABn5J0R/8CDDQkFAWB\n",
       "NA63rO21qak3V8WGaTfeSTJBHwAAACEBn5RqR/8EE+PsHhwdKNRBG0nVRob+3JB7/JDjOxVhzYEA\n",
       "AACgQZuZSahBbJlMCE///fEAaLk6tWjxyGP82rWJwW4XgEALVFopurgD91nQ+O3YJc887Ugv1qHP\n",
       "f8MDqnj/zwt0/NUTv7nM1JR27p6aP8dHmQQ1S9hyQmr1Q7RIfKxhWoOF7eKCUW41Nii6cR3pipwM\n",
       "Lu0gLq9yGnjn6gZGVv+b5xzNKabnFRIWG5x3dyRlrAXQtqZnPxNH9yrRe+o0GpjCNQAAAFxBn7dF\n",
       "FSwj/wKeq+NdQ2pAAE7dHQA+GCmDWkZQFDUbX3X0R88TlAMnOEufgOmuNt60qt7Li193rnAvjy0V\n",
       "EcXiw9XNx3YcjutEYF/qmWiPMMPjnmIr/SfbKcQxIQAAADMBn9Z0R/8EEYhHWggOIoIjLvZVhphZ\n",
       "ACE4HSbgL8Cbpthnwb7WErdsWo1Xrs9KbPGrdH0AAAAhAZ/Yakf/AIbHMPdRlfhaH97PLxkliIIz\n",
       "z5JnwzTFhSiaAAAAI0Gb20moQWyZTBRMf/yEAB5T9CtH/DNF5xACV7LaIFJs+Y3BAAAAGAGf+mpH\n",
       "/wBDZHoDvcfiYXv0o0ZFAbTrYAAABfZtb292AAAAbG12aGQAAAAAAAAAAAAAAAAAAAPoAAAEsAAB\n",
       "AAABAAAAAAAAAAAAAAAAAQAAAAAAAAAAAAAAAAAAAAEAAAAAAAAAAAAAAAAAAEAAAAAAAAAAAAAA\n",
       "AAAAAAAAAAAAAAAAAAAAAAAAAAACAAAFIHRyYWsAAABcdGtoZAAAAAMAAAAAAAAAAAAAAAEAAAAA\n",
       "AAAEsAAAAAAAAAAAAAAAAAAAAAAAAQAAAAAAAAAAAAAAAAAAAAEAAAAAAAAAAAAAAAAAAEAAAAAB\n",
       "sAAAASAAAAAAACRlZHRzAAAAHGVsc3QAAAAAAAAAAQAABLAAAAIAAAEAAAAABJhtZGlhAAAAIG1k\n",
       "aGQAAAAAAAAAAAAAAAAAADIAAAA8AFXEAAAAAAAtaGRscgAAAAAAAAAAdmlkZQAAAAAAAAAAAAAA\n",
       "AFZpZGVvSGFuZGxlcgAAAARDbWluZgAAABR2bWhkAAAAAQAAAAAAAAAAAAAAJGRpbmYAAAAcZHJl\n",
       "ZgAAAAAAAAABAAAADHVybCAAAAABAAAEA3N0YmwAAACzc3RzZAAAAAAAAAABAAAAo2F2YzEAAAAA\n",
       "AAAAAQAAAAAAAAAAAAAAAAAAAAABsAEgAEgAAABIAAAAAAAAAAEAAAAAAAAAAAAAAAAAAAAAAAAA\n",
       "AAAAAAAAAAAAAAAAAAAY//8AAAAxYXZjQwFkAB7/4QAYZ2QAHqzZQbCWhAAAAwAEAAADAZA8WLZY\n",
       "AQAGaOvjyyLAAAAAHHV1aWRraEDyXyRPxbo5pRvPAyPzAAAAAAAAABhzdHRzAAAAAAAAAAEAAAA8\n",
       "AAABAAAAABRzdHNzAAAAAAAAAAEAAAABAAAB6GN0dHMAAAAAAAAAOwAAAAEAAAIAAAAAAQAABQAA\n",
       "AAABAAACAAAAAAEAAAAAAAAAAQAAAQAAAAABAAAFAAAAAAEAAAIAAAAAAQAAAAAAAAABAAABAAAA\n",
       "AAEAAAUAAAAAAQAAAgAAAAABAAAAAAAAAAEAAAEAAAAAAQAAAwAAAAABAAABAAAAAAEAAAUAAAAA\n",
       "AQAAAgAAAAABAAAAAAAAAAEAAAEAAAAAAQAABQAAAAABAAACAAAAAAEAAAAAAAAAAQAAAQAAAAAB\n",
       "AAAFAAAAAAEAAAIAAAAAAQAAAAAAAAABAAABAAAAAAEAAAQAAAAAAgAAAQAAAAABAAAFAAAAAAEA\n",
       "AAIAAAAAAQAAAAAAAAABAAABAAAAAAEAAAUAAAAAAQAAAgAAAAABAAAAAAAAAAEAAAEAAAAAAQAA\n",
       "BQAAAAABAAACAAAAAAEAAAAAAAAAAQAAAQAAAAABAAAFAAAAAAEAAAIAAAAAAQAAAAAAAAABAAAB\n",
       "AAAAAAEAAAUAAAAAAQAAAgAAAAABAAAAAAAAAAEAAAEAAAAAAQAABQAAAAABAAACAAAAAAEAAAAA\n",
       "AAAAAQAAAQAAAAABAAAFAAAAAAEAAAIAAAAAAQAAAAAAAAABAAABAAAAAAEAAAMAAAAAAQAAAQAA\n",
       "AAAcc3RzYwAAAAAAAAABAAAAAQAAADwAAAABAAABBHN0c3oAAAAAAAAAAAAAADwAAAv8AAAECwAA\n",
       "AYMAAAEuAAAAtAAAAm4AAAERAAAA9AAAAKAAAAK7AAABJwAAAOcAAAC9AAAB3AAAAJ0AAAILAAAA\n",
       "mQAAAJcAAADUAAAB7gAAAKUAAACQAAAAoQAAAgIAAACiAAAAVgAAAH4AAAFkAAAAlQAAAG4AAAFM\n",
       "AAAAkQAAAGEAAABSAAABNAAAAGIAAABLAAAAPAAAATIAAACEAAAALQAAACsAAADYAAAAVwAAAEwA\n",
       "AABXAAAAzAAAAEsAAAAvAAAANwAAAQIAAAAyAAAAJAAAACUAAACkAAAAYAAAADcAAAAlAAAAJwAA\n",
       "ABwAAAAUc3RjbwAAAAAAAAABAAAALAAAAGJ1ZHRhAAAAWm1ldGEAAAAAAAAAIWhkbHIAAAAAAAAA\n",
       "AG1kaXJhcHBsAAAAAAAAAAAAAAAALWlsc3QAAAAlqXRvbwAAAB1kYXRhAAAAAQAAAABMYXZmNTcu\n",
       "NzUuMTAw\n",
       "\">\n",
       "  Your browser does not support the video tag.\n",
       "</video>"
      ],
      "text/plain": [
       "<IPython.core.display.HTML object>"
      ]
     },
     "execution_count": 59,
     "metadata": {},
     "output_type": "execute_result"
    }
   ],
   "source": [
    "from IPython.display import HTML\n",
    "\n",
    "import Problema1\n",
    "\n",
    "HTML(Problema1.anim.to_html5_video())\n",
    "#display_animation(Problema1.anim)"
   ]
  },
  {
   "cell_type": "code",
   "execution_count": null,
   "metadata": {
    "collapsed": true
   },
   "outputs": [],
   "source": []
  }
 ],
 "metadata": {
  "kernelspec": {
   "display_name": "Python 3",
   "language": "python",
   "name": "python3"
  },
  "language_info": {
   "codemirror_mode": {
    "name": "ipython",
    "version": 3
   },
   "file_extension": ".py",
   "mimetype": "text/x-python",
   "name": "python",
   "nbconvert_exporter": "python",
   "pygments_lexer": "ipython3",
   "version": "3.6.0"
  }
 },
 "nbformat": 4,
 "nbformat_minor": 2
}
