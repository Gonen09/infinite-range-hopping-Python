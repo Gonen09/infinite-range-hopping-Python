{
 "cells": [
  {
   "cell_type": "markdown",
   "metadata": {},
   "source": [
    "# *infinite-range-hopping Bose-Hubbard model*"
   ]
  },
  {
   "cell_type": "markdown",
   "metadata": {},
   "source": [
    "$$\n",
    "\\rho = \\rho(\\beta,\\mu) = \\frac{\\sum_{n=1}^\\infty = ne^{\\beta[(\\mu+\\lambda-1)n-\\lambda n^{2}]}}{\\sum_{n=0}^\\infty = e^{\\beta[(\\mu+\\lambda-1)n-\\lambda n^{2}]}}\n",
    "$$"
   ]
  },
  {
   "cell_type": "markdown",
   "metadata": {},
   "source": [
    "## *Desarrollo*"
   ]
  },
  {
   "cell_type": "markdown",
   "metadata": {},
   "source": [
    "### Dependencias"
   ]
  },
  {
   "cell_type": "code",
   "execution_count": 29,
   "metadata": {
    "collapsed": true
   },
   "outputs": [],
   "source": [
    "import math\n",
    "import matplotlib.pyplot as plt\n",
    "import time"
   ]
  },
  {
   "cell_type": "markdown",
   "metadata": {},
   "source": [
    "### Valores de *µ*"
   ]
  },
  {
   "cell_type": "markdown",
   "metadata": {},
   "source": [
    "$$\n",
    " \\rho(\\beta,\\mu) = \\left\\{\n",
    "       \\begin{array}{ll}\n",
    "     0      & \\mathrm{si\\ \\quad} \\mu < 1 \\\\\n",
    "     K & \\mathrm{si\\ \\quad} 2(K - 1) \\Lambda +1 < \\mu < 2K \\Lambda +1 \\\\\n",
    "       \\end{array}\n",
    "     \\right.\n",
    "$$"
   ]
  },
  {
   "cell_type": "code",
   "execution_count": 30,
   "metadata": {
    "collapsed": true
   },
   "outputs": [],
   "source": [
    "def rangoK(k, lam):\n",
    "    limInf = 2*(k-1)*lam+1\n",
    "    limSup = 2*k*lam+1\n",
    "    return (limInf, limSup)"
   ]
  },
  {
   "cell_type": "markdown",
   "metadata": {},
   "source": [
    "\\begin{equation}\n",
    "\\sum_{n=1}^\\infty = ne^{\\beta[(\\mu+\\Lambda-1)n-\\Lambda n^{2}]}\n",
    "\\end{equation}"
   ]
  },
  {
   "cell_type": "code",
   "execution_count": 31,
   "metadata": {
    "collapsed": true
   },
   "outputs": [],
   "source": [
    "def f1(b , u , lam, N):\n",
    "    sumatoria = 0\n",
    "    for n in range(1, N):\n",
    "        sumatoria+=n*math.exp(b*((u+lam-1)*n-lam*math.pow(n, 2)))\n",
    "    return sumatoria"
   ]
  },
  {
   "cell_type": "markdown",
   "metadata": {},
   "source": [
    "\\begin{equation}\n",
    "\\sum_{n=0}^\\infty = e^{\\beta[(\\mu+\\Lambda-1)n-\\Lambda n^{2}]}\n",
    "\\end{equation}"
   ]
  },
  {
   "cell_type": "code",
   "execution_count": 32,
   "metadata": {
    "collapsed": false
   },
   "outputs": [],
   "source": [
    "def f2(b , u , lam, N):\n",
    "    sumatoria = 0.0\n",
    "    for n in range(N):\n",
    "        resul = math.exp(b*((u+lam-1)*n-lam*math.pow(n, 2)))\n",
    "        sumatoria+= resul\n",
    "    return sumatoria"
   ]
  },
  {
   "cell_type": "markdown",
   "metadata": {},
   "source": [
    "### Parámetros formula"
   ]
  },
  {
   "cell_type": "code",
   "execution_count": 33,
   "metadata": {
    "collapsed": false,
    "scrolled": true
   },
   "outputs": [],
   "source": [
    "B = 2  #Temperatura inversa\n",
    "U = 0.5\n",
    "lam =  3\n",
    "N = 10\n",
    "K = 0.3 # Entero positivo"
   ]
  },
  {
   "cell_type": "markdown",
   "metadata": {},
   "source": [
    "### Obtención de *ρ* y *µ*"
   ]
  },
  {
   "cell_type": "code",
   "execution_count": 34,
   "metadata": {
    "collapsed": false
   },
   "outputs": [
    {
     "name": "stdout",
     "output_type": "stream",
     "text": [
      "Magnitud vector x:  14\n",
      "Magnitud vector y:  14\n",
      "Tiempo ejecución:  0.003000020980834961 ms\n"
     ]
    }
   ],
   "source": [
    "start_time = time.time() #Para medir el tiempo de ejecución\n",
    "\n",
    "numero_segmentaciones = 14.0\n",
    "u = -2\n",
    "x = []\n",
    "y = []\n",
    "\n",
    "for i in range(int(numero_segmentaciones)):\n",
    "    u += 14/numero_segmentaciones\n",
    "    try:\n",
    "        ro =  f1(B, u, lam, N)/f2(B, u, lam, N)\n",
    "        x.append(u)\n",
    "        y.append(ro)\n",
    "    except ZeroDivisionError:\n",
    "        print('Division por cero')\n",
    "        break\n",
    "    except OverflowError:\n",
    "        print('overflow')\n",
    "        break\n",
    "        \n",
    "print(\"Magnitud vector x: \",str(len(x)))\n",
    "print(\"Magnitud vector y: \",str(len(y)))\n",
    "\n",
    "print (\"Tiempo ejecución: \",time.time() - start_time,\"ms\")"
   ]
  },
  {
   "cell_type": "markdown",
   "metadata": {},
   "source": [
    "### Graficador"
   ]
  },
  {
   "cell_type": "code",
   "execution_count": 35,
   "metadata": {
    "collapsed": false
   },
   "outputs": [],
   "source": [
    "def grafica(x, y, foto = False): \n",
    "    if (len(x)!=0 or len(y)!=0):\n",
    "        plt.plot(x, y, 'bo')\n",
    "        limInfx=min(x)-1\n",
    "        limSupx=max(x)+1\n",
    "        limInfy=min(y)-1\n",
    "        limSupy=max(y)+1\n",
    "        plt.axis([limInfx, limSupx, limInfy, limSupy]) #Longitud ejes x,y\n",
    "        plt.title('ρ vs μ')\n",
    "        plt.ylabel('ρ')\n",
    "        plt.xlabel('μ')\n",
    "\n",
    "        #define plot size in inches (width, height) & resolution(DPI)\n",
    "        #plt.figure(figsize=(20, 10), dpi=100)\n",
    "        #plt.figure(figsize=(2,2))\n",
    "        if foto ==True:\n",
    "            fig = plt.gcf()\n",
    "            fig.set_size_inches(18.5, 10.5)\n",
    "            fig.savefig('test2png.png', dpi=100)\n",
    "        plt.show()\n",
    "    else:\n",
    "        print(\"Vector vacío\")\n",
    "    "
   ]
  },
  {
   "cell_type": "code",
   "execution_count": 36,
   "metadata": {
    "collapsed": false
   },
   "outputs": [
    {
     "data": {
      "image/png": "[encoded data removed]",
      "text/plain": [
       "<matplotlib.figure.Figure at 0x7971f70>"
      ]
     },
     "metadata": {},
     "output_type": "display_data"
    }
   ],
   "source": [
    "grafica(x, y)"
   ]
  },
  {
   "cell_type": "code",
   "execution_count": 37,
   "metadata": {
    "collapsed": true
   },
   "outputs": [],
   "source": [
    "def arreglos_B_XY(B, u, lam, N):\n",
    "    numero_segmentaciones = 50.0\n",
    "    u = -10\n",
    "    x = []\n",
    "    y = []\n",
    "\n",
    "    for i in range(int(numero_segmentaciones)):\n",
    "        u += 30/numero_segmentaciones\n",
    "        try:\n",
    "            ro =  f1(B, u, lam, N)/f2(B, u, lam, N)\n",
    "            x.append(u)\n",
    "            y.append(ro)\n",
    "        except ZeroDivisionError:\n",
    "            print('Division por cero')\n",
    "            break\n",
    "        except OverflowError:\n",
    "            print('overflow')\n",
    "            break\n",
    "    return x,y"
   ]
  },
  {
   "cell_type": "code",
   "execution_count": 38,
   "metadata": {
    "collapsed": false
   },
   "outputs": [
    {
     "data": {
      "image/png": "[encoded data removed]",
      "text/plain": [
       "<matplotlib.figure.Figure at 0x741c670>"
      ]
     },
     "metadata": {},
     "output_type": "display_data"
    }
   ],
   "source": [
    "B = 2  #Temperatura inversa\n",
    "U = 0.5\n",
    "lam =  3\n",
    "N = 10\n",
    "K = 0.3 # Entero positivo\n",
    "\n",
    "x1, y1 = arreglos_B_XY(2, U, lam, N)\n",
    "grafica(x1, y1)"
   ]
  },
  {
   "cell_type": "code",
   "execution_count": 39,
   "metadata": {
    "collapsed": false
   },
   "outputs": [
    {
     "data": {
      "image/png": "[encoded data removed]",
      "text/plain": [
       "<matplotlib.figure.Figure at 0x7742690>"
      ]
     },
     "metadata": {},
     "output_type": "display_data"
    }
   ],
   "source": [
    "x1, y1 = arreglos_B_XY(15, U, lam, N)\n",
    "grafica(x1, y1, True)"
   ]
  },
  {
   "cell_type": "code",
   "execution_count": 40,
   "metadata": {
    "collapsed": false
   },
   "outputs": [
    {
     "name": "stdout",
     "output_type": "stream",
     "text": [
      "overflow\n"
     ]
    },
    {
     "data": {
      "image/png": "[encoded data removed]",
      "text/plain": [
       "<matplotlib.figure.Figure at 0x78edb50>"
      ]
     },
     "metadata": {},
     "output_type": "display_data"
    }
   ],
   "source": [
    "x1, y1 = arreglos_B_XY(50, U, lam, N)\n",
    "grafica(x1, y1)"
   ]
  },
  {
   "cell_type": "code",
   "execution_count": 41,
   "metadata": {
    "collapsed": false
   },
   "outputs": [
    {
     "name": "stdout",
     "output_type": "stream",
     "text": [
      "overflow\n"
     ]
    },
    {
     "data": {
      "image/png": "[encoded data removed]",
      "text/plain": [
       "<matplotlib.figure.Figure at 0x77d53d0>"
      ]
     },
     "metadata": {},
     "output_type": "display_data"
    }
   ],
   "source": [
    "x1, y1 = arreglos_B_XY(100, U, lam, N)\n",
    "grafica(x1, y1)"
   ]
  },
  {
   "cell_type": "code",
   "execution_count": 42,
   "metadata": {
    "collapsed": false
   },
   "outputs": [
    {
     "name": "stdout",
     "output_type": "stream",
     "text": [
      "overflow\n"
     ]
    },
    {
     "data": {
      "image/png": "[encoded data removed]",
      "text/plain": [
       "<matplotlib.figure.Figure at 0x794e3f0>"
      ]
     },
     "metadata": {},
     "output_type": "display_data"
    }
   ],
   "source": [
    "x1, y1 = arreglos_B_XY(200, U, lam, N)\n",
    "grafica(x1, y1)"
   ]
  },
  {
   "cell_type": "code",
   "execution_count": null,
   "metadata": {
    "collapsed": true
   },
   "outputs": [],
   "source": []
  }
 ],
 "metadata": {
  "kernelspec": {
   "display_name": "Python 3",
   "language": "python",
   "name": "python3"
  },
  "language_info": {
   "codemirror_mode": {
    "name": "ipython",
    "version": 3
   },
   "file_extension": ".py",
   "mimetype": "text/x-python",
   "name": "python",
   "nbconvert_exporter": "python",
   "pygments_lexer": "ipython3",
   "version": "3.6.0"
  }
 },
 "nbformat": 4,
 "nbformat_minor": 2
}
