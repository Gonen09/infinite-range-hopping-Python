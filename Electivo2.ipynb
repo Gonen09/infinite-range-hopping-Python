{
 "cells": [
  {
   "cell_type": "code",
   "execution_count": 2,
   "metadata": {
    "collapsed": false
   },
   "outputs": [],
   "source": [
    "import math\n",
    "\n",
    "def rangoK(k, lam):\n",
    "    limInf = 2*(k-1)*lam+1\n",
    "    limSup = 2*k*lam+1\n",
    "    return (limInf, limSup)\n",
    "\n",
    "def f1(b , u , lam, n):\n",
    "    sumatoria = 0\n",
    "    for i in range(1, n):\n",
    "        sumatoria+=n*math.exp(b*((u+lam-1)*n-lam*math.pow(n, 2)))\n",
    "    return sumatoria\n",
    "\n",
    "def f2(b , u , lam, n):\n",
    "    sumatoria = 0\n",
    "    for i in range(n):\n",
    "        sumatoria+=math.exp(b*((u+lam-1)*n-lam*math.pow(n, 2)))\n",
    "    return sumatoria"
   ]
  },
  {
   "cell_type": "code",
   "execution_count": 49,
   "metadata": {
    "collapsed": false,
    "scrolled": true
   },
   "outputs": [
    {
     "data": {
      "text/plain": [
       "(-3.1999999999999993, 2.8)"
      ]
     },
     "execution_count": 49,
     "metadata": {},
     "output_type": "execute_result"
    }
   ],
   "source": [
    "B = 0.01\n",
    "U = 0.5\n",
    "lam =  3\n",
    "N = 10\n",
    "K = 0.3\n",
    "rangoK(K, lam)\n",
    "#f1(B, U, lam, N)/f2(B, U, lam, N)"
   ]
  },
  {
   "cell_type": "code",
   "execution_count": 52,
   "metadata": {
    "collapsed": false
   },
   "outputs": [
    {
     "name": "stdout",
     "output_type": "stream",
     "text": [
      "tiempo:  0.004000186920166016\n"
     ]
    }
   ],
   "source": [
    "## import time\n",
    "start_time = time.time()\n",
    "\n",
    "numero_segmentaciones = 30.0\n",
    "u = -2\n",
    "x = []\n",
    "y = []\n",
    "for i in range(int(numero_segmentaciones)):\n",
    "    u += 14/numero_segmentaciones\n",
    "    try:\n",
    "        ro =  f1(B, U, lam, N)/f2(B, u, lam, N)\n",
    "        x.append(u)\n",
    "        y.append(ro)\n",
    "    except ZeroDivisionError:\n",
    "        break\n",
    "print (\"tiempo: \",time.time() - start_time)"
   ]
  },
  {
   "cell_type": "code",
   "execution_count": 53,
   "metadata": {
    "collapsed": false
   },
   "outputs": [
    {
     "data": {
      "image/png": "[encoded data removed]",
      "text/plain": [
       "<matplotlib.figure.Figure at 0x6d71490>"
      ]
     },
     "metadata": {},
     "output_type": "display_data"
    }
   ],
   "source": [
    "import matplotlib.pyplot as plt\n",
    "plt.plot(x, y, 'ro')\n",
    "#plt.axis([-2, 6, 0, 20])\n",
    "plt.show()"
   ]
  },
  {
   "cell_type": "code",
   "execution_count": null,
   "metadata": {
    "collapsed": true
   },
   "outputs": [],
   "source": []
  }
 ],
 "metadata": {
  "kernelspec": {
   "display_name": "Python 3",
   "language": "python",
   "name": "python3"
  },
  "language_info": {
   "codemirror_mode": {
    "name": "ipython",
    "version": 3
   },
   "file_extension": ".py",
   "mimetype": "text/x-python",
   "name": "python",
   "nbconvert_exporter": "python",
   "pygments_lexer": "ipython3",
   "version": "3.6.0"
  }
 },
 "nbformat": 4,
 "nbformat_minor": 2
}
