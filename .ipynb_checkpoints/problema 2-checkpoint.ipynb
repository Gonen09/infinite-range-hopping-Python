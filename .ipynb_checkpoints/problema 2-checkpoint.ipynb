{
 "cells": [
  {
   "cell_type": "markdown",
   "metadata": {},
   "source": [
    "# Condensación Bosónica no convencional de Bose-Einstein"
   ]
  },
  {
   "cell_type": "markdown",
   "metadata": {},
   "source": [
    "### **Tabla de contenidos**\n",
    "      \n",
    "1. [Problema](#Problema)\n",
    "    1. [Formula](#Formula)\n",
    "    2. [Parametros](#Parametros)\n",
    "    3. [Condiciones](#Condiciones)\n",
    "2. [Codificación modulos](#Codificación modulos)\n",
    "    1. [Modulos base](#Modulos base)\n",
    "        1. [Obtención de *ρ*](#Obtención de *ρ*)\n",
    "        2. [Obtención de *ρ*](#Obtención de *ρ*)\n",
    "        3. [Obtención de *ρ*](#Obtención de *ρ*)\n",
    "        4. [Obtención de *ρ*](#Obtención de *ρ*)\n",
    "    2. [Modulos experimentacion](#Modulos experimentacion)\n",
    "        1. metodo 1: Calculo real vs esperado\n",
    "\t\t2. metodo 2: Calculo real vs vector esperado, con vector V y N variables\n",
    "\t\t3. metodo 3: Calculo vector real vs vector esperado, con valores constantes y un vector variable\n",
    "\n",
    "    "
   ]
  },
  {
   "cell_type": "markdown",
   "metadata": {},
   "source": [
    "<a id='Problema'></a>\n",
    "# Problema"
   ]
  },
  {
   "cell_type": "markdown",
   "metadata": {},
   "source": [
    "<a id='Formula'></a>\n",
    "### Formula\n",
    "\n",
    "$$\n",
    "\\rho_{0} = \\frac{1}{V} \\frac{\\sum_{n=1}^\\infty = ne^{\\beta\\{(- \\lambda + \\mu + \\frac{\\gamma}{V})n - \\frac{\\gamma}{V}n^{2}\\}}}{\\sum_{n=0}^\\infty = e^{\\beta\\{(- \\lambda + \\mu + \\frac{\\gamma}{V})n - \\frac{\\gamma}{V}n^{2}\\}}} \\quad \\sim \\quad (\\frac{\\mu - \\lambda}{2 \\gamma})\n",
    "$$"
   ]
  },
  {
   "cell_type": "markdown",
   "metadata": {},
   "source": [
    "<a id='Parametros'></a>\n",
    "### Parametros"
   ]
  },
  {
   "cell_type": "markdown",
   "metadata": {},
   "source": [
    "__γ__ : Término denominado de selfscattering (Autodispersión).\n",
    "\n",
    "__β__ : Temeperatura inversa.\n",
    "\n",
    "__λ__ : Energía del estado fundamental.\n",
    "\n",
    "__µ__ : Potencial químico.\n",
    "\n",
    "__V__ : Volumen del sistema.\n",
    "\n",
    "__N__ : Número de partículas en el sistema. \n",
    "\n",
    "__cte__ : Proprocion entre número de particulas y volumen del sistema."
   ]
  },
  {
   "cell_type": "markdown",
   "metadata": {},
   "source": [
    "<a id='Condiciones'></a>\n",
    "### Condiciones"
   ]
  },
  {
   "cell_type": "markdown",
   "metadata": {},
   "source": [
    "$0 < γ,β,V, N$\n",
    "\n",
    "$λ < µ < 0 $\n",
    "\n",
    "$\\lim_{V,N \\to \\infty }\\frac{N}{V}=cte$"
   ]
  },
  {
   "cell_type": "markdown",
   "metadata": {},
   "source": [
    "<a id='Codificación modulos'></a>\n",
    "# *Codificación modulos*"
   ]
  },
  {
   "cell_type": "markdown",
   "metadata": {},
   "source": [
    "## Modulos base"
   ]
  },
  {
   "cell_type": "markdown",
   "metadata": {},
   "source": [
    "<a id='Dependencias'></a>\n",
    "### Dependencias"
   ]
  },
  {
   "cell_type": "code",
   "execution_count": 2,
   "metadata": {
    "collapsed": true
   },
   "outputs": [],
   "source": [
    "import math\n",
    "from mpl_toolkits.mplot3d import Axes3D\n",
    "from mpl_toolkits.mplot3d import axes3d\n",
    "import matplotlib.pyplot as plt\n",
    "from matplotlib import cm\n",
    "from matplotlib.ticker import LinearLocator, FormatStrFormatter\n",
    "import numpy as np\n",
    "import time\n",
    "import sys"
   ]
  },
  {
   "cell_type": "markdown",
   "metadata": {},
   "source": [
    "$$\n",
    "f_{1} = \\sum_{n=1}^\\infty ne^{\\beta\\{(- \\lambda + \\mu + \\frac{\\gamma}{V})n - \\frac{\\gamma}{V}n^{2}\\}}\n",
    "$$"
   ]
  },
  {
   "cell_type": "code",
   "execution_count": 3,
   "metadata": {
    "collapsed": true
   },
   "outputs": [],
   "source": [
    "def f1(b , u , lam , gam , v , N):\n",
    "    sumatoria = 0\n",
    "    \n",
    "    for n in range(1, N):\n",
    "        try:\n",
    "            sumatoria+=n*math.exp(b*((-lam+u+(gam/v))*n-(gam/v)*math.pow(n, 2)))\n",
    "        except OverflowError:\n",
    "            print (\"Desbordamiento\")\n",
    "            break\n",
    "        \n",
    "    return sumatoria"
   ]
  },
  {
   "cell_type": "markdown",
   "metadata": {},
   "source": [
    "$$\n",
    "f_{2} = \\sum_{n=0}^\\infty e^{\\beta\\{(- \\lambda + \\mu + \\frac{\\gamma}{V})n - \\frac{\\gamma}{V}n^{2}\\}}\n",
    "$$"
   ]
  },
  {
   "cell_type": "code",
   "execution_count": 4,
   "metadata": {
    "collapsed": true
   },
   "outputs": [],
   "source": [
    "def f2(b , u , lam , gam , v , N):\n",
    "    sumatoria = 0\n",
    "    \n",
    "    for n in range(N):\n",
    "        try:\n",
    "            sumatoria+=math.exp(b*((-lam+u+(gam/v))*n-(gam/v)*math.pow(n, 2)))\n",
    "        except OverflowError:\n",
    "            print (\"Desbordamiento\")\n",
    "            break\n",
    "            \n",
    "    return sumatoria"
   ]
  },
  {
   "cell_type": "markdown",
   "metadata": {},
   "source": [
    "<a id='Obtención de *ρ*'></a>\n",
    "### Obtención de *ρ*\n",
    "\n",
    "$$\n",
    "\\rho_{0} = \\frac{1}{V} * \\frac{f_{1}}{f_{2}}\n",
    "$$"
   ]
  },
  {
   "cell_type": "code",
   "execution_count": 5,
   "metadata": {
    "collapsed": false
   },
   "outputs": [],
   "source": [
    "def calculo_ro(b , u , lam , gam , v , n):\n",
    "    try:\n",
    "        numerador =  f1(b, u, lam, gam, v, n)\n",
    "        denominador = f2(b, u, lam, gam, v, n)\n",
    "        fraccion1 = 1/v\n",
    "        fraccion2 = numerador/denominador\n",
    "        ro = fraccion1 * fraccion2\n",
    "        # print (\"Numerador: \",numerador)\n",
    "        # print (\"Denominador: \",denominador)\n",
    "        # print (\"fraccion 1: \",fraccion1)\n",
    "        # print (\"fraccion 2: \",fraccion2)\n",
    "        # print (\"Ro: \",ro)\n",
    "        \n",
    "    except ZeroDivisionError:\n",
    "        print('Division por cero')\n",
    "        ro = 0\n",
    "        \n",
    "    print (\"Valor ro: \",ro)\n",
    "    return ro"
   ]
  },
  {
   "cell_type": "markdown",
   "metadata": {},
   "source": [
    "### Obtención *validador*\n",
    "$$\n",
    "\\frac{\\mu - \\lambda}{2 \\gamma} \n",
    "$$"
   ]
  },
  {
   "cell_type": "code",
   "execution_count": 6,
   "metadata": {
    "collapsed": true
   },
   "outputs": [],
   "source": [
    "def calculo_validador(u , lam , gam):\n",
    "    try:\n",
    "        resultado = (u-lam)/(2*gam)\n",
    "    except ZeroDivisionError:\n",
    "        print('Division por cero')\n",
    "        resultado = 0\n",
    "        \n",
    "    print (\"Valor validador: \",resultado)    \n",
    "    return resultado"
   ]
  },
  {
   "cell_type": "markdown",
   "metadata": {},
   "source": [
    "### Generador vector V's\n",
    "$$\n",
    "V = \\frac{N}{cte}\n",
    "$$"
   ]
  },
  {
   "cell_type": "code",
   "execution_count": 7,
   "metadata": {
    "collapsed": true
   },
   "outputs": [],
   "source": [
    "def generador_v(vector_n, constante):\n",
    "\n",
    "    \"\"\" Genera un vector de V's a partir de un vector de N's y una constante\"\"\"\n",
    "\n",
    "    v = []\n",
    "\n",
    "    for x in range(len(vector_n)):\n",
    "        nv = vector_n[x] // constante  # // = Division entera\n",
    "        v.append(nv)\n",
    "\n",
    "    #print(\"valores n: \", vector_n)\n",
    "    #print(\"valores v: \", v)\n",
    "\n",
    "    return v"
   ]
  },
  {
   "cell_type": "markdown",
   "metadata": {},
   "source": [
    "### Generador vector N's\n",
    "$$\n",
    "N = V * cte\n",
    "$$"
   ]
  },
  {
   "cell_type": "code",
   "execution_count": 8,
   "metadata": {
    "collapsed": true
   },
   "outputs": [],
   "source": [
    "def generador_n(vector_v, constante):\n",
    "\n",
    "    \"\"\" Genera un vector de N's a partir de un vector de V's y una constante\"\"\"\n",
    "\n",
    "    n = []\n",
    "\n",
    "    for x in range(len(vector_v)):\n",
    "        nn = vector_v[x] * constante\n",
    "        n.append(nn)\n",
    "\n",
    "    # print(\"valores v: \", vector_v)\n",
    "    # print(\"valores n: \", n)\n",
    "\n",
    "    return n"
   ]
  },
  {
   "cell_type": "markdown",
   "metadata": {},
   "source": [
    "### Graficador"
   ]
  },
  {
   "cell_type": "code",
   "execution_count": 9,
   "metadata": {
    "collapsed": false
   },
   "outputs": [],
   "source": [
    "def graficador(datos_x,datos_y,titulo,titulo_x,titulo_y,ajuste_ejes=False):\n",
    "    if len(datos_x)!=0 or len(datos_y)!=0:\n",
    "        \n",
    "        # Informacion grafico\n",
    "        plt.title(titulo)\n",
    "        plt.xlabel(titulo_x)\n",
    "        plt.ylabel(titulo_y)\n",
    "        \n",
    "        if ajuste_ejes:\n",
    "            # Limites grafico\n",
    "            minimo_x = min(datos_x) - 1\n",
    "            maximo_x = max(datos_x) + 1\n",
    "            minimo_y = min(datos_y) - 1\n",
    "            maximo_y = max(datos_y) + 1\n",
    "            plt.xlim(minimo_x,maximo_x)\n",
    "            plt.ylim(minimo_y,maximo_y)\n",
    "        \n",
    "        # Mostrar datos\n",
    "        plt.plot(datos_x, datos_y, 'ro')\n",
    "        plt.show()\n",
    "    else:\n",
    "        print(\"Vector vacio\")"
   ]
  },
  {
   "cell_type": "markdown",
   "metadata": {},
   "source": [
    "## Modulos experimentacion"
   ]
  },
  {
   "cell_type": "markdown",
   "metadata": {},
   "source": [
    "### metodo 1: Calculo real vs esperado"
   ]
  },
  {
   "cell_type": "code",
   "execution_count": 10,
   "metadata": {
    "collapsed": true
   },
   "outputs": [],
   "source": [
    "def metodo1(b, u, lam, gam, v, n):\n",
    "\n",
    "    \"\"\" Calcular el valor real y el esperado \"\"\"\n",
    "\n",
    "    ro = calculo_ro(b, u, lam, gam, v, n)\n",
    "    vro = calculo_validador(u, lam, gam)\n",
    "\n",
    "    return ro, vro"
   ]
  },
  {
   "cell_type": "markdown",
   "metadata": {},
   "source": [
    "### metodo 2: Calculo real vs vector esperado, con vector V y N variables"
   ]
  },
  {
   "cell_type": "code",
   "execution_count": 11,
   "metadata": {
    "collapsed": true
   },
   "outputs": [],
   "source": [
    "def metodo2(valores, vector_v, vector_n):\n",
    "\n",
    "    \"\"\" Grupo fijo de valores e iterar con un N y un V, Valores: +β,-µ,-λ,+γ \"\"\"\n",
    "\n",
    "    salida_resultado = []\n",
    "    \n",
    "    for x in range(len(vector_n)):\n",
    "        ro = calculo_ro(valores[0], valores[1], valores[2], valores[3], vector_v[x], vector_n[x])\n",
    "        salida_resultado.append(ro)\n",
    "\n",
    "    salida_esperado = calculo_validador(valores[1],valores[2],valores[3])\n",
    "    return salida_resultado, salida_esperado"
   ]
  },
  {
   "cell_type": "markdown",
   "metadata": {},
   "source": [
    "### metodo 3: Calculo vector real vs vector esperado, con valores constantes y un vector variable"
   ]
  },
  {
   "cell_type": "markdown",
   "metadata": {},
   "source": [
    "#### *_Beta_* variable"
   ]
  },
  {
   "cell_type": "code",
   "execution_count": 12,
   "metadata": {
    "collapsed": true
   },
   "outputs": [],
   "source": [
    "def metodo3_beta(vector_b, u, lam, gam, v, n):\n",
    "\n",
    "    \"\"\" Grupo fijo de valores con un vector iterable, Valores: +β,-µ,-λ,+γ,V,N \"\"\"\n",
    "\n",
    "    salida_resultado = []\n",
    "    salida_esperado = []\n",
    "    \n",
    "    for x in range(len(vector_b)):\n",
    "        \n",
    "        print(\"Beta: \",vector_b[x],\" Mu:\",u,\" Lambda: \",lam,\" Gamma: \",gam,\" Volumen: \",v,\" Particulas: \",n)\n",
    "        \n",
    "        ro, rvo = metodo1(vector_b[x] ,u, lam, gam, v, n)\n",
    "        salida_resultado.append(ro)\n",
    "        salida_esperado.append(rvo)\n",
    "        \n",
    "        print(\" \")\n",
    "        print(\" \")\n",
    "\n",
    "\n",
    "    return salida_resultado, salida_esperado"
   ]
  },
  {
   "cell_type": "markdown",
   "metadata": {},
   "source": [
    "#### *_Mu_* variable"
   ]
  },
  {
   "cell_type": "code",
   "execution_count": 13,
   "metadata": {
    "collapsed": true
   },
   "outputs": [],
   "source": [
    "def metodo3_mu(b, vector_u, lam, gam, v, n):\n",
    "\n",
    "    \"\"\" Grupo fijo de valores con un vector iterable, Valores: +β,-µ,-λ,+γ,V,N \"\"\"\n",
    "\n",
    "    salida_resultado = []\n",
    "    salida_esperado = []\n",
    "    \n",
    "    for x in range(len(vector_u)):\n",
    "        \n",
    "        print(\"Beta: \",b,\" Mu:\",vector_u[x],\" Lambda: \",lam,\" Gamma: \",gam,\" Volumen: \",v,\" Particulas: \",n)\n",
    "        \n",
    "        ro, rvo = metodo1(b, vector_u[x], lam, gam, v, n)\n",
    "        salida_resultado.append(ro)\n",
    "        salida_esperado.append(rvo)\n",
    "        \n",
    "        print(\" \")\n",
    "        print(\" \")\n",
    "        \n",
    "        \n",
    "    return salida_resultado, salida_esperado"
   ]
  },
  {
   "cell_type": "markdown",
   "metadata": {},
   "source": [
    "#### *_lambda_* variable"
   ]
  },
  {
   "cell_type": "code",
   "execution_count": 14,
   "metadata": {
    "collapsed": true
   },
   "outputs": [],
   "source": [
    "def metodo3_lambda(b, u, vector_lam, gam, v, n):\n",
    "\n",
    "    \"\"\" Grupo fijo de valores con un vector iterable, Valores: +β,-µ,-λ,+γ,V,N \"\"\"\n",
    "\n",
    "    salida_resultado = []\n",
    "    salida_esperado = []\n",
    "    \n",
    "    for x in range(len(vector_lam)):\n",
    "        \n",
    "        print(\"Beta: \",b,\" Mu:\", u,\" Lambda: \",vector_lam[x],\" Gamma: \",gam,\" Volumen: \",v,\" Particulas: \",n)\n",
    "        \n",
    "        ro, rvo = metodo1(b, u, vector_lam[x], gam, v, n)\n",
    "        salida_resultado.append(ro)\n",
    "        salida_esperado.append(rvo)\n",
    "        \n",
    "        print(\" \")\n",
    "        print(\" \")\n",
    "\n",
    "    return salida_resultado, salida_esperado"
   ]
  },
  {
   "cell_type": "markdown",
   "metadata": {},
   "source": [
    "#### *_gamma_* variable"
   ]
  },
  {
   "cell_type": "code",
   "execution_count": 15,
   "metadata": {
    "collapsed": true
   },
   "outputs": [],
   "source": [
    "def metodo3_gamma(b, u, lam, vector_gam, v, n):\n",
    "\n",
    "    \"\"\" Grupo fijo de valores con un vector iterable, Valores: +β,-µ,-λ,+γ,V,N \"\"\"\n",
    "\n",
    "    salida_resultado = []\n",
    "    salida_esperado = []\n",
    "    \n",
    "    for x in range(len(vector_gam)):\n",
    "        \n",
    "        print(\"Beta: \",b,\" Mu:\", u,\" Lambda: \",lam,\" Gamma: \",vector_gam[x],\" Volumen: \",v,\" Particulas: \",n)\n",
    "        \n",
    "        ro, rvo = metodo1(b, u, lam,vector_gam[x], v, n)\n",
    "        salida_resultado.append(ro)\n",
    "        salida_esperado.append(rvo)\n",
    "        \n",
    "        print(\" \")\n",
    "        print(\" \")\n",
    "\n",
    "    return salida_resultado, salida_esperado"
   ]
  },
  {
   "cell_type": "markdown",
   "metadata": {},
   "source": [
    "# *Experimentos*"
   ]
  },
  {
   "cell_type": "markdown",
   "metadata": {},
   "source": [
    "## Cargar modulos proyecto"
   ]
  },
  {
   "cell_type": "code",
   "execution_count": 1,
   "metadata": {
    "collapsed": true
   },
   "outputs": [],
   "source": [
    "#pyrun problema2.py"
   ]
  },
  {
   "cell_type": "markdown",
   "metadata": {},
   "source": [
    "## Seccion 1: Vector N variable, con su respectivo Vector V y los demás valores fijos"
   ]
  },
  {
   "cell_type": "markdown",
   "metadata": {},
   "source": [
    "### Valores fijos:  β = 15   µ = -0.05    λ  = -0.3    γ = 50   cte = 350"
   ]
  },
  {
   "cell_type": "markdown",
   "metadata": {},
   "source": [
    "### Prueba 1"
   ]
  },
  {
   "cell_type": "code",
   "execution_count": 37,
   "metadata": {
    "collapsed": false,
    "scrolled": false
   },
   "outputs": [
    {
     "name": "stdout",
     "output_type": "stream",
     "text": [
      "V: [  1  16  31  46  61  76  91 106 121 136 151 166 181 196 211 226 241 256\n",
      " 271 286 301 316 331 346 361 376 391 406 421 436 451 466 481 496]\n",
      "\n",
      "N: [350, 5600, 10850, 16100, 21350, 26600, 31850, 37100, 42350, 47600, 52850, 58100, 63350, 68600, 73850, 79100, 84350, 89600, 94850, 100100, 105350, 110600, 115850, 121100, 126350, 131600, 136850, 142100, 147350, 152600, 157850, 163100, 168350, 173600]\n"
     ]
    }
   ],
   "source": [
    "# configuracion [+β,-µ,-λ,+γ]\n",
    "configuracion_inicial1 = [15,-0.05,-0.3,50]\n",
    "\n",
    "vector_v1 = np.arange(1,500,15) # inicio, fin, paso\n",
    "print (\"V:\",vector_v1)\n",
    "print(\"\")\n",
    "vector_n1 = generador_n(vector_v1,350) # cte = 350\n",
    "print (\"N:\",vector_n1)"
   ]
  },
  {
   "cell_type": "code",
   "execution_count": 84,
   "metadata": {
    "collapsed": false
   },
   "outputs": [
    {
     "name": "stdout",
     "output_type": "stream",
     "text": [
      "Valor ro:  0.97702263009\n",
      "Valor ro:  0.0610639143806\n",
      "Valor ro:  0.0315168590352\n",
      "Valor ro:  0.0212396223933\n",
      "Valor ro:  0.0160167644423\n",
      "Valor ro:  0.0128555624218\n",
      "Valor ro:  0.0107365448251\n",
      "Valor ro:  0.00921748129172\n",
      "Valor ro:  0.00807601829686\n",
      "Valor ro:  0.00718905436076\n",
      "Valor ro:  0.00648397365863\n",
      "Valor ro:  0.00591600185913\n",
      "Valor ro:  0.00545640157238\n",
      "Valor ro:  0.00508572658195\n",
      "Valor ro:  0.0047897356598\n",
      "Valor ro:  0.00455689299323\n",
      "Valor ro:  0.00437693576155\n",
      "Valor ro:  0.00424021154972\n",
      "Valor ro:  0.00413755591276\n",
      "Valor ro:  0.00406049002602\n",
      "Valor ro:  0.00400153192733\n",
      "Valor ro:  0.00395446009318\n",
      "Valor ro:  0.00391443894272\n",
      "Valor ro:  0.0038779877258\n",
      "Valor ro:  0.00384282483933\n",
      "Valor ro:  0.003807641062\n",
      "Valor ro:  0.00377185310133\n",
      "Valor ro:  0.00373537446325\n",
      "Valor ro:  0.00369842386955\n",
      "Valor ro:  0.00366137787218\n",
      "Valor ro:  0.00362466564829\n",
      "Valor ro:  0.00358869964191\n",
      "Valor ro:  0.00355383438246\n",
      "Valor ro:  0.00352034615065\n",
      "Valor validador:  0.0025\n",
      "Tiempo ejecución:  12.300807237625122 seg\n"
     ]
    }
   ],
   "source": [
    "start_time = time.time() #Para medir el tiempo de ejecución\n",
    "salida1 = metodo2(configuracion_inicial1,vector_v1,vector_n1)\n",
    "print (\"Tiempo ejecución: \",time.time() - start_time,\"seg\")"
   ]
  },
  {
   "cell_type": "code",
   "execution_count": 65,
   "metadata": {
    "collapsed": false
   },
   "outputs": [
    {
     "data": {
      "image/png": "[encoded data removed]",
      "text/plain": [
       "<matplotlib.figure.Figure at 0x2a66beb1e80>"
      ]
     },
     "metadata": {},
     "output_type": "display_data"
    }
   ],
   "source": [
    "graficador(vector_n1,salida1[0],\"Evolucion rho\",\"Numero de particulas\",\"Densidad\",False)"
   ]
  },
  {
   "cell_type": "markdown",
   "metadata": {},
   "source": [
    "### Prueba 2"
   ]
  },
  {
   "cell_type": "code",
   "execution_count": 82,
   "metadata": {
    "collapsed": false
   },
   "outputs": [
    {
     "name": "stdout",
     "output_type": "stream",
     "text": [
      "V: [2500 2550 2600 2650 2700 2750 2800 2850 2900 2950]\n",
      "\n",
      "N: [875000, 892500, 910000, 927500, 945000, 962500, 980000, 997500, 1015000, 1032500]\n"
     ]
    }
   ],
   "source": [
    "# configuracion [+β,-µ,-λ,+γ]\n",
    "configuracion_inicial1 = [15,-0.05,-0.3,50]\n",
    "\n",
    "vector_v2 = np.arange(2500,3000,50) # inicio, fin, paso\n",
    "print (\"V:\",vector_v2)\n",
    "print(\"\")\n",
    "vector_n2 = generador_n(vector_v2,350) # cte = 350\n",
    "print (\"N:\",vector_n2)"
   ]
  },
  {
   "cell_type": "code",
   "execution_count": 85,
   "metadata": {
    "collapsed": false,
    "scrolled": false
   },
   "outputs": [
    {
     "name": "stdout",
     "output_type": "stream",
     "text": [
      "Valor ro:  0.00270000001443\n",
      "Valor ro:  0.00269607844279\n",
      "Valor ro:  0.00269230770133\n",
      "Valor ro:  0.00268867925242\n",
      "Valor ro:  0.00268518519082\n",
      "Valor ro:  0.00268181818628\n",
      "Valor ro:  0.00267857143209\n",
      "Valor ro:  0.00267543859927\n",
      "Valor ro:  0.0026724137953\n",
      "Valor ro:  0.00266949152716\n",
      "Valor validador:  0.0025\n",
      "Tiempo ejecución:  39.62257480621338 seg\n"
     ]
    }
   ],
   "source": [
    "start_time = time.time() #Para medir el tiempo de ejecución\n",
    "salida2 = metodo2(configuracion_inicial1,vector_v2,vector_n2)\n",
    "print (\"Tiempo ejecución: \",time.time() - start_time,\"seg\")"
   ]
  },
  {
   "cell_type": "code",
   "execution_count": 40,
   "metadata": {
    "collapsed": false
   },
   "outputs": [
    {
     "data": {
      "image/png": "[encoded data removed]",
      "text/plain": [
       "<matplotlib.figure.Figure at 0x2a66b9a5438>"
      ]
     },
     "metadata": {},
     "output_type": "display_data"
    }
   ],
   "source": [
    "graficador(vector_n2,salida2[0],\"Evolucion rho\",\"Numero de particulas\",\"Densidad\",False)"
   ]
  },
  {
   "cell_type": "markdown",
   "metadata": {},
   "source": [
    "### Prueba 3"
   ]
  },
  {
   "cell_type": "code",
   "execution_count": 86,
   "metadata": {
    "collapsed": false,
    "scrolled": true
   },
   "outputs": [
    {
     "name": "stdout",
     "output_type": "stream",
     "text": [
      "V: [10000 11500 13000 14500]\n",
      "\n",
      "N: [3500000, 4025000, 4550000, 5075000]\n"
     ]
    }
   ],
   "source": [
    "# configuracion [+β,-µ,-λ,+γ]\n",
    "configuracion_inicial1 = [15,-0.05,-0.3,50]\n",
    "\n",
    "vector_v3 = np.arange(10000,15000,1500) # inicio, fin, paso\n",
    "print (\"V:\",vector_v3)\n",
    "print(\"\")\n",
    "vector_n3 = generador_n(vector_v3,350) # cte = 350\n",
    "print (\"N:\",vector_n3)"
   ]
  },
  {
   "cell_type": "code",
   "execution_count": 87,
   "metadata": {
    "collapsed": false,
    "scrolled": true
   },
   "outputs": [
    {
     "name": "stdout",
     "output_type": "stream",
     "text": [
      "Valor ro:  0.00255\n",
      "Valor ro:  0.00254347826087\n",
      "Valor ro:  0.00253846153846\n",
      "Valor ro:  0.00253448275862\n",
      "Valor validador:  0.0025\n",
      "Tiempo ejecución:  70.54571056365967 seg\n"
     ]
    }
   ],
   "source": [
    "start_time = time.time() #Para medir el tiempo de ejecución\n",
    "salida3 = metodo2(configuracion_inicial1,vector_v3,vector_n3)\n",
    "print (\"Tiempo ejecución: \",time.time() - start_time,\"seg\")"
   ]
  },
  {
   "cell_type": "code",
   "execution_count": 43,
   "metadata": {
    "collapsed": false,
    "scrolled": false
   },
   "outputs": [
    {
     "data": {
      "image/png": "[encoded data removed]",
      "text/plain": [
       "<matplotlib.figure.Figure at 0x2a66bd49a90>"
      ]
     },
     "metadata": {},
     "output_type": "display_data"
    }
   ],
   "source": [
    "graficador(vector_n3,salida3[0],\"Evolucion rho\",\"Numero de particulas\",\"Densidad\",False)"
   ]
  },
  {
   "cell_type": "markdown",
   "metadata": {},
   "source": [
    "### Prueba 4"
   ]
  },
  {
   "cell_type": "code",
   "execution_count": 62,
   "metadata": {
    "collapsed": false,
    "scrolled": true
   },
   "outputs": [
    {
     "name": "stdout",
     "output_type": "stream",
     "text": [
      "V: [100000 130000 160000 190000]\n",
      "\n",
      "N: [35000000, 45500000, 56000000, 66500000]\n"
     ]
    }
   ],
   "source": [
    "# configuracion [+β,-µ,-λ,+γ]\n",
    "configuracion_inicial1 = [15,-0.05,-0.3,50]\n",
    "\n",
    "vector_v4 = np.arange(100000,200000,30000) # inicio, fin, paso\n",
    "print (\"V:\",vector_v4)\n",
    "print(\"\")\n",
    "vector_n4 = generador_n(vector_v4,350) # cte = 350\n",
    "print (\"N:\",vector_n4)"
   ]
  },
  {
   "cell_type": "code",
   "execution_count": 64,
   "metadata": {
    "collapsed": false,
    "scrolled": false
   },
   "outputs": [
    {
     "name": "stdout",
     "output_type": "stream",
     "text": [
      "Valor ro:  0.002505\n",
      "Valor ro:  0.00250384615385\n",
      "Desbordamiento\n",
      "Desbordamiento\n",
      "Valor ro:  inf\n",
      "Desbordamiento\n",
      "Desbordamiento\n",
      "Valor ro:  inf\n",
      "Valor validador:  0.0025\n",
      "Tiempo ejecución:  332.9321768283844 seg\n"
     ]
    }
   ],
   "source": [
    "start_time = time.time() #Para medir el tiempo de ejecución\n",
    "salida4 = metodo2(configuracion_inicial1,vector_v4,vector_n4)\n",
    "print (\"Tiempo ejecución: \",time.time() - start_time,\"seg\")"
   ]
  },
  {
   "cell_type": "markdown",
   "metadata": {},
   "source": [
    "### Sin gráfico"
   ]
  },
  {
   "cell_type": "markdown",
   "metadata": {},
   "source": [
    "### Prueba 5"
   ]
  },
  {
   "cell_type": "code",
   "execution_count": 68,
   "metadata": {
    "collapsed": false,
    "scrolled": true
   },
   "outputs": [
    {
     "name": "stdout",
     "output_type": "stream",
     "text": [
      "V: [100000 105000 110000 115000 120000]\n",
      "\n",
      "N: [35000000, 36750000, 38500000, 40250000, 42000000]\n"
     ]
    }
   ],
   "source": [
    "# configuracion [+β,-µ,-λ,+γ]\n",
    "configuracion_inicial1 = [15,-0.05,-0.3,50]\n",
    "\n",
    "vector_v5 = np.arange(100000,125000,5000) # inicio, fin, paso\n",
    "print (\"V:\",vector_v5)\n",
    "print(\"\")\n",
    "vector_n5 = generador_n(vector_v5,350) # cte = 350\n",
    "print (\"N:\",vector_n5)"
   ]
  },
  {
   "cell_type": "code",
   "execution_count": 69,
   "metadata": {
    "collapsed": false,
    "scrolled": true
   },
   "outputs": [
    {
     "name": "stdout",
     "output_type": "stream",
     "text": [
      "Valor ro:  0.002505\n",
      "Valor ro:  0.00250476190476\n",
      "Valor ro:  0.00250454545455\n",
      "Valor ro:  0.00250434782609\n",
      "Valor ro:  0.00250416666667\n",
      "Valor validador:  0.0025\n",
      "Tiempo ejecución:  792.8227372169495 seg\n"
     ]
    }
   ],
   "source": [
    "start_time = time.time() #Para medir el tiempo de ejecución\n",
    "salida5 = metodo2(configuracion_inicial1,vector_v5,vector_n5)\n",
    "print (\"Tiempo ejecución: \",time.time() - start_time,\"seg\")"
   ]
  },
  {
   "cell_type": "code",
   "execution_count": 70,
   "metadata": {
    "collapsed": false,
    "scrolled": true
   },
   "outputs": [
    {
     "data": {
      "image/png": "[encoded data removed]",
      "text/plain": [
       "<matplotlib.figure.Figure at 0x2a66bf1a518>"
      ]
     },
     "metadata": {},
     "output_type": "display_data"
    }
   ],
   "source": [
    "graficador(vector_n5,salida5[0],\"Evolucion rho\",\"Numero de particulas\",\"Densidad\",False)"
   ]
  },
  {
   "cell_type": "markdown",
   "metadata": {},
   "source": [
    "## Seccion 2: Prueba condicion de borde, N o V variable y los demás valores fijos"
   ]
  },
  {
   "cell_type": "markdown",
   "metadata": {},
   "source": [
    "### Valores fijos:  β = 15   µ = -0.05    λ  = -0.3    γ = 50   cte = 350"
   ]
  },
  {
   "cell_type": "markdown",
   "metadata": {},
   "source": [
    "### Prueba 1"
   ]
  },
  {
   "cell_type": "code",
   "execution_count": 117,
   "metadata": {
    "collapsed": false,
    "scrolled": true
   },
   "outputs": [
    {
     "name": "stdout",
     "output_type": "stream",
     "text": [
      "N: 54250000\n"
     ]
    }
   ],
   "source": [
    "# configuracion [+β,-µ,-λ,+γ]\n",
    "cfg1 = [15,-0.05,-0.3,50]\n",
    "\n",
    "v6_ = [155000] \n",
    "v6 = v6_[0]\n",
    "n6_ = generador_n(v6_,350) # cte = 350\n",
    "n6 = n6_[0]\n",
    "print (\"N:\",n6)"
   ]
  },
  {
   "cell_type": "code",
   "execution_count": 118,
   "metadata": {
    "collapsed": false
   },
   "outputs": [
    {
     "name": "stdout",
     "output_type": "stream",
     "text": [
      "Desbordamiento\n",
      "Desbordamiento\n",
      "Valor ro:  nan\n",
      "Valor validador:  0.0025\n",
      "Tiempo ejecución:  0.0015001296997070312 seg\n"
     ]
    }
   ],
   "source": [
    "start_time = time.time() #Para medir el tiempo de ejecución\n",
    "metodo1(cfg1[0],cfg1[1],cfg1[2],cfg1[3],v6,n6)\n",
    "print (\"Tiempo ejecución: \",time.time() - start_time,\"seg\")"
   ]
  },
  {
   "cell_type": "markdown",
   "metadata": {},
   "source": [
    "### Prueba 2"
   ]
  },
  {
   "cell_type": "code",
   "execution_count": 90,
   "metadata": {
    "collapsed": false,
    "scrolled": true
   },
   "outputs": [
    {
     "name": "stdout",
     "output_type": "stream",
     "text": [
      "N: 52500000\n"
     ]
    }
   ],
   "source": [
    "# configuracion [+β,-µ,-λ,+γ]\n",
    "cfg1 = [15,-0.05,-0.3,50]\n",
    "\n",
    "v7_ = [150000] \n",
    "v7 = v7_[0]\n",
    "n7_ = generador_n(v7_,350) # cte = 350\n",
    "n7 = n7_[0]\n",
    "print (\"N:\",n7)"
   ]
  },
  {
   "cell_type": "code",
   "execution_count": 92,
   "metadata": {
    "collapsed": false,
    "scrolled": true
   },
   "outputs": [
    {
     "name": "stdout",
     "output_type": "stream",
     "text": [
      "Valor ro:  inf\n",
      "Valor validador:  0.0025\n",
      "Valor real:  inf\n",
      "Valor esperado:  0.0025\n",
      "Tiempo ejecución:  85.6496114730835 seg\n"
     ]
    }
   ],
   "source": [
    "start_time = time.time() #Para medir el tiempo de ejecución\n",
    "metodo1(cfg1[0],cfg1[1],cfg1[2],cfg1[3],v7,n7)\n",
    "print (\"Tiempo ejecución: \",time.time() - start_time,\"seg\")"
   ]
  },
  {
   "cell_type": "markdown",
   "metadata": {},
   "source": [
    "### Prueba 3"
   ]
  },
  {
   "cell_type": "code",
   "execution_count": 97,
   "metadata": {
    "collapsed": false,
    "scrolled": true
   },
   "outputs": [
    {
     "name": "stdout",
     "output_type": "stream",
     "text": [
      "N: 50750000\n"
     ]
    }
   ],
   "source": [
    "# configuracion [+β,-µ,-λ,+γ]\n",
    "cfg1 = [15,-0.05,-0.3,50]\n",
    "\n",
    "v8_ = [145000] \n",
    "v8 = v8_[0]\n",
    "n8_ = generador_n(v8_,350) # cte = 350\n",
    "n8 = n8_[0]\n",
    "print (\"N:\",n8)"
   ]
  },
  {
   "cell_type": "code",
   "execution_count": 98,
   "metadata": {
    "collapsed": false,
    "scrolled": true
   },
   "outputs": [
    {
     "name": "stdout",
     "output_type": "stream",
     "text": [
      "Valor ro:  0.002503448275862068\n",
      "Valor validador:  0.0025\n",
      "Valor real:  0.002503448275862068\n",
      "Valor esperado:  0.0025\n",
      "Tiempo ejecución:  83.17478919029236 seg\n"
     ]
    }
   ],
   "source": [
    "start_time = time.time() #Para medir el tiempo de ejecución\n",
    "metodo1(cfg1[0],cfg1[1],cfg1[2],cfg1[3],v8,n8)\n",
    "print (\"Tiempo ejecución: \",time.time() - start_time,\"seg\")"
   ]
  },
  {
   "cell_type": "markdown",
   "metadata": {},
   "source": [
    "### Prueba 4"
   ]
  },
  {
   "cell_type": "code",
   "execution_count": 99,
   "metadata": {
    "collapsed": false,
    "scrolled": true
   },
   "outputs": [
    {
     "name": "stdout",
     "output_type": "stream",
     "text": [
      "N: 51994250\n"
     ]
    }
   ],
   "source": [
    "# configuracion [+β,-µ,-λ,+γ]\n",
    "cfg1 = [15,-0.05,-0.3,50]\n",
    "\n",
    "v9_ = [148555] \n",
    "v9 = v9_[0]\n",
    "n9_ = generador_n(v9_,350) # cte = 350\n",
    "n9 = n9_[0]\n",
    "print (\"N:\",n9)"
   ]
  },
  {
   "cell_type": "code",
   "execution_count": 100,
   "metadata": {
    "collapsed": false,
    "scrolled": true
   },
   "outputs": [
    {
     "name": "stdout",
     "output_type": "stream",
     "text": [
      "Valor ro:  0.0025033657567904155\n",
      "Valor validador:  0.0025\n",
      "Valor real:  0.0025033657567904155\n",
      "Valor esperado:  0.0025\n",
      "Tiempo ejecución:  84.83085703849792 seg\n"
     ]
    }
   ],
   "source": [
    "start_time = time.time() #Para medir el tiempo de ejecución\n",
    "metodo1(cfg1[0],cfg1[1],cfg1[2],cfg1[3],v9,n9)\n",
    "print (\"Tiempo ejecución: \",time.time() - start_time,\"seg\")"
   ]
  },
  {
   "cell_type": "markdown",
   "metadata": {},
   "source": [
    "### Prueba 5"
   ]
  },
  {
   "cell_type": "code",
   "execution_count": 101,
   "metadata": {
    "collapsed": false,
    "scrolled": true
   },
   "outputs": [
    {
     "name": "stdout",
     "output_type": "stream",
     "text": [
      "N: 52344250\n"
     ]
    }
   ],
   "source": [
    "# configuracion [+β,-µ,-λ,+γ]\n",
    "cfg1 = [15,-0.05,-0.3,50]\n",
    "\n",
    "v10_ = [149555] \n",
    "v10 = v10_[0]\n",
    "n10_ = generador_n(v10_,350) # cte = 350\n",
    "n10 = n10_[0]\n",
    "print (\"N:\",n10)"
   ]
  },
  {
   "cell_type": "code",
   "execution_count": 102,
   "metadata": {
    "collapsed": false,
    "scrolled": false
   },
   "outputs": [
    {
     "name": "stdout",
     "output_type": "stream",
     "text": [
      "Valor ro:  inf\n",
      "Valor validador:  0.0025\n",
      "Valor real:  inf\n",
      "Valor esperado:  0.0025\n",
      "Tiempo ejecución:  86.34644079208374 seg\n"
     ]
    }
   ],
   "source": [
    "start_time = time.time() #Para medir el tiempo de ejecución\n",
    "metodo1(cfg1[0],cfg1[1],cfg1[2],cfg1[3],v10,n10)\n",
    "print (\"Tiempo ejecución: \",time.time() - start_time,\"seg\")"
   ]
  },
  {
   "cell_type": "markdown",
   "metadata": {},
   "source": [
    "### Prueba 6"
   ]
  },
  {
   "cell_type": "code",
   "execution_count": 103,
   "metadata": {
    "collapsed": false,
    "scrolled": true
   },
   "outputs": [
    {
     "name": "stdout",
     "output_type": "stream",
     "text": [
      "N: 52150000\n"
     ]
    }
   ],
   "source": [
    "# configuracion [+β,-µ,-λ,+γ]\n",
    "cfg1 = [15,-0.05,-0.3,50]\n",
    "\n",
    "v11_ = [149000] \n",
    "v11 = v11_[0]\n",
    "n11_ = generador_n(v11_,350) # cte = 350\n",
    "n11 = n11_[0]\n",
    "print (\"N:\",n11)"
   ]
  },
  {
   "cell_type": "code",
   "execution_count": 104,
   "metadata": {
    "collapsed": false,
    "scrolled": false
   },
   "outputs": [
    {
     "name": "stdout",
     "output_type": "stream",
     "text": [
      "Valor ro:  0.0025033557046979867\n",
      "Valor validador:  0.0025\n",
      "Valor real:  0.0025033557046979867\n",
      "Valor esperado:  0.0025\n",
      "Tiempo ejecución:  84.91440749168396 seg\n"
     ]
    }
   ],
   "source": [
    "start_time = time.time() #Para medir el tiempo de ejecución\n",
    "metodo1(cfg1[0],cfg1[1],cfg1[2],cfg1[3],v11,n11)\n",
    "print (\"Tiempo ejecución: \",time.time() - start_time,\"seg\")"
   ]
  },
  {
   "cell_type": "markdown",
   "metadata": {},
   "source": [
    "### Prueba 7"
   ]
  },
  {
   "cell_type": "code",
   "execution_count": 45,
   "metadata": {
    "collapsed": false,
    "scrolled": true
   },
   "outputs": [
    {
     "name": "stdout",
     "output_type": "stream",
     "text": [
      "N: 52174500\n"
     ]
    }
   ],
   "source": [
    "# configuracion [+β,-µ,-λ,+γ]\n",
    "cfg1 = [15,-0.05,-0.3,50]\n",
    "\n",
    "v12_ = [149070] \n",
    "v12 = v12_[0]\n",
    "n12_ = generador_n(v12_,350) # cte = 350\n",
    "n12 = n12_[0]\n",
    "print (\"N:\",n12)"
   ]
  },
  {
   "cell_type": "code",
   "execution_count": 46,
   "metadata": {
    "collapsed": false,
    "scrolled": true
   },
   "outputs": [
    {
     "name": "stdout",
     "output_type": "stream",
     "text": [
      "Valor ro:  0.002503354128932717\n",
      "Valor validador:  0.0025\n",
      "Valor real:  0.002503354128932717\n",
      "Valor esperado:  0.0025\n",
      "Tiempo ejecución:  86.61444568634033 seg\n"
     ]
    }
   ],
   "source": [
    "start_time = time.time() #Para medir el tiempo de ejecución\n",
    "metodo1(cfg1[0],cfg1[1],cfg1[2],cfg1[3],v12,n12)\n",
    "print (\"Tiempo ejecución: \",time.time() - start_time,\"seg\")"
   ]
  },
  {
   "cell_type": "markdown",
   "metadata": {},
   "source": [
    "### Prueba 8"
   ]
  },
  {
   "cell_type": "code",
   "execution_count": 47,
   "metadata": {
    "collapsed": false,
    "scrolled": true
   },
   "outputs": [
    {
     "name": "stdout",
     "output_type": "stream",
     "text": [
      "N: 52174850\n"
     ]
    }
   ],
   "source": [
    "# configuracion [+β,-µ,-λ,+γ]\n",
    "cfg1 = [15,-0.05,-0.3,50]\n",
    "\n",
    "v13_ = [149071] \n",
    "v13 = v13_[0]\n",
    "n13_ = generador_n(v13_,350) # cte = 350\n",
    "n13 = n13_[0]\n",
    "print (\"N:\",n13)"
   ]
  },
  {
   "cell_type": "code",
   "execution_count": 48,
   "metadata": {
    "collapsed": false,
    "scrolled": true
   },
   "outputs": [
    {
     "name": "stdout",
     "output_type": "stream",
     "text": [
      "Valor ro:  inf\n",
      "Valor validador:  0.0025\n",
      "Valor real:  inf\n",
      "Valor esperado:  0.0025\n",
      "Tiempo ejecución:  86.41235828399658 seg\n"
     ]
    }
   ],
   "source": [
    "start_time = time.time() #Para medir el tiempo de ejecución\n",
    "metodo1(cfg1[0],cfg1[1],cfg1[2],cfg1[3],v13,n13)\n",
    "print (\"Tiempo ejecución: \",time.time() - start_time,\"seg\")"
   ]
  },
  {
   "cell_type": "markdown",
   "metadata": {},
   "source": [
    "### Prueba 9"
   ]
  },
  {
   "cell_type": "code",
   "execution_count": 60,
   "metadata": {
    "collapsed": false,
    "scrolled": true
   },
   "outputs": [
    {
     "name": "stdout",
     "output_type": "stream",
     "text": [
      "V: 149070\n"
     ]
    }
   ],
   "source": [
    "# configuracion [+β,-µ,-λ,+γ]\n",
    "cfg1 = [15,-0.05,-0.3,50]\n",
    "\n",
    "n14_ = [52174849] \n",
    "n14 = n14_[0]\n",
    "v14_ = generador_v(n14_,350) # cte = 350\n",
    "v14 = v14_[0]\n",
    "print (\"V:\",v14)"
   ]
  },
  {
   "cell_type": "code",
   "execution_count": 61,
   "metadata": {
    "collapsed": false,
    "scrolled": true
   },
   "outputs": [
    {
     "name": "stdout",
     "output_type": "stream",
     "text": [
      "Valor ro:  0.002503354128932717\n",
      "Valor validador:  0.0025\n",
      "Valor real:  0.002503354128932717\n",
      "Valor esperado:  0.0025\n",
      "Tiempo ejecución:  87.69315123558044 seg\n"
     ]
    }
   ],
   "source": [
    "start_time = time.time() #Para medir el tiempo de ejecución\n",
    "metodo1(cfg1[0],cfg1[1],cfg1[2],cfg1[3],v14,n14)\n",
    "print (\"Tiempo ejecución: \",time.time() - start_time,\"seg\")"
   ]
  },
  {
   "cell_type": "markdown",
   "metadata": {},
   "source": [
    "### Prueba 10"
   ]
  },
  {
   "cell_type": "code",
   "execution_count": 65,
   "metadata": {
    "collapsed": false,
    "scrolled": true
   },
   "outputs": [
    {
     "name": "stdout",
     "output_type": "stream",
     "text": [
      "V: 149071\n"
     ]
    }
   ],
   "source": [
    "# configuracion [+β,-µ,-λ,+γ]\n",
    "cfg1 = [15,-0.05,-0.3,50]\n",
    "\n",
    "n15_ = [52174850] \n",
    "n15 = n15_[0]\n",
    "v15_ = generador_v(n15_,350) # cte = 350\n",
    "v15 = v15_[0]\n",
    "print (\"V:\",v15)"
   ]
  },
  {
   "cell_type": "code",
   "execution_count": 66,
   "metadata": {
    "collapsed": false,
    "scrolled": true
   },
   "outputs": [
    {
     "name": "stdout",
     "output_type": "stream",
     "text": [
      "Valor ro:  inf\n",
      "Valor validador:  0.0025\n",
      "Valor real:  inf\n",
      "Valor esperado:  0.0025\n",
      "Tiempo ejecución:  87.1510181427002 seg\n"
     ]
    }
   ],
   "source": [
    "start_time = time.time() #Para medir el tiempo de ejecución\n",
    "metodo1(cfg1[0],cfg1[1],cfg1[2],cfg1[3],v15,n15)\n",
    "print (\"Tiempo ejecución: \",time.time() - start_time,\"seg\")"
   ]
  },
  {
   "cell_type": "markdown",
   "metadata": {},
   "source": [
    "## Seccion 3: Datos fijos y uno variable (vector) "
   ]
  },
  {
   "cell_type": "markdown",
   "metadata": {},
   "source": [
    "### subseccion : Prueba β"
   ]
  },
  {
   "cell_type": "code",
   "execution_count": 111,
   "metadata": {
    "collapsed": true
   },
   "outputs": [],
   "source": [
    "# configuracion [-µ,-λ,+γ,V,N]  cte = 512\n",
    "vf1 = [-0.05,-0.3,50,5000,2560000]"
   ]
  },
  {
   "cell_type": "markdown",
   "metadata": {},
   "source": [
    "#### Prueba 1"
   ]
  },
  {
   "cell_type": "code",
   "execution_count": 114,
   "metadata": {
    "collapsed": false
   },
   "outputs": [
    {
     "data": {
      "text/plain": [
       "array([15, 20, 25, 30, 35])"
      ]
     },
     "execution_count": 114,
     "metadata": {},
     "output_type": "execute_result"
    }
   ],
   "source": [
    "beta1 = np.arange(15,40,5)\n",
    "beta1"
   ]
  },
  {
   "cell_type": "code",
   "execution_count": 119,
   "metadata": {
    "collapsed": false
   },
   "outputs": [
    {
     "name": "stdout",
     "output_type": "stream",
     "text": [
      "Beta:  15  Mu: -0.05  Lambda:  -0.3  Gamma:  50  Volumen:  5000  Particulas:  2560000\n",
      "Valor ro:  0.002600000000000105\n",
      "Valor validador:  0.0025\n",
      " \n",
      " \n",
      "Beta:  20  Mu: -0.05  Lambda:  -0.3  Gamma:  50  Volumen:  5000  Particulas:  2560000\n",
      "Valor ro:  0.0026\n",
      "Valor validador:  0.0025\n",
      " \n",
      " \n",
      "Beta:  25  Mu: -0.05  Lambda:  -0.3  Gamma:  50  Volumen:  5000  Particulas:  2560000\n",
      "Valor ro:  0.0026\n",
      "Valor validador:  0.0025\n",
      " \n",
      " \n",
      "Beta:  30  Mu: -0.05  Lambda:  -0.3  Gamma:  50  Volumen:  5000  Particulas:  2560000\n",
      "Valor ro:  0.0026000000000000003\n",
      "Valor validador:  0.0025\n",
      " \n",
      " \n",
      "Beta:  35  Mu: -0.05  Lambda:  -0.3  Gamma:  50  Volumen:  5000  Particulas:  2560000\n",
      "Valor ro:  0.0026000000000000016\n",
      "Valor validador:  0.0025\n",
      " \n",
      " \n",
      "Tiempo ejecución:  57.62278485298157 seg\n"
     ]
    }
   ],
   "source": [
    "start_time = time.time() #Para medir el tiempo de ejecución\n",
    "metodo3_beta(beta1,vf1[0],vf1[1],vf1[2],vf1[3],vf1[4])\n",
    "print (\"Tiempo ejecución: \",time.time() - start_time,\"seg\")"
   ]
  },
  {
   "cell_type": "markdown",
   "metadata": {},
   "source": [
    "#### Prueba 2"
   ]
  },
  {
   "cell_type": "code",
   "execution_count": 146,
   "metadata": {
    "collapsed": false
   },
   "outputs": [
    {
     "data": {
      "text/plain": [
       "array([500, 600, 700])"
      ]
     },
     "execution_count": 146,
     "metadata": {},
     "output_type": "execute_result"
    }
   ],
   "source": [
    "beta2 = np.arange(500,800,100)\n",
    "beta2"
   ]
  },
  {
   "cell_type": "code",
   "execution_count": 147,
   "metadata": {
    "collapsed": false,
    "scrolled": false
   },
   "outputs": [
    {
     "name": "stdout",
     "output_type": "stream",
     "text": [
      "Beta:  500  Mu: -0.05  Lambda:  -0.3  Gamma:  50  Volumen:  5000  Particulas:  2560000\n",
      "Desbordamiento\n",
      "Desbordamiento\n",
      "Valor ro:  0.0014\n",
      "Valor validador:  0.0025\n",
      " \n",
      " \n",
      "Beta:  600  Mu: -0.05  Lambda:  -0.3  Gamma:  50  Volumen:  5000  Particulas:  2560000\n",
      "Desbordamiento\n",
      "Desbordamiento\n",
      "Valor ro:  0.0010000000000000002\n",
      "Valor validador:  0.0025\n",
      " \n",
      " \n",
      "Beta:  700  Mu: -0.05  Lambda:  -0.3  Gamma:  50  Volumen:  5000  Particulas:  2560000\n",
      "Desbordamiento\n",
      "Desbordamiento\n",
      "Valor ro:  0.0008\n",
      "Valor validador:  0.0025\n",
      " \n",
      " \n",
      "Tiempo ejecución:  0.0020020008087158203 seg\n"
     ]
    }
   ],
   "source": [
    "start_time = time.time() #Para medir el tiempo de ejecución\n",
    "metodo3_beta(beta2,vf1[0],vf1[1],vf1[2],vf1[3],vf1[4])\n",
    "print (\"Tiempo ejecución: \",time.time() - start_time,\"seg\")"
   ]
  },
  {
   "cell_type": "markdown",
   "metadata": {},
   "source": [
    "#### Prueba 3"
   ]
  },
  {
   "cell_type": "code",
   "execution_count": 156,
   "metadata": {
    "collapsed": false,
    "scrolled": true
   },
   "outputs": [
    {
     "data": {
      "text/plain": [
       "array([300, 325, 350, 375, 400, 425])"
      ]
     },
     "execution_count": 156,
     "metadata": {},
     "output_type": "execute_result"
    }
   ],
   "source": [
    "beta3 = np.arange(300,450,25)\n",
    "beta3"
   ]
  },
  {
   "cell_type": "code",
   "execution_count": 157,
   "metadata": {
    "collapsed": false
   },
   "outputs": [
    {
     "name": "stdout",
     "output_type": "stream",
     "text": [
      "Beta:  300  Mu: -0.05  Lambda:  -0.3  Gamma:  50  Volumen:  5000  Particulas:  2560000\n",
      "Valor ro:  0.0026000000000000003\n",
      "Valor validador:  0.0025\n",
      " \n",
      " \n",
      "Beta:  325  Mu: -0.05  Lambda:  -0.3  Gamma:  50  Volumen:  5000  Particulas:  2560000\n",
      "Valor ro:  0.0026\n",
      "Valor validador:  0.0025\n",
      " \n",
      " \n",
      "Beta:  350  Mu: -0.05  Lambda:  -0.3  Gamma:  50  Volumen:  5000  Particulas:  2560000\n",
      "Valor ro:  0.0026000000000000003\n",
      "Valor validador:  0.0025\n",
      " \n",
      " \n",
      "Beta:  375  Mu: -0.05  Lambda:  -0.3  Gamma:  50  Volumen:  5000  Particulas:  2560000\n",
      "Valor ro:  0.0026000000000000003\n",
      "Valor validador:  0.0025\n",
      " \n",
      " \n",
      "Beta:  400  Mu: -0.05  Lambda:  -0.3  Gamma:  50  Volumen:  5000  Particulas:  2560000\n",
      "Valor ro:  0.0026000000000000003\n",
      "Valor validador:  0.0025\n",
      " \n",
      " \n",
      "Beta:  425  Mu: -0.05  Lambda:  -0.3  Gamma:  50  Volumen:  5000  Particulas:  2560000\n",
      "Desbordamiento\n",
      "Desbordamiento\n",
      "Valor ro:  0.0021999999998818945\n",
      "Valor validador:  0.0025\n",
      " \n",
      " \n",
      "Tiempo ejecución:  61.38517761230469 seg\n"
     ]
    }
   ],
   "source": [
    "start_time = time.time() #Para medir el tiempo de ejecución\n",
    "metodo3_beta(beta3,vf1[0],vf1[1],vf1[2],vf1[3],vf1[4])\n",
    "print (\"Tiempo ejecución: \",time.time() - start_time,\"seg\")"
   ]
  },
  {
   "cell_type": "markdown",
   "metadata": {},
   "source": [
    "### subseccion : Prueba µ"
   ]
  },
  {
   "cell_type": "code",
   "execution_count": 56,
   "metadata": {
    "collapsed": false
   },
   "outputs": [],
   "source": [
    "# configuracion [+β,-λ,+γ,V,N]  cte = 512\n",
    "vf2 = [15,-0.3,50,5000,2560000]"
   ]
  },
  {
   "cell_type": "markdown",
   "metadata": {},
   "source": [
    "#### Prueba 1"
   ]
  },
  {
   "cell_type": "code",
   "execution_count": 43,
   "metadata": {
    "collapsed": false,
    "scrolled": true
   },
   "outputs": [
    {
     "data": {
      "text/plain": [
       "array([-0.001, -0.002, -0.003, -0.004, -0.005, -0.006, -0.007, -0.008,\n",
       "       -0.009])"
      ]
     },
     "execution_count": 43,
     "metadata": {},
     "output_type": "execute_result"
    }
   ],
   "source": [
    "mu1 = np.arange(-0.001,-0.01,-0.001)\n",
    "mu1"
   ]
  },
  {
   "cell_type": "code",
   "execution_count": 44,
   "metadata": {
    "collapsed": false
   },
   "outputs": [
    {
     "name": "stdout",
     "output_type": "stream",
     "text": [
      "Beta:  15  Mu: -0.001  Lambda:  -0.3  Gamma:  50  Volumen:  5000  Particulas:  2560000\n",
      "Valor ro:  0.00309\n",
      "Valor validador:  0.00299\n",
      " \n",
      " \n",
      "Beta:  15  Mu: -0.002  Lambda:  -0.3  Gamma:  50  Volumen:  5000  Particulas:  2560000\n",
      "Valor ro:  0.003079999999999999\n",
      "Valor validador:  0.00298\n",
      " \n",
      " \n",
      "Beta:  15  Mu: -0.003  Lambda:  -0.3  Gamma:  50  Volumen:  5000  Particulas:  2560000\n",
      "Valor ro:  0.003069999999999999\n",
      "Valor validador:  0.00297\n",
      " \n",
      " \n",
      "Beta:  15  Mu: -0.004  Lambda:  -0.3  Gamma:  50  Volumen:  5000  Particulas:  2560000\n",
      "Valor ro:  0.0030600000000000002\n",
      "Valor validador:  0.00296\n",
      " \n",
      " \n",
      "Beta:  15  Mu: -0.005  Lambda:  -0.3  Gamma:  50  Volumen:  5000  Particulas:  2560000\n",
      "Valor ro:  0.0030499999999999993\n",
      "Valor validador:  0.00295\n",
      " \n",
      " \n",
      "Beta:  15  Mu: -0.006  Lambda:  -0.3  Gamma:  50  Volumen:  5000  Particulas:  2560000\n",
      "Valor ro:  0.0030399999999999997\n",
      "Valor validador:  0.00294\n",
      " \n",
      " \n",
      "Beta:  15  Mu: -0.007  Lambda:  -0.3  Gamma:  50  Volumen:  5000  Particulas:  2560000\n",
      "Valor ro:  0.0030299999999999993\n",
      "Valor validador:  0.00293\n",
      " \n",
      " \n",
      "Beta:  15  Mu: -0.008  Lambda:  -0.3  Gamma:  50  Volumen:  5000  Particulas:  2560000\n",
      "Valor ro:  0.0030199999999999992\n",
      "Valor validador:  0.00292\n",
      " \n",
      " \n",
      "Beta:  15  Mu: -0.009  Lambda:  -0.3  Gamma:  50  Volumen:  5000  Particulas:  2560000\n",
      "Valor ro:  0.003010000000000002\n",
      "Valor validador:  0.00291\n",
      " \n",
      " \n",
      "Tiempo ejecución:  76.50561261177063 seg\n"
     ]
    }
   ],
   "source": [
    "start_time = time.time() #Para medir el tiempo de ejecución\n",
    "metodo3_mu(vf2[0],mu1,vf2[1],vf2[2],vf2[3],vf2[4])\n",
    "print (\"Tiempo ejecución: \",time.time() - start_time,\"seg\")"
   ]
  },
  {
   "cell_type": "markdown",
   "metadata": {},
   "source": [
    "#### Prueba 2"
   ]
  },
  {
   "cell_type": "code",
   "execution_count": 45,
   "metadata": {
    "collapsed": false,
    "scrolled": true
   },
   "outputs": [
    {
     "data": {
      "text/plain": [
       "array([-0.02, -0.03, -0.04, -0.05, -0.06, -0.07, -0.08, -0.09])"
      ]
     },
     "execution_count": 45,
     "metadata": {},
     "output_type": "execute_result"
    }
   ],
   "source": [
    "mu2 = np.arange(-0.02,-0.1,-0.01)\n",
    "mu2"
   ]
  },
  {
   "cell_type": "code",
   "execution_count": 46,
   "metadata": {
    "collapsed": false
   },
   "outputs": [
    {
     "name": "stdout",
     "output_type": "stream",
     "text": [
      "Beta:  15  Mu: -0.02  Lambda:  -0.3  Gamma:  50  Volumen:  5000  Particulas:  2560000\n",
      "Valor ro:  0.0029000000000000015\n",
      "Valor validador:  0.0028\n",
      " \n",
      " \n",
      "Beta:  15  Mu: -0.03  Lambda:  -0.3  Gamma:  50  Volumen:  5000  Particulas:  2560000\n",
      "Valor ro:  0.0028000000000000017\n",
      "Valor validador:  0.0027\n",
      " \n",
      " \n",
      "Beta:  15  Mu: -0.04  Lambda:  -0.3  Gamma:  50  Volumen:  5000  Particulas:  2560000\n",
      "Valor ro:  0.0027000000000000127\n",
      "Valor validador:  0.0026\n",
      " \n",
      " \n",
      "Beta:  15  Mu: -0.05  Lambda:  -0.3  Gamma:  50  Volumen:  5000  Particulas:  2560000\n",
      "Valor ro:  0.002600000000000105\n",
      "Valor validador:  0.0025\n",
      " \n",
      " \n",
      "Beta:  15  Mu: -0.06  Lambda:  -0.3  Gamma:  50  Volumen:  5000  Particulas:  2560000\n",
      "Valor ro:  0.002500000000000804\n",
      "Valor validador:  0.0024\n",
      " \n",
      " \n",
      "Beta:  15  Mu: -0.07  Lambda:  -0.3  Gamma:  50  Volumen:  5000  Particulas:  2560000\n",
      "Valor ro:  0.0024000000000056654\n",
      "Valor validador:  0.0023\n",
      " \n",
      " \n",
      "Beta:  15  Mu: -0.08  Lambda:  -0.3  Gamma:  50  Volumen:  5000  Particulas:  2560000\n",
      "Valor ro:  0.0023000000000369977\n",
      "Valor validador:  0.0022\n",
      " \n",
      " \n",
      "Beta:  15  Mu: -0.09  Lambda:  -0.3  Gamma:  50  Volumen:  5000  Particulas:  2560000\n",
      "Valor ro:  0.0022000000002238996\n",
      "Valor validador:  0.0021\n",
      " \n",
      " \n",
      "Tiempo ejecución:  67.93261456489563 seg\n"
     ]
    }
   ],
   "source": [
    "start_time = time.time() #Para medir el tiempo de ejecución\n",
    "metodo3_mu(vf2[0],mu2,vf2[1],vf2[2],vf2[3],vf2[4])\n",
    "print (\"Tiempo ejecución: \",time.time() - start_time,\"seg\")"
   ]
  },
  {
   "cell_type": "markdown",
   "metadata": {},
   "source": [
    "#### Prueba 3"
   ]
  },
  {
   "cell_type": "code",
   "execution_count": 53,
   "metadata": {
    "collapsed": false,
    "scrolled": true
   },
   "outputs": [
    {
     "data": {
      "text/plain": [
       "array([-0.1 , -0.13, -0.16, -0.19, -0.22, -0.25, -0.28])"
      ]
     },
     "execution_count": 53,
     "metadata": {},
     "output_type": "execute_result"
    }
   ],
   "source": [
    "mu3 = np.arange(-0.1,-0.29,-0.03)\n",
    "mu3"
   ]
  },
  {
   "cell_type": "code",
   "execution_count": 55,
   "metadata": {
    "collapsed": false,
    "scrolled": false
   },
   "outputs": [
    {
     "name": "stdout",
     "output_type": "stream",
     "text": [
      "Beta:  15  Mu: -0.1  Lambda:  -0.3  Gamma:  50  Volumen:  5000  Particulas:  2560000\n",
      "Valor ro:  0.0021000000012556556\n",
      "Valor validador:  0.002\n",
      " \n",
      " \n",
      "Beta:  15  Mu: -0.13  Lambda:  -0.3  Gamma:  50  Volumen:  5000  Particulas:  2560000\n",
      "Valor ro:  0.0018000001402107156\n",
      "Valor validador:  0.0017\n",
      " \n",
      " \n",
      "Beta:  15  Mu: -0.16  Lambda:  -0.3  Gamma:  50  Volumen:  5000  Particulas:  2560000\n",
      "Valor ro:  0.001500007878518331\n",
      "Valor validador:  0.0014\n",
      " \n",
      " \n",
      "Beta:  15  Mu: -0.19  Lambda:  -0.3  Gamma:  50  Volumen:  5000  Particulas:  2560000\n",
      "Valor ro:  0.0012002225117618785\n",
      "Valor validador:  0.0011\n",
      " \n",
      " \n",
      "Beta:  15  Mu: -0.22  Lambda:  -0.3  Gamma:  50  Volumen:  5000  Particulas:  2560000\n",
      "Valor ro:  0.0009031619639076767\n",
      "Valor validador:  0.0008\n",
      " \n",
      " \n",
      "Beta:  15  Mu: -0.25  Lambda:  -0.3  Gamma:  50  Volumen:  5000  Particulas:  2560000\n",
      "Valor ro:  0.0006230043613911649\n",
      "Valor validador:  0.0005\n",
      " \n",
      " \n",
      "Beta:  15  Mu: -0.28  Lambda:  -0.3  Gamma:  50  Volumen:  5000  Particulas:  2560000\n",
      "Valor ro:  0.00039201644743495017\n",
      "Valor validador:  0.0002\n",
      " \n",
      " \n",
      "Tiempo ejecución:  59.159494400024414 seg\n"
     ]
    }
   ],
   "source": [
    "start_time = time.time() #Para medir el tiempo de ejecución\n",
    "metodo3_mu(vf2[0],mu3,vf2[1],vf2[2],vf2[3],vf2[4])\n",
    "print (\"Tiempo ejecución: \",time.time() - start_time,\"seg\")"
   ]
  },
  {
   "cell_type": "markdown",
   "metadata": {},
   "source": [
    "### subseccion : Prueba λ"
   ]
  },
  {
   "cell_type": "code",
   "execution_count": 62,
   "metadata": {
    "collapsed": true
   },
   "outputs": [],
   "source": [
    "# configuracion [+β,-µ,+γ,V,N] cte = 512\n",
    "vf3 = [15,-0.05,50,5000,2560000]"
   ]
  },
  {
   "cell_type": "markdown",
   "metadata": {},
   "source": [
    "#### Prueba 1"
   ]
  },
  {
   "cell_type": "code",
   "execution_count": 79,
   "metadata": {
    "collapsed": false
   },
   "outputs": [
    {
     "data": {
      "text/plain": [
       "array([-900, -800, -700, -600, -500, -400, -300, -200, -100])"
      ]
     },
     "execution_count": 79,
     "metadata": {},
     "output_type": "execute_result"
    }
   ],
   "source": [
    "lp1 = np.arange(-100,-1000,-100)\n",
    "lamdda1 = lp1[::-1] # Invertir vector\n",
    "lamdda1"
   ]
  },
  {
   "cell_type": "code",
   "execution_count": 80,
   "metadata": {
    "collapsed": false
   },
   "outputs": [
    {
     "name": "stdout",
     "output_type": "stream",
     "text": [
      "Beta:  15  Mu: -0.05  Lambda:  -900  Gamma:  50  Volumen:  5000  Particulas:  2560000\n",
      "Desbordamiento\n",
      "Desbordamiento\n",
      "Valor ro:  0.0\n",
      "Valor validador:  8.9995\n",
      " \n",
      " \n",
      "Beta:  15  Mu: -0.05  Lambda:  -800  Gamma:  50  Volumen:  5000  Particulas:  2560000\n",
      "Desbordamiento\n",
      "Desbordamiento\n",
      "Valor ro:  0.0\n",
      "Valor validador:  7.9995\n",
      " \n",
      " \n",
      "Beta:  15  Mu: -0.05  Lambda:  -700  Gamma:  50  Volumen:  5000  Particulas:  2560000\n",
      "Desbordamiento\n",
      "Desbordamiento\n",
      "Valor ro:  0.0\n",
      "Valor validador:  6.9995\n",
      " \n",
      " \n",
      "Beta:  15  Mu: -0.05  Lambda:  -600  Gamma:  50  Volumen:  5000  Particulas:  2560000\n",
      "Desbordamiento\n",
      "Desbordamiento\n",
      "Valor ro:  0.0\n",
      "Valor validador:  5.9995\n",
      " \n",
      " \n",
      "Beta:  15  Mu: -0.05  Lambda:  -500  Gamma:  50  Volumen:  5000  Particulas:  2560000\n",
      "Desbordamiento\n",
      "Desbordamiento\n",
      "Valor ro:  0.0\n",
      "Valor validador:  4.9995\n",
      " \n",
      " \n",
      "Beta:  15  Mu: -0.05  Lambda:  -400  Gamma:  50  Volumen:  5000  Particulas:  2560000\n",
      "Desbordamiento\n",
      "Desbordamiento\n",
      "Valor ro:  0.0\n",
      "Valor validador:  3.9995\n",
      " \n",
      " \n",
      "Beta:  15  Mu: -0.05  Lambda:  -300  Gamma:  50  Volumen:  5000  Particulas:  2560000\n",
      "Desbordamiento\n",
      "Desbordamiento\n",
      "Valor ro:  0.0\n",
      "Valor validador:  2.9995\n",
      " \n",
      " \n",
      "Beta:  15  Mu: -0.05  Lambda:  -200  Gamma:  50  Volumen:  5000  Particulas:  2560000\n",
      "Desbordamiento\n",
      "Desbordamiento\n",
      "Valor ro:  0.0\n",
      "Valor validador:  1.9995\n",
      " \n",
      " \n",
      "Beta:  15  Mu: -0.05  Lambda:  -100  Gamma:  50  Volumen:  5000  Particulas:  2560000\n",
      "Desbordamiento\n",
      "Desbordamiento\n",
      "Valor ro:  0.0\n",
      "Valor validador:  0.9995\n",
      " \n",
      " \n",
      "Tiempo ejecución:  0.005506753921508789 seg\n"
     ]
    }
   ],
   "source": [
    "start_time = time.time() #Para medir el tiempo de ejecución\n",
    "metodo3_lambda(vf3[0],vf3[1],lamdda1,vf3[2],vf3[3],vf3[4])\n",
    "print (\"Tiempo ejecución: \",time.time() - start_time,\"seg\")"
   ]
  },
  {
   "cell_type": "markdown",
   "metadata": {},
   "source": [
    "#### Prueba 2"
   ]
  },
  {
   "cell_type": "code",
   "execution_count": 81,
   "metadata": {
    "collapsed": false,
    "scrolled": true
   },
   "outputs": [
    {
     "data": {
      "text/plain": [
       "array([-85, -70, -55, -40, -25, -10])"
      ]
     },
     "execution_count": 81,
     "metadata": {},
     "output_type": "execute_result"
    }
   ],
   "source": [
    "lp2= np.arange(-10,-100,-15)\n",
    "lamdda2 = lp2[::-1] # Invertir vector\n",
    "lamdda2"
   ]
  },
  {
   "cell_type": "code",
   "execution_count": 82,
   "metadata": {
    "collapsed": false
   },
   "outputs": [
    {
     "name": "stdout",
     "output_type": "stream",
     "text": [
      "Beta:  15  Mu: -0.05  Lambda:  -85  Gamma:  50  Volumen:  5000  Particulas:  2560000\n",
      "Desbordamiento\n",
      "Desbordamiento\n",
      "Valor ro:  0.0\n",
      "Valor validador:  0.8495\n",
      " \n",
      " \n",
      "Beta:  15  Mu: -0.05  Lambda:  -70  Gamma:  50  Volumen:  5000  Particulas:  2560000\n",
      "Desbordamiento\n",
      "Desbordamiento\n",
      "Valor ro:  0.0\n",
      "Valor validador:  0.6995\n",
      " \n",
      " \n",
      "Beta:  15  Mu: -0.05  Lambda:  -55  Gamma:  50  Volumen:  5000  Particulas:  2560000\n",
      "Desbordamiento\n",
      "Desbordamiento\n",
      "Valor ro:  0.0\n",
      "Valor validador:  0.5495\n",
      " \n",
      " \n",
      "Beta:  15  Mu: -0.05  Lambda:  -40  Gamma:  50  Volumen:  5000  Particulas:  2560000\n",
      "Desbordamiento\n",
      "Desbordamiento\n",
      "Valor ro:  0.0002\n",
      "Valor validador:  0.3995\n",
      " \n",
      " \n",
      "Beta:  15  Mu: -0.05  Lambda:  -25  Gamma:  50  Volumen:  5000  Particulas:  2560000\n",
      "Desbordamiento\n",
      "Desbordamiento\n",
      "Valor ro:  0.0002\n",
      "Valor validador:  0.2495\n",
      " \n",
      " \n",
      "Beta:  15  Mu: -0.05  Lambda:  -10  Gamma:  50  Volumen:  5000  Particulas:  2560000\n",
      "Desbordamiento\n",
      "Desbordamiento\n",
      "Valor ro:  0.0008\n",
      "Valor validador:  0.0995\n",
      " \n",
      " \n",
      "Tiempo ejecución:  0.00350189208984375 seg\n"
     ]
    }
   ],
   "source": [
    "start_time = time.time() #Para medir el tiempo de ejecución\n",
    "metodo3_lambda(vf3[0],vf3[1],lamdda2,vf3[2],vf3[3],vf3[4])\n",
    "print (\"Tiempo ejecución: \",time.time() - start_time,\"seg\")"
   ]
  },
  {
   "cell_type": "markdown",
   "metadata": {},
   "source": [
    "#### Prueba 3"
   ]
  },
  {
   "cell_type": "code",
   "execution_count": 85,
   "metadata": {
    "collapsed": false,
    "scrolled": true
   },
   "outputs": [
    {
     "data": {
      "text/plain": [
       "array([-9.9, -9.2, -8.5, -7.8, -7.1, -6.4, -5.7, -5. , -4.3, -3.6, -2.9,\n",
       "       -2.2, -1.5, -0.8, -0.1])"
      ]
     },
     "execution_count": 85,
     "metadata": {},
     "output_type": "execute_result"
    }
   ],
   "source": [
    "lp3 = np.arange(-0.1,-10,-0.7)\n",
    "lamdda3 = lp3[::-1] # Invertir vector\n",
    "lamdda3"
   ]
  },
  {
   "cell_type": "code",
   "execution_count": 84,
   "metadata": {
    "collapsed": false
   },
   "outputs": [
    {
     "name": "stdout",
     "output_type": "stream",
     "text": [
      "Beta:  15  Mu: -0.05  Lambda:  -9.9  Gamma:  50  Volumen:  5000  Particulas:  2560000\n",
      "Desbordamiento\n",
      "Desbordamiento\n",
      "Valor ro:  0.0008\n",
      "Valor validador:  0.0985\n",
      " \n",
      " \n",
      "Beta:  15  Mu: -0.05  Lambda:  -9.2  Gamma:  50  Volumen:  5000  Particulas:  2560000\n",
      "Desbordamiento\n",
      "Desbordamiento\n",
      "Valor ro:  0.001\n",
      "Valor validador:  0.0915\n",
      " \n",
      " \n",
      "Beta:  15  Mu: -0.05  Lambda:  -8.5  Gamma:  50  Volumen:  5000  Particulas:  2560000\n",
      "Desbordamiento\n",
      "Desbordamiento\n",
      "Valor ro:  0.001\n",
      "Valor validador:  0.0845\n",
      " \n",
      " \n",
      "Beta:  15  Mu: -0.05  Lambda:  -7.8  Gamma:  50  Volumen:  5000  Particulas:  2560000\n",
      "Desbordamiento\n",
      "Desbordamiento\n",
      "Valor ro:  0.0012000000000000001\n",
      "Valor validador:  0.0775\n",
      " \n",
      " \n",
      "Beta:  15  Mu: -0.05  Lambda:  -7.1  Gamma:  50  Volumen:  5000  Particulas:  2560000\n",
      "Desbordamiento\n",
      "Desbordamiento\n",
      "Valor ro:  0.0012000000000000001\n",
      "Valor validador:  0.0705\n",
      " \n",
      " \n",
      "Beta:  15  Mu: -0.05  Lambda:  -6.4  Gamma:  50  Volumen:  5000  Particulas:  2560000\n",
      "Desbordamiento\n",
      "Desbordamiento\n",
      "Valor ro:  0.0014\n",
      "Valor validador:  0.0635\n",
      " \n",
      " \n",
      "Beta:  15  Mu: -0.05  Lambda:  -5.7  Gamma:  50  Volumen:  5000  Particulas:  2560000\n",
      "Desbordamiento\n",
      "Desbordamiento\n",
      "Valor ro:  0.0016\n",
      "Valor validador:  0.0565\n",
      " \n",
      " \n",
      "Beta:  15  Mu: -0.05  Lambda:  -5.0  Gamma:  50  Volumen:  5000  Particulas:  2560000\n",
      "Desbordamiento\n",
      "Desbordamiento\n",
      "Valor ro:  0.0018000000000000002\n",
      "Valor validador:  0.0495\n",
      " \n",
      " \n",
      "Beta:  15  Mu: -0.05  Lambda:  -4.3  Gamma:  50  Volumen:  5000  Particulas:  2560000\n",
      "Desbordamiento\n",
      "Desbordamiento\n",
      "Valor ro:  0.0022\n",
      "Valor validador:  0.0425\n",
      " \n",
      " \n",
      "Beta:  15  Mu: -0.05  Lambda:  -3.6  Gamma:  50  Volumen:  5000  Particulas:  2560000\n",
      "Desbordamiento\n",
      "Desbordamiento\n",
      "Valor ro:  0.0026000000000000003\n",
      "Valor validador:  0.0355\n",
      " \n",
      " \n",
      "Beta:  15  Mu: -0.05  Lambda:  -2.9  Gamma:  50  Volumen:  5000  Particulas:  2560000\n",
      "Desbordamiento\n",
      "Desbordamiento\n",
      "Valor ro:  0.0034000000000000002\n",
      "Valor validador:  0.0285\n",
      " \n",
      " \n",
      "Beta:  15  Mu: -0.05  Lambda:  -2.2  Gamma:  50  Volumen:  5000  Particulas:  2560000\n",
      "Desbordamiento\n",
      "Desbordamiento\n",
      "Valor ro:  0.004799999999998042\n",
      "Valor validador:  0.0215\n",
      " \n",
      " \n",
      "Beta:  15  Mu: -0.05  Lambda:  -1.5  Gamma:  50  Volumen:  5000  Particulas:  2560000\n",
      "Desbordamiento\n",
      "Desbordamiento\n",
      "Valor ro:  0.009599904769344757\n",
      "Valor validador:  0.0145\n",
      " \n",
      " \n",
      "Beta:  15  Mu: -0.05  Lambda:  -0.8  Gamma:  50  Volumen:  5000  Particulas:  2560000\n",
      "Valor ro:  0.007599999999999997\n",
      "Valor validador:  0.0075\n",
      " \n",
      " \n",
      "Beta:  15  Mu: -0.05  Lambda:  -0.1  Gamma:  50  Volumen:  5000  Particulas:  2560000\n",
      "Valor ro:  0.0006230043613911651\n",
      "Valor validador:  0.0005\n",
      " \n",
      " \n",
      "Tiempo ejecución:  17.556748151779175 seg\n"
     ]
    }
   ],
   "source": [
    "start_time = time.time() #Para medir el tiempo de ejecución\n",
    "metodo3_lambda(vf3[0],vf3[1],lamdda3,vf3[2],vf3[3],vf3[4])\n",
    "print (\"Tiempo ejecución: \",time.time() - start_time,\"seg\")"
   ]
  },
  {
   "cell_type": "markdown",
   "metadata": {},
   "source": [
    "### subseccion : Prueba γ"
   ]
  },
  {
   "cell_type": "code",
   "execution_count": 63,
   "metadata": {
    "collapsed": true
   },
   "outputs": [],
   "source": [
    "# configuracion [+β,-µ,-λ,V,N] cte = 512\n",
    "vf4 = [15,-0.05,-0.3,5000,2560000]"
   ]
  },
  {
   "cell_type": "markdown",
   "metadata": {},
   "source": [
    "#### Prueba 1"
   ]
  },
  {
   "cell_type": "code",
   "execution_count": 78,
   "metadata": {
    "collapsed": false
   },
   "outputs": [
    {
     "data": {
      "text/plain": [
       "array([25, 30, 35, 40, 45])"
      ]
     },
     "execution_count": 78,
     "metadata": {},
     "output_type": "execute_result"
    }
   ],
   "source": [
    "gamma1 = np.arange(25,50,5)\n",
    "gamma1"
   ]
  },
  {
   "cell_type": "code",
   "execution_count": 86,
   "metadata": {
    "collapsed": false
   },
   "outputs": [
    {
     "name": "stdout",
     "output_type": "stream",
     "text": [
      "Beta:  15  Mu: -0.05  Lambda:  -0.3  Gamma:  25  Volumen:  5000  Particulas:  2560000\n",
      "Valor ro:  0.005100000000000002\n",
      "Valor validador:  0.005\n",
      " \n",
      " \n",
      "Beta:  15  Mu: -0.05  Lambda:  -0.3  Gamma:  30  Volumen:  5000  Particulas:  2560000\n",
      "Valor ro:  0.004266666666666667\n",
      "Valor validador:  0.00416666666667\n",
      " \n",
      " \n",
      "Beta:  15  Mu: -0.05  Lambda:  -0.3  Gamma:  35  Volumen:  5000  Particulas:  2560000\n",
      "Valor ro:  0.0036714285714285724\n",
      "Valor validador:  0.00357142857143\n",
      " \n",
      " \n",
      "Beta:  15  Mu: -0.05  Lambda:  -0.3  Gamma:  40  Volumen:  5000  Particulas:  2560000\n",
      "Valor ro:  0.003225\n",
      "Valor validador:  0.003125\n",
      " \n",
      " \n",
      "Beta:  15  Mu: -0.05  Lambda:  -0.3  Gamma:  45  Volumen:  5000  Particulas:  2560000\n",
      "Valor ro:  0.0028777777777777886\n",
      "Valor validador:  0.00277777777778\n",
      " \n",
      " \n",
      "Tiempo ejecución:  51.73904061317444 seg\n"
     ]
    }
   ],
   "source": [
    "start_time = time.time() #Para medir el tiempo de ejecución\n",
    "metodo3_gamma(vf4[0],vf4[1],vf4[2],gamma1,vf4[3],vf4[4])\n",
    "print (\"Tiempo ejecución: \",time.time() - start_time,\"seg\")"
   ]
  },
  {
   "cell_type": "markdown",
   "metadata": {},
   "source": [
    "#### Prueba 2"
   ]
  },
  {
   "cell_type": "code",
   "execution_count": 66,
   "metadata": {
    "collapsed": false
   },
   "outputs": [
    {
     "data": {
      "text/plain": [
       "array([500, 650, 800, 950])"
      ]
     },
     "execution_count": 66,
     "metadata": {},
     "output_type": "execute_result"
    }
   ],
   "source": [
    "gamma2 = np.arange(500,1000,150)\n",
    "gamma2"
   ]
  },
  {
   "cell_type": "code",
   "execution_count": 87,
   "metadata": {
    "collapsed": false
   },
   "outputs": [
    {
     "name": "stdout",
     "output_type": "stream",
     "text": [
      "Beta:  15  Mu: -0.05  Lambda:  -0.3  Gamma:  500  Volumen:  5000  Particulas:  2560000\n",
      "Valor ro:  0.0003511674994587007\n",
      "Valor validador:  0.00025\n",
      " \n",
      " \n",
      "Beta:  15  Mu: -0.05  Lambda:  -0.3  Gamma:  650  Volumen:  5000  Particulas:  2560000\n",
      "Valor ro:  0.00029132109408965717\n",
      "Valor validador:  0.000192307692308\n",
      " \n",
      " \n",
      "Beta:  15  Mu: -0.05  Lambda:  -0.3  Gamma:  800  Volumen:  5000  Particulas:  2560000\n",
      "Valor ro:  0.00024779111159188366\n",
      "Valor validador:  0.00015625\n",
      " \n",
      " \n",
      "Beta:  15  Mu: -0.05  Lambda:  -0.3  Gamma:  950  Volumen:  5000  Particulas:  2560000\n",
      "Valor ro:  0.00022039555860837293\n",
      "Valor validador:  0.000131578947368\n",
      " \n",
      " \n",
      "Tiempo ejecución:  40.58755159378052 seg\n"
     ]
    }
   ],
   "source": [
    "start_time = time.time() #Para medir el tiempo de ejecución\n",
    "metodo3_gamma(vf4[0],vf4[1],vf4[2],gamma2,vf4[3],vf4[4])\n",
    "print (\"Tiempo ejecución: \",time.time() - start_time,\"seg\")"
   ]
  },
  {
   "cell_type": "markdown",
   "metadata": {},
   "source": [
    "#### Prueba 3"
   ]
  },
  {
   "cell_type": "code",
   "execution_count": 69,
   "metadata": {
    "collapsed": false
   },
   "outputs": [
    {
     "data": {
      "text/plain": [
       "array([1000, 2250, 3500, 4750, 6000, 7250, 8500, 9750])"
      ]
     },
     "execution_count": 69,
     "metadata": {},
     "output_type": "execute_result"
    }
   ],
   "source": [
    "gamma3 = np.arange(1000,10000,1250)\n",
    "gamma3"
   ]
  },
  {
   "cell_type": "code",
   "execution_count": 88,
   "metadata": {
    "collapsed": false
   },
   "outputs": [
    {
     "name": "stdout",
     "output_type": "stream",
     "text": [
      "Beta:  15  Mu: -0.05  Lambda:  -0.3  Gamma:  1000  Volumen:  5000  Particulas:  2560000\n",
      "Valor ro:  0.0002145156030537105\n",
      "Valor validador:  0.000125\n",
      " \n",
      " \n",
      "Beta:  15  Mu: -0.05  Lambda:  -0.3  Gamma:  2250  Volumen:  5000  Particulas:  2560000\n",
      "Valor ro:  0.00019541617813164977\n",
      "Valor validador:  5.55555555556e-05\n",
      " \n",
      " \n",
      "Beta:  15  Mu: -0.05  Lambda:  -0.3  Gamma:  3500  Volumen:  5000  Particulas:  2560000\n",
      "Valor ro:  0.00019540453246296368\n",
      "Valor validador:  3.57142857143e-05\n",
      " \n",
      " \n",
      "Beta:  15  Mu: -0.05  Lambda:  -0.3  Gamma:  4750  Volumen:  5000  Particulas:  2560000\n",
      "Valor ro:  0.0001954045260215595\n",
      "Valor validador:  2.63157894737e-05\n",
      " \n",
      " \n",
      "Beta:  15  Mu: -0.05  Lambda:  -0.3  Gamma:  6000  Volumen:  5000  Particulas:  2560000\n",
      "Valor ro:  0.00019540452601799686\n",
      "Valor validador:  2.08333333333e-05\n",
      " \n",
      " \n",
      "Beta:  15  Mu: -0.05  Lambda:  -0.3  Gamma:  7250  Volumen:  5000  Particulas:  2560000\n",
      "Valor ro:  0.00019540452601799488\n",
      "Valor validador:  1.72413793103e-05\n",
      " \n",
      " \n",
      "Beta:  15  Mu: -0.05  Lambda:  -0.3  Gamma:  8500  Volumen:  5000  Particulas:  2560000\n",
      "Valor ro:  0.00019540452601799488\n",
      "Valor validador:  1.47058823529e-05\n",
      " \n",
      " \n",
      "Beta:  15  Mu: -0.05  Lambda:  -0.3  Gamma:  9750  Volumen:  5000  Particulas:  2560000\n",
      "Valor ro:  0.0001954045260179949\n",
      "Valor validador:  1.28205128205e-05\n",
      " \n",
      " \n",
      "Tiempo ejecución:  79.70970797538757 seg\n"
     ]
    }
   ],
   "source": [
    "start_time = time.time() #Para medir el tiempo de ejecución\n",
    "metodo3_gamma(vf4[0],vf4[1],vf4[2],gamma3,vf4[3],vf4[4])\n",
    "print (\"Tiempo ejecución: \",time.time() - start_time,\"seg\")"
   ]
  },
  {
   "cell_type": "markdown",
   "metadata": {},
   "source": [
    "## Seccion 4: Graficos 3D de validador, con un dato fijo, los demás variables"
   ]
  },
  {
   "cell_type": "markdown",
   "metadata": {},
   "source": [
    "### subseccion : Prueba ρ"
   ]
  },
  {
   "cell_type": "code",
   "execution_count": null,
   "metadata": {
    "collapsed": true
   },
   "outputs": [],
   "source": []
  },
  {
   "cell_type": "markdown",
   "metadata": {},
   "source": [
    "### subseccion : Prueba µ"
   ]
  },
  {
   "cell_type": "code",
   "execution_count": null,
   "metadata": {
    "collapsed": true
   },
   "outputs": [],
   "source": []
  },
  {
   "cell_type": "markdown",
   "metadata": {},
   "source": [
    "### subseccion : Prueba λ"
   ]
  },
  {
   "cell_type": "code",
   "execution_count": null,
   "metadata": {
    "collapsed": true
   },
   "outputs": [],
   "source": []
  },
  {
   "cell_type": "markdown",
   "metadata": {},
   "source": [
    "### subseccion : Prueba γ"
   ]
  },
  {
   "cell_type": "code",
   "execution_count": null,
   "metadata": {
    "collapsed": true
   },
   "outputs": [],
   "source": []
  },
  {
   "cell_type": "markdown",
   "metadata": {},
   "source": [
    "## *Pruebas de modulos y otros*"
   ]
  },
  {
   "cell_type": "code",
   "execution_count": 74,
   "metadata": {
    "collapsed": false
   },
   "outputs": [
    {
     "name": "stdout",
     "output_type": "stream",
     "text": [
      "N:  [100, 250, 380, 490, 550]\n",
      "V:  [200.0, 500.0, 760.0, 980.0, 1100.0]\n",
      "\n",
      "V:  [70, 84, 96, 102, 158]\n",
      "N:  [35000, 42000, 48000, 51000, 79000]\n"
     ]
    }
   ],
   "source": [
    "vect_n = [100, 250, 380, 490, 550]\n",
    "nv = generador_v(vect_n, 0.5)\n",
    "\n",
    "vect_v = [70, 84, 96, 102, 158]\n",
    "nn = generador_n(vect_v, 500)\n",
    "\n",
    "print(\"N: \",vect_n)\n",
    "print(\"V: \",nv)\n",
    "print()\n",
    "print(\"V: \",vect_v)\n",
    "print(\"N: \",nn)"
   ]
  },
  {
   "cell_type": "code",
   "execution_count": 52,
   "metadata": {
    "collapsed": false
   },
   "outputs": [
    {
     "name": "stdout",
     "output_type": "stream",
     "text": [
      "[  7 105  34 410 426]\n",
      "[410 426  34   7 105]\n"
     ]
    }
   ],
   "source": [
    "a = np.random.randint(5,500,5)\n",
    "print (a)\n",
    "np.random.shuffle(a)\n",
    "print (a)"
   ]
  },
  {
   "cell_type": "code",
   "execution_count": 67,
   "metadata": {
    "collapsed": false,
    "scrolled": true
   },
   "outputs": [
    {
     "data": {
      "text/plain": [
       "5"
      ]
     },
     "execution_count": 67,
     "metadata": {},
     "output_type": "execute_result"
    }
   ],
   "source": [
    "test = 5\n",
    "\n",
    "test\n",
    "test\n",
    "test"
   ]
  },
  {
   "cell_type": "code",
   "execution_count": 68,
   "metadata": {
    "collapsed": false
   },
   "outputs": [
    {
     "name": "stdout",
     "output_type": "stream",
     "text": [
      "5\n",
      "5\n",
      "5\n"
     ]
    }
   ],
   "source": [
    "print(test)\n",
    "print(test)\n",
    "print(test)"
   ]
  },
  {
   "cell_type": "code",
   "execution_count": 69,
   "metadata": {
    "collapsed": false
   },
   "outputs": [
    {
     "data": {
      "text/plain": [
       "3.3333333333333335"
      ]
     },
     "execution_count": 69,
     "metadata": {},
     "output_type": "execute_result"
    }
   ],
   "source": [
    "10/3"
   ]
  },
  {
   "cell_type": "code",
   "execution_count": 70,
   "metadata": {
    "collapsed": false
   },
   "outputs": [
    {
     "data": {
      "text/plain": [
       "3"
      ]
     },
     "execution_count": 70,
     "metadata": {},
     "output_type": "execute_result"
    }
   ],
   "source": [
    "10//3"
   ]
  },
  {
   "cell_type": "code",
   "execution_count": 55,
   "metadata": {
    "collapsed": false,
    "scrolled": true
   },
   "outputs": [
    {
     "data": {
      "image/png": "[encoded data removed]",
      "text/plain": [
       "<matplotlib.figure.Figure at 0x2a66bdd8358>"
      ]
     },
     "metadata": {},
     "output_type": "display_data"
    }
   ],
   "source": [
    "#Prueba de graficador\n",
    "graficador([1,2,3,4,5],[1,4,9,16,25],\"Cuadrados prefectos\",\"Valor normal\",\"Valor cuadratico\",False)"
   ]
  },
  {
   "cell_type": "code",
   "execution_count": 56,
   "metadata": {
    "collapsed": false,
    "scrolled": true
   },
   "outputs": [
    {
     "data": {
      "text/plain": [
       "709.782712893384"
      ]
     },
     "execution_count": 56,
     "metadata": {},
     "output_type": "execute_result"
    }
   ],
   "source": [
    "math.log(sys.float_info.max)"
   ]
  },
  {
   "cell_type": "code",
   "execution_count": 57,
   "metadata": {
    "collapsed": false
   },
   "outputs": [
    {
     "data": {
      "text/plain": [
       "1.7976931348623157e+308"
      ]
     },
     "execution_count": 57,
     "metadata": {},
     "output_type": "execute_result"
    }
   ],
   "source": [
    "sys.float_info.max"
   ]
  },
  {
   "cell_type": "code",
   "execution_count": 58,
   "metadata": {
    "collapsed": false
   },
   "outputs": [
    {
     "data": {
      "text/plain": [
       "1.7976931348622732e+308"
      ]
     },
     "execution_count": 58,
     "metadata": {},
     "output_type": "execute_result"
    }
   ],
   "source": [
    "math.exp(math.log(sys.float_info.max))"
   ]
  },
  {
   "cell_type": "markdown",
   "metadata": {},
   "source": [
    "http://stackoverflow.com/questions/4050907/python-overflowerror-math-range-error\n",
    "\n",
    "https://docs.python.org/3.6/library/math.html"
   ]
  },
  {
   "cell_type": "code",
   "execution_count": 59,
   "metadata": {
    "collapsed": false
   },
   "outputs": [
    {
     "data": {
      "text/plain": [
       "time.struct_time(tm_year=1970, tm_mon=1, tm_mday=1, tm_hour=0, tm_min=0, tm_sec=0, tm_wday=3, tm_yday=1, tm_isdst=0)"
      ]
     },
     "execution_count": 59,
     "metadata": {},
     "output_type": "execute_result"
    }
   ],
   "source": [
    "time.gmtime(0)"
   ]
  },
  {
   "cell_type": "code",
   "execution_count": 2,
   "metadata": {
    "collapsed": false
   },
   "outputs": [
    {
     "data": {
      "image/png": "[encoded data removed]",
      "text/plain": [
       "<matplotlib.figure.Figure at 0x23565c61860>"
      ]
     },
     "metadata": {},
     "output_type": "display_data"
    }
   ],
   "source": [
    "fig = plt.figure()\n",
    "ax = fig.gca(projection='3d')\n",
    "\n",
    "# Make data.\n",
    "X = np.arange(-5, 5, 0.25)\n",
    "Y = np.arange(-5, 5, 0.25)\n",
    "X, Y = np.meshgrid(X, Y)\n",
    "R = np.sqrt(X**2 + Y**2)\n",
    "Z = np.sin(R)\n",
    "\n",
    "# Plot the surface.\n",
    "surf = ax.plot_surface(X, Y, Z, cmap=cm.coolwarm,\n",
    "                       linewidth=0, antialiased=False)\n",
    "\n",
    "# Customize the z axis.\n",
    "ax.set_zlim(-1.01, 1.01)\n",
    "ax.zaxis.set_major_locator(LinearLocator(10))\n",
    "ax.zaxis.set_major_formatter(FormatStrFormatter('%.02f'))\n",
    "\n",
    "# Add a color bar which maps values to colors.\n",
    "fig.colorbar(surf, shrink=0.5, aspect=5)\n",
    "\n",
    "plt.show()"
   ]
  },
  {
   "cell_type": "code",
   "execution_count": 9,
   "metadata": {
    "collapsed": false
   },
   "outputs": [
    {
     "data": {
      "image/png": "[encoded data removed]",
      "text/plain": [
       "<matplotlib.figure.Figure at 0x235662315f8>"
      ]
     },
     "metadata": {},
     "output_type": "display_data"
    }
   ],
   "source": [
    "fig = plt.figure()\n",
    "ax = fig.add_subplot(111, projection='3d')\n",
    "\n",
    "# Grab some test data.\n",
    "X, Y, Z = axes3d.get_test_data(0.05)\n",
    "\n",
    "# Plot a basic wireframe.\n",
    "ax.plot_wireframe(X, Y, Z, rstride=10, cstride=10)\n",
    "\n",
    "plt.show()"
   ]
  }
 ],
 "metadata": {
  "kernelspec": {
   "display_name": "Python 3",
   "language": "python",
   "name": "python3"
  },
  "language_info": {
   "codemirror_mode": {
    "name": "ipython",
    "version": 3
   },
   "file_extension": ".py",
   "mimetype": "text/x-python",
   "name": "python",
   "nbconvert_exporter": "python",
   "pygments_lexer": "ipython3",
   "version": "3.6.0"
  }
 },
 "nbformat": 4,
 "nbformat_minor": 2
}
