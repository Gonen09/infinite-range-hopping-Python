{
 "cells": [
  {
   "cell_type": "markdown",
   "metadata": {},
   "source": [
    "# Condensación Bosónica no convencional de Bose-Einstein"
   ]
  },
  {
   "cell_type": "markdown",
   "metadata": {},
   "source": [
    "$$\n",
    "\\rho_{0} = \\frac{1}{V} \\frac{\\sum_{n=1}^\\infty = ne^{\\beta\\{(- \\lambda + \\mu + \\frac{\\gamma}{V})n - \\frac{\\gamma}{V}n^{2}\\}}}{\\sum_{n=0}^\\infty = e^{\\beta\\{(- \\lambda + \\mu + \\frac{\\gamma}{V})n - \\frac{\\gamma}{V}n^{2}\\}}} \\quad \\sim \\quad (\\frac{\\mu - \\lambda}{2 \\gamma})\n",
    "$$"
   ]
  },
  {
   "cell_type": "markdown",
   "metadata": {},
   "source": [
    "### Parametros"
   ]
  },
  {
   "cell_type": "markdown",
   "metadata": {},
   "source": [
    "__γ__ : Término denominado de selfscattering.\n",
    "\n",
    "__β__ : Temeperatura inversa.\n",
    "\n",
    "__λ__ : Energía del estado fundamental.\n",
    "\n",
    "__µ__ : Potencial químico.\n",
    "\n",
    "__V__ : Volumen del sistema.\n",
    "\n",
    "__N__ : Número de partículas en el sistema. "
   ]
  },
  {
   "cell_type": "markdown",
   "metadata": {},
   "source": [
    "### Condiciones"
   ]
  },
  {
   "cell_type": "markdown",
   "metadata": {},
   "source": [
    "$0 < γ,β,V, N$\n",
    "\n",
    "$λ < µ < 0 $\n",
    "\n",
    "$\\lim_{V,N \\to \\infty }\\frac{N}{V}=cte$"
   ]
  },
  {
   "cell_type": "markdown",
   "metadata": {},
   "source": [
    "## *Desarrollo*"
   ]
  },
  {
   "cell_type": "markdown",
   "metadata": {},
   "source": [
    "### Dependencias"
   ]
  },
  {
   "cell_type": "code",
   "execution_count": 3,
   "metadata": {
    "collapsed": true
   },
   "outputs": [],
   "source": [
    "import math\n",
    "import matplotlib.pyplot as plt\n",
    "import numpy as np\n",
    "import time\n",
    "import sys"
   ]
  },
  {
   "cell_type": "markdown",
   "metadata": {},
   "source": [
    "$$\n",
    "f_{1} = \\sum_{n=1}^\\infty ne^{\\beta\\{(- \\lambda + \\mu + \\frac{\\gamma}{V})n - \\frac{\\gamma}{V}n^{2}\\}}\n",
    "$$"
   ]
  },
  {
   "cell_type": "code",
   "execution_count": 4,
   "metadata": {
    "collapsed": true
   },
   "outputs": [],
   "source": [
    "def f1(b , u , lam , gam , v , N):\n",
    "    sumatoria = 0\n",
    "    \n",
    "    for n in range(1, N):\n",
    "        try:\n",
    "            sumatoria+=n*math.exp(b*((-lam+u+(gam/v))*n-(gam/v)*math.pow(n, 2)))\n",
    "        except OverflowError:\n",
    "            print (\"Desbordamiento\")\n",
    "            break\n",
    "        \n",
    "    return sumatoria"
   ]
  },
  {
   "cell_type": "markdown",
   "metadata": {},
   "source": [
    "$$\n",
    "f_{2} = \\sum_{n=0}^\\infty e^{\\beta\\{(- \\lambda + \\mu + \\frac{\\gamma}{V})n - \\frac{\\gamma}{V}n^{2}\\}}\n",
    "$$"
   ]
  },
  {
   "cell_type": "code",
   "execution_count": 5,
   "metadata": {
    "collapsed": true
   },
   "outputs": [],
   "source": [
    "def f2(b , u , lam , gam , v , N):\n",
    "    sumatoria = 0\n",
    "    \n",
    "    for n in range(N):\n",
    "        try:\n",
    "            sumatoria+=math.exp(b*((-lam+u+(gam/v))*n-(gam/v)*math.pow(n, 2)))\n",
    "        except OverflowError:\n",
    "            print (\"Desbordamiento\")\n",
    "            break\n",
    "            \n",
    "    return sumatoria"
   ]
  },
  {
   "cell_type": "markdown",
   "metadata": {},
   "source": [
    "### Obtención de *ρ*\n",
    "\n",
    "$$\n",
    "\\rho_{0} = \\frac{1}{V} * \\frac{f_{1}}{f_{2}}\n",
    "$$"
   ]
  },
  {
   "cell_type": "code",
   "execution_count": 6,
   "metadata": {
    "collapsed": false
   },
   "outputs": [],
   "source": [
    "def calculo_ro(b , u , lam , gam , v , n):\n",
    "    try:\n",
    "        numerador =  f1(b, u, lam, gam, v, n)\n",
    "        denominador = f2(b, u, lam, gam, v, n)\n",
    "        fraccion1 = 1/v\n",
    "        fraccion2 = numerador/denominador\n",
    "        ro = fraccion1 * fraccion2\n",
    "        # print (\"Numerador: \",numerador)\n",
    "        # print (\"Denominador: \",denominador)\n",
    "        # print (\"fraccion 1: \",fraccion1)\n",
    "        # print (\"fraccion 2: \",fraccion2)\n",
    "        # print (\"Ro: \",ro)\n",
    "        \n",
    "    except ZeroDivisionError:\n",
    "        print('Division por cero')\n",
    "        ro = 0\n",
    "        \n",
    "    print (\"Valor ro: \",ro)\n",
    "    return ro"
   ]
  },
  {
   "cell_type": "markdown",
   "metadata": {},
   "source": [
    "### Obtención *validador*\n",
    "$$\n",
    "\\frac{\\mu - \\lambda}{2 \\gamma} \n",
    "$$"
   ]
  },
  {
   "cell_type": "code",
   "execution_count": 7,
   "metadata": {
    "collapsed": true
   },
   "outputs": [],
   "source": [
    "def calculo_validador(u , lam , gam):\n",
    "    try:\n",
    "        resultado = (u-lam)/(2*gam)\n",
    "    except ZeroDivisionError:\n",
    "        print('Division por cero')\n",
    "        resultado = 0\n",
    "        \n",
    "    print (\"Valor validador: \",resultado)    \n",
    "    return resultado"
   ]
  },
  {
   "cell_type": "markdown",
   "metadata": {},
   "source": [
    "### Generador vector V's\n",
    "$$\n",
    "V = \\frac{N}{cte}\n",
    "$$"
   ]
  },
  {
   "cell_type": "code",
   "execution_count": 8,
   "metadata": {
    "collapsed": true
   },
   "outputs": [],
   "source": [
    "def generador_v(vector_n, constante):\n",
    "\n",
    "    \"\"\" Genera un vector de V's a partir de un vector de N's y una constante\"\"\"\n",
    "\n",
    "    v = []\n",
    "\n",
    "    for x in range(len(vector_n)):\n",
    "        nv = vector_n[x] // constante  # // = Division entera\n",
    "        v.append(nv)\n",
    "\n",
    "    print(\"valores n: \", vector_n)\n",
    "    print(\"valores v: \", v)\n",
    "\n",
    "    return v"
   ]
  },
  {
   "cell_type": "markdown",
   "metadata": {},
   "source": [
    "### Generador vector N's\n",
    "$$\n",
    "N = V * cte\n",
    "$$"
   ]
  },
  {
   "cell_type": "code",
   "execution_count": 9,
   "metadata": {
    "collapsed": true
   },
   "outputs": [],
   "source": [
    "def generador_n(vector_v, constante):\n",
    "\n",
    "    \"\"\" Genera un vector de N's a partir de un vector de V's y una constante\"\"\"\n",
    "\n",
    "    n = []\n",
    "\n",
    "    for x in range(len(vector_v)):\n",
    "        nn = vector_v[x] * constante\n",
    "        n.append(nn)\n",
    "\n",
    "    # print(\"valores v: \", vector_v)\n",
    "    # print(\"valores n: \", n)\n",
    "\n",
    "    return n"
   ]
  },
  {
   "cell_type": "markdown",
   "metadata": {},
   "source": [
    "### Graficador"
   ]
  },
  {
   "cell_type": "code",
   "execution_count": 10,
   "metadata": {
    "collapsed": false
   },
   "outputs": [],
   "source": [
    "def graficador(datos_x,datos_y,titulo,titulo_x,titulo_y,ajuste_ejes=False):\n",
    "    if len(datos_x)!=0 or len(datos_y)!=0:\n",
    "        \n",
    "        # Informacion grafico\n",
    "        plt.title(titulo)\n",
    "        plt.xlabel(titulo_x)\n",
    "        plt.ylabel(titulo_y)\n",
    "        \n",
    "        if ajuste_ejes:\n",
    "            # Limites grafico\n",
    "            minimo_x = min(datos_x) - 1\n",
    "            maximo_x = max(datos_x) + 1\n",
    "            minimo_y = min(datos_y) - 1\n",
    "            maximo_y = max(datos_y) + 1\n",
    "            plt.xlim(minimo_x,maximo_x)\n",
    "            plt.ylim(minimo_y,maximo_y)\n",
    "        \n",
    "        # Mostrar datos\n",
    "        plt.plot(datos_x, datos_y, 'ro')\n",
    "        plt.show()\n",
    "    else:\n",
    "        print(\"Vector vacio\")"
   ]
  },
  {
   "cell_type": "markdown",
   "metadata": {},
   "source": [
    "# Formas de experimentacion"
   ]
  },
  {
   "cell_type": "markdown",
   "metadata": {},
   "source": [
    "### metodo 1: Calculo real vs esperado"
   ]
  },
  {
   "cell_type": "code",
   "execution_count": 11,
   "metadata": {
    "collapsed": true
   },
   "outputs": [],
   "source": [
    "def metodo1(b, u, lam, gam, v, n):\n",
    "\n",
    "    \"\"\" Calcular el valor real y el esperado \"\"\"\n",
    "\n",
    "    ro = calculo_ro(b, u, lam, gam, v, n)\n",
    "    vro = calculo_validador(u, lam, gam)\n",
    "\n",
    "    print(\"Valor real: \", ro)\n",
    "    print(\"Valor esperado: \", vro)\n",
    "\n",
    "    return ro, vro"
   ]
  },
  {
   "cell_type": "markdown",
   "metadata": {},
   "source": [
    "### metodo 2: Calculo real vs vector esperado, con vector V y N variables"
   ]
  },
  {
   "cell_type": "code",
   "execution_count": 12,
   "metadata": {
    "collapsed": true
   },
   "outputs": [],
   "source": [
    "def metodo2(valores, vector_v, vector_n):\n",
    "\n",
    "    \"\"\" Grupo fijo de valores e iterar con un N y un V, Valores: +β,-µ,-λ,+γ \"\"\"\n",
    "\n",
    "    salida_resultado = []\n",
    "    \n",
    "    for x in range(len(vector_n)):\n",
    "        ro = calculo_ro(valores[0], valores[1], valores[2], valores[3], vector_v[x], vector_n[x])\n",
    "        salida_resultado.append(ro)\n",
    "\n",
    "    salida_esperado = calculo_validador(valores[1],valores[2],valores[3])\n",
    "    return salida_resultado, salida_esperado"
   ]
  },
  {
   "cell_type": "markdown",
   "metadata": {},
   "source": [
    "### metodo 3: Calculo vector real vs vector esperado, con valores constantes y un vector variable"
   ]
  },
  {
   "cell_type": "markdown",
   "metadata": {},
   "source": [
    "#### *_Beta_* variable"
   ]
  },
  {
   "cell_type": "code",
   "execution_count": 13,
   "metadata": {
    "collapsed": true
   },
   "outputs": [],
   "source": [
    "def metodo3_beta(vector_b, u, lam, gam, v, n):\n",
    "\n",
    "    \"\"\" Grupo fijo de valores con un vector iterable, Valores: +β,-µ,-λ,+γ,V,N \"\"\"\n",
    "\n",
    "    salida_resultado = []\n",
    "    salida_esperado = []\n",
    "\n",
    "    for x in range(len(vector_b)):\n",
    "        ro, rvo = metodo1(vector_b[x] ,u, lam, gam, v, n)\n",
    "        salida_resultado.append(ro)\n",
    "        salida_esperado.append(rvo)\n",
    "\n",
    "    return salida_resultado, salida_esperado"
   ]
  },
  {
   "cell_type": "markdown",
   "metadata": {},
   "source": [
    "#### *_Mu_* variable"
   ]
  },
  {
   "cell_type": "code",
   "execution_count": 14,
   "metadata": {
    "collapsed": true
   },
   "outputs": [],
   "source": [
    "def metodo3_mu(b, vector_u, lam, gam, v, n):\n",
    "\n",
    "    \"\"\" Grupo fijo de valores con un vector iterable, Valores: +β,-µ,-λ,+γ,V,N \"\"\"\n",
    "\n",
    "    salida_resultado = []\n",
    "    salida_esperado = []\n",
    "\n",
    "    for x in range(len(vector_u)):\n",
    "        ro, rvo = metodo1(b, vector_u[x], lam, gam, v, n)\n",
    "        salida_resultado.append(ro)\n",
    "        salida_esperado.append(rvo)\n",
    "\n",
    "    return salida_resultado, salida_esperado"
   ]
  },
  {
   "cell_type": "markdown",
   "metadata": {},
   "source": [
    "#### *_lambda_* variable"
   ]
  },
  {
   "cell_type": "code",
   "execution_count": 15,
   "metadata": {
    "collapsed": true
   },
   "outputs": [],
   "source": [
    "def metodo3_lambda(b, u, vector_lam, gam, v, n):\n",
    "\n",
    "    \"\"\" Grupo fijo de valores con un vector iterable, Valores: +β,-µ,-λ,+γ,V,N \"\"\"\n",
    "\n",
    "    salida_resultado = []\n",
    "    salida_esperado = []\n",
    "\n",
    "    for x in range(len(vector_lam)):\n",
    "        ro, rvo = metodo1(b, u, vector_lam[x], gam, v, n)\n",
    "        salida_resultado.append(ro)\n",
    "        salida_esperado.append(rvo)\n",
    "\n",
    "    return salida_resultado, salida_esperado"
   ]
  },
  {
   "cell_type": "markdown",
   "metadata": {},
   "source": [
    "#### *_gamma_* variable"
   ]
  },
  {
   "cell_type": "code",
   "execution_count": 16,
   "metadata": {
    "collapsed": true
   },
   "outputs": [],
   "source": [
    "def metodo3_gamma(b, u, lam, vector_gam, v, n):\n",
    "\n",
    "    \"\"\" Grupo fijo de valores con un vector iterable, Valores: +β,-µ,-λ,+γ,V,N \"\"\"\n",
    "\n",
    "    salida_resultado = []\n",
    "    salida_esperado = []\n",
    "\n",
    "    for x in range(len(vector_gam)):\n",
    "        ro, rvo = metodo1(b, u, lam,vector_gam[x], v, n)\n",
    "        salida_resultado.append(ro)\n",
    "        salida_esperado.append(rvo)\n",
    "\n",
    "    return salida_resultado, salida_esperado"
   ]
  },
  {
   "cell_type": "markdown",
   "metadata": {},
   "source": [
    "## *Experimentos*"
   ]
  },
  {
   "cell_type": "markdown",
   "metadata": {},
   "source": [
    "## Seccion 1: Vector N variable, con su respectivo Vector V y los demás valores fijos"
   ]
  },
  {
   "cell_type": "markdown",
   "metadata": {},
   "source": [
    "### Prueba 1"
   ]
  },
  {
   "cell_type": "code",
   "execution_count": 37,
   "metadata": {
    "collapsed": false,
    "scrolled": false
   },
   "outputs": [
    {
     "name": "stdout",
     "output_type": "stream",
     "text": [
      "V: [  1  16  31  46  61  76  91 106 121 136 151 166 181 196 211 226 241 256\n",
      " 271 286 301 316 331 346 361 376 391 406 421 436 451 466 481 496]\n",
      "\n",
      "N: [350, 5600, 10850, 16100, 21350, 26600, 31850, 37100, 42350, 47600, 52850, 58100, 63350, 68600, 73850, 79100, 84350, 89600, 94850, 100100, 105350, 110600, 115850, 121100, 126350, 131600, 136850, 142100, 147350, 152600, 157850, 163100, 168350, 173600]\n"
     ]
    }
   ],
   "source": [
    "# configuracion [+β,-µ,-λ,+γ]\n",
    "configuracion_inicial1 = [15,-0.05,-0.3,50]\n",
    "\n",
    "vector_v1 = np.arange(1,500,15) # inicio, fin, paso\n",
    "print (\"V:\",vector_v1)\n",
    "print(\"\")\n",
    "vector_n1 = generador_n(vector_v1,350) # cte = 350\n",
    "print (\"N:\",vector_n1)"
   ]
  },
  {
   "cell_type": "code",
   "execution_count": 84,
   "metadata": {
    "collapsed": false
   },
   "outputs": [
    {
     "name": "stdout",
     "output_type": "stream",
     "text": [
      "Valor ro:  0.97702263009\n",
      "Valor ro:  0.0610639143806\n",
      "Valor ro:  0.0315168590352\n",
      "Valor ro:  0.0212396223933\n",
      "Valor ro:  0.0160167644423\n",
      "Valor ro:  0.0128555624218\n",
      "Valor ro:  0.0107365448251\n",
      "Valor ro:  0.00921748129172\n",
      "Valor ro:  0.00807601829686\n",
      "Valor ro:  0.00718905436076\n",
      "Valor ro:  0.00648397365863\n",
      "Valor ro:  0.00591600185913\n",
      "Valor ro:  0.00545640157238\n",
      "Valor ro:  0.00508572658195\n",
      "Valor ro:  0.0047897356598\n",
      "Valor ro:  0.00455689299323\n",
      "Valor ro:  0.00437693576155\n",
      "Valor ro:  0.00424021154972\n",
      "Valor ro:  0.00413755591276\n",
      "Valor ro:  0.00406049002602\n",
      "Valor ro:  0.00400153192733\n",
      "Valor ro:  0.00395446009318\n",
      "Valor ro:  0.00391443894272\n",
      "Valor ro:  0.0038779877258\n",
      "Valor ro:  0.00384282483933\n",
      "Valor ro:  0.003807641062\n",
      "Valor ro:  0.00377185310133\n",
      "Valor ro:  0.00373537446325\n",
      "Valor ro:  0.00369842386955\n",
      "Valor ro:  0.00366137787218\n",
      "Valor ro:  0.00362466564829\n",
      "Valor ro:  0.00358869964191\n",
      "Valor ro:  0.00355383438246\n",
      "Valor ro:  0.00352034615065\n",
      "Valor validador:  0.0025\n",
      "Tiempo ejecución:  12.300807237625122 seg\n"
     ]
    }
   ],
   "source": [
    "start_time = time.time() #Para medir el tiempo de ejecución\n",
    "salida1 = metodo2(configuracion_inicial1,vector_v1,vector_n1)\n",
    "print (\"Tiempo ejecución: \",time.time() - start_time,\"seg\")"
   ]
  },
  {
   "cell_type": "code",
   "execution_count": 65,
   "metadata": {
    "collapsed": false
   },
   "outputs": [
    {
     "data": {
      "image/png": "[encoded data removed]",
      "text/plain": [
       "<matplotlib.figure.Figure at 0x2a66beb1e80>"
      ]
     },
     "metadata": {},
     "output_type": "display_data"
    }
   ],
   "source": [
    "graficador(vector_n1,salida1[0],\"Evolucion rho\",\"Numero de particulas\",\"Densidad\",False)"
   ]
  },
  {
   "cell_type": "markdown",
   "metadata": {},
   "source": [
    "### Prueba 2"
   ]
  },
  {
   "cell_type": "code",
   "execution_count": 82,
   "metadata": {
    "collapsed": false
   },
   "outputs": [
    {
     "name": "stdout",
     "output_type": "stream",
     "text": [
      "V: [2500 2550 2600 2650 2700 2750 2800 2850 2900 2950]\n",
      "\n",
      "N: [875000, 892500, 910000, 927500, 945000, 962500, 980000, 997500, 1015000, 1032500]\n"
     ]
    }
   ],
   "source": [
    "# configuracion [+β,-µ,-λ,+γ]\n",
    "configuracion_inicial1 = [15,-0.05,-0.3,50]\n",
    "\n",
    "vector_v2 = np.arange(2500,3000,50) # inicio, fin, paso\n",
    "print (\"V:\",vector_v2)\n",
    "print(\"\")\n",
    "vector_n2 = generador_n(vector_v2,350) # cte = 350\n",
    "print (\"N:\",vector_n2)"
   ]
  },
  {
   "cell_type": "code",
   "execution_count": 85,
   "metadata": {
    "collapsed": false,
    "scrolled": false
   },
   "outputs": [
    {
     "name": "stdout",
     "output_type": "stream",
     "text": [
      "Valor ro:  0.00270000001443\n",
      "Valor ro:  0.00269607844279\n",
      "Valor ro:  0.00269230770133\n",
      "Valor ro:  0.00268867925242\n",
      "Valor ro:  0.00268518519082\n",
      "Valor ro:  0.00268181818628\n",
      "Valor ro:  0.00267857143209\n",
      "Valor ro:  0.00267543859927\n",
      "Valor ro:  0.0026724137953\n",
      "Valor ro:  0.00266949152716\n",
      "Valor validador:  0.0025\n",
      "Tiempo ejecución:  39.62257480621338 seg\n"
     ]
    }
   ],
   "source": [
    "start_time = time.time() #Para medir el tiempo de ejecución\n",
    "salida2 = metodo2(configuracion_inicial1,vector_v2,vector_n2)\n",
    "print (\"Tiempo ejecución: \",time.time() - start_time,\"seg\")"
   ]
  },
  {
   "cell_type": "code",
   "execution_count": 40,
   "metadata": {
    "collapsed": false
   },
   "outputs": [
    {
     "data": {
      "image/png": "[encoded data removed]",
      "text/plain": [
       "<matplotlib.figure.Figure at 0x2a66b9a5438>"
      ]
     },
     "metadata": {},
     "output_type": "display_data"
    }
   ],
   "source": [
    "graficador(vector_n2,salida2[0],\"Evolucion rho\",\"Numero de particulas\",\"Densidad\",False)"
   ]
  },
  {
   "cell_type": "markdown",
   "metadata": {},
   "source": [
    "### Prueba 3"
   ]
  },
  {
   "cell_type": "code",
   "execution_count": 86,
   "metadata": {
    "collapsed": false,
    "scrolled": true
   },
   "outputs": [
    {
     "name": "stdout",
     "output_type": "stream",
     "text": [
      "V: [10000 11500 13000 14500]\n",
      "\n",
      "N: [3500000, 4025000, 4550000, 5075000]\n"
     ]
    }
   ],
   "source": [
    "# configuracion [+β,-µ,-λ,+γ]\n",
    "configuracion_inicial1 = [15,-0.05,-0.3,50]\n",
    "\n",
    "vector_v3 = np.arange(10000,15000,1500) # inicio, fin, paso\n",
    "print (\"V:\",vector_v3)\n",
    "print(\"\")\n",
    "vector_n3 = generador_n(vector_v3,350) # cte = 350\n",
    "print (\"N:\",vector_n3)"
   ]
  },
  {
   "cell_type": "code",
   "execution_count": 87,
   "metadata": {
    "collapsed": false,
    "scrolled": true
   },
   "outputs": [
    {
     "name": "stdout",
     "output_type": "stream",
     "text": [
      "Valor ro:  0.00255\n",
      "Valor ro:  0.00254347826087\n",
      "Valor ro:  0.00253846153846\n",
      "Valor ro:  0.00253448275862\n",
      "Valor validador:  0.0025\n",
      "Tiempo ejecución:  70.54571056365967 seg\n"
     ]
    }
   ],
   "source": [
    "start_time = time.time() #Para medir el tiempo de ejecución\n",
    "salida3 = metodo2(configuracion_inicial1,vector_v3,vector_n3)\n",
    "print (\"Tiempo ejecución: \",time.time() - start_time,\"seg\")"
   ]
  },
  {
   "cell_type": "code",
   "execution_count": 43,
   "metadata": {
    "collapsed": false,
    "scrolled": false
   },
   "outputs": [
    {
     "data": {
      "image/png": "[encoded data removed]",
      "text/plain": [
       "<matplotlib.figure.Figure at 0x2a66bd49a90>"
      ]
     },
     "metadata": {},
     "output_type": "display_data"
    }
   ],
   "source": [
    "graficador(vector_n3,salida3[0],\"Evolucion rho\",\"Numero de particulas\",\"Densidad\",False)"
   ]
  },
  {
   "cell_type": "markdown",
   "metadata": {},
   "source": [
    "### Prueba 4"
   ]
  },
  {
   "cell_type": "code",
   "execution_count": 62,
   "metadata": {
    "collapsed": false,
    "scrolled": true
   },
   "outputs": [
    {
     "name": "stdout",
     "output_type": "stream",
     "text": [
      "V: [100000 130000 160000 190000]\n",
      "\n",
      "N: [35000000, 45500000, 56000000, 66500000]\n"
     ]
    }
   ],
   "source": [
    "# configuracion [+β,-µ,-λ,+γ]\n",
    "configuracion_inicial1 = [15,-0.05,-0.3,50]\n",
    "\n",
    "vector_v4 = np.arange(100000,200000,30000) # inicio, fin, paso\n",
    "print (\"V:\",vector_v4)\n",
    "print(\"\")\n",
    "vector_n4 = generador_n(vector_v4,350) # cte = 350\n",
    "print (\"N:\",vector_n4)"
   ]
  },
  {
   "cell_type": "code",
   "execution_count": 64,
   "metadata": {
    "collapsed": false,
    "scrolled": false
   },
   "outputs": [
    {
     "name": "stdout",
     "output_type": "stream",
     "text": [
      "Valor ro:  0.002505\n",
      "Valor ro:  0.00250384615385\n",
      "Desbordamiento\n",
      "Desbordamiento\n",
      "Valor ro:  inf\n",
      "Desbordamiento\n",
      "Desbordamiento\n",
      "Valor ro:  inf\n",
      "Valor validador:  0.0025\n",
      "Tiempo ejecución:  332.9321768283844 seg\n"
     ]
    }
   ],
   "source": [
    "start_time = time.time() #Para medir el tiempo de ejecución\n",
    "salida4 = metodo2(configuracion_inicial1,vector_v4,vector_n4)\n",
    "print (\"Tiempo ejecución: \",time.time() - start_time,\"seg\")"
   ]
  },
  {
   "cell_type": "markdown",
   "metadata": {},
   "source": [
    "### Sin gráfico"
   ]
  },
  {
   "cell_type": "markdown",
   "metadata": {},
   "source": [
    "### Prueba 5"
   ]
  },
  {
   "cell_type": "code",
   "execution_count": 68,
   "metadata": {
    "collapsed": false,
    "scrolled": true
   },
   "outputs": [
    {
     "name": "stdout",
     "output_type": "stream",
     "text": [
      "V: [100000 105000 110000 115000 120000]\n",
      "\n",
      "N: [35000000, 36750000, 38500000, 40250000, 42000000]\n"
     ]
    }
   ],
   "source": [
    "# configuracion [+β,-µ,-λ,+γ]\n",
    "configuracion_inicial1 = [15,-0.05,-0.3,50]\n",
    "\n",
    "vector_v5 = np.arange(100000,125000,5000) # inicio, fin, paso\n",
    "print (\"V:\",vector_v5)\n",
    "print(\"\")\n",
    "vector_n5 = generador_n(vector_v5,350) # cte = 350\n",
    "print (\"N:\",vector_n5)"
   ]
  },
  {
   "cell_type": "code",
   "execution_count": 69,
   "metadata": {
    "collapsed": false,
    "scrolled": true
   },
   "outputs": [
    {
     "name": "stdout",
     "output_type": "stream",
     "text": [
      "Valor ro:  0.002505\n",
      "Valor ro:  0.00250476190476\n",
      "Valor ro:  0.00250454545455\n",
      "Valor ro:  0.00250434782609\n",
      "Valor ro:  0.00250416666667\n",
      "Valor validador:  0.0025\n",
      "Tiempo ejecución:  792.8227372169495 seg\n"
     ]
    }
   ],
   "source": [
    "start_time = time.time() #Para medir el tiempo de ejecución\n",
    "salida5 = metodo2(configuracion_inicial1,vector_v5,vector_n5)\n",
    "print (\"Tiempo ejecución: \",time.time() - start_time,\"seg\")"
   ]
  },
  {
   "cell_type": "code",
   "execution_count": 70,
   "metadata": {
    "collapsed": false,
    "scrolled": true
   },
   "outputs": [
    {
     "data": {
      "image/png": "[encoded data removed]",
      "text/plain": [
       "<matplotlib.figure.Figure at 0x2a66bf1a518>"
      ]
     },
     "metadata": {},
     "output_type": "display_data"
    }
   ],
   "source": [
    "graficador(vector_n5,salida5[0],\"Evolucion rho\",\"Numero de particulas\",\"Densidad\",False)"
   ]
  },
  {
   "cell_type": "markdown",
   "metadata": {},
   "source": [
    "## Seccion 2: Prueba condicion de borde"
   ]
  },
  {
   "cell_type": "markdown",
   "metadata": {},
   "source": [
    "### Prueba 6"
   ]
  },
  {
   "cell_type": "code",
   "execution_count": 91,
   "metadata": {
    "collapsed": false,
    "scrolled": true
   },
   "outputs": [
    {
     "name": "stdout",
     "output_type": "stream",
     "text": [
      "N: 54250000\n"
     ]
    }
   ],
   "source": [
    "# configuracion [+β,-µ,-λ,+γ]\n",
    "cfg1 = [15,-0.05,-0.3,50]\n",
    "\n",
    "v6_ = [155000] \n",
    "v6 = v6_[0]\n",
    "n6_ = generador_n(v6_,350) # cte = 350\n",
    "n6 = n6_[0]\n",
    "print (\"N:\",n6)"
   ]
  },
  {
   "cell_type": "code",
   "execution_count": 95,
   "metadata": {
    "collapsed": false
   },
   "outputs": [
    {
     "name": "stdout",
     "output_type": "stream",
     "text": [
      "Desbordamiento\n",
      "Desbordamiento\n",
      "Valor ro:  nan\n",
      "Valor validador:  0.0025\n",
      "Valor real:  nan\n",
      "Valor esperado:  0.0025\n",
      "Tiempo ejecución:  0.001500844955444336 seg\n"
     ]
    }
   ],
   "source": [
    "start_time = time.time() #Para medir el tiempo de ejecución\n",
    "metodo1(cfg1[0],cfg1[1],cfg1[2],cfg1[3],v6,n6)\n",
    "print (\"Tiempo ejecución: \",time.time() - start_time,\"seg\")"
   ]
  },
  {
   "cell_type": "markdown",
   "metadata": {},
   "source": [
    "### Prueba 7"
   ]
  },
  {
   "cell_type": "code",
   "execution_count": 90,
   "metadata": {
    "collapsed": false,
    "scrolled": true
   },
   "outputs": [
    {
     "name": "stdout",
     "output_type": "stream",
     "text": [
      "N: 52500000\n"
     ]
    }
   ],
   "source": [
    "# configuracion [+β,-µ,-λ,+γ]\n",
    "cfg1 = [15,-0.05,-0.3,50]\n",
    "\n",
    "v7_ = [150000] \n",
    "v7 = v7_[0]\n",
    "n7_ = generador_n(v7_,350) # cte = 350\n",
    "n7 = n7_[0]\n",
    "print (\"N:\",n7)"
   ]
  },
  {
   "cell_type": "code",
   "execution_count": 92,
   "metadata": {
    "collapsed": false,
    "scrolled": true
   },
   "outputs": [
    {
     "name": "stdout",
     "output_type": "stream",
     "text": [
      "Valor ro:  inf\n",
      "Valor validador:  0.0025\n",
      "Valor real:  inf\n",
      "Valor esperado:  0.0025\n",
      "Tiempo ejecución:  85.6496114730835 seg\n"
     ]
    }
   ],
   "source": [
    "start_time = time.time() #Para medir el tiempo de ejecución\n",
    "metodo1(cfg1[0],cfg1[1],cfg1[2],cfg1[3],v7,n7)\n",
    "print (\"Tiempo ejecución: \",time.time() - start_time,\"seg\")"
   ]
  },
  {
   "cell_type": "markdown",
   "metadata": {},
   "source": [
    "### Prueba 8"
   ]
  },
  {
   "cell_type": "code",
   "execution_count": 97,
   "metadata": {
    "collapsed": false,
    "scrolled": true
   },
   "outputs": [
    {
     "name": "stdout",
     "output_type": "stream",
     "text": [
      "N: 50750000\n"
     ]
    }
   ],
   "source": [
    "# configuracion [+β,-µ,-λ,+γ]\n",
    "cfg1 = [15,-0.05,-0.3,50]\n",
    "\n",
    "v8_ = [145000] \n",
    "v8 = v8_[0]\n",
    "n8_ = generador_n(v8_,350) # cte = 350\n",
    "n8 = n8_[0]\n",
    "print (\"N:\",n8)"
   ]
  },
  {
   "cell_type": "code",
   "execution_count": 98,
   "metadata": {
    "collapsed": false,
    "scrolled": true
   },
   "outputs": [
    {
     "name": "stdout",
     "output_type": "stream",
     "text": [
      "Valor ro:  0.002503448275862068\n",
      "Valor validador:  0.0025\n",
      "Valor real:  0.002503448275862068\n",
      "Valor esperado:  0.0025\n",
      "Tiempo ejecución:  83.17478919029236 seg\n"
     ]
    }
   ],
   "source": [
    "start_time = time.time() #Para medir el tiempo de ejecución\n",
    "metodo1(cfg1[0],cfg1[1],cfg1[2],cfg1[3],v8,n8)\n",
    "print (\"Tiempo ejecución: \",time.time() - start_time,\"seg\")"
   ]
  },
  {
   "cell_type": "markdown",
   "metadata": {},
   "source": [
    "### Prueba 9"
   ]
  },
  {
   "cell_type": "code",
   "execution_count": 99,
   "metadata": {
    "collapsed": false,
    "scrolled": true
   },
   "outputs": [
    {
     "name": "stdout",
     "output_type": "stream",
     "text": [
      "N: 51994250\n"
     ]
    }
   ],
   "source": [
    "# configuracion [+β,-µ,-λ,+γ]\n",
    "cfg1 = [15,-0.05,-0.3,50]\n",
    "\n",
    "v9_ = [148555] \n",
    "v9 = v9_[0]\n",
    "n9_ = generador_n(v9_,350) # cte = 350\n",
    "n9 = n9_[0]\n",
    "print (\"N:\",n9)"
   ]
  },
  {
   "cell_type": "code",
   "execution_count": 100,
   "metadata": {
    "collapsed": false,
    "scrolled": true
   },
   "outputs": [
    {
     "name": "stdout",
     "output_type": "stream",
     "text": [
      "Valor ro:  0.0025033657567904155\n",
      "Valor validador:  0.0025\n",
      "Valor real:  0.0025033657567904155\n",
      "Valor esperado:  0.0025\n",
      "Tiempo ejecución:  84.83085703849792 seg\n"
     ]
    }
   ],
   "source": [
    "start_time = time.time() #Para medir el tiempo de ejecución\n",
    "metodo1(cfg1[0],cfg1[1],cfg1[2],cfg1[3],v9,n9)\n",
    "print (\"Tiempo ejecución: \",time.time() - start_time,\"seg\")"
   ]
  },
  {
   "cell_type": "markdown",
   "metadata": {},
   "source": [
    "### Prueba 10"
   ]
  },
  {
   "cell_type": "code",
   "execution_count": 101,
   "metadata": {
    "collapsed": false,
    "scrolled": true
   },
   "outputs": [
    {
     "name": "stdout",
     "output_type": "stream",
     "text": [
      "N: 52344250\n"
     ]
    }
   ],
   "source": [
    "# configuracion [+β,-µ,-λ,+γ]\n",
    "cfg1 = [15,-0.05,-0.3,50]\n",
    "\n",
    "v10_ = [149555] \n",
    "v10 = v10_[0]\n",
    "n10_ = generador_n(v10_,350) # cte = 350\n",
    "n10 = n10_[0]\n",
    "print (\"N:\",n10)"
   ]
  },
  {
   "cell_type": "code",
   "execution_count": 102,
   "metadata": {
    "collapsed": false,
    "scrolled": false
   },
   "outputs": [
    {
     "name": "stdout",
     "output_type": "stream",
     "text": [
      "Valor ro:  inf\n",
      "Valor validador:  0.0025\n",
      "Valor real:  inf\n",
      "Valor esperado:  0.0025\n",
      "Tiempo ejecución:  86.34644079208374 seg\n"
     ]
    }
   ],
   "source": [
    "start_time = time.time() #Para medir el tiempo de ejecución\n",
    "metodo1(cfg1[0],cfg1[1],cfg1[2],cfg1[3],v10,n10)\n",
    "print (\"Tiempo ejecución: \",time.time() - start_time,\"seg\")"
   ]
  },
  {
   "cell_type": "markdown",
   "metadata": {},
   "source": [
    "### Prueba 11"
   ]
  },
  {
   "cell_type": "code",
   "execution_count": 103,
   "metadata": {
    "collapsed": false,
    "scrolled": true
   },
   "outputs": [
    {
     "name": "stdout",
     "output_type": "stream",
     "text": [
      "N: 52150000\n"
     ]
    }
   ],
   "source": [
    "# configuracion [+β,-µ,-λ,+γ]\n",
    "cfg1 = [15,-0.05,-0.3,50]\n",
    "\n",
    "v11_ = [149000] \n",
    "v11 = v11_[0]\n",
    "n11_ = generador_n(v11_,350) # cte = 350\n",
    "n11 = n11_[0]\n",
    "print (\"N:\",n11)"
   ]
  },
  {
   "cell_type": "code",
   "execution_count": 104,
   "metadata": {
    "collapsed": false,
    "scrolled": false
   },
   "outputs": [
    {
     "name": "stdout",
     "output_type": "stream",
     "text": [
      "Valor ro:  0.0025033557046979867\n",
      "Valor validador:  0.0025\n",
      "Valor real:  0.0025033557046979867\n",
      "Valor esperado:  0.0025\n",
      "Tiempo ejecución:  84.91440749168396 seg\n"
     ]
    }
   ],
   "source": [
    "start_time = time.time() #Para medir el tiempo de ejecución\n",
    "metodo1(cfg1[0],cfg1[1],cfg1[2],cfg1[3],v11,n11)\n",
    "print (\"Tiempo ejecución: \",time.time() - start_time,\"seg\")"
   ]
  },
  {
   "cell_type": "markdown",
   "metadata": {},
   "source": [
    "### Prueba 12"
   ]
  },
  {
   "cell_type": "code",
   "execution_count": 112,
   "metadata": {
    "collapsed": false,
    "scrolled": true
   },
   "outputs": [
    {
     "name": "stdout",
     "output_type": "stream",
     "text": [
      "N: 52178000\n"
     ]
    }
   ],
   "source": [
    "# configuracion [+β,-µ,-λ,+γ]\n",
    "cfg1 = [15,-0.05,-0.3,50]\n",
    "\n",
    "v12_ = [149080] \n",
    "v12 = v12_[0]\n",
    "n12_ = generador_n(v12_,350) # cte = 350\n",
    "n12 = n12_[0]\n",
    "print (\"N:\",n12)"
   ]
  },
  {
   "cell_type": "code",
   "execution_count": 113,
   "metadata": {
    "collapsed": false,
    "scrolled": true
   },
   "outputs": [
    {
     "name": "stdout",
     "output_type": "stream",
     "text": [
      "Valor ro:  inf\n",
      "Valor validador:  0.0025\n",
      "Valor real:  inf\n",
      "Valor esperado:  0.0025\n",
      "Tiempo ejecución:  84.64829182624817 seg\n"
     ]
    }
   ],
   "source": [
    "start_time = time.time() #Para medir el tiempo de ejecución\n",
    "metodo1(cfg1[0],cfg1[1],cfg1[2],cfg1[3],v12,n12)\n",
    "print (\"Tiempo ejecución: \",time.time() - start_time,\"seg\")"
   ]
  },
  {
   "cell_type": "markdown",
   "metadata": {},
   "source": [
    "## *Pruebas de modulos y otros*"
   ]
  },
  {
   "cell_type": "code",
   "execution_count": null,
   "metadata": {
    "collapsed": false
   },
   "outputs": [],
   "source": [
    "vect_n = [100, 250, 380, 490, 550]\n",
    "nv = generador_v(vect_n, 0.5)\n",
    "\n",
    "vect_v = [70, 84, 96, 102, 158]\n",
    "nn = generador_n(vect_v, 500)\n",
    "\n",
    "print(vect_n)\n",
    "print(nv)\n",
    "\n",
    "print(vect_v)\n",
    "print(nn)"
   ]
  },
  {
   "cell_type": "code",
   "execution_count": 52,
   "metadata": {
    "collapsed": false
   },
   "outputs": [
    {
     "name": "stdout",
     "output_type": "stream",
     "text": [
      "[  7 105  34 410 426]\n",
      "[410 426  34   7 105]\n"
     ]
    }
   ],
   "source": [
    "a = np.random.randint(5,500,5)\n",
    "print (a)\n",
    "np.random.shuffle(a)\n",
    "print (a)"
   ]
  },
  {
   "cell_type": "code",
   "execution_count": null,
   "metadata": {
    "collapsed": false,
    "scrolled": true
   },
   "outputs": [],
   "source": [
    "troll = 5\n",
    "\n",
    "troll\n",
    "troll\n",
    "troll"
   ]
  },
  {
   "cell_type": "code",
   "execution_count": null,
   "metadata": {
    "collapsed": false
   },
   "outputs": [],
   "source": [
    "print(troll)\n",
    "print(troll)\n",
    "print(troll)"
   ]
  },
  {
   "cell_type": "code",
   "execution_count": null,
   "metadata": {
    "collapsed": false
   },
   "outputs": [],
   "source": [
    "10/3"
   ]
  },
  {
   "cell_type": "code",
   "execution_count": null,
   "metadata": {
    "collapsed": false
   },
   "outputs": [],
   "source": [
    "10//3"
   ]
  },
  {
   "cell_type": "code",
   "execution_count": 55,
   "metadata": {
    "collapsed": false,
    "scrolled": true
   },
   "outputs": [
    {
     "data": {
      "image/png": "[encoded data removed]",
      "text/plain": [
       "<matplotlib.figure.Figure at 0x2a66bdd8358>"
      ]
     },
     "metadata": {},
     "output_type": "display_data"
    }
   ],
   "source": [
    "#Prueba de graficador\n",
    "graficador([1,2,3,4,5],[1,4,9,16,25],\"Cuadrados prefectos\",\"Valor normal\",\"Valor cuadratico\",False)"
   ]
  },
  {
   "cell_type": "code",
   "execution_count": 56,
   "metadata": {
    "collapsed": false,
    "scrolled": true
   },
   "outputs": [
    {
     "data": {
      "text/plain": [
       "709.782712893384"
      ]
     },
     "execution_count": 56,
     "metadata": {},
     "output_type": "execute_result"
    }
   ],
   "source": [
    "math.log(sys.float_info.max)"
   ]
  },
  {
   "cell_type": "code",
   "execution_count": 57,
   "metadata": {
    "collapsed": false
   },
   "outputs": [
    {
     "data": {
      "text/plain": [
       "1.7976931348623157e+308"
      ]
     },
     "execution_count": 57,
     "metadata": {},
     "output_type": "execute_result"
    }
   ],
   "source": [
    "sys.float_info.max"
   ]
  },
  {
   "cell_type": "code",
   "execution_count": 58,
   "metadata": {
    "collapsed": false
   },
   "outputs": [
    {
     "data": {
      "text/plain": [
       "1.7976931348622732e+308"
      ]
     },
     "execution_count": 58,
     "metadata": {},
     "output_type": "execute_result"
    }
   ],
   "source": [
    "math.exp(math.log(sys.float_info.max))"
   ]
  },
  {
   "cell_type": "markdown",
   "metadata": {},
   "source": [
    "http://stackoverflow.com/questions/4050907/python-overflowerror-math-range-error\n",
    "\n",
    "https://docs.python.org/3.6/library/math.html"
   ]
  },
  {
   "cell_type": "code",
   "execution_count": 59,
   "metadata": {
    "collapsed": false
   },
   "outputs": [
    {
     "data": {
      "text/plain": [
       "time.struct_time(tm_year=1970, tm_mon=1, tm_mday=1, tm_hour=0, tm_min=0, tm_sec=0, tm_wday=3, tm_yday=1, tm_isdst=0)"
      ]
     },
     "execution_count": 59,
     "metadata": {},
     "output_type": "execute_result"
    }
   ],
   "source": [
    "time.gmtime(0)"
   ]
  },
  {
   "cell_type": "code",
   "execution_count": null,
   "metadata": {
    "collapsed": true
   },
   "outputs": [],
   "source": []
  }
 ],
 "metadata": {
  "kernelspec": {
   "display_name": "Python 3",
   "language": "python",
   "name": "python3"
  },
  "language_info": {
   "codemirror_mode": {
    "name": "ipython",
    "version": 3
   },
   "file_extension": ".py",
   "mimetype": "text/x-python",
   "name": "python",
   "nbconvert_exporter": "python",
   "pygments_lexer": "ipython3",
   "version": "3.6.0"
  }
 },
 "nbformat": 4,
 "nbformat_minor": 2
}
