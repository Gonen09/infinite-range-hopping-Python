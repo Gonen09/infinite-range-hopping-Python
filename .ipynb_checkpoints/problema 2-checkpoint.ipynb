{
 "cells": [
  {
   "cell_type": "markdown",
   "metadata": {},
   "source": [
    "# Condensación Bosónica no convencional de Bose-Einstein"
   ]
  },
  {
   "cell_type": "markdown",
   "metadata": {},
   "source": [
    "$$\n",
    "\\rho_{0} = \\frac{1}{V} \\frac{\\sum_{n=1}^\\infty = ne^{\\beta\\{(- \\lambda + \\mu + \\frac{\\gamma}{V})n - \\frac{\\gamma}{V}n^{2}\\}}}{\\sum_{n=0}^\\infty = e^{\\beta\\{(- \\lambda + \\mu + \\frac{\\gamma}{V})n - \\frac{\\gamma}{V}n^{2}\\}}} \\sim (\\frac{\\mu - \\lambda}{2 \\gamma})\n",
    "$$"
   ]
  },
  {
   "cell_type": "markdown",
   "metadata": {},
   "source": [
    "### Parametros"
   ]
  },
  {
   "cell_type": "markdown",
   "metadata": {},
   "source": [
    "__γ__ : Término denominado de selfscattering.\n",
    "\n",
    "__β__ : Temeperatura inversa.\n",
    "\n",
    "__λ__ : Energía del estado fundamental.\n",
    "\n",
    "__µ__ : Potencial químico.\n",
    "\n",
    "__V__ : Volumen del sistema.\n",
    "\n",
    "__N__ : Número de partículas en el sistema. "
   ]
  },
  {
   "cell_type": "markdown",
   "metadata": {},
   "source": [
    "### Condiciones"
   ]
  },
  {
   "cell_type": "markdown",
   "metadata": {},
   "source": [
    "$0 < γ,β,V, N$\n",
    "\n",
    "$λ < µ < 0 $\n",
    "\n",
    "$ \\lim_{V,N \\to \\infty }\\frac{N}{V}=cte$"
   ]
  },
  {
   "cell_type": "markdown",
   "metadata": {},
   "source": [
    "## *Desarrollo*"
   ]
  },
  {
   "cell_type": "markdown",
   "metadata": {},
   "source": [
    "### Dependencias"
   ]
  },
  {
   "cell_type": "code",
   "execution_count": 13,
   "metadata": {
    "collapsed": true
   },
   "outputs": [],
   "source": [
    "import math\n",
    "import matplotlib.pyplot as plt\n",
    "import time\n",
    "import sys"
   ]
  },
  {
   "cell_type": "markdown",
   "metadata": {},
   "source": [
    "$$\n",
    "\\sum_{n=1}^\\infty = ne^{\\beta\\{(- \\lambda + \\mu + \\frac{\\gamma}{V})n - \\frac{\\gamma}{V}n^{2}\\}}\n",
    "$$"
   ]
  },
  {
   "cell_type": "code",
   "execution_count": 2,
   "metadata": {
    "collapsed": true
   },
   "outputs": [],
   "source": [
    "def f1(b , u , lam , gam , v , N):\n",
    "    sumatoria = 0\n",
    "    \n",
    "    for n in range(1, N):\n",
    "        try:\n",
    "            sumatoria+=n*math.exp(b*((-lam+u+(gam/v))*n-(gam/v)*math.pow(n, 2)))\n",
    "        except OverflowError:\n",
    "            print (\"Desbordamiento\")\n",
    "            break\n",
    "        \n",
    "    return sumatoria"
   ]
  },
  {
   "cell_type": "markdown",
   "metadata": {},
   "source": [
    "$$\n",
    "\\sum_{n=0}^\\infty = e^{\\beta\\{(- \\lambda + \\mu + \\frac{\\gamma}{V})n - \\frac{\\gamma}{V}n^{2}\\}}\n",
    "$$"
   ]
  },
  {
   "cell_type": "code",
   "execution_count": 7,
   "metadata": {
    "collapsed": true
   },
   "outputs": [],
   "source": [
    "def f2(b , u , lam , gam , v , N):\n",
    "    sumatoria = 0\n",
    "    \n",
    "    for n in range(N):\n",
    "        try:\n",
    "            sumatoria+=math.exp(b*((-lam+u+(gam/v))*n-(gam/v)*math.pow(n, 2)))\n",
    "        except OverflowError:\n",
    "            print (\"Desbordamiento\")\n",
    "            break\n",
    "            \n",
    "    return sumatoria"
   ]
  },
  {
   "cell_type": "markdown",
   "metadata": {},
   "source": [
    "### Obtención de *ρ*"
   ]
  },
  {
   "cell_type": "code",
   "execution_count": 6,
   "metadata": {
    "collapsed": false
   },
   "outputs": [],
   "source": [
    "def calculo_ro(b , u , lam , gam , v , n):\n",
    "    try:\n",
    "        numerador =  f1(B, U, lam, gam, V, N)\n",
    "        denominador = f2(B, U, lam, gam, V, N)\n",
    "        fraccion1 = 1/v\n",
    "        fraccion2 = numerador/denominador\n",
    "        ro = fraccion1 * fraccion2\n",
    "        print (\"Numerador: \",numerador)\n",
    "        print (\"Denominador: \",denominador)\n",
    "        print (\"fraccion 1: \",fraccion1)\n",
    "        print (\"fraccion 2: \",fraccion2)\n",
    "        print (\"Ro: \",ro)\n",
    "        \n",
    "    except ZeroDivisionError:\n",
    "        print('Division por cero')\n",
    "        ro = 0\n",
    "        \n",
    "    print (\"Valor ro: \",ro)\n",
    "    return ro"
   ]
  },
  {
   "cell_type": "markdown",
   "metadata": {},
   "source": [
    "### Obtención *validador*\n",
    "$$\n",
    "\\frac{\\mu - \\lambda}{2 \\gamma} \n",
    "$$"
   ]
  },
  {
   "cell_type": "code",
   "execution_count": 5,
   "metadata": {
    "collapsed": true
   },
   "outputs": [],
   "source": [
    "def calculo_validador(u , lam , gam):\n",
    "    try:\n",
    "        resultado = (u-lam)/(2*gam)\n",
    "    except ZeroDivisionError:\n",
    "        print('Division por cero')\n",
    "        resultado = 0\n",
    "        \n",
    "    print (\"Valor validador: \",resultado)    \n",
    "    return resultado"
   ]
  },
  {
   "cell_type": "markdown",
   "metadata": {},
   "source": [
    "### Generador vector V's\n",
    "$$\n",
    "V = \\frac{N}{cte}\n",
    "$$"
   ]
  },
  {
   "cell_type": "code",
   "execution_count": 2,
   "metadata": {
    "collapsed": true
   },
   "outputs": [],
   "source": [
    "def generador_v(vector_n, constante):\n",
    "\n",
    "    \"\"\" Genera un vector de V's a partir de un vector de N's y una constante\"\"\"\n",
    "\n",
    "    v = []\n",
    "\n",
    "    for x in range(len(vector_n)):\n",
    "        nv = vector_n[x] / constante\n",
    "        v.append(nv)\n",
    "\n",
    "    print(\"valores n: \", vector_n)\n",
    "    print(\"valores v: \", v)\n",
    "\n",
    "    return v"
   ]
  },
  {
   "cell_type": "markdown",
   "metadata": {},
   "source": [
    "### Generador vector N's\n",
    "$$\n",
    "N = V * cte\n",
    "$$"
   ]
  },
  {
   "cell_type": "code",
   "execution_count": 4,
   "metadata": {
    "collapsed": true
   },
   "outputs": [],
   "source": [
    "def generador_n(vector_v, constante):\n",
    "\n",
    "    \"\"\" Genera un vector de N's a partir de un vector de V's y una constante\"\"\"\n",
    "\n",
    "    n = []\n",
    "\n",
    "    for x in range(len(vector_v)):\n",
    "        nn = vector_v[x] * constante\n",
    "        n.append(nn)\n",
    "\n",
    "    print(\"valores v: \", vector_v)\n",
    "    print(\"valores n: \", n)\n",
    "\n",
    "    return n"
   ]
  },
  {
   "cell_type": "markdown",
   "metadata": {},
   "source": [
    "### Graficador"
   ]
  },
  {
   "cell_type": "code",
   "execution_count": 5,
   "metadata": {
    "collapsed": false
   },
   "outputs": [],
   "source": [
    "def graficador(datos_x,datos_y,titulo,titulo_x,titulo_y,ajuste_ejes=False):\n",
    "    if len(datos_x)!=0 or len(datos_y)!=0:\n",
    "        \n",
    "        # Informacion grafico\n",
    "        plt.title(titulo)\n",
    "        plt.xlabel(titulo_x)\n",
    "        plt.ylabel(titulo_y)\n",
    "        \n",
    "        if ajustes_ejes:\n",
    "            # Limites grafico\n",
    "            minimo_x = min(datos_x) - 1\n",
    "            maximo_x = max(datos_x) + 1\n",
    "            minimo_y = min(datos_y) - 1\n",
    "            maximo_y = max(datos_y) + 1\n",
    "            plt.xlim(minimo_x,maximo_x)\n",
    "            plt.ylim(minimo_y,maximo_y)\n",
    "        \n",
    "        # Mostrar datos\n",
    "        plt.plot(datos_x, datos_y, 'ro')\n",
    "        plt.show()\n",
    "    else:\n",
    "        print(\"Vector vacio\")"
   ]
  },
  {
   "cell_type": "markdown",
   "metadata": {},
   "source": [
    "## *Experimentos*"
   ]
  },
  {
   "cell_type": "code",
   "execution_count": 90,
   "metadata": {
    "collapsed": true
   },
   "outputs": [
    {
     "name": "stdout",
     "output_type": "stream",
     "text": [
      "N:  0\n",
      "Numerador:  1.7593168074582547e+21\n",
      "Denominador:  9.485479388940935e+23\n",
      "Valor ro:  0.0018547473831522232\n",
      "Valor validador:  0.0025\n",
      "lambda:  -0.3\n",
      "\n",
      "\n",
      "\n",
      "N:  1\n",
      "Numerador:  6179017601.089272\n",
      "Denominador:  4072360761655.767\n",
      "Valor ro:  0.0015173060450020066\n",
      "Valor validador:  0.0014999999999999996\n",
      "lambda:  -0.19999999999999998\n",
      "\n",
      "\n",
      "\n",
      "N:  2\n",
      "Numerador:  345.0021118502665\n",
      "Denominador:  619618.0705738559\n",
      "Valor ro:  0.0005567980151559244\n",
      "Valor validador:  0.0004999999999999998\n",
      "lambda:  -0.09999999999999998\n",
      "\n",
      "\n",
      "\n",
      "N:  3\n",
      "Numerador:  1.174239760720691\n",
      "Denominador:  17585.503321439945\n",
      "Valor ro:  6.677316760613147e-05\n",
      "Valor validador:  -0.0005000000000000003\n",
      "lambda:  2.7755575615628914e-17\n",
      "\n",
      "\n",
      "\n",
      "N:  4\n",
      "Numerador:  0.12697830840517407\n",
      "Denominador:  11157.60640229157\n",
      "Valor ro:  1.1380425498706876e-05\n",
      "Valor validador:  -0.0015000000000000002\n",
      "lambda:  0.10000000000000003\n",
      "\n",
      "\n",
      "\n",
      "N:  5\n",
      "Numerador:  0.024495221188285315\n",
      "Denominador:  10240.022097980269\n",
      "Valor ro:  2.392106281989052e-06\n",
      "Valor validador:  -0.0025000000000000005\n",
      "lambda:  0.20000000000000004\n",
      "\n",
      "\n",
      "\n",
      "N:  6\n",
      "Numerador:  0.005295197727989895\n",
      "Denominador:  10052.713116859613\n",
      "Valor ro:  5.26743145500612e-07\n",
      "Valor validador:  -0.0035000000000000005\n",
      "lambda:  0.30000000000000004\n",
      "\n",
      "\n",
      "\n",
      "N:  7\n",
      "Numerador:  0.0011732426853080689\n",
      "Denominador:  10011.720606405152\n",
      "Valor ro:  1.171869183562183e-07\n",
      "Valor validador:  -0.0045000000000000005\n",
      "lambda:  0.4\n",
      "\n",
      "\n",
      "\n",
      "N:  8\n",
      "Numerador:  0.00026137608844610424\n",
      "Denominador:  10002.613173171869\n",
      "Valor ro:  2.6130780419175284e-08\n",
      "Valor validador:  -0.0055000000000000005\n",
      "lambda:  0.5\n",
      "\n",
      "\n",
      "\n",
      "N:  9\n",
      "Numerador:  5.830051394226823e-05\n",
      "Denominador:  10000.582975887735\n",
      "Valor ro:  5.829711536101023e-09\n",
      "Valor validador:  -0.006500000000000001\n",
      "lambda:  0.6\n",
      "\n",
      "\n",
      "\n",
      "N:  10\n",
      "Numerador:  1.3007588904284813e-05\n",
      "Denominador:  10000.130074432785\n",
      "Valor ro:  1.3007419711010722e-09\n",
      "Valor validador:  -0.0075\n",
      "lambda:  0.7\n",
      "\n",
      "\n",
      "\n",
      "N:  11\n",
      "Numerador:  2.902334908982055e-06\n",
      "Denominador:  10000.02902327659\n",
      "Valor ro:  2.902326485479621e-10\n",
      "Valor validador:  -0.0085\n",
      "lambda:  0.7999999999999999\n",
      "\n",
      "\n",
      "\n",
      "N:  12\n",
      "Numerador:  6.475959395114155e-07\n",
      "Denominador:  10000.006475955786\n",
      "Valor ro:  6.475955201314199e-11\n",
      "Valor validador:  -0.0095\n",
      "lambda:  0.8999999999999999\n",
      "\n",
      "\n",
      "\n",
      "N:  13\n",
      "Numerador:  1.4449806055354348e-07\n",
      "Denominador:  10000.001444980426\n",
      "Valor ro:  1.4449803967385959e-11\n",
      "Valor validador:  -0.010499999999999999\n",
      "lambda:  0.9999999999999999\n",
      "\n",
      "\n",
      "\n",
      "N:  14\n",
      "Numerador:  3.2241869162044715e-08\n",
      "Denominador:  10000.000322418682\n",
      "Valor ro:  3.2241868122506652e-12\n",
      "Valor validador:  -0.0115\n",
      "lambda:  1.0999999999999999\n",
      "\n",
      "\n",
      "\n",
      "N:  15\n",
      "Numerador:  7.194133119418214e-09\n",
      "Denominador:  10000.000071941331\n",
      "Valor ro:  7.194133067662663e-13\n",
      "Valor validador:  -0.0125\n",
      "lambda:  1.2\n",
      "\n",
      "\n",
      "\n",
      "N:  16\n",
      "Numerador:  1.6052280596212825e-09\n",
      "Denominador:  10000.00001605228\n",
      "Valor ro:  1.6052280570445256e-13\n",
      "Valor validador:  -0.013500000000000002\n",
      "lambda:  1.3\n",
      "\n",
      "\n",
      "\n",
      "N:  17\n",
      "Numerador:  3.5817479324915583e-10\n",
      "Denominador:  10000.000003581748\n",
      "Valor ro:  3.5817479312086663e-14\n",
      "Valor validador:  -0.014500000000000002\n",
      "lambda:  1.4000000000000001\n",
      "\n",
      "\n",
      "\n",
      "N:  18\n",
      "Numerador:  7.991959894053396e-11\n",
      "Denominador:  10000.000000799197\n",
      "Valor ro:  7.991959893414682e-15\n",
      "Valor validador:  -0.015500000000000003\n",
      "lambda:  1.5000000000000002\n",
      "\n",
      "\n",
      "\n",
      "N:  19\n",
      "Numerador:  1.783247290869367e-11\n",
      "Denominador:  10000.000000178325\n",
      "Valor ro:  1.783247290837567e-15\n",
      "Valor validador:  -0.016500000000000004\n",
      "lambda:  1.6000000000000003\n",
      "\n",
      "\n",
      "\n",
      "Magnitud vector x:  20\n",
      "Magnitud vector y:  20\n"
     ]
    },
    {
     "data": {
      "image/png": "[encoded data removed]",
      "text/plain": [
       "<matplotlib.figure.Figure at 0x18d4ed05278>"
      ]
     },
     "metadata": {},
     "output_type": "display_data"
    },
    {
     "data": {
      "image/png": "[encoded data removed]",
      "text/plain": [
       "<matplotlib.figure.Figure at 0x18d4ed42a58>"
      ]
     },
     "metadata": {},
     "output_type": "display_data"
    },
    {
     "name": "stdout",
     "output_type": "stream",
     "text": [
      "Tiempo ejecución:  0.4033021926879883 ms\n"
     ]
    }
   ],
   "source": [
    "# Valores iniciales\n",
    "gam = 50      # Positivo\n",
    "B = 15        # Positivo\n",
    "lam = -0.3    # Menor que mu\n",
    "U = -0.05     # Menor que cero\n",
    "V = 10000     # Valor muy grande\n",
    "N = 20        # Numero de iteraciones\n",
    "\n",
    "# Paso variable \n",
    "aumento = 0.1\n",
    "\n",
    "# Datos grafico\n",
    "titulo = \"ro vs lambda\"\n",
    "nom_ejex= \"lambda\"\n",
    "nom_ejey= \"ro\"\n",
    "\n",
    "\n",
    "# Ejecucion prueba\n",
    "start_time = time.time() #Para medir el tiempo de ejecución\n",
    "\n",
    "x = []\n",
    "y = []\n",
    "z = []\n",
    "\n",
    "for i in range(N):\n",
    "    print(\"N: \",i)\n",
    "    ro = resultado(B ,U,lam,gam,V,N)\n",
    "    y.append(ro)\n",
    "    r = validador(U,lam,gam)\n",
    "    z.append(r)    \n",
    "    x.append(lam)\n",
    "    print(\"lambda: \",lam)\n",
    "    lam += aumento\n",
    "    \n",
    "    print(\"\\n\\n\")\n",
    "    \n",
    "print(\"Magnitud vector x: \",str(len(x)))\n",
    "print(\"Magnitud vector y: \",str(len(y)))\n",
    "\n",
    "graficador(x,y,titulo,nom_ejex,nom_ejey)\n",
    "graficador(y,z,\"Resultado vs Esperado\",\"Esperado\",\"Resultado\")\n",
    "print (\"Tiempo ejecución: \",time.time() - start_time,\"ms\")"
   ]
  },
  {
   "cell_type": "markdown",
   "metadata": {},
   "source": [
    "## *Pruebas de modulos y otros*"
   ]
  },
  {
   "cell_type": "code",
   "execution_count": 6,
   "metadata": {
    "collapsed": false
   },
   "outputs": [
    {
     "name": "stdout",
     "output_type": "stream",
     "text": [
      "valores n:  [100, 250, 380, 490, 550]\n",
      "valores v:  [200.0, 500.0, 760.0, 980.0, 1100.0]\n",
      "valores v:  [70, 84, 96, 102, 158]\n",
      "valores n:  [35000, 42000, 48000, 51000, 79000]\n"
     ]
    }
   ],
   "source": [
    "# Valores iniciales\n",
    "B = 15      # Positivo\n",
    "U = -0.05   # Menor que cero\n",
    "lam = -0.3  # Menor que mu\n",
    "gam = 50    # Positivo\n",
    "\n",
    "# V Valor muy grande\n",
    "# N Numero total de particulas\n",
    "\n",
    "configuracion = [B, U, lam, gam]\n",
    "vect_n = [100, 250, 380, 490, 550]\n",
    "nv = generador_v(vect_n, 0.5)\n",
    "\n",
    "# experimento(configuracion, nv, vect_n)\n",
    "\n",
    "vect_v = [70, 84, 96, 102, 158]\n",
    "nn = generador_n(vect_v, 500)\n",
    "\n",
    "# experimento(configuracion, vect_v, nn)\n"
   ]
  },
  {
   "cell_type": "code",
   "execution_count": 91,
   "metadata": {
    "collapsed": false,
    "scrolled": true
   },
   "outputs": [
    {
     "data": {
      "image/png": "[encoded data removed]",
      "text/plain": [
       "<matplotlib.figure.Figure at 0x18d4e9cbcc0>"
      ]
     },
     "metadata": {},
     "output_type": "display_data"
    }
   ],
   "source": [
    "#Prueba de graficador\n",
    "graficador([1,2,3,4,5],[1,4,9,16,25],\"Cuadrados prefectos\",\"Valor normal\",\"Valor cuadratico\")"
   ]
  },
  {
   "cell_type": "code",
   "execution_count": 92,
   "metadata": {
    "collapsed": true
   },
   "outputs": [],
   "source": [
    "def argumento(b , u , lam , gam , v , n):\n",
    "    return b*((-lam+u+(gam/v))*n-(lam/v)*math.pow(n, 2))"
   ]
  },
  {
   "cell_type": "code",
   "execution_count": 93,
   "metadata": {
    "collapsed": false,
    "scrolled": true
   },
   "outputs": [
    {
     "name": "stdout",
     "output_type": "stream",
     "text": [
      "-524.5200000000002\n"
     ]
    }
   ],
   "source": [
    "result=argumento(B,U,lam,gam,V,N)\n",
    "print (result)"
   ]
  },
  {
   "cell_type": "code",
   "execution_count": 94,
   "metadata": {
    "collapsed": false,
    "scrolled": false
   },
   "outputs": [
    {
     "data": {
      "text/plain": [
       "1.599036407710311e-228"
      ]
     },
     "execution_count": 94,
     "metadata": {},
     "output_type": "execute_result"
    }
   ],
   "source": [
    "math.exp(result)"
   ]
  },
  {
   "cell_type": "code",
   "execution_count": 95,
   "metadata": {
    "collapsed": false,
    "scrolled": true
   },
   "outputs": [
    {
     "data": {
      "text/plain": [
       "709.782712893384"
      ]
     },
     "execution_count": 95,
     "metadata": {},
     "output_type": "execute_result"
    }
   ],
   "source": [
    "math.log(sys.float_info.max)"
   ]
  },
  {
   "cell_type": "code",
   "execution_count": 96,
   "metadata": {
    "collapsed": false
   },
   "outputs": [
    {
     "data": {
      "text/plain": [
       "1.7976931348623157e+308"
      ]
     },
     "execution_count": 96,
     "metadata": {},
     "output_type": "execute_result"
    }
   ],
   "source": [
    "sys.float_info.max"
   ]
  },
  {
   "cell_type": "code",
   "execution_count": 97,
   "metadata": {
    "collapsed": false
   },
   "outputs": [
    {
     "data": {
      "text/plain": [
       "1.7976931348622732e+308"
      ]
     },
     "execution_count": 97,
     "metadata": {},
     "output_type": "execute_result"
    }
   ],
   "source": [
    "math.exp(math.log(sys.float_info.max))"
   ]
  },
  {
   "cell_type": "markdown",
   "metadata": {},
   "source": [
    "http://stackoverflow.com/questions/4050907/python-overflowerror-math-range-error\n",
    "\n",
    "https://docs.python.org/3.6/library/math.html"
   ]
  }
 ],
 "metadata": {
  "kernelspec": {
   "display_name": "Python 3",
   "language": "python",
   "name": "python3"
  },
  "language_info": {
   "codemirror_mode": {
    "name": "ipython",
    "version": 3
   },
   "file_extension": ".py",
   "mimetype": "text/x-python",
   "name": "python",
   "nbconvert_exporter": "python",
   "pygments_lexer": "ipython3",
   "version": "3.6.0"
  }
 },
 "nbformat": 4,
 "nbformat_minor": 2
}
