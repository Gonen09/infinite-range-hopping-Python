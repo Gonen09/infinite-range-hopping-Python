{
 "cells": [
  {
   "cell_type": "markdown",
   "metadata": {},
   "source": [
    "# Condensación Bosónica no convencional de Bose-Einstein"
   ]
  },
  {
   "cell_type": "markdown",
   "metadata": {},
   "source": [
    "$$\n",
    "\\rho_{0} = \\frac{1}{V} \\frac{\\sum_{n=1}^\\infty = ne^{\\beta\\{(- \\lambda + \\mu + \\frac{\\gamma}{V})n - \\frac{\\gamma}{V}n^{2}\\}}}{\\sum_{n=0}^\\infty = e^{\\beta\\{(- \\lambda + \\mu + \\frac{\\gamma}{V})n - \\frac{\\gamma}{V}n^{2}\\}}} \\quad \\sim \\quad (\\frac{\\mu - \\lambda}{2 \\gamma})\n",
    "$$"
   ]
  },
  {
   "cell_type": "markdown",
   "metadata": {},
   "source": [
    "### Parametros"
   ]
  },
  {
   "cell_type": "markdown",
   "metadata": {},
   "source": [
    "__γ__ : Término denominado de selfscattering.\n",
    "\n",
    "__β__ : Temeperatura inversa.\n",
    "\n",
    "__λ__ : Energía del estado fundamental.\n",
    "\n",
    "__µ__ : Potencial químico.\n",
    "\n",
    "__V__ : Volumen del sistema.\n",
    "\n",
    "__N__ : Número de partículas en el sistema. "
   ]
  },
  {
   "cell_type": "markdown",
   "metadata": {},
   "source": [
    "### Condiciones"
   ]
  },
  {
   "cell_type": "markdown",
   "metadata": {},
   "source": [
    "$0 < γ,β,V, N$\n",
    "\n",
    "$λ < µ < 0 $\n",
    "\n",
    "$\\lim_{V,N \\to \\infty }\\frac{N}{V}=cte$"
   ]
  },
  {
   "cell_type": "markdown",
   "metadata": {},
   "source": [
    "## *Desarrollo*"
   ]
  },
  {
   "cell_type": "markdown",
   "metadata": {},
   "source": [
    "### Dependencias"
   ]
  },
  {
   "cell_type": "code",
   "execution_count": 3,
   "metadata": {
    "collapsed": true
   },
   "outputs": [],
   "source": [
    "import math\n",
    "import matplotlib.pyplot as plt\n",
    "import numpy as np\n",
    "import time\n",
    "import sys"
   ]
  },
  {
   "cell_type": "markdown",
   "metadata": {},
   "source": [
    "$$\n",
    "f_{1} = \\sum_{n=1}^\\infty = ne^{\\beta\\{(- \\lambda + \\mu + \\frac{\\gamma}{V})n - \\frac{\\gamma}{V}n^{2}\\}}\n",
    "$$"
   ]
  },
  {
   "cell_type": "code",
   "execution_count": 4,
   "metadata": {
    "collapsed": true
   },
   "outputs": [],
   "source": [
    "def f1(b , u , lam , gam , v , N):\n",
    "    sumatoria = 0\n",
    "    \n",
    "    for n in range(1, N):\n",
    "        try:\n",
    "            sumatoria+=n*math.exp(b*((-lam+u+(gam/v))*n-(gam/v)*math.pow(n, 2)))\n",
    "        except OverflowError:\n",
    "            print (\"Desbordamiento\")\n",
    "            break\n",
    "        \n",
    "    return sumatoria"
   ]
  },
  {
   "cell_type": "markdown",
   "metadata": {},
   "source": [
    "$$\n",
    "f_{2} = \\sum_{n=0}^\\infty = e^{\\beta\\{(- \\lambda + \\mu + \\frac{\\gamma}{V})n - \\frac{\\gamma}{V}n^{2}\\}}\n",
    "$$"
   ]
  },
  {
   "cell_type": "code",
   "execution_count": 5,
   "metadata": {
    "collapsed": true
   },
   "outputs": [],
   "source": [
    "def f2(b , u , lam , gam , v , N):\n",
    "    sumatoria = 0\n",
    "    \n",
    "    for n in range(N):\n",
    "        try:\n",
    "            sumatoria+=math.exp(b*((-lam+u+(gam/v))*n-(gam/v)*math.pow(n, 2)))\n",
    "        except OverflowError:\n",
    "            print (\"Desbordamiento\")\n",
    "            break\n",
    "            \n",
    "    return sumatoria"
   ]
  },
  {
   "cell_type": "markdown",
   "metadata": {},
   "source": [
    "### Obtención de *ρ*\n",
    "\n",
    "$$\n",
    "\\rho_{0} = \\frac{1}{V} * \\frac{f_{1}}{f_{2}}\n",
    "$$"
   ]
  },
  {
   "cell_type": "code",
   "execution_count": 42,
   "metadata": {
    "collapsed": false
   },
   "outputs": [],
   "source": [
    "def calculo_ro(b , u , lam , gam , v , n):\n",
    "    try:\n",
    "        numerador =  f1(b, u, lam, gam, v, n)\n",
    "        denominador = f2(b, u, lam, gam, v, n)\n",
    "        fraccion1 = 1/v\n",
    "        fraccion2 = numerador/denominador\n",
    "        ro = fraccion1 * fraccion2\n",
    "        # print (\"Numerador: \",numerador)\n",
    "        # print (\"Denominador: \",denominador)\n",
    "        # print (\"fraccion 1: \",fraccion1)\n",
    "        # print (\"fraccion 2: \",fraccion2)\n",
    "        # print (\"Ro: \",ro)\n",
    "        \n",
    "    except ZeroDivisionError:\n",
    "        print('Division por cero')\n",
    "        ro = 0\n",
    "        \n",
    "    print (\"Valor ro: \",ro)\n",
    "    return ro"
   ]
  },
  {
   "cell_type": "markdown",
   "metadata": {},
   "source": [
    "### Obtención *validador*\n",
    "$$\n",
    "\\frac{\\mu - \\lambda}{2 \\gamma} \n",
    "$$"
   ]
  },
  {
   "cell_type": "code",
   "execution_count": 7,
   "metadata": {
    "collapsed": true
   },
   "outputs": [],
   "source": [
    "def calculo_validador(u , lam , gam):\n",
    "    try:\n",
    "        resultado = (u-lam)/(2*gam)\n",
    "    except ZeroDivisionError:\n",
    "        print('Division por cero')\n",
    "        resultado = 0\n",
    "        \n",
    "    print (\"Valor validador: \",resultado)    \n",
    "    return resultado"
   ]
  },
  {
   "cell_type": "markdown",
   "metadata": {},
   "source": [
    "### Generador vector V's\n",
    "$$\n",
    "V = \\frac{N}{cte}\n",
    "$$"
   ]
  },
  {
   "cell_type": "code",
   "execution_count": 35,
   "metadata": {
    "collapsed": true
   },
   "outputs": [],
   "source": [
    "def generador_v(vector_n, constante):\n",
    "\n",
    "    \"\"\" Genera un vector de V's a partir de un vector de N's y una constante\"\"\"\n",
    "\n",
    "    v = []\n",
    "\n",
    "    for x in range(len(vector_n)):\n",
    "        nv = vector_n[x] // constante  # // = Division entera\n",
    "        v.append(nv)\n",
    "\n",
    "    print(\"valores n: \", vector_n)\n",
    "    print(\"valores v: \", v)\n",
    "\n",
    "    return v"
   ]
  },
  {
   "cell_type": "markdown",
   "metadata": {},
   "source": [
    "### Generador vector N's\n",
    "$$\n",
    "N = V * cte\n",
    "$$"
   ]
  },
  {
   "cell_type": "code",
   "execution_count": 10,
   "metadata": {
    "collapsed": true
   },
   "outputs": [],
   "source": [
    "def generador_n(vector_v, constante):\n",
    "\n",
    "    \"\"\" Genera un vector de N's a partir de un vector de V's y una constante\"\"\"\n",
    "\n",
    "    n = []\n",
    "\n",
    "    for x in range(len(vector_v)):\n",
    "        nn = vector_v[x] * constante\n",
    "        n.append(nn)\n",
    "\n",
    "    # print(\"valores v: \", vector_v)\n",
    "    # print(\"valores n: \", n)\n",
    "\n",
    "    return n"
   ]
  },
  {
   "cell_type": "markdown",
   "metadata": {},
   "source": [
    "### Graficador"
   ]
  },
  {
   "cell_type": "code",
   "execution_count": 11,
   "metadata": {
    "collapsed": false
   },
   "outputs": [],
   "source": [
    "def graficador(datos_x,datos_y,titulo,titulo_x,titulo_y,ajuste_ejes=False):\n",
    "    if len(datos_x)!=0 or len(datos_y)!=0:\n",
    "        \n",
    "        # Informacion grafico\n",
    "        plt.title(titulo)\n",
    "        plt.xlabel(titulo_x)\n",
    "        plt.ylabel(titulo_y)\n",
    "        \n",
    "        if ajuste_ejes:\n",
    "            # Limites grafico\n",
    "            minimo_x = min(datos_x) - 1\n",
    "            maximo_x = max(datos_x) + 1\n",
    "            minimo_y = min(datos_y) - 1\n",
    "            maximo_y = max(datos_y) + 1\n",
    "            plt.xlim(minimo_x,maximo_x)\n",
    "            plt.ylim(minimo_y,maximo_y)\n",
    "        \n",
    "        # Mostrar datos\n",
    "        plt.plot(datos_x, datos_y, 'ro')\n",
    "        plt.show()\n",
    "    else:\n",
    "        print(\"Vector vacio\")"
   ]
  },
  {
   "cell_type": "markdown",
   "metadata": {},
   "source": [
    "# Formas de experimentacion"
   ]
  },
  {
   "cell_type": "markdown",
   "metadata": {},
   "source": [
    "### metodo 1: Calculo real vs esperado"
   ]
  },
  {
   "cell_type": "code",
   "execution_count": 8,
   "metadata": {
    "collapsed": true
   },
   "outputs": [],
   "source": [
    "def metodo1(b, u, lam, gam, v, n):\n",
    "\n",
    "    \"\"\" Calcular el valor real y el esperado \"\"\"\n",
    "\n",
    "    ro = calculo_ro(b, u, lam, gam, v, n)\n",
    "    vro = calculo_validador(u, lam, gam)\n",
    "\n",
    "    print(\"Valor real: \", ro)\n",
    "    print(\"Valor esperado: \", vro)\n",
    "\n",
    "    return ro, vro"
   ]
  },
  {
   "cell_type": "code",
   "execution_count": 58,
   "metadata": {
    "collapsed": true
   },
   "outputs": [],
   "source": [
    "def metodo2(valores, vector_v, vector_n):\n",
    "\n",
    "    \"\"\" Grupo fijo de valores e iterar con un N y un V, Valores: +β,-µ,-λ,+γ \"\"\"\n",
    "\n",
    "    salida_resultado = []\n",
    "    \n",
    "    for x in range(len(vector_n)):\n",
    "        ro = calculo_ro(valores[0], valores[1], valores[2], valores[3], vector_v[x], vector_n[x])\n",
    "        salida_resultado.append(ro)\n",
    "\n",
    "    salida_esperado = calculo_validador(valores[1],valores[2],valores[3])\n",
    "    return salida_resultado, salida_esperado"
   ]
  },
  {
   "cell_type": "code",
   "execution_count": 54,
   "metadata": {
    "collapsed": true
   },
   "outputs": [],
   "source": [
    "def metodo3(valores, vector_v, vector_n):\n",
    "\n",
    "    \"\"\" Grupo fijo de valores e iterar con un N y un V, Valores: +β,-µ,-λ,+γ \"\"\"\n",
    "\n",
    "    salida_resultado = []\n",
    "    salida_esperado = []\n",
    "\n",
    "    for x in range(len(vector_n)):\n",
    "        ro, rvo = calculo_final(valores[0], valores[1], valores[2], valores[3], vector_v[x], vector_n[x])\n",
    "        salida_resultado.append(ro)\n",
    "        salida_esperado.append(rvo)\n",
    "\n",
    "    return salida_resultado, salida_esperado"
   ]
  },
  {
   "cell_type": "markdown",
   "metadata": {},
   "source": [
    "## *Experimentos*"
   ]
  },
  {
   "cell_type": "markdown",
   "metadata": {},
   "source": [
    "## Seccion 1: Vector N variable, con su respectivo Vector V y los demás valores fijos"
   ]
  },
  {
   "cell_type": "markdown",
   "metadata": {},
   "source": [
    "### Prueba 1"
   ]
  },
  {
   "cell_type": "code",
   "execution_count": 64,
   "metadata": {
    "collapsed": false,
    "scrolled": false
   },
   "outputs": [
    {
     "name": "stdout",
     "output_type": "stream",
     "text": [
      "V: [  1  16  31  46  61  76  91 106 121 136 151 166 181 196 211 226 241 256\n",
      " 271 286 301 316 331 346 361 376 391 406 421 436 451 466 481 496]\n",
      "\n",
      "N: [350, 5600, 10850, 16100, 21350, 26600, 31850, 37100, 42350, 47600, 52850, 58100, 63350, 68600, 73850, 79100, 84350, 89600, 94850, 100100, 105350, 110600, 115850, 121100, 126350, 131600, 136850, 142100, 147350, 152600, 157850, 163100, 168350, 173600]\n"
     ]
    }
   ],
   "source": [
    "# configuracion [+β,-µ,-λ,+γ]\n",
    "configuracion_inicial = [15,-0.05,-0.3,50]\n",
    "\n",
    "vector_v1 = np.arange(1,500,15) # inicio, fin, paso\n",
    "print (\"V:\",vector_v1)\n",
    "print(\"\")\n",
    "vector_n1 = generador_n(vector_v1,350)\n",
    "print (\"N:\",vector_n1)\n"
   ]
  },
  {
   "cell_type": "code",
   "execution_count": 65,
   "metadata": {
    "collapsed": false,
    "scrolled": true
   },
   "outputs": [
    {
     "name": "stdout",
     "output_type": "stream",
     "text": [
      "Valor ro:  0.97702263009\n",
      "Valor ro:  0.0610639143806\n",
      "Valor ro:  0.0315168590352\n",
      "Valor ro:  0.0212396223933\n",
      "Valor ro:  0.0160167644423\n",
      "Valor ro:  0.0128555624218\n",
      "Valor ro:  0.0107365448251\n",
      "Valor ro:  0.00921748129172\n",
      "Valor ro:  0.00807601829686\n",
      "Valor ro:  0.00718905436076\n",
      "Valor ro:  0.00648397365863\n",
      "Valor ro:  0.00591600185913\n",
      "Valor ro:  0.00545640157238\n",
      "Valor ro:  0.00508572658195\n",
      "Valor ro:  0.0047897356598\n",
      "Valor ro:  0.00455689299323\n",
      "Valor ro:  0.00437693576155\n",
      "Valor ro:  0.00424021154972\n",
      "Valor ro:  0.00413755591276\n",
      "Valor ro:  0.00406049002602\n",
      "Valor ro:  0.00400153192733\n",
      "Valor ro:  0.00395446009318\n",
      "Valor ro:  0.00391443894272\n",
      "Valor ro:  0.0038779877258\n",
      "Valor ro:  0.00384282483933\n",
      "Valor ro:  0.003807641062\n",
      "Valor ro:  0.00377185310133\n",
      "Valor ro:  0.00373537446325\n",
      "Valor ro:  0.00369842386955\n",
      "Valor ro:  0.00366137787218\n",
      "Valor ro:  0.00362466564829\n",
      "Valor ro:  0.00358869964191\n",
      "Valor ro:  0.00355383438246\n",
      "Valor ro:  0.00352034615065\n",
      "Valor validador:  0.0025\n"
     ]
    }
   ],
   "source": [
    "salida1 = metodo2(configuracion_inicial,vector_v1,vector_n1)"
   ]
  },
  {
   "cell_type": "markdown",
   "metadata": {},
   "source": [
    "### Prueba 2"
   ]
  },
  {
   "cell_type": "code",
   "execution_count": 66,
   "metadata": {
    "collapsed": false
   },
   "outputs": [
    {
     "name": "stdout",
     "output_type": "stream",
     "text": [
      "V: [ 500  515  530  545  560  575  590  605  620  635  650  665  680  695  710\n",
      "  725  740  755  770  785  800  815  830  845  860  875  890  905  920  935\n",
      "  950  965  980  995 1010 1025 1040 1055 1070 1085 1100 1115 1130 1145 1160\n",
      " 1175 1190 1205 1220 1235 1250 1265 1280 1295 1310 1325 1340 1355 1370 1385\n",
      " 1400 1415 1430 1445 1460 1475 1490 1505 1520 1535 1550 1565 1580 1595 1610\n",
      " 1625 1640 1655 1670 1685 1700 1715 1730 1745 1760 1775 1790 1805 1820 1835\n",
      " 1850 1865 1880 1895 1910 1925 1940 1955 1970 1985 2000 2015 2030 2045 2060\n",
      " 2075 2090 2105 2120 2135 2150 2165 2180 2195 2210 2225 2240 2255 2270 2285\n",
      " 2300 2315 2330 2345 2360 2375 2390 2405 2420 2435 2450 2465 2480 2495 2510\n",
      " 2525 2540 2555 2570 2585 2600 2615 2630 2645 2660 2675 2690 2705 2720 2735\n",
      " 2750 2765 2780 2795 2810 2825 2840 2855 2870 2885 2900 2915 2930 2945 2960\n",
      " 2975 2990]\n",
      "\n",
      "N: [175000, 180250, 185500, 190750, 196000, 201250, 206500, 211750, 217000, 222250, 227500, 232750, 238000, 243250, 248500, 253750, 259000, 264250, 269500, 274750, 280000, 285250, 290500, 295750, 301000, 306250, 311500, 316750, 322000, 327250, 332500, 337750, 343000, 348250, 353500, 358750, 364000, 369250, 374500, 379750, 385000, 390250, 395500, 400750, 406000, 411250, 416500, 421750, 427000, 432250, 437500, 442750, 448000, 453250, 458500, 463750, 469000, 474250, 479500, 484750, 490000, 495250, 500500, 505750, 511000, 516250, 521500, 526750, 532000, 537250, 542500, 547750, 553000, 558250, 563500, 568750, 574000, 579250, 584500, 589750, 595000, 600250, 605500, 610750, 616000, 621250, 626500, 631750, 637000, 642250, 647500, 652750, 658000, 663250, 668500, 673750, 679000, 684250, 689500, 694750, 700000, 705250, 710500, 715750, 721000, 726250, 731500, 736750, 742000, 747250, 752500, 757750, 763000, 768250, 773500, 778750, 784000, 789250, 794500, 799750, 805000, 810250, 815500, 820750, 826000, 831250, 836500, 841750, 847000, 852250, 857500, 862750, 868000, 873250, 878500, 883750, 889000, 894250, 899500, 904750, 910000, 915250, 920500, 925750, 931000, 936250, 941500, 946750, 952000, 957250, 962500, 967750, 973000, 978250, 983500, 988750, 994000, 999250, 1004500, 1009750, 1015000, 1020250, 1025500, 1030750, 1036000, 1041250, 1046500]\n"
     ]
    }
   ],
   "source": [
    "# configuracion [+β,-µ,-λ,+γ]\n",
    "configuracion_inicial = [15,-0.05,-0.3,50]\n",
    "\n",
    "vector_v2 = np.arange(500,3000,15) # inicio, fin, paso\n",
    "print (\"V:\",vector_v2)\n",
    "print(\"\")\n",
    "vector_n2 = generador_n(vector_v2,350)\n",
    "print (\"N:\",vector_n2)\n"
   ]
  },
  {
   "cell_type": "code",
   "execution_count": 67,
   "metadata": {
    "collapsed": false
   },
   "outputs": [
    {
     "name": "stdout",
     "output_type": "stream",
     "text": [
      "Valor ro:  0.00351167499459\n",
      "Valor ro:  0.00348019662724\n",
      "Valor ro:  0.00345041726915\n",
      "Valor ro:  0.00342236187722\n",
      "Valor ro:  0.00339600113043\n",
      "Valor ro:  0.00337126497382\n",
      "Valor ro:  0.00334805543508\n",
      "Valor ro:  0.00332625793885\n",
      "Valor ro:  0.0033057507053\n",
      "Valor ro:  0.00328641209361\n",
      "Valor ro:  0.00326812594925\n",
      "Valor ro:  0.00325078514777\n",
      "Valor ro:  0.00323429360673\n",
      "Valor ro:  0.00321856707147\n",
      "Valor ro:  0.00320353298111\n",
      "Valor ro:  0.0031891296973\n",
      "Valor ro:  0.0031753053398\n",
      "Valor ro:  0.00316201642744\n",
      "Valor ro:  0.00314922647593\n",
      "Valor ro:  0.00313690466022\n",
      "Valor ro:  0.00312502461062\n",
      "Valor ro:  0.00311356338031\n",
      "Valor ro:  0.00310250059759\n",
      "Valor ro:  0.00309181779854\n",
      "Valor ro:  0.00308149792425\n",
      "Valor ro:  0.00307152495993\n",
      "Valor ro:  0.00306188369052\n",
      "Valor ro:  0.00305255954719\n",
      "Valor ro:  0.00304353852131\n",
      "Valor ro:  0.0030348071252\n",
      "Valor ro:  0.00302635238269\n",
      "Valor ro:  0.00301816183622\n",
      "Valor ro:  0.00301022356053\n",
      "Valor ro:  0.00300252617621\n",
      "Valor ro:  0.00299505885876\n",
      "Valor ro:  0.00298781134097\n",
      "Valor ro:  0.00298077390791\n",
      "Valor ro:  0.00297393738469\n",
      "Valor ro:  0.0029672931181\n",
      "Valor ro:  0.00296083295341\n",
      "Valor ro:  0.00295454920763\n",
      "Valor ro:  0.00294843464087\n",
      "Valor ro:  0.00294248242678\n",
      "Valor ro:  0.00293668612321\n",
      "Valor ro:  0.00293103964387\n",
      "Valor ro:  0.00292553723159\n",
      "Valor ro:  0.00292017343336\n",
      "Valor ro:  0.00291494307757\n",
      "Valor ro:  0.00290984125335\n",
      "Valor ro:  0.00290486329189\n",
      "Valor ro:  0.0029000047498\n",
      "Valor ro:  0.00289526139416\n",
      "Valor ro:  0.00289062918912\n",
      "Valor ro:  0.00288610428383\n",
      "Valor ro:  0.00288168300166\n",
      "Valor ro:  0.0028773618302\n",
      "Valor ro:  0.00287313741229\n",
      "Valor ro:  0.00286900653767\n",
      "Valor ro:  0.00286496613521\n",
      "Valor ro:  0.00286101326572\n",
      "Valor ro:  0.00285714511516\n",
      "Valor ro:  0.00285335898829\n",
      "Valor ro:  0.00284965230267\n",
      "Valor ro:  0.00284602258291\n",
      "Valor ro:  0.00284246745541\n",
      "Valor ro:  0.00283898464318\n",
      "Valor ro:  0.00283557196106\n",
      "Valor ro:  0.00283222731118\n",
      "Valor ro:  0.00282894867865\n",
      "Valor ro:  0.00282573412752\n",
      "Valor ro:  0.0028225817969\n",
      "Valor ro:  0.00281948989736\n",
      "Valor ro:  0.00281645670754\n",
      "Valor ro:  0.00281348057089\n",
      "Valor ro:  0.00281055989266\n",
      "Valor ro:  0.00280769313698\n",
      "Valor ro:  0.00280487882424\n",
      "Valor ro:  0.00280211552845\n",
      "Valor ro:  0.00279940187485\n",
      "Valor ro:  0.00279673653764\n",
      "Valor ro:  0.0027941182378\n",
      "Valor ro:  0.00279154574106\n",
      "Valor ro:  0.00278901785594\n",
      "Valor ro:  0.00278653343193\n",
      "Valor ro:  0.00278409135772\n",
      "Valor ro:  0.00278169055958\n",
      "Valor ro:  0.00277932999978\n",
      "Valor ro:  0.00277700867504\n",
      "Valor ro:  0.00277472561521\n",
      "Valor ro:  0.00277247988184\n",
      "Valor ro:  0.0027702705669\n",
      "Valor ro:  0.00276809679161\n",
      "Valor ro:  0.00276595770523\n",
      "Valor ro:  0.00276385248393\n",
      "Valor ro:  0.00276178032982\n",
      "Valor ro:  0.00275974046982\n",
      "Valor ro:  0.00275773215482\n",
      "Valor ro:  0.00275575465866\n",
      "Valor ro:  0.00275380727732\n",
      "Valor ro:  0.00275188932806\n",
      "Valor ro:  0.00275000014863\n",
      "Valor ro:  0.00274813909648\n",
      "Valor ro:  0.00274630554808\n",
      "Valor ro:  0.00274449889819\n",
      "Valor ro:  0.00274271855917\n",
      "Valor ro:  0.00274096396043\n",
      "Valor ro:  0.0027392345477\n",
      "Valor ro:  0.00273752978256\n",
      "Valor ro:  0.0027358491418\n",
      "Valor ro:  0.00273419211693\n",
      "Valor ro:  0.00273255821364\n",
      "Valor ro:  0.00273094695132\n",
      "Valor ro:  0.00272935786261\n",
      "Valor ro:  0.0027277904929\n",
      "Valor ro:  0.00272624439993\n",
      "Valor ro:  0.00272471915338\n",
      "Valor ro:  0.00272321433444\n",
      "Valor ro:  0.00272172953545\n",
      "Valor ro:  0.00272026435954\n",
      "Valor ro:  0.00271881842023\n",
      "Valor ro:  0.00271739134117\n",
      "Valor ro:  0.00271598275571\n",
      "Valor ro:  0.00271459230668\n",
      "Valor ro:  0.00271321964604\n",
      "Valor ro:  0.00271186443459\n",
      "Valor ro:  0.00271052634172\n",
      "Valor ro:  0.00270920504509\n",
      "Valor ro:  0.00270790023043\n",
      "Valor ro:  0.00270661159125\n",
      "Valor ro:  0.00270533882861\n",
      "Valor ro:  0.0027040816509\n",
      "Valor ro:  0.0027028397736\n",
      "Valor ro:  0.00270161291908\n",
      "Valor ro:  0.00270040081638\n",
      "Valor ro:  0.00269920320102\n",
      "Valor ro:  0.00269801981482\n",
      "Valor ro:  0.00269685040566\n",
      "Valor ro:  0.00269569472739\n",
      "Valor ro:  0.00269455253957\n",
      "Valor ro:  0.00269342360736\n",
      "Valor ro:  0.00269230770133\n",
      "Valor ro:  0.00269120459732\n",
      "Valor ro:  0.00269011407628\n",
      "Valor ro:  0.00268903592413\n",
      "Valor ro:  0.00268796993162\n",
      "Valor ro:  0.00268691589419\n",
      "Valor ro:  0.00268587361186\n",
      "Valor ro:  0.00268484288906\n",
      "Valor ro:  0.00268382353454\n",
      "Valor ro:  0.00268281536127\n",
      "Valor ro:  0.00268181818628\n",
      "Valor ro:  0.00268083183055\n",
      "Valor ro:  0.00267985611898\n",
      "Valor ro:  0.00267889088017\n",
      "Valor ro:  0.00267793594642\n",
      "Valor ro:  0.00267699115357\n",
      "Valor ro:  0.00267605634095\n",
      "Valor ro:  0.00267513135123\n",
      "Valor ro:  0.00267421603041\n",
      "Valor ro:  0.00267331022766\n",
      "Valor ro:  0.0026724137953\n",
      "Valor ro:  0.00267152658867\n",
      "Valor ro:  0.00267064846607\n",
      "Valor ro:  0.0026697792887\n",
      "Valor ro:  0.00266891892058\n",
      "Valor ro:  0.00266806722843\n",
      "Valor ro:  0.00266722408171\n",
      "Valor validador:  0.0025\n"
     ]
    }
   ],
   "source": [
    "salida2 = metodo2(configuracion_inicial,vector_v2,vector_n2)"
   ]
  },
  {
   "cell_type": "markdown",
   "metadata": {},
   "source": [
    "### Prueba 3"
   ]
  },
  {
   "cell_type": "code",
   "execution_count": 68,
   "metadata": {
    "collapsed": false,
    "scrolled": true
   },
   "outputs": [
    {
     "name": "stdout",
     "output_type": "stream",
     "text": [
      "V: [10000 10500 11000 11500 12000 12500 13000 13500 14000 14500]\n",
      "\n",
      "N: [3500000, 3675000, 3850000, 4025000, 4200000, 4375000, 4550000, 4725000, 4900000, 5075000]\n"
     ]
    }
   ],
   "source": [
    "# configuracion [+β,-µ,-λ,+γ]\n",
    "configuracion_inicial = [15,-0.05,-0.3,50]\n",
    "\n",
    "vector_v3 = np.arange(10000,15000,500) # inicio, fin, paso\n",
    "print (\"V:\",vector_v3)\n",
    "print(\"\")\n",
    "vector_n3 = generador_n(vector_v3,350)\n",
    "print (\"N:\",vector_n3)\n"
   ]
  },
  {
   "cell_type": "code",
   "execution_count": 69,
   "metadata": {
    "collapsed": false,
    "scrolled": true
   },
   "outputs": [
    {
     "name": "stdout",
     "output_type": "stream",
     "text": [
      "Valor ro:  0.00255\n",
      "Valor ro:  0.00254761904762\n",
      "Valor ro:  0.00254545454545\n",
      "Valor ro:  0.00254347826087\n",
      "Valor ro:  0.00254166666667\n",
      "Valor ro:  0.00254\n",
      "Valor ro:  0.00253846153846\n",
      "Valor ro:  0.00253703703704\n",
      "Valor ro:  0.00253571428571\n",
      "Valor ro:  0.00253448275862\n",
      "Valor validador:  0.0025\n"
     ]
    }
   ],
   "source": [
    "salida3 = metodo2(configuracion_inicial,vector_v3,vector_n3)"
   ]
  },
  {
   "cell_type": "markdown",
   "metadata": {},
   "source": [
    "## *Pruebas de modulos y otros*"
   ]
  },
  {
   "cell_type": "code",
   "execution_count": 55,
   "metadata": {
    "collapsed": false
   },
   "outputs": [
    {
     "name": "stdout",
     "output_type": "stream",
     "text": [
      "valores n:  [100, 250, 380, 490, 550]\n",
      "valores v:  [200.0, 500.0, 760.0, 980.0, 1100.0]\n",
      "[100, 250, 380, 490, 550]\n",
      "[200.0, 500.0, 760.0, 980.0, 1100.0]\n",
      "[70, 84, 96, 102, 158]\n",
      "[35000, 42000, 48000, 51000, 79000]\n"
     ]
    }
   ],
   "source": [
    "vect_n = [100, 250, 380, 490, 550]\n",
    "nv = generador_v(vect_n, 0.5)\n",
    "\n",
    "vect_v = [70, 84, 96, 102, 158]\n",
    "nn = generador_n(vect_v, 500)\n",
    "\n",
    "print(vect_n)\n",
    "print(nv)\n",
    "\n",
    "print(vect_v)\n",
    "print(nn)"
   ]
  },
  {
   "cell_type": "code",
   "execution_count": 28,
   "metadata": {
    "collapsed": false
   },
   "outputs": [
    {
     "name": "stdout",
     "output_type": "stream",
     "text": [
      "[371  47 375 285 286]\n",
      "[285 286 375  47 371]\n"
     ]
    }
   ],
   "source": [
    "a = np.random.randint(5,500,5)\n",
    "print (a)\n",
    "np.random.shuffle(a)\n",
    "print (a)"
   ]
  },
  {
   "cell_type": "code",
   "execution_count": 26,
   "metadata": {
    "collapsed": false,
    "scrolled": true
   },
   "outputs": [
    {
     "data": {
      "text/plain": [
       "5"
      ]
     },
     "execution_count": 26,
     "metadata": {},
     "output_type": "execute_result"
    }
   ],
   "source": [
    "troll = 5\n",
    "\n",
    "troll\n",
    "troll\n",
    "troll"
   ]
  },
  {
   "cell_type": "code",
   "execution_count": 29,
   "metadata": {
    "collapsed": false
   },
   "outputs": [
    {
     "name": "stdout",
     "output_type": "stream",
     "text": [
      "5\n",
      "5\n",
      "5\n"
     ]
    }
   ],
   "source": [
    "print(troll)\n",
    "print(troll)\n",
    "print(troll)"
   ]
  },
  {
   "cell_type": "code",
   "execution_count": 33,
   "metadata": {
    "collapsed": false
   },
   "outputs": [
    {
     "data": {
      "text/plain": [
       "3.3333333333333335"
      ]
     },
     "execution_count": 33,
     "metadata": {},
     "output_type": "execute_result"
    }
   ],
   "source": [
    "10/3"
   ]
  },
  {
   "cell_type": "code",
   "execution_count": 34,
   "metadata": {
    "collapsed": false
   },
   "outputs": [
    {
     "data": {
      "text/plain": [
       "3"
      ]
     },
     "execution_count": 34,
     "metadata": {},
     "output_type": "execute_result"
    }
   ],
   "source": [
    "10//3"
   ]
  },
  {
   "cell_type": "code",
   "execution_count": 22,
   "metadata": {
    "collapsed": false,
    "scrolled": true
   },
   "outputs": [
    {
     "data": {
      "image/png": "[encoded data removed]",
      "text/plain": [
       "<matplotlib.figure.Figure at 0x18e5c748748>"
      ]
     },
     "metadata": {},
     "output_type": "display_data"
    }
   ],
   "source": [
    "#Prueba de graficador\n",
    "graficador([1,2,3,4,5],[1,4,9,16,25],\"Cuadrados prefectos\",\"Valor normal\",\"Valor cuadratico\",False)"
   ]
  },
  {
   "cell_type": "code",
   "execution_count": 23,
   "metadata": {
    "collapsed": false,
    "scrolled": true
   },
   "outputs": [
    {
     "data": {
      "text/plain": [
       "709.782712893384"
      ]
     },
     "execution_count": 23,
     "metadata": {},
     "output_type": "execute_result"
    }
   ],
   "source": [
    "math.log(sys.float_info.max)"
   ]
  },
  {
   "cell_type": "code",
   "execution_count": 24,
   "metadata": {
    "collapsed": false
   },
   "outputs": [
    {
     "data": {
      "text/plain": [
       "1.7976931348623157e+308"
      ]
     },
     "execution_count": 24,
     "metadata": {},
     "output_type": "execute_result"
    }
   ],
   "source": [
    "sys.float_info.max"
   ]
  },
  {
   "cell_type": "code",
   "execution_count": 25,
   "metadata": {
    "collapsed": false
   },
   "outputs": [
    {
     "data": {
      "text/plain": [
       "1.7976931348622732e+308"
      ]
     },
     "execution_count": 25,
     "metadata": {},
     "output_type": "execute_result"
    }
   ],
   "source": [
    "math.exp(math.log(sys.float_info.max))"
   ]
  },
  {
   "cell_type": "markdown",
   "metadata": {},
   "source": [
    "http://stackoverflow.com/questions/4050907/python-overflowerror-math-range-error\n",
    "\n",
    "https://docs.python.org/3.6/library/math.html"
   ]
  }
 ],
 "metadata": {
  "kernelspec": {
   "display_name": "Python 3",
   "language": "python",
   "name": "python3"
  },
  "language_info": {
   "codemirror_mode": {
    "name": "ipython",
    "version": 3
   },
   "file_extension": ".py",
   "mimetype": "text/x-python",
   "name": "python",
   "nbconvert_exporter": "python",
   "pygments_lexer": "ipython3",
   "version": "3.6.0"
  }
 },
 "nbformat": 4,
 "nbformat_minor": 2
}
