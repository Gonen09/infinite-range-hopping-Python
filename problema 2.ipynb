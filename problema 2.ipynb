{
 "cells": [
  {
   "cell_type": "markdown",
   "metadata": {},
   "source": [
    "# Bogolyubov approximation for diagonal model of an interacting Bose gas"
   ]
  },
  {
   "cell_type": "markdown",
   "metadata": {},
   "source": [
    "$$\n",
    "\\rho_{0} = \\frac{1}{V} \\frac{\\sum_{n=1}^\\infty = ne^{\\beta\\{(- \\lambda + \\mu + \\frac{\\gamma}{V})n - \\frac{\\gamma}{V}n^{2}\\}}}{\\sum_{n=0}^\\infty = e^{\\beta\\{(- \\lambda + \\mu + \\frac{\\gamma}{V})n - \\frac{\\gamma}{V}n^{2}\\}}} \\sim (\\frac{\\mu - \\lambda}{2 \\gamma})\n",
    "$$"
   ]
  },
  {
   "cell_type": "markdown",
   "metadata": {},
   "source": [
    "### Observación parametros"
   ]
  },
  {
   "cell_type": "markdown",
   "metadata": {},
   "source": [
    "__γ__,__β__ son parámetros positivos. \n",
    "\n",
    "$λ < µ < 0 $ y __V__ muy grande."
   ]
  },
  {
   "cell_type": "markdown",
   "metadata": {},
   "source": [
    "## *Desarrollo*"
   ]
  },
  {
   "cell_type": "markdown",
   "metadata": {},
   "source": [
    "### Dependencias"
   ]
  },
  {
   "cell_type": "code",
   "execution_count": 83,
   "metadata": {
    "collapsed": true
   },
   "outputs": [],
   "source": [
    "import math\n",
    "import matplotlib.pyplot as plt\n",
    "import time\n",
    "import sys"
   ]
  },
  {
   "cell_type": "markdown",
   "metadata": {},
   "source": [
    "$$\n",
    "\\sum_{n=1}^\\infty = ne^{\\beta\\{(- \\lambda + \\mu + \\frac{\\gamma}{V})n - \\frac{\\gamma}{V}n^{2}\\}}\n",
    "$$"
   ]
  },
  {
   "cell_type": "code",
   "execution_count": 99,
   "metadata": {
    "collapsed": true
   },
   "outputs": [],
   "source": [
    "def f1(b , u , lam , gam , v , N):\n",
    "    sumatoria = 0\n",
    "    \n",
    "    for n in range(1, N):\n",
    "        try:\n",
    "            sumatoria+=n*math.exp(b*((-lam+u+(gam/v))*n-(gam/v)*math.pow(n, 2)))\n",
    "        except OverflowError:\n",
    "            print (\"Desbordamiento\")\n",
    "            break\n",
    "        \n",
    "    return sumatoria"
   ]
  },
  {
   "cell_type": "markdown",
   "metadata": {},
   "source": [
    "$$\n",
    "V \\sum_{n=0}^\\infty = e^{\\beta\\{(- \\lambda + \\mu + \\frac{\\gamma}{V})n - \\frac{\\gamma}{V}n^{2}\\}}\n",
    "$$"
   ]
  },
  {
   "cell_type": "code",
   "execution_count": 98,
   "metadata": {
    "collapsed": true
   },
   "outputs": [],
   "source": [
    "def f2(b , u , lam , gam , v , N):\n",
    "    sumatoria = 0\n",
    "    \n",
    "    for n in range(N):\n",
    "        try:\n",
    "            sumatoria+=math.exp(b*((-lam+u+(gam/v))*n-(gam/v)*math.pow(n, 2)))\n",
    "        except OverflowError:\n",
    "            print (\"Desbordamiento\")\n",
    "            break\n",
    "        \n",
    "    resultado = v * sumatoria\n",
    "    return resultado"
   ]
  },
  {
   "cell_type": "markdown",
   "metadata": {},
   "source": [
    "### Obtención *validador*\n",
    "$$\n",
    "\\frac{\\mu - \\lambda}{2 \\gamma} \n",
    "$$"
   ]
  },
  {
   "cell_type": "code",
   "execution_count": 86,
   "metadata": {
    "collapsed": true
   },
   "outputs": [],
   "source": [
    "def validador(u , lam , gam):\n",
    "    try:\n",
    "        resultado = (u-lam)/(2*gam)\n",
    "    except ZeroDivisionError:\n",
    "        print('Division por cero')\n",
    "        resultado = 0\n",
    "        \n",
    "    print (\"Valor validador: \",resultado)    \n",
    "    return resultado"
   ]
  },
  {
   "cell_type": "markdown",
   "metadata": {},
   "source": [
    "### Obtención de *ρ*"
   ]
  },
  {
   "cell_type": "code",
   "execution_count": 87,
   "metadata": {
    "collapsed": false
   },
   "outputs": [],
   "source": [
    "def resultado(b , u , lam , gam , v , n):\n",
    "    try:\n",
    "        numerador =  f1(B, U, lam, gam, V, N)\n",
    "        print (\"Numerador: \",numerador)\n",
    "        denominador = f2(B, U, lam, gam, V, N)\n",
    "        print (\"Denominador: \",denominador)\n",
    "        ro = numerador/denominador\n",
    "    except ZeroDivisionError:\n",
    "        print('Division por cero')\n",
    "        ro = 0\n",
    "    print (\"Valor ro: \",ro)\n",
    "    return ro"
   ]
  },
  {
   "cell_type": "markdown",
   "metadata": {},
   "source": [
    "### Graficador"
   ]
  },
  {
   "cell_type": "code",
   "execution_count": 88,
   "metadata": {
    "collapsed": false
   },
   "outputs": [],
   "source": [
    "def graficador(datos_x,datos_y,titulo,titulo_x,titulo_y):\n",
    "    if (len(datos_x)!=0 or len(datos_y)!=0):\n",
    "        \n",
    "        # Informacion grafico\n",
    "        plt.title(titulo)\n",
    "        plt.xlabel(titulo_x)\n",
    "        plt.ylabel(titulo_y)\n",
    "        \n",
    "        # Limites grafico\n",
    "        minimo_x = min(datos_x) - 1\n",
    "        maximo_X = max(datos_x) + 1\n",
    "        minimo_y = min(datos_y) - 1\n",
    "        maximo_y = max(datos_y) + 1\n",
    "        plt.xlim(minimo_x,maximo_X)\n",
    "        plt.ylim(minimo_y,maximo_y)\n",
    "        \n",
    "        # Mostrar datos\n",
    "        plt.plot(datos_x, datos_y, 'ro')\n",
    "        plt.show()\n",
    "    else:\n",
    "        print(\"Vector vacío\")"
   ]
  },
  {
   "cell_type": "markdown",
   "metadata": {},
   "source": [
    "### Prueba 1: Lambda variable (-2.3)"
   ]
  },
  {
   "cell_type": "code",
   "execution_count": 101,
   "metadata": {
    "collapsed": true
   },
   "outputs": [
    {
     "name": "stdout",
     "output_type": "stream",
     "text": [
      "N:  0\n",
      "Desbordamiento\n",
      "Numerador:  1.9606378110872192e+297\n",
      "Desbordamiento\n",
      "Denominador:  8.91199005039652e+299\n",
      "Valor ro:  0.002199999999999983\n",
      "Valor validador:  0.0217\n",
      "\n",
      "\n",
      "\n",
      "N:  1\n",
      "Desbordamiento\n",
      "Numerador:  2.2992170221554256e+300\n",
      "Desbordamiento\n",
      "Denominador:  8.84314239291253e+302\n",
      "Valor ro:  0.002599999999997928\n",
      "Valor validador:  0.018899999999999997\n",
      "\n",
      "\n",
      "\n",
      "N:  2\n",
      "Desbordamiento\n",
      "Numerador:  6.552637470836849e+304\n",
      "Desbordamiento\n",
      "Denominador:  2.0476992098539723e+307\n",
      "Valor ro:  0.003199999999660174\n",
      "Valor validador:  0.016099999999999996\n",
      "\n",
      "\n",
      "\n",
      "N:  3\n",
      "Desbordamiento\n",
      "Numerador:  inf\n",
      "Desbordamiento\n",
      "Denominador:  inf\n",
      "Valor ro:  nan\n",
      "Valor validador:  0.013299999999999996\n",
      "\n",
      "\n",
      "\n",
      "N:  4\n",
      "Desbordamiento\n",
      "Numerador:  1.7585387917370296e+308\n",
      "Desbordamiento\n",
      "Denominador:  inf\n",
      "Valor ro:  0.0\n",
      "Valor validador:  0.010499999999999995\n",
      "\n",
      "\n",
      "\n",
      "N:  5\n",
      "Numerador:  2.1698934157612617e+198\n",
      "Denominador:  2.7998624719500176e+200\n",
      "Valor ro:  0.007749999999999993\n",
      "Valor validador:  0.007699999999999996\n",
      "\n",
      "\n",
      "\n",
      "N:  6\n",
      "Numerador:  2.0673003342019905e+82\n",
      "Denominador:  4.176364311519176e+84\n",
      "Valor ro:  0.004949999999999996\n",
      "Valor validador:  0.004899999999999996\n",
      "\n",
      "\n",
      "\n",
      "N:  7\n",
      "Numerador:  1.5846362407445856e+17\n",
      "Denominador:  7.370401119742271e+19\n",
      "Valor ro:  0.0021499999999999965\n",
      "Valor validador:  0.002099999999999996\n",
      "\n",
      "\n",
      "\n",
      "N:  8\n",
      "Numerador:  0.6743333027533714\n",
      "Denominador:  14901.531662173986\n",
      "Valor ro:  4.5252616847776634e-05\n",
      "Valor validador:  -0.0007000000000000047\n",
      "\n",
      "\n",
      "\n",
      "N:  9\n",
      "Numerador:  0.005295197727989863\n",
      "Denominador:  10052.713116859613\n",
      "Valor ro:  5.267431455006089e-07\n",
      "Valor validador:  -0.003500000000000005\n",
      "\n",
      "\n",
      "\n",
      "N:  10\n",
      "Numerador:  7.870022529357018e-05\n",
      "Denominador:  10000.786948951272\n",
      "Valor ro:  7.869403247493743e-09\n",
      "Valor validador:  -0.006300000000000005\n",
      "\n",
      "\n",
      "\n",
      "N:  11\n",
      "Numerador:  1.1799978178872936e-06\n",
      "Denominador:  10000.011799966192\n",
      "Valor ro:  1.1799964254955007e-10\n",
      "Valor validador:  -0.009100000000000006\n",
      "\n",
      "\n",
      "\n",
      "N:  12\n",
      "Numerador:  1.7694712522445357e-08\n",
      "Denominador:  10000.000176947122\n",
      "Valor ro:  1.7694712209342518e-12\n",
      "Valor validador:  -0.011900000000000006\n",
      "\n",
      "\n",
      "\n",
      "N:  13\n",
      "Numerador:  2.6534241298547714e-10\n",
      "Denominador:  10000.000002653424\n",
      "Valor ro:  2.6534241291507056e-14\n",
      "Valor validador:  -0.014700000000000006\n",
      "\n",
      "\n",
      "\n",
      "N:  14\n",
      "Numerador:  3.978962535864451e-12\n",
      "Denominador:  10000.00000003979\n",
      "Valor ro:  3.978962535848619e-16\n",
      "Valor validador:  -0.017500000000000005\n",
      "\n",
      "\n",
      "\n",
      "N:  15\n",
      "Numerador:  5.966683837195565e-14\n",
      "Denominador:  10000.000000000597\n",
      "Valor ro:  5.966683837195209e-18\n",
      "Valor validador:  -0.020300000000000006\n",
      "\n",
      "\n",
      "\n",
      "N:  16\n",
      "Numerador:  8.947386584416012e-16\n",
      "Denominador:  10000.00000000001\n",
      "Valor ro:  8.947386584416004e-20\n",
      "Valor validador:  -0.023100000000000006\n",
      "\n",
      "\n",
      "\n",
      "N:  17\n",
      "Numerador:  1.3417122286912136e-17\n",
      "Denominador:  10000.0\n",
      "Valor ro:  1.3417122286912136e-21\n",
      "Valor validador:  -0.025900000000000006\n",
      "\n",
      "\n",
      "\n",
      "N:  18\n",
      "Numerador:  2.0119748796313386e-19\n",
      "Denominador:  10000.0\n",
      "Valor ro:  2.0119748796313387e-23\n",
      "Valor validador:  -0.02870000000000001\n",
      "\n",
      "\n",
      "\n",
      "N:  19\n",
      "Numerador:  3.0170723868382824e-21\n",
      "Denominador:  10000.0\n",
      "Valor ro:  3.017072386838282e-25\n",
      "Valor validador:  -0.031500000000000014\n",
      "\n",
      "\n",
      "\n",
      "N:  20\n",
      "Numerador:  4.5242740749775367e-23\n",
      "Denominador:  10000.0\n",
      "Valor ro:  4.5242740749775364e-27\n",
      "Valor validador:  -0.03430000000000002\n",
      "\n",
      "\n",
      "\n",
      "N:  21\n",
      "Numerador:  6.784409944822118e-25\n",
      "Denominador:  10000.0\n",
      "Valor ro:  6.784409944822118e-29\n",
      "Valor validador:  -0.037100000000000015\n",
      "\n",
      "\n",
      "\n",
      "N:  22\n",
      "Numerador:  1.0173614050919269e-26\n",
      "Denominador:  10000.0\n",
      "Valor ro:  1.0173614050919269e-30\n",
      "Valor validador:  -0.03990000000000002\n",
      "\n",
      "\n",
      "\n",
      "N:  23\n",
      "Numerador:  1.5255921104244976e-28\n",
      "Denominador:  10000.0\n",
      "Valor ro:  1.5255921104244975e-32\n",
      "Valor validador:  -0.04270000000000002\n",
      "\n",
      "\n",
      "\n",
      "N:  24\n",
      "Numerador:  2.28771336885852e-30\n",
      "Denominador:  10000.0\n",
      "Valor ro:  2.2877133688585198e-34\n",
      "Valor validador:  -0.04550000000000003\n",
      "\n",
      "\n",
      "\n",
      "N:  25\n",
      "Numerador:  3.430558156595169e-32\n",
      "Denominador:  10000.0\n",
      "Valor ro:  3.430558156595169e-36\n",
      "Valor validador:  -0.04830000000000003\n",
      "\n",
      "\n",
      "\n",
      "N:  26\n",
      "Numerador:  5.144319837433909e-34\n",
      "Denominador:  10000.0\n",
      "Valor ro:  5.144319837433909e-38\n",
      "Valor validador:  -0.05110000000000003\n",
      "\n",
      "\n",
      "\n",
      "N:  27\n",
      "Numerador:  7.714204331134735e-36\n",
      "Denominador:  10000.0\n",
      "Valor ro:  7.714204331134735e-40\n",
      "Valor validador:  -0.05390000000000003\n",
      "\n",
      "\n",
      "\n",
      "N:  28\n",
      "Numerador:  1.1567894365639245e-37\n",
      "Denominador:  10000.0\n",
      "Valor ro:  1.1567894365639244e-41\n",
      "Valor validador:  -0.056700000000000035\n",
      "\n",
      "\n",
      "\n",
      "N:  29\n",
      "Numerador:  1.73467248611114e-39\n",
      "Denominador:  10000.0\n",
      "Valor ro:  1.73467248611114e-43\n",
      "Valor validador:  -0.05950000000000004\n",
      "\n",
      "\n",
      "\n",
      "N:  30\n",
      "Numerador:  2.6012414523848574e-41\n",
      "Denominador:  10000.0\n",
      "Valor ro:  2.6012414523848573e-45\n",
      "Valor validador:  -0.06230000000000004\n",
      "\n",
      "\n",
      "\n",
      "N:  31\n",
      "Numerador:  3.900711602784802e-43\n",
      "Denominador:  10000.0\n",
      "Valor ro:  3.900711602784802e-47\n",
      "Valor validador:  -0.06510000000000005\n",
      "\n",
      "\n",
      "\n",
      "N:  32\n",
      "Numerador:  5.849342049408806e-45\n",
      "Denominador:  10000.0\n",
      "Valor ro:  5.8493420494088054e-49\n",
      "Valor validador:  -0.06790000000000004\n",
      "\n",
      "\n",
      "\n",
      "N:  33\n",
      "Numerador:  8.771425805116e-47\n",
      "Denominador:  10000.0\n",
      "Valor ro:  8.771425805116e-51\n",
      "Valor validador:  -0.07070000000000004\n",
      "\n",
      "\n",
      "\n",
      "N:  34\n",
      "Numerador:  1.315325894857371e-48\n",
      "Denominador:  10000.0\n",
      "Valor ro:  1.3153258948573711e-52\n",
      "Valor validador:  -0.07350000000000005\n",
      "\n",
      "\n",
      "\n",
      "N:  35\n",
      "Numerador:  1.9724070500297234e-50\n",
      "Denominador:  10000.0\n",
      "Valor ro:  1.9724070500297234e-54\n",
      "Valor validador:  -0.07630000000000005\n",
      "\n",
      "\n",
      "\n",
      "N:  36\n",
      "Numerador:  2.957738143997245e-52\n",
      "Denominador:  10000.0\n",
      "Valor ro:  2.957738143997245e-56\n",
      "Valor validador:  -0.07910000000000006\n",
      "\n",
      "\n",
      "\n",
      "N:  37\n",
      "Numerador:  4.435298955316708e-54\n",
      "Denominador:  10000.0\n",
      "Valor ro:  4.435298955316708e-58\n",
      "Valor validador:  -0.08190000000000007\n",
      "\n",
      "\n",
      "\n",
      "N:  38\n",
      "Numerador:  6.650986620623602e-56\n",
      "Denominador:  10000.0\n",
      "Valor ro:  6.650986620623602e-60\n",
      "Valor validador:  -0.08470000000000005\n",
      "\n",
      "\n",
      "\n",
      "N:  39\n",
      "Numerador:  9.973538080153178e-58\n",
      "Denominador:  10000.0\n",
      "Valor ro:  9.973538080153178e-62\n",
      "Valor validador:  -0.08750000000000005\n",
      "\n",
      "\n",
      "\n",
      "N:  40\n",
      "Numerador:  1.495589564528984e-59\n",
      "Denominador:  10000.0\n",
      "Valor ro:  1.4955895645289841e-63\n",
      "Valor validador:  -0.09030000000000005\n",
      "\n",
      "\n",
      "\n",
      "N:  41\n",
      "Numerador:  2.2427228206799436e-61\n",
      "Denominador:  10000.0\n",
      "Valor ro:  2.2427228206799435e-65\n",
      "Valor validador:  -0.09310000000000004\n",
      "\n",
      "\n",
      "\n",
      "N:  42\n",
      "Numerador:  3.363092234454492e-63\n",
      "Denominador:  10000.0\n",
      "Valor ro:  3.363092234454492e-67\n",
      "Valor validador:  -0.09590000000000004\n",
      "\n",
      "\n",
      "\n",
      "N:  43\n",
      "Numerador:  5.043150795611493e-65\n",
      "Denominador:  10000.0\n",
      "Valor ro:  5.043150795611493e-69\n",
      "Valor validador:  -0.09870000000000002\n",
      "\n",
      "\n",
      "\n",
      "N:  44\n",
      "Numerador:  7.562495517284628e-67\n",
      "Denominador:  10000.0\n",
      "Valor ro:  7.562495517284627e-71\n",
      "Valor validador:  -0.10150000000000002\n",
      "\n",
      "\n",
      "\n",
      "N:  45\n",
      "Numerador:  1.1340398248396122e-68\n",
      "Denominador:  10000.0\n",
      "Valor ro:  1.1340398248396122e-72\n",
      "Valor validador:  -0.10430000000000002\n",
      "\n",
      "\n",
      "\n",
      "N:  46\n",
      "Numerador:  1.700558131086368e-70\n",
      "Denominador:  10000.0\n",
      "Valor ro:  1.7005581310863679e-74\n",
      "Valor validador:  -0.10710000000000001\n",
      "\n",
      "\n",
      "\n",
      "N:  47\n",
      "Numerador:  2.550085009239392e-72\n",
      "Denominador:  10000.0\n",
      "Valor ro:  2.5500850092393917e-76\n",
      "Valor validador:  -0.1099\n",
      "\n",
      "\n",
      "\n",
      "N:  48\n",
      "Numerador:  3.823999565479833e-74\n",
      "Denominador:  10000.0\n",
      "Valor ro:  3.823999565479833e-78\n",
      "Valor validador:  -0.1127\n",
      "\n",
      "\n",
      "\n",
      "N:  49\n",
      "Numerador:  5.734307924562686e-76\n",
      "Denominador:  10000.0\n",
      "Valor ro:  5.7343079245626865e-80\n",
      "Valor validador:  -0.11549999999999999\n",
      "\n",
      "\n",
      "\n",
      "Magnitud vector x:  50\n",
      "Magnitud vector y:  50\n"
     ]
    },
    {
     "data": {
      "image/png": "[encoded data removed]",
      "text/plain": [
       "<matplotlib.figure.Figure at 0x18d4ed7dc88>"
      ]
     },
     "metadata": {},
     "output_type": "display_data"
    },
    {
     "data": {
      "image/png": "[encoded data removed]",
      "text/plain": [
       "<matplotlib.figure.Figure at 0x18d4ea28208>"
      ]
     },
     "metadata": {},
     "output_type": "display_data"
    },
    {
     "name": "stdout",
     "output_type": "stream",
     "text": [
      "Tiempo ejecución:  0.43752002716064453 ms\n"
     ]
    }
   ],
   "source": [
    "# Valores iniciales\n",
    "gam = 50      # Positivo\n",
    "B = 15        # Positivo\n",
    "lam = -2.5    # Menor que mu\n",
    "U = -0.05     # Menor que cero\n",
    "V = 10000     # Valor muy grande\n",
    "N = 100       # Numero de iteraciones\n",
    "\n",
    "# Datos grafico\n",
    "titulo = \"ro vs lambda\"\n",
    "nom_ejex= \"lambda\"\n",
    "nom_ejey= \"ro\"\n",
    "\n",
    "\n",
    "# Ejecucion prueba\n",
    "start_time = time.time() #Para medir el tiempo de ejecución\n",
    "\n",
    "numero_segmentaciones = 50.0\n",
    "\n",
    "x = []\n",
    "y = []\n",
    "z = []\n",
    "\n",
    "for i in range(int(numero_segmentaciones)):\n",
    "\n",
    "    lam += 14/numero_segmentaciones\n",
    "    \n",
    "    print(\"N: \",i)\n",
    "    ro = resultado(B ,U,lam,gam,V,N)\n",
    "    y.append(ro)\n",
    "    r = validador(U,lam,gam)\n",
    "    z.append(r)    \n",
    "    x.append(lam)\n",
    "    \n",
    "    print(\"\\n\\n\")\n",
    "    \n",
    "print(\"Magnitud vector x: \",str(len(x)))\n",
    "print(\"Magnitud vector y: \",str(len(y)))\n",
    "\n",
    "graficador(x,y,titulo,nom_ejex,nom_ejey)\n",
    "graficador(y,z,\"Resultado vs Esperado\",\"Esperado\",\"Resultado\")\n",
    "print (\"Tiempo ejecución: \",time.time() - start_time,\"ms\")"
   ]
  },
  {
   "cell_type": "markdown",
   "metadata": {},
   "source": [
    "### Prueba 2: Lambda variable (-0.3)"
   ]
  },
  {
   "cell_type": "code",
   "execution_count": 90,
   "metadata": {
    "collapsed": true
   },
   "outputs": [
    {
     "name": "stdout",
     "output_type": "stream",
     "text": [
      "N:  0\n",
      "Numerador:  1.7593168074582547e+21\n",
      "Denominador:  9.485479388940935e+23\n",
      "Valor ro:  0.0018547473831522232\n",
      "Valor validador:  0.0025\n",
      "lambda:  -0.3\n",
      "\n",
      "\n",
      "\n",
      "N:  1\n",
      "Numerador:  6179017601.089272\n",
      "Denominador:  4072360761655.767\n",
      "Valor ro:  0.0015173060450020066\n",
      "Valor validador:  0.0014999999999999996\n",
      "lambda:  -0.19999999999999998\n",
      "\n",
      "\n",
      "\n",
      "N:  2\n",
      "Numerador:  345.0021118502665\n",
      "Denominador:  619618.0705738559\n",
      "Valor ro:  0.0005567980151559244\n",
      "Valor validador:  0.0004999999999999998\n",
      "lambda:  -0.09999999999999998\n",
      "\n",
      "\n",
      "\n",
      "N:  3\n",
      "Numerador:  1.174239760720691\n",
      "Denominador:  17585.503321439945\n",
      "Valor ro:  6.677316760613147e-05\n",
      "Valor validador:  -0.0005000000000000003\n",
      "lambda:  2.7755575615628914e-17\n",
      "\n",
      "\n",
      "\n",
      "N:  4\n",
      "Numerador:  0.12697830840517407\n",
      "Denominador:  11157.60640229157\n",
      "Valor ro:  1.1380425498706876e-05\n",
      "Valor validador:  -0.0015000000000000002\n",
      "lambda:  0.10000000000000003\n",
      "\n",
      "\n",
      "\n",
      "N:  5\n",
      "Numerador:  0.024495221188285315\n",
      "Denominador:  10240.022097980269\n",
      "Valor ro:  2.392106281989052e-06\n",
      "Valor validador:  -0.0025000000000000005\n",
      "lambda:  0.20000000000000004\n",
      "\n",
      "\n",
      "\n",
      "N:  6\n",
      "Numerador:  0.005295197727989895\n",
      "Denominador:  10052.713116859613\n",
      "Valor ro:  5.26743145500612e-07\n",
      "Valor validador:  -0.0035000000000000005\n",
      "lambda:  0.30000000000000004\n",
      "\n",
      "\n",
      "\n",
      "N:  7\n",
      "Numerador:  0.0011732426853080689\n",
      "Denominador:  10011.720606405152\n",
      "Valor ro:  1.171869183562183e-07\n",
      "Valor validador:  -0.0045000000000000005\n",
      "lambda:  0.4\n",
      "\n",
      "\n",
      "\n",
      "N:  8\n",
      "Numerador:  0.00026137608844610424\n",
      "Denominador:  10002.613173171869\n",
      "Valor ro:  2.6130780419175284e-08\n",
      "Valor validador:  -0.0055000000000000005\n",
      "lambda:  0.5\n",
      "\n",
      "\n",
      "\n",
      "N:  9\n",
      "Numerador:  5.830051394226823e-05\n",
      "Denominador:  10000.582975887735\n",
      "Valor ro:  5.829711536101023e-09\n",
      "Valor validador:  -0.006500000000000001\n",
      "lambda:  0.6\n",
      "\n",
      "\n",
      "\n",
      "N:  10\n",
      "Numerador:  1.3007588904284813e-05\n",
      "Denominador:  10000.130074432785\n",
      "Valor ro:  1.3007419711010722e-09\n",
      "Valor validador:  -0.0075\n",
      "lambda:  0.7\n",
      "\n",
      "\n",
      "\n",
      "N:  11\n",
      "Numerador:  2.902334908982055e-06\n",
      "Denominador:  10000.02902327659\n",
      "Valor ro:  2.902326485479621e-10\n",
      "Valor validador:  -0.0085\n",
      "lambda:  0.7999999999999999\n",
      "\n",
      "\n",
      "\n",
      "N:  12\n",
      "Numerador:  6.475959395114155e-07\n",
      "Denominador:  10000.006475955786\n",
      "Valor ro:  6.475955201314199e-11\n",
      "Valor validador:  -0.0095\n",
      "lambda:  0.8999999999999999\n",
      "\n",
      "\n",
      "\n",
      "N:  13\n",
      "Numerador:  1.4449806055354348e-07\n",
      "Denominador:  10000.001444980426\n",
      "Valor ro:  1.4449803967385959e-11\n",
      "Valor validador:  -0.010499999999999999\n",
      "lambda:  0.9999999999999999\n",
      "\n",
      "\n",
      "\n",
      "N:  14\n",
      "Numerador:  3.2241869162044715e-08\n",
      "Denominador:  10000.000322418682\n",
      "Valor ro:  3.2241868122506652e-12\n",
      "Valor validador:  -0.0115\n",
      "lambda:  1.0999999999999999\n",
      "\n",
      "\n",
      "\n",
      "N:  15\n",
      "Numerador:  7.194133119418214e-09\n",
      "Denominador:  10000.000071941331\n",
      "Valor ro:  7.194133067662663e-13\n",
      "Valor validador:  -0.0125\n",
      "lambda:  1.2\n",
      "\n",
      "\n",
      "\n",
      "N:  16\n",
      "Numerador:  1.6052280596212825e-09\n",
      "Denominador:  10000.00001605228\n",
      "Valor ro:  1.6052280570445256e-13\n",
      "Valor validador:  -0.013500000000000002\n",
      "lambda:  1.3\n",
      "\n",
      "\n",
      "\n",
      "N:  17\n",
      "Numerador:  3.5817479324915583e-10\n",
      "Denominador:  10000.000003581748\n",
      "Valor ro:  3.5817479312086663e-14\n",
      "Valor validador:  -0.014500000000000002\n",
      "lambda:  1.4000000000000001\n",
      "\n",
      "\n",
      "\n",
      "N:  18\n",
      "Numerador:  7.991959894053396e-11\n",
      "Denominador:  10000.000000799197\n",
      "Valor ro:  7.991959893414682e-15\n",
      "Valor validador:  -0.015500000000000003\n",
      "lambda:  1.5000000000000002\n",
      "\n",
      "\n",
      "\n",
      "N:  19\n",
      "Numerador:  1.783247290869367e-11\n",
      "Denominador:  10000.000000178325\n",
      "Valor ro:  1.783247290837567e-15\n",
      "Valor validador:  -0.016500000000000004\n",
      "lambda:  1.6000000000000003\n",
      "\n",
      "\n",
      "\n",
      "Magnitud vector x:  20\n",
      "Magnitud vector y:  20\n"
     ]
    },
    {
     "data": {
      "image/png": "[encoded data removed]",
      "text/plain": [
       "<matplotlib.figure.Figure at 0x18d4ed05278>"
      ]
     },
     "metadata": {},
     "output_type": "display_data"
    },
    {
     "data": {
      "image/png": "[encoded data removed]",
      "text/plain": [
       "<matplotlib.figure.Figure at 0x18d4ed42a58>"
      ]
     },
     "metadata": {},
     "output_type": "display_data"
    },
    {
     "name": "stdout",
     "output_type": "stream",
     "text": [
      "Tiempo ejecución:  0.4033021926879883 ms\n"
     ]
    }
   ],
   "source": [
    "# Valores iniciales\n",
    "gam = 50      # Positivo\n",
    "B = 15        # Positivo\n",
    "lam = -0.3    # Menor que mu\n",
    "U = -0.05     # Menor que cero\n",
    "V = 10000     # Valor muy grande\n",
    "N = 20        # Numero de iteraciones\n",
    "\n",
    "# Paso variable \n",
    "aumento = 0.1\n",
    "\n",
    "# Datos grafico\n",
    "titulo = \"ro vs lambda\"\n",
    "nom_ejex= \"lambda\"\n",
    "nom_ejey= \"ro\"\n",
    "\n",
    "\n",
    "# Ejecucion prueba\n",
    "start_time = time.time() #Para medir el tiempo de ejecución\n",
    "\n",
    "x = []\n",
    "y = []\n",
    "z = []\n",
    "\n",
    "for i in range(N):\n",
    "    print(\"N: \",i)\n",
    "    ro = resultado(B ,U,lam,gam,V,N)\n",
    "    y.append(ro)\n",
    "    r = validador(U,lam,gam)\n",
    "    z.append(r)    \n",
    "    x.append(lam)\n",
    "    print(\"lambda: \",lam)\n",
    "    lam += aumento\n",
    "    \n",
    "    print(\"\\n\\n\")\n",
    "    \n",
    "print(\"Magnitud vector x: \",str(len(x)))\n",
    "print(\"Magnitud vector y: \",str(len(y)))\n",
    "\n",
    "graficador(x,y,titulo,nom_ejex,nom_ejey)\n",
    "graficador(y,z,\"Resultado vs Esperado\",\"Esperado\",\"Resultado\")\n",
    "print (\"Tiempo ejecución: \",time.time() - start_time,\"ms\")"
   ]
  },
  {
   "cell_type": "markdown",
   "metadata": {},
   "source": [
    "### Pruebas internas"
   ]
  },
  {
   "cell_type": "code",
   "execution_count": 91,
   "metadata": {
    "collapsed": false
   },
   "outputs": [
    {
     "data": {
      "image/png": "[encoded data removed]",
      "text/plain": [
       "<matplotlib.figure.Figure at 0x18d4e9cbcc0>"
      ]
     },
     "metadata": {},
     "output_type": "display_data"
    }
   ],
   "source": [
    "#Prueba de graficador\n",
    "graficador([1,2,3,4,5],[1,4,9,16,25],\"Cuadrados prefectos\",\"Valor normal\",\"Valor cuadratico\")"
   ]
  },
  {
   "cell_type": "code",
   "execution_count": 92,
   "metadata": {
    "collapsed": true
   },
   "outputs": [],
   "source": [
    "def argumento(b , u , lam , gam , v , n):\n",
    "    return b*((-lam+u+(gam/v))*n-(lam/v)*math.pow(n, 2))"
   ]
  },
  {
   "cell_type": "code",
   "execution_count": 93,
   "metadata": {
    "collapsed": false,
    "scrolled": true
   },
   "outputs": [
    {
     "name": "stdout",
     "output_type": "stream",
     "text": [
      "-524.5200000000002\n"
     ]
    }
   ],
   "source": [
    "result=argumento(B,U,lam,gam,V,N)\n",
    "print (result)"
   ]
  },
  {
   "cell_type": "code",
   "execution_count": 94,
   "metadata": {
    "collapsed": false,
    "scrolled": false
   },
   "outputs": [
    {
     "data": {
      "text/plain": [
       "1.599036407710311e-228"
      ]
     },
     "execution_count": 94,
     "metadata": {},
     "output_type": "execute_result"
    }
   ],
   "source": [
    "math.exp(result)"
   ]
  },
  {
   "cell_type": "code",
   "execution_count": 95,
   "metadata": {
    "collapsed": false,
    "scrolled": true
   },
   "outputs": [
    {
     "data": {
      "text/plain": [
       "709.782712893384"
      ]
     },
     "execution_count": 95,
     "metadata": {},
     "output_type": "execute_result"
    }
   ],
   "source": [
    "math.log(sys.float_info.max)"
   ]
  },
  {
   "cell_type": "code",
   "execution_count": 96,
   "metadata": {
    "collapsed": false
   },
   "outputs": [
    {
     "data": {
      "text/plain": [
       "1.7976931348623157e+308"
      ]
     },
     "execution_count": 96,
     "metadata": {},
     "output_type": "execute_result"
    }
   ],
   "source": [
    "sys.float_info.max"
   ]
  },
  {
   "cell_type": "code",
   "execution_count": 97,
   "metadata": {
    "collapsed": false
   },
   "outputs": [
    {
     "data": {
      "text/plain": [
       "1.7976931348622732e+308"
      ]
     },
     "execution_count": 97,
     "metadata": {},
     "output_type": "execute_result"
    }
   ],
   "source": [
    "math.exp(math.log(sys.float_info.max))"
   ]
  },
  {
   "cell_type": "markdown",
   "metadata": {},
   "source": [
    "http://stackoverflow.com/questions/4050907/python-overflowerror-math-range-error\n",
    "\n",
    "https://docs.python.org/3.6/library/math.html"
   ]
  }
 ],
 "metadata": {
  "kernelspec": {
   "display_name": "Python 3",
   "language": "python",
   "name": "python3"
  },
  "language_info": {
   "codemirror_mode": {
    "name": "ipython",
    "version": 3
   },
   "file_extension": ".py",
   "mimetype": "text/x-python",
   "name": "python",
   "nbconvert_exporter": "python",
   "pygments_lexer": "ipython3",
   "version": "3.6.0"
  }
 },
 "nbformat": 4,
 "nbformat_minor": 2
}
